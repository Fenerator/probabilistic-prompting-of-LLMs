{
 "cells": [
  {
   "cell_type": "markdown",
   "metadata": {},
   "source": [
    "# Setup"
   ]
  },
  {
   "cell_type": "code",
   "execution_count": 1,
   "metadata": {},
   "outputs": [
    {
     "data": {
      "text/plain": [
       "PosixPath('/Users/dug/Desktop/exp_3_set_proba_V4')"
      ]
     },
     "execution_count": 1,
     "metadata": {},
     "output_type": "execute_result"
    }
   ],
   "source": [
    "import json, os, sys, re\n",
    "import pandas as pd\n",
    "from collections import defaultdict\n",
    "import numpy as np\n",
    "import torch\n",
    "from scipy import stats\n",
    "from scipy.stats import entropy\n",
    "from datasets import load_dataset, Dataset\n",
    "import itertools\n",
    "import torch\n",
    "from pathlib import Path\n",
    "from tqdm.auto import tqdm\n",
    "import plotly.express as px\n",
    "import plotly.graph_objects as go\n",
    "import plotly.io as pio\n",
    "from scipy.special import softmax\n",
    "import pickle\n",
    "from joblib import Parallel, delayed\n",
    "import language_tool_python\n",
    "from itertools import combinations\n",
    "# add src folder to path\n",
    "sys.path.append('..')\n",
    "\n",
    "from dev.ProbLM import JointLM, ConditionalLM\n",
    "from exp_3_set_proba.prepare_data import correct_grammar, few_shot_examples \n",
    "from exp_3_set_proba.analyze import calculate_ranking, calculate_instance_probability # was calculate_p_t_V2\n",
    "\n",
    "from exp_3_set_proba.utils import hist_of_all_p_t_values, classify, stacked_p_t_plot, hist_of_all_p_t_values, evaluate_classifier, boxplots, scatterplots, calculate_macro_avg, plot_roc_curve, plot_coverage_risk_curve_2, calculate_entropies, get_data_permutations\n",
    "from exp_3_set_proba.utils import get_data, save_plot, combine_stats_dfs, subject_overview, convert_for_pdf, convert_permutations_for_plotting, find_differences_2_runs, rename_metrics\n",
    "from dev.ProbLM import JointLM, ConditionalLM\n",
    "\n",
    "\n",
    "from data_utils import get_wiki_summary\n",
    "%load_ext autoreload\n",
    "%autoreload 2\n",
    "\n",
    "HOME_PATH = os.path.expanduser(\"~/\")\n",
    "\n",
    "BASE_PATH = Path(f\"{HOME_PATH}/Desktop/exp_3_set_proba_V4/\")\n",
    "\n",
    "stat_metrics  = ['n_objs', 'n_subjs', 'n_para', 'n_instances',\n",
    "       'dataset', 'model', 'run_name']\n",
    "metrics_global = ['coverage_abs', 'coverage_rel','precision_global', 'recall_global', 'f1_global',\n",
    "       'accuracy_global', 'fpr_global', \n",
    "       'precision_argmax_global', 'recall_argmax_global', 'f1_argmax_global',\n",
    "       'accuracy_argmax_global',  'fpr_argmax_global',\n",
    "       ] # others: 'tp_global', 'tn_global', 'fp_global', 'fn_global', 'tp_argmax_global', 'tn_argmax_global', 'fp_argmax_global', 'fn_argmax_global',\n",
    "metrics_selective = ['precision_selective']\n",
    "metrics_global_0_thershold = ['auc_global', 'fpr_by_threshold_global',\n",
    "       'tpr_by_threshold_global', 'roc_thresholds_global', 'fpr_by_threshold_argmax_global', 'tpr_by_threshold_argmax_global',\n",
    "       'roc_thresholds_argmax_global', 'auc_argmax_global']\n",
    "metrics_per_paraphrase = ['precision_argmax_pp', 'recall_argmax_pp', 'f1_argmax_pp',\n",
    "       'accuracy_argmax_pp', 'fpr_argmax_pp'] # others: 'tp_argmax_pp', 'tn_argmax_pp', 'fp_argmax_pp','fn_argmax_pp',\n",
    "metrics_per_paraphrase_0_threshold = ['fpr_by_threshold_argmax_pp',\n",
    "       'tpr_by_threshold_argmax_pp', 'roc_thresholds_argmax_pp', 'auc_argmax_pp']\n",
    "\n",
    "BASE_PATH\n"
   ]
  },
  {
   "cell_type": "markdown",
   "metadata": {},
   "source": [
    "# Reading Comprehension\n",
    "- add contexts about subject"
   ]
  },
  {
   "cell_type": "code",
   "execution_count": 2,
   "metadata": {},
   "outputs": [],
   "source": [
    "run_names = ['hypernymy_2000_50_s_contexts_mistral7B', 'hypernymy_2000_50_mistral7B', 'hypernymy_2000_50_s_contexts_neg_mistral7B',\n",
    "             'hypernymy_2000_50_s_contexts',  'hypernymy_2000_50', 'hypernymy_2000_50_s_contexts_neg']\n",
    "dataset_per_run = ['hypernymy', 'hypernymy', 'hypernymy',\n",
    "                   'hypernymy', 'hypernymy', 'hypernymy',]\n",
    "model_per_run = ['mistral-7B', 'mistral-7B', 'mistral-7B',\n",
    "                 'gpt-l',  'gpt-l', 'gpt-l']\n",
    "run_attributes = ['+ context', '', '+ neg context', \n",
    "                  '+ context', '', '+ neg context' ]\n",
    "\n",
    "len(run_names), len(dataset_per_run), len(model_per_run), len(run_attributes)\n",
    "df_all_stats = combine_stats_dfs(run_names, dataset_per_run, model_per_run, BASE_PATH, run_attributes=run_attributes)"
   ]
  },
  {
   "cell_type": "markdown",
   "metadata": {},
   "source": [
    "## 2 barplots with different thresholds"
   ]
  },
  {
   "cell_type": "code",
   "execution_count": 3,
   "metadata": {},
   "outputs": [
    {
     "data": {
      "application/vnd.plotly.v1+json": {
       "config": {
        "plotlyServerURL": "https://plot.ly"
       },
       "data": [
        {
         "alignmentgroup": "True",
         "hovertemplate": "variable=coverage<br>dataset, model, coverage abs.=%{x}<br>value=%{y}<extra></extra>",
         "legendgroup": "coverage",
         "marker": {
          "color": "#636efa",
          "pattern": {
           "shape": ""
          }
         },
         "name": "coverage",
         "offsetgroup": "coverage",
         "orientation": "v",
         "showlegend": true,
         "textposition": "auto",
         "type": "bar",
         "x": [
          "Hypernymy + context, Mistral-7B-I, , 280",
          "Hypernymy , Mistral-7B-I, , 260",
          "Hypernymy + neg context, Mistral-7B-I, , 144",
          "Hypernymy + context, GPT-2-L, , 397",
          "Hypernymy , GPT-2-L, , 212",
          "Hypernymy + neg context, GPT-2-L, , 251"
         ],
         "xaxis": "x",
         "y": [
          0.016175621028307337,
          0.015020219526285385,
          0.008318890814558059,
          0.02293471981513576,
          0.012247255921432698,
          0.014500288850375506
         ],
         "yaxis": "y"
        },
        {
         "alignmentgroup": "True",
         "hovertemplate": "variable=selective precision<br>dataset, model, coverage abs.=%{x}<br>value=%{y}<extra></extra>",
         "legendgroup": "selective precision",
         "marker": {
          "color": "#EF553B",
          "pattern": {
           "shape": ""
          }
         },
         "name": "selective precision",
         "offsetgroup": "selective precision",
         "orientation": "v",
         "showlegend": true,
         "textposition": "auto",
         "type": "bar",
         "x": [
          "Hypernymy + context, Mistral-7B-I, , 280",
          "Hypernymy , Mistral-7B-I, , 260",
          "Hypernymy + neg context, Mistral-7B-I, , 144",
          "Hypernymy + context, GPT-2-L, , 397",
          "Hypernymy , GPT-2-L, , 212",
          "Hypernymy + neg context, GPT-2-L, , 251"
         ],
         "xaxis": "x",
         "y": [
          0.9678571428571429,
          0.9807692307692307,
          0.6527777777777778,
          0.906801007556675,
          0.8867924528301887,
          0.2788844621513944
         ],
         "yaxis": "y"
        },
        {
         "alignmentgroup": "True",
         "hovertemplate": "variable=argmax precision<br>dataset, model, coverage abs.=%{x}<br>value=%{y}<extra></extra>",
         "legendgroup": "argmax precision",
         "marker": {
          "color": "#00cc96",
          "pattern": {
           "shape": ""
          }
         },
         "name": "argmax precision",
         "offsetgroup": "argmax precision",
         "orientation": "v",
         "showlegend": true,
         "textposition": "auto",
         "type": "bar",
         "x": [
          "Hypernymy + context, Mistral-7B-I, , 280",
          "Hypernymy , Mistral-7B-I, , 260",
          "Hypernymy + neg context, Mistral-7B-I, , 144",
          "Hypernymy + context, GPT-2-L, , 397",
          "Hypernymy , GPT-2-L, , 212",
          "Hypernymy + neg context, GPT-2-L, , 251"
         ],
         "xaxis": "x",
         "y": [
          0.8856152512998267,
          0.8890814558058926,
          0.42634315424610053,
          0.8578856152512998,
          0.755632582322357,
          0.27902946273830154
         ],
         "yaxis": "y"
        }
       ],
       "layout": {
        "barmode": "group",
        "legend": {
         "title": {
          "text": "variable"
         },
         "tracegroupgap": 0
        },
        "template": {
         "data": {
          "bar": [
           {
            "error_x": {
             "color": "#2a3f5f"
            },
            "error_y": {
             "color": "#2a3f5f"
            },
            "marker": {
             "line": {
              "color": "#E5ECF6",
              "width": 0.5
             },
             "pattern": {
              "fillmode": "overlay",
              "size": 10,
              "solidity": 0.2
             }
            },
            "type": "bar"
           }
          ],
          "barpolar": [
           {
            "marker": {
             "line": {
              "color": "#E5ECF6",
              "width": 0.5
             },
             "pattern": {
              "fillmode": "overlay",
              "size": 10,
              "solidity": 0.2
             }
            },
            "type": "barpolar"
           }
          ],
          "carpet": [
           {
            "aaxis": {
             "endlinecolor": "#2a3f5f",
             "gridcolor": "white",
             "linecolor": "white",
             "minorgridcolor": "white",
             "startlinecolor": "#2a3f5f"
            },
            "baxis": {
             "endlinecolor": "#2a3f5f",
             "gridcolor": "white",
             "linecolor": "white",
             "minorgridcolor": "white",
             "startlinecolor": "#2a3f5f"
            },
            "type": "carpet"
           }
          ],
          "choropleth": [
           {
            "colorbar": {
             "outlinewidth": 0,
             "ticks": ""
            },
            "type": "choropleth"
           }
          ],
          "contour": [
           {
            "colorbar": {
             "outlinewidth": 0,
             "ticks": ""
            },
            "colorscale": [
             [
              0,
              "#0d0887"
             ],
             [
              0.1111111111111111,
              "#46039f"
             ],
             [
              0.2222222222222222,
              "#7201a8"
             ],
             [
              0.3333333333333333,
              "#9c179e"
             ],
             [
              0.4444444444444444,
              "#bd3786"
             ],
             [
              0.5555555555555556,
              "#d8576b"
             ],
             [
              0.6666666666666666,
              "#ed7953"
             ],
             [
              0.7777777777777778,
              "#fb9f3a"
             ],
             [
              0.8888888888888888,
              "#fdca26"
             ],
             [
              1,
              "#f0f921"
             ]
            ],
            "type": "contour"
           }
          ],
          "contourcarpet": [
           {
            "colorbar": {
             "outlinewidth": 0,
             "ticks": ""
            },
            "type": "contourcarpet"
           }
          ],
          "heatmap": [
           {
            "colorbar": {
             "outlinewidth": 0,
             "ticks": ""
            },
            "colorscale": [
             [
              0,
              "#0d0887"
             ],
             [
              0.1111111111111111,
              "#46039f"
             ],
             [
              0.2222222222222222,
              "#7201a8"
             ],
             [
              0.3333333333333333,
              "#9c179e"
             ],
             [
              0.4444444444444444,
              "#bd3786"
             ],
             [
              0.5555555555555556,
              "#d8576b"
             ],
             [
              0.6666666666666666,
              "#ed7953"
             ],
             [
              0.7777777777777778,
              "#fb9f3a"
             ],
             [
              0.8888888888888888,
              "#fdca26"
             ],
             [
              1,
              "#f0f921"
             ]
            ],
            "type": "heatmap"
           }
          ],
          "heatmapgl": [
           {
            "colorbar": {
             "outlinewidth": 0,
             "ticks": ""
            },
            "colorscale": [
             [
              0,
              "#0d0887"
             ],
             [
              0.1111111111111111,
              "#46039f"
             ],
             [
              0.2222222222222222,
              "#7201a8"
             ],
             [
              0.3333333333333333,
              "#9c179e"
             ],
             [
              0.4444444444444444,
              "#bd3786"
             ],
             [
              0.5555555555555556,
              "#d8576b"
             ],
             [
              0.6666666666666666,
              "#ed7953"
             ],
             [
              0.7777777777777778,
              "#fb9f3a"
             ],
             [
              0.8888888888888888,
              "#fdca26"
             ],
             [
              1,
              "#f0f921"
             ]
            ],
            "type": "heatmapgl"
           }
          ],
          "histogram": [
           {
            "marker": {
             "pattern": {
              "fillmode": "overlay",
              "size": 10,
              "solidity": 0.2
             }
            },
            "type": "histogram"
           }
          ],
          "histogram2d": [
           {
            "colorbar": {
             "outlinewidth": 0,
             "ticks": ""
            },
            "colorscale": [
             [
              0,
              "#0d0887"
             ],
             [
              0.1111111111111111,
              "#46039f"
             ],
             [
              0.2222222222222222,
              "#7201a8"
             ],
             [
              0.3333333333333333,
              "#9c179e"
             ],
             [
              0.4444444444444444,
              "#bd3786"
             ],
             [
              0.5555555555555556,
              "#d8576b"
             ],
             [
              0.6666666666666666,
              "#ed7953"
             ],
             [
              0.7777777777777778,
              "#fb9f3a"
             ],
             [
              0.8888888888888888,
              "#fdca26"
             ],
             [
              1,
              "#f0f921"
             ]
            ],
            "type": "histogram2d"
           }
          ],
          "histogram2dcontour": [
           {
            "colorbar": {
             "outlinewidth": 0,
             "ticks": ""
            },
            "colorscale": [
             [
              0,
              "#0d0887"
             ],
             [
              0.1111111111111111,
              "#46039f"
             ],
             [
              0.2222222222222222,
              "#7201a8"
             ],
             [
              0.3333333333333333,
              "#9c179e"
             ],
             [
              0.4444444444444444,
              "#bd3786"
             ],
             [
              0.5555555555555556,
              "#d8576b"
             ],
             [
              0.6666666666666666,
              "#ed7953"
             ],
             [
              0.7777777777777778,
              "#fb9f3a"
             ],
             [
              0.8888888888888888,
              "#fdca26"
             ],
             [
              1,
              "#f0f921"
             ]
            ],
            "type": "histogram2dcontour"
           }
          ],
          "mesh3d": [
           {
            "colorbar": {
             "outlinewidth": 0,
             "ticks": ""
            },
            "type": "mesh3d"
           }
          ],
          "parcoords": [
           {
            "line": {
             "colorbar": {
              "outlinewidth": 0,
              "ticks": ""
             }
            },
            "type": "parcoords"
           }
          ],
          "pie": [
           {
            "automargin": true,
            "type": "pie"
           }
          ],
          "scatter": [
           {
            "fillpattern": {
             "fillmode": "overlay",
             "size": 10,
             "solidity": 0.2
            },
            "type": "scatter"
           }
          ],
          "scatter3d": [
           {
            "line": {
             "colorbar": {
              "outlinewidth": 0,
              "ticks": ""
             }
            },
            "marker": {
             "colorbar": {
              "outlinewidth": 0,
              "ticks": ""
             }
            },
            "type": "scatter3d"
           }
          ],
          "scattercarpet": [
           {
            "marker": {
             "colorbar": {
              "outlinewidth": 0,
              "ticks": ""
             }
            },
            "type": "scattercarpet"
           }
          ],
          "scattergeo": [
           {
            "marker": {
             "colorbar": {
              "outlinewidth": 0,
              "ticks": ""
             }
            },
            "type": "scattergeo"
           }
          ],
          "scattergl": [
           {
            "marker": {
             "colorbar": {
              "outlinewidth": 0,
              "ticks": ""
             }
            },
            "type": "scattergl"
           }
          ],
          "scattermapbox": [
           {
            "marker": {
             "colorbar": {
              "outlinewidth": 0,
              "ticks": ""
             }
            },
            "type": "scattermapbox"
           }
          ],
          "scatterpolar": [
           {
            "marker": {
             "colorbar": {
              "outlinewidth": 0,
              "ticks": ""
             }
            },
            "type": "scatterpolar"
           }
          ],
          "scatterpolargl": [
           {
            "marker": {
             "colorbar": {
              "outlinewidth": 0,
              "ticks": ""
             }
            },
            "type": "scatterpolargl"
           }
          ],
          "scatterternary": [
           {
            "marker": {
             "colorbar": {
              "outlinewidth": 0,
              "ticks": ""
             }
            },
            "type": "scatterternary"
           }
          ],
          "surface": [
           {
            "colorbar": {
             "outlinewidth": 0,
             "ticks": ""
            },
            "colorscale": [
             [
              0,
              "#0d0887"
             ],
             [
              0.1111111111111111,
              "#46039f"
             ],
             [
              0.2222222222222222,
              "#7201a8"
             ],
             [
              0.3333333333333333,
              "#9c179e"
             ],
             [
              0.4444444444444444,
              "#bd3786"
             ],
             [
              0.5555555555555556,
              "#d8576b"
             ],
             [
              0.6666666666666666,
              "#ed7953"
             ],
             [
              0.7777777777777778,
              "#fb9f3a"
             ],
             [
              0.8888888888888888,
              "#fdca26"
             ],
             [
              1,
              "#f0f921"
             ]
            ],
            "type": "surface"
           }
          ],
          "table": [
           {
            "cells": {
             "fill": {
              "color": "#EBF0F8"
             },
             "line": {
              "color": "white"
             }
            },
            "header": {
             "fill": {
              "color": "#C8D4E3"
             },
             "line": {
              "color": "white"
             }
            },
            "type": "table"
           }
          ]
         },
         "layout": {
          "annotationdefaults": {
           "arrowcolor": "#2a3f5f",
           "arrowhead": 0,
           "arrowwidth": 1
          },
          "autotypenumbers": "strict",
          "coloraxis": {
           "colorbar": {
            "outlinewidth": 0,
            "ticks": ""
           }
          },
          "colorscale": {
           "diverging": [
            [
             0,
             "#8e0152"
            ],
            [
             0.1,
             "#c51b7d"
            ],
            [
             0.2,
             "#de77ae"
            ],
            [
             0.3,
             "#f1b6da"
            ],
            [
             0.4,
             "#fde0ef"
            ],
            [
             0.5,
             "#f7f7f7"
            ],
            [
             0.6,
             "#e6f5d0"
            ],
            [
             0.7,
             "#b8e186"
            ],
            [
             0.8,
             "#7fbc41"
            ],
            [
             0.9,
             "#4d9221"
            ],
            [
             1,
             "#276419"
            ]
           ],
           "sequential": [
            [
             0,
             "#0d0887"
            ],
            [
             0.1111111111111111,
             "#46039f"
            ],
            [
             0.2222222222222222,
             "#7201a8"
            ],
            [
             0.3333333333333333,
             "#9c179e"
            ],
            [
             0.4444444444444444,
             "#bd3786"
            ],
            [
             0.5555555555555556,
             "#d8576b"
            ],
            [
             0.6666666666666666,
             "#ed7953"
            ],
            [
             0.7777777777777778,
             "#fb9f3a"
            ],
            [
             0.8888888888888888,
             "#fdca26"
            ],
            [
             1,
             "#f0f921"
            ]
           ],
           "sequentialminus": [
            [
             0,
             "#0d0887"
            ],
            [
             0.1111111111111111,
             "#46039f"
            ],
            [
             0.2222222222222222,
             "#7201a8"
            ],
            [
             0.3333333333333333,
             "#9c179e"
            ],
            [
             0.4444444444444444,
             "#bd3786"
            ],
            [
             0.5555555555555556,
             "#d8576b"
            ],
            [
             0.6666666666666666,
             "#ed7953"
            ],
            [
             0.7777777777777778,
             "#fb9f3a"
            ],
            [
             0.8888888888888888,
             "#fdca26"
            ],
            [
             1,
             "#f0f921"
            ]
           ]
          },
          "colorway": [
           "#636efa",
           "#EF553B",
           "#00cc96",
           "#ab63fa",
           "#FFA15A",
           "#19d3f3",
           "#FF6692",
           "#B6E880",
           "#FF97FF",
           "#FECB52"
          ],
          "font": {
           "color": "#2a3f5f"
          },
          "geo": {
           "bgcolor": "white",
           "lakecolor": "white",
           "landcolor": "#E5ECF6",
           "showlakes": true,
           "showland": true,
           "subunitcolor": "white"
          },
          "hoverlabel": {
           "align": "left"
          },
          "hovermode": "closest",
          "mapbox": {
           "style": "light"
          },
          "paper_bgcolor": "white",
          "plot_bgcolor": "#E5ECF6",
          "polar": {
           "angularaxis": {
            "gridcolor": "white",
            "linecolor": "white",
            "ticks": ""
           },
           "bgcolor": "#E5ECF6",
           "radialaxis": {
            "gridcolor": "white",
            "linecolor": "white",
            "ticks": ""
           }
          },
          "scene": {
           "xaxis": {
            "backgroundcolor": "#E5ECF6",
            "gridcolor": "white",
            "gridwidth": 2,
            "linecolor": "white",
            "showbackground": true,
            "ticks": "",
            "zerolinecolor": "white"
           },
           "yaxis": {
            "backgroundcolor": "#E5ECF6",
            "gridcolor": "white",
            "gridwidth": 2,
            "linecolor": "white",
            "showbackground": true,
            "ticks": "",
            "zerolinecolor": "white"
           },
           "zaxis": {
            "backgroundcolor": "#E5ECF6",
            "gridcolor": "white",
            "gridwidth": 2,
            "linecolor": "white",
            "showbackground": true,
            "ticks": "",
            "zerolinecolor": "white"
           }
          },
          "shapedefaults": {
           "line": {
            "color": "#2a3f5f"
           }
          },
          "ternary": {
           "aaxis": {
            "gridcolor": "white",
            "linecolor": "white",
            "ticks": ""
           },
           "baxis": {
            "gridcolor": "white",
            "linecolor": "white",
            "ticks": ""
           },
           "bgcolor": "#E5ECF6",
           "caxis": {
            "gridcolor": "white",
            "linecolor": "white",
            "ticks": ""
           }
          },
          "title": {
           "x": 0.05
          },
          "xaxis": {
           "automargin": true,
           "gridcolor": "white",
           "linecolor": "white",
           "ticks": "",
           "title": {
            "standoff": 15
           },
           "zerolinecolor": "white",
           "zerolinewidth": 2
          },
          "yaxis": {
           "automargin": true,
           "gridcolor": "white",
           "linecolor": "white",
           "ticks": "",
           "title": {
            "standoff": 15
           },
           "zerolinecolor": "white",
           "zerolinewidth": 2
          }
         }
        },
        "title": {
         "text": "RC: Selective Prediction w/ threshold = 0.5 vs. argmax"
        },
        "xaxis": {
         "anchor": "y",
         "domain": [
          0,
          1
         ],
         "title": {
          "text": "dataset, model, coverage abs."
         }
        },
        "yaxis": {
         "anchor": "x",
         "domain": [
          0,
          1
         ],
         "title": {
          "text": "value"
         }
        }
       }
      }
     },
     "metadata": {},
     "output_type": "display_data"
    },
    {
     "name": "stdout",
     "output_type": "stream",
     "text": [
      "Saved to /Users/dug/Desktop/exp_3_set_proba_V4 / global_overview_RC.pdf\n"
     ]
    }
   ],
   "source": [
    "# Selective Prediction for Dataset, Model and #Paraphrases\n",
    "# Graph for 0.5 threshold\n",
    "threshold = 0.5\n",
    "df_stats_all_r = df_all_stats[df_all_stats['relation'].str.contains('all_relations')]\n",
    "df_stats_all_r = df_stats_all_r[ (df_stats_all_r['threshold'] == threshold) & (df_stats_all_r['max_paraphrases'] > 0) ] \n",
    "df_stats_all_r = convert_for_pdf(df_stats_all_r)\n",
    "df_stats_all_r['dataset, model, coverage abs.'] = df_stats_all_r['dataset'] + ' ' + df_stats_all_r['run_attributes'] + ', ' + df_stats_all_r['model'] + ', ' + ', ' + df_stats_all_r['coverage_abs_global'].astype(str)\n",
    "\n",
    "# selective\n",
    "global_selective_metrics = ['coverage_abs_global', 'coverage_rel_global', 'precision_selective_global']\n",
    "pp_selective_metrics = ['coverage_abs_pp', 'coverage_rel_pp', 'precision_selective_pp']\n",
    "global_argmax_metrics = ['precision_argmax_selective_global', ]\n",
    "pp_argmax_metrics = ['precision_argmax_selective_pp']\n",
    "\n",
    "# all (non-selective)\n",
    "pp_argmax_all_metrics = ['precision_argmax_overall_pp']\n",
    "global_argmax_all_metrics = ['precision_argmax_overall_global']\n",
    "\n",
    "# all_metrics = global_selective_metrics + pp_selective_metrics + global_argmax_metrics + pp_argmax_metrics + pp_argmax_all_metrics + global_argmax_all_metrics\n",
    "metrics_plot = global_selective_metrics.copy() + [ 'precision_argmax_overall_global'] # 'precision_argmax_selective_global',\n",
    "metrics_plot.remove('coverage_abs_global')\n",
    "# metrics_plot.remove('coverage_abs_pp')\n",
    "\n",
    "df_bar_plot = rename_metrics(df_stats_all_r.copy())\n",
    "metrics_plot = [ 'coverage',\n",
    " 'selective precision',\n",
    " 'argmax precision']\n",
    "fig_global = px.bar(df_bar_plot, x='dataset, model, coverage abs.', y=metrics_plot, \n",
    "                    color='variable', barmode=\"group\", title=f\"RC: Selective Prediction w/ threshold = {threshold} vs. argmax\",\n",
    "                    #text='',\n",
    ")\n",
    "\n",
    "\n",
    "fig_global.show()\n",
    "\n",
    "save_plot(fig_global, BASE_PATH=BASE_PATH, filename='global_overview_RC')\n",
    "\n"
   ]
  },
  {
   "cell_type": "code",
   "execution_count": 4,
   "metadata": {},
   "outputs": [
    {
     "name": "stdout",
     "output_type": "stream",
     "text": [
      "/Users/dug/Desktop/exp_3_set_proba_V4\n"
     ]
    },
    {
     "data": {
      "text/html": [
       "<div>\n",
       "<style scoped>\n",
       "    .dataframe tbody tr th:only-of-type {\n",
       "        vertical-align: middle;\n",
       "    }\n",
       "\n",
       "    .dataframe tbody tr th {\n",
       "        vertical-align: top;\n",
       "    }\n",
       "\n",
       "    .dataframe thead th {\n",
       "        text-align: right;\n",
       "    }\n",
       "</style>\n",
       "<table border=\"1\" class=\"dataframe\">\n",
       "  <thead>\n",
       "    <tr style=\"text-align: right;\">\n",
       "      <th></th>\n",
       "      <th>dataset, model, coverage abs.</th>\n",
       "      <th>coverage_rel_global</th>\n",
       "      <th>precision_selective_global</th>\n",
       "      <th>precision_argmax_overall_global</th>\n",
       "    </tr>\n",
       "  </thead>\n",
       "  <tbody>\n",
       "    <tr>\n",
       "      <th>17394</th>\n",
       "      <td>Hypernymy + context, Mistral-7B-I, , 280</td>\n",
       "      <td>0.016176</td>\n",
       "      <td>0.967857</td>\n",
       "      <td>0.885615</td>\n",
       "    </tr>\n",
       "    <tr>\n",
       "      <th>17394</th>\n",
       "      <td>Hypernymy , Mistral-7B-I, , 260</td>\n",
       "      <td>0.015020</td>\n",
       "      <td>0.980769</td>\n",
       "      <td>0.889081</td>\n",
       "    </tr>\n",
       "    <tr>\n",
       "      <th>17394</th>\n",
       "      <td>Hypernymy + neg context, Mistral-7B-I, , 144</td>\n",
       "      <td>0.008319</td>\n",
       "      <td>0.652778</td>\n",
       "      <td>0.426343</td>\n",
       "    </tr>\n",
       "    <tr>\n",
       "      <th>17394</th>\n",
       "      <td>Hypernymy + context, GPT-2-L, , 397</td>\n",
       "      <td>0.022935</td>\n",
       "      <td>0.906801</td>\n",
       "      <td>0.857886</td>\n",
       "    </tr>\n",
       "    <tr>\n",
       "      <th>17394</th>\n",
       "      <td>Hypernymy , GPT-2-L, , 212</td>\n",
       "      <td>0.012247</td>\n",
       "      <td>0.886792</td>\n",
       "      <td>0.755633</td>\n",
       "    </tr>\n",
       "    <tr>\n",
       "      <th>17394</th>\n",
       "      <td>Hypernymy + neg context, GPT-2-L, , 251</td>\n",
       "      <td>0.014500</td>\n",
       "      <td>0.278884</td>\n",
       "      <td>0.279029</td>\n",
       "    </tr>\n",
       "  </tbody>\n",
       "</table>\n",
       "</div>"
      ],
      "text/plain": [
       "                      dataset, model, coverage abs.  coverage_rel_global  \\\n",
       "17394      Hypernymy + context, Mistral-7B-I, , 280             0.016176   \n",
       "17394               Hypernymy , Mistral-7B-I, , 260             0.015020   \n",
       "17394  Hypernymy + neg context, Mistral-7B-I, , 144             0.008319   \n",
       "17394           Hypernymy + context, GPT-2-L, , 397             0.022935   \n",
       "17394                    Hypernymy , GPT-2-L, , 212             0.012247   \n",
       "17394       Hypernymy + neg context, GPT-2-L, , 251             0.014500   \n",
       "\n",
       "       precision_selective_global  precision_argmax_overall_global  \n",
       "17394                    0.967857                         0.885615  \n",
       "17394                    0.980769                         0.889081  \n",
       "17394                    0.652778                         0.426343  \n",
       "17394                    0.906801                         0.857886  \n",
       "17394                    0.886792                         0.755633  \n",
       "17394                    0.278884                         0.279029  "
      ]
     },
     "execution_count": 4,
     "metadata": {},
     "output_type": "execute_result"
    }
   ],
   "source": [
    "df_differences = df_stats_all_r[[\"dataset, model, coverage abs.\", \"coverage_rel_global\", \"precision_selective_global\", \"precision_argmax_overall_global\"]]\n",
    "\n",
    "df_differences.to_csv(BASE_PATH / \"global_overview_RC.csv\", index=False)\n",
    "print(BASE_PATH)\n",
    "df_differences"
   ]
  },
  {
   "cell_type": "markdown",
   "metadata": {},
   "source": [
    "## Detailed Table"
   ]
  },
  {
   "cell_type": "code",
   "execution_count": 5,
   "metadata": {},
   "outputs": [],
   "source": [
    "run_names = ['hypernymy_2000_50_s_contexts_mistral7B', 'hypernymy_2000_50_mistral7B', 'hypernymy_2000_50_s_contexts_neg_mistral7B',\n",
    "             'hypernymy_2000_50_s_contexts',  'hypernymy_2000_50', 'hypernymy_2000_50_s_contexts_neg']\n",
    "dataset_per_run = ['hypernymy', 'hypernymy', 'hypernymy',\n",
    "                   'hypernymy', 'hypernymy', 'hypernymy',]\n",
    "model_per_run = ['mistral-7B', 'mistral-7B', 'mistral-7B',\n",
    "                 'gpt-l',  'gpt-l', 'gpt-l']\n",
    "run_attributes = ['+ context', '', '+ neg context', \n",
    "                  '+ context', '', '+ neg context' ]\n",
    "\n",
    "df_all_stats = combine_stats_dfs(run_names, dataset_per_run, model_per_run, BASE_PATH, run_attributes=run_attributes)"
   ]
  },
  {
   "cell_type": "code",
   "execution_count": 5,
   "metadata": {},
   "outputs": [
    {
     "data": {
      "text/html": [
       "<div>\n",
       "<style scoped>\n",
       "    .dataframe tbody tr th:only-of-type {\n",
       "        vertical-align: middle;\n",
       "    }\n",
       "\n",
       "    .dataframe tbody tr th {\n",
       "        vertical-align: top;\n",
       "    }\n",
       "\n",
       "    .dataframe thead tr th {\n",
       "        text-align: left;\n",
       "    }\n",
       "\n",
       "    .dataframe thead tr:last-of-type th {\n",
       "        text-align: right;\n",
       "    }\n",
       "</style>\n",
       "<table border=\"1\" class=\"dataframe\">\n",
       "  <thead>\n",
       "    <tr>\n",
       "      <th></th>\n",
       "      <th></th>\n",
       "      <th>dataset</th>\n",
       "      <th colspan=\"2\" halign=\"left\">Hypernymy</th>\n",
       "      <th colspan=\"2\" halign=\"left\">Hypernymy + context</th>\n",
       "      <th colspan=\"2\" halign=\"left\">Hypernymy + neg context</th>\n",
       "    </tr>\n",
       "    <tr>\n",
       "      <th></th>\n",
       "      <th></th>\n",
       "      <th>model</th>\n",
       "      <th>GPT-2-L</th>\n",
       "      <th>Mistral-7B-I</th>\n",
       "      <th>GPT-2-L</th>\n",
       "      <th>Mistral-7B-I</th>\n",
       "      <th>GPT-2-L</th>\n",
       "      <th>Mistral-7B-I</th>\n",
       "    </tr>\n",
       "    <tr>\n",
       "      <th></th>\n",
       "      <th>threshold</th>\n",
       "      <th>#p</th>\n",
       "      <th></th>\n",
       "      <th></th>\n",
       "      <th></th>\n",
       "      <th></th>\n",
       "      <th></th>\n",
       "      <th></th>\n",
       "    </tr>\n",
       "  </thead>\n",
       "  <tbody>\n",
       "    <tr>\n",
       "      <th rowspan=\"5\" valign=\"top\">coverage_abs_global</th>\n",
       "      <th rowspan=\"2\" valign=\"top\">0.00</th>\n",
       "      <th>0</th>\n",
       "      <td>17310.0</td>\n",
       "      <td>17310.0</td>\n",
       "      <td>17310.0</td>\n",
       "      <td>17310.0</td>\n",
       "      <td>17310.0</td>\n",
       "      <td>17310.0</td>\n",
       "    </tr>\n",
       "    <tr>\n",
       "      <th>20</th>\n",
       "      <td>17310.0</td>\n",
       "      <td>17310.0</td>\n",
       "      <td>17310.0</td>\n",
       "      <td>17310.0</td>\n",
       "      <td>17310.0</td>\n",
       "      <td>17310.0</td>\n",
       "    </tr>\n",
       "    <tr>\n",
       "      <th rowspan=\"2\" valign=\"top\">0.05</th>\n",
       "      <th>0</th>\n",
       "      <td>2107.0</td>\n",
       "      <td>2234.0</td>\n",
       "      <td>2216.0</td>\n",
       "      <td>1345.0</td>\n",
       "      <td>2301.0</td>\n",
       "      <td>1610.0</td>\n",
       "    </tr>\n",
       "    <tr>\n",
       "      <th>20</th>\n",
       "      <td>2325.0</td>\n",
       "      <td>2109.0</td>\n",
       "      <td>1676.0</td>\n",
       "      <td>2323.0</td>\n",
       "      <td>2123.0</td>\n",
       "      <td>2572.0</td>\n",
       "    </tr>\n",
       "    <tr>\n",
       "      <th>0.10</th>\n",
       "      <th>0</th>\n",
       "      <td>1170.0</td>\n",
       "      <td>1381.0</td>\n",
       "      <td>1218.0</td>\n",
       "      <td>1008.0</td>\n",
       "      <td>1252.0</td>\n",
       "      <td>1103.0</td>\n",
       "    </tr>\n",
       "  </tbody>\n",
       "</table>\n",
       "</div>"
      ],
      "text/plain": [
       "dataset                          Hypernymy               Hypernymy + context  \\\n",
       "model                               GPT-2-L Mistral-7B-I             GPT-2-L   \n",
       "                    threshold #p                                               \n",
       "coverage_abs_global 0.00      0     17310.0      17310.0             17310.0   \n",
       "                              20    17310.0      17310.0             17310.0   \n",
       "                    0.05      0      2107.0       2234.0              2216.0   \n",
       "                              20     2325.0       2109.0              1676.0   \n",
       "                    0.10      0      1170.0       1381.0              1218.0   \n",
       "\n",
       "dataset                                       Hypernymy + neg context  \\\n",
       "model                            Mistral-7B-I                 GPT-2-L   \n",
       "                    threshold #p                                        \n",
       "coverage_abs_global 0.00      0       17310.0                 17310.0   \n",
       "                              20      17310.0                 17310.0   \n",
       "                    0.05      0        1345.0                  2301.0   \n",
       "                              20       2323.0                  2123.0   \n",
       "                    0.10      0        1008.0                  1252.0   \n",
       "\n",
       "dataset                                        \n",
       "model                            Mistral-7B-I  \n",
       "                    threshold #p               \n",
       "coverage_abs_global 0.00      0       17310.0  \n",
       "                              20      17310.0  \n",
       "                    0.05      0        1610.0  \n",
       "                              20       2572.0  \n",
       "                    0.10      0        1103.0  "
      ]
     },
     "execution_count": 5,
     "metadata": {},
     "output_type": "execute_result"
    }
   ],
   "source": [
    "# Selective Prediction for Dataset, Model and #Paraphrases\n",
    "# Table for different thresholds\n",
    "df_stats_all_r = df_all_stats[(df_all_stats['relation'].str.contains('all_relations')) & (df_all_stats['threshold'].isin([0.0, 0.05, 0.1, 0.25, 0.5, 0.7, 0.9]))]\n",
    "num_para = df_stats_all_r['max_paraphrases'].to_list()\n",
    "# # num_para = ['all' if x >0 else '0' for x in num_para]\n",
    "# df_stats_all_r['\\#paraphrases'] = num_para\n",
    "df_stats_all_r['dataset'] = df_stats_all_r['dataset'] + ' ' + df_stats_all_r['run_attributes']\n",
    "\n",
    "df_stats_all_r = convert_for_pdf(df_stats_all_r, para_expl=True)\n",
    "\n",
    "# # selective\n",
    "# global_selective_metrics = ['coverage_abs_global', 'coverage_rel_global', 'precision_selective_global']\n",
    "# pp_selective_metrics = ['coverage_abs_pp', 'coverage_rel_pp', 'precision_selective_pp']\n",
    "# global_argmax_metrics = ['precision_argmax_selective_global', ]\n",
    "# pp_argmax_metrics = ['precision_argmax_selective_pp']\n",
    "\n",
    "# # all (non-selective)\n",
    "# pp_argmax_all_metrics = ['precision_argmax_overall_pp']\n",
    "# global_argmax_all_metrics = ['precision_argmax_overall_global']\n",
    "\n",
    "# all_metrics = global_selective_metrics + pp_selective_metrics + global_argmax_metrics + pp_argmax_metrics + pp_argmax_all_metrics + global_argmax_all_metrics\n",
    "\n",
    "metrics = ['precision_argmax_overall_global', 'precision_selective_global', 'coverage_abs_global', 'coverage_rel_global']\n",
    "df_latex = df_stats_all_r.pivot_table(index= ['dataset', 'model' ], columns=['threshold', '#p'], values=metrics)\n",
    "df_latex = df_latex.transpose()\n",
    "\n",
    "df_latex.head(5)"
   ]
  },
  {
   "cell_type": "code",
   "execution_count": 6,
   "metadata": {},
   "outputs": [
    {
     "data": {
      "text/plain": [
       "PosixPath('/Users/dug/Desktop/exp_3_set_proba_V4/global_overview_RC.tex')"
      ]
     },
     "execution_count": 6,
     "metadata": {},
     "output_type": "execute_result"
    }
   ],
   "source": [
    "with open(BASE_PATH / 'global_overview_RC.tex', 'w') as f:\n",
    "    f.write(\n",
    "        df_latex.to_latex(\n",
    "            index=True, formatters={\"name\": str.upper}, \n",
    "            caption=\"Comparision of predictions from P(o, T(r)) $>$ 0.5 vs. top-1 ranked object in settings with and without aggregation over paraphrases.\",\n",
    "            label=\"tab:global_overview_RC\",\n",
    "            float_format=\"{:.3f}\".format,\n",
    "            # column_format=\"|l|l|l|l|\",\n",
    "            escape=True,\n",
    "            bold_rows=False, # Make the header row bold\n",
    "            sparsify =True,\n",
    "            position='H',\n",
    "        ),\n",
    "    )\n",
    "\n",
    "BASE_PATH / 'global_overview_RC.tex'"
   ]
  },
  {
   "cell_type": "markdown",
   "metadata": {},
   "source": [
    "## Risk / Coverage Curves for Datasets"
   ]
  },
  {
   "cell_type": "code",
   "execution_count": 7,
   "metadata": {},
   "outputs": [],
   "source": [
    "run_names = ['hypernymy_2000_50_s_contexts_mistral7B', 'hypernymy_2000_50_mistral7B', 'hypernymy_2000_50_s_contexts_neg_mistral7B',\n",
    "             'hypernymy_2000_50_s_contexts',  'hypernymy_2000_50', 'hypernymy_2000_50_s_contexts_neg']\n",
    "dataset_per_run = ['hypernymy', 'hypernymy', 'hypernymy',\n",
    "                   'hypernymy', 'hypernymy', 'hypernymy',]\n",
    "model_per_run = ['mistral-7B', 'mistral-7B', 'mistral-7B',\n",
    "                 'gpt-l',  'gpt-l', 'gpt-l']\n",
    "run_attributes = ['+ context', '', '+ neg context', \n",
    "                  '+ context', '', '+ neg context' ]\n",
    "\n",
    "df_all_stats = combine_stats_dfs(run_names, dataset_per_run, model_per_run, BASE_PATH, run_attributes=run_attributes)"
   ]
  },
  {
   "cell_type": "code",
   "execution_count": 8,
   "metadata": {},
   "outputs": [
    {
     "name": "stdout",
     "output_type": "stream",
     "text": [
      "Plotting run: hypernymy_2000_50_s_contexts_mistral7B\n",
      "Plotting run: hypernymy_2000_50_mistral7B\n",
      "Plotting run: hypernymy_2000_50_s_contexts_neg_mistral7B\n",
      "/Users/dug/Desktop/exp_3_set_proba_V4/RC_Mistral-7B-I_precision_selective_global_coverage_dataset.pdf\n"
     ]
    },
    {
     "data": {
      "application/vnd.plotly.v1+json": {
       "config": {
        "plotlyServerURL": "https://plot.ly"
       },
       "data": [
        {
         "mode": "lines+markers",
         "name": "Hypernymy + context, #p: 0, auc: 0.152",
         "type": "scatter",
         "x": [
          1,
          0.14725592143269786,
          0.11363373772385904,
          0.0949740034662045,
          0.08492201039861352,
          0.07770075101097632,
          0.07215482380127095,
          0.06770652801848642,
          0.06412478336221837,
          0.060889659156556905,
          0.058232235701906415,
          0.05453495089543616,
          0.0511842865395725,
          0.04783362218370884,
          0.045753899480069325,
          0.04326978625072213,
          0.0415366839976892,
          0.03991912189485846,
          0.038359329867128825,
          0.037146158290005775,
          0.03599075678798382,
          0.03362218370883882,
          0.03125361062969382,
          0.029000577700751012,
          0.026863084922010397,
          0.02339688041594454,
          0.019641825534373193,
          0.01606008087810514,
          0.01074523396880416
         ],
         "y": [
          0.03333333333333333,
          0.19850921930168694,
          0.24809354346720894,
          0.2871046228710462,
          0.3149659863945578,
          0.3382899628252788,
          0.3602882305844676,
          0.38139931740614336,
          0.3972972972972973,
          0.4098671726755218,
          0.4246031746031746,
          0.4459745762711864,
          0.4672686230248307,
          0.4915458937198068,
          0.5025252525252525,
          0.5180240320427236,
          0.5285118219749653,
          0.5354558610709117,
          0.5451807228915663,
          0.5536547433903577,
          0.5617977528089888,
          0.5824742268041238,
          0.600739371534196,
          0.6195219123505976,
          0.6430107526881721,
          0.6617283950617284,
          0.6911764705882353,
          0.7050359712230215,
          0.7580645161290323
         ]
        },
        {
         "mode": "lines+markers",
         "name": "Hypernymy + context, #p: 20, auc: 0.150",
         "type": "scatter",
         "x": [
          1,
          0.34003466204506066,
          0.24985557481224727,
          0.20080878105141536,
          0.16164067013287117,
          0.1341998844598498,
          0.11392258809936454,
          0.09844020797227036,
          0.08497978047371461,
          0.07417677642980935,
          0.06666666666666667,
          0.05713460427498556,
          0.04997111496244945,
          0.043847487001733104,
          0.03986135181975736,
          0.03743500866551126,
          0.03610629693818602,
          0.0341421143847487,
          0.032813402657423454,
          0.03125361062969382,
          0.02975158867706528,
          0.026747544771808202,
          0.023281340265742346,
          0.019872905834777584,
          0.016175621028307337,
          0.009532062391681109,
          0.005719237435008666,
          0.003004043905257077,
          0.000635470826112074
         ],
         "y": [
          0.03333333333333333,
          0.09768943255181788,
          0.13202312138728323,
          0.16398158803222093,
          0.20300214438884917,
          0.24365045200172192,
          0.2870182555780933,
          0.32981220657276994,
          0.3813732154996601,
          0.4338006230529595,
          0.4809358752166378,
          0.5591506572295247,
          0.6335260115606937,
          0.7127799736495388,
          0.7710144927536232,
          0.8040123456790124,
          0.824,
          0.8510998307952623,
          0.8661971830985915,
          0.8983364140480592,
          0.916504854368932,
          0.9481641468682506,
          0.9627791563275434,
          0.9622093023255814,
          0.9678571428571429,
          0.9818181818181818,
          1,
          1,
          1
         ]
        },
        {
         "mode": "lines+markers",
         "name": "Hypernymy , #p: 0, auc: 0.115",
         "type": "scatter",
         "x": [
          1,
          0.3001733102253033,
          0.21328711727325245,
          0.1734835355285962,
          0.14714038128249568,
          0.12905834777585212,
          0.11623339110340844,
          0.10392836510687464,
          0.09433853264009243,
          0.08694396302715193,
          0.07978047371461583,
          0.0683997689196996,
          0.060658578856152515,
          0.05337954939341421,
          0.04777585210860774,
          0.04269208549971115,
          0.03853264009243212,
          0.03500866551126516,
          0.03269786250722126,
          0.02980935875216638,
          0.02755632582322357,
          0.02293471981513576,
          0.019641825534373193,
          0.01733102253032929,
          0.014962449451184287,
          0.010571923743500867,
          0.007510109763142692,
          0.005314846909300982,
          0.0025996533795493936
         ],
         "y": [
          0.03333333333333333,
          0.09160892994611239,
          0.12459371614301191,
          0.1471861471861472,
          0.16882606988614055,
          0.18755595344673232,
          0.20576540755467196,
          0.22345747637576432,
          0.23943661971830985,
          0.253156146179402,
          0.27299058653149894,
          0.30743243243243246,
          0.3352380952380952,
          0.3647186147186147,
          0.3905683192261185,
          0.42219215155615697,
          0.4527736131934033,
          0.48184818481848185,
          0.5035335689045937,
          0.5445736434108527,
          0.570230607966457,
          0.6423173803526449,
          0.7,
          0.73,
          0.7606177606177607,
          0.8087431693989071,
          0.8153846153846154,
          0.8695652173913043,
          0.8888888888888888
         ]
        },
        {
         "mode": "lines+markers",
         "name": "Hypernymy , #p: 20, auc: 0.148",
         "type": "scatter",
         "x": [
          1,
          0.4335066435586366,
          0.27648757943385327,
          0.19890236857307914,
          0.15077989601386482,
          0.1218370883882149,
          0.10132871172732524,
          0.08619295205083767,
          0.07619872905834778,
          0.06701328711727325,
          0.059676487579433855,
          0.05077989601386482,
          0.04511842865395725,
          0.04078567302137493,
          0.037897169266320044,
          0.035181975736568456,
          0.033275563258232235,
          0.031831311380704795,
          0.030155979202772965,
          0.029173887926054305,
          0.028076256499133447,
          0.02466782206816869,
          0.021374927787406125,
          0.018370883882149046,
          0.015020219526285385,
          0.009069901790872328,
          0.004563835932986713,
          0.0009243212016175621,
          0.000057770075101097634
         ],
         "y": [
          0.03333333333333333,
          0.0767590618336887,
          0.12014208106978688,
          0.16700551844321812,
          0.21877394636015327,
          0.26932195353247984,
          0.3232611174458381,
          0.3773458445040214,
          0.42380591357088704,
          0.4793103448275862,
          0.5343659244917716,
          0.621160409556314,
          0.6965428937259923,
          0.7577903682719547,
          0.7972560975609756,
          0.8456486042692939,
          0.8715277777777778,
          0.8856624319419237,
          0.9118773946360154,
          0.9207920792079208,
          0.9300411522633745,
          0.9508196721311475,
          0.9648648648648649,
          0.9779874213836478,
          0.9807692307692307,
          1,
          1,
          1,
          1
         ]
        },
        {
         "mode": "lines+markers",
         "name": "Hypernymy + neg context, #p: 0, auc: 0.120",
         "type": "scatter",
         "x": [
          1,
          0.19612940496822645,
          0.14540727902946274,
          0.119526285384171,
          0.10352397458116695,
          0.09300982091276719,
          0.08440207972270364,
          0.07677642980935875,
          0.07163489312536106,
          0.06770652801848642,
          0.06372039283651068,
          0.057770075101097634,
          0.053264009243212014,
          0.04956672443674177,
          0.04604274985557481,
          0.04378971692663201,
          0.040958983246678224,
          0.03864818024263431,
          0.036452917388792604,
          0.03535528596187175,
          0.033506643558636626,
          0.030444829578278453,
          0.02749855574812247,
          0.025187752744078567,
          0.023570190641247834,
          0.019121894858463315,
          0.015771230502599654,
          0.012593876372039283,
          0.008723281340265742
         ],
         "y": [
          0.03333333333333333,
          0.13284241531664212,
          0.1684545093365117,
          0.19768003866602224,
          0.21875,
          0.23664596273291927,
          0.25530458590006844,
          0.2746425884123401,
          0.2887096774193548,
          0.3046075085324232,
          0.314596554850408,
          0.337,
          0.3579175704989154,
          0.3764568764568765,
          0.39397741530740277,
          0.4023746701846966,
          0.4217207334273625,
          0.43796711509715996,
          0.4532488114104596,
          0.45751633986928103,
          0.47413793103448276,
          0.5047438330170778,
          0.5336134453781513,
          0.5642201834862385,
          0.5857843137254902,
          0.6586102719033232,
          0.706959706959707,
          0.7798165137614679,
          0.8543046357615894
         ]
        },
        {
         "mode": "lines+markers",
         "name": "Hypernymy + neg context, #p: 20, auc: 0.120",
         "type": "scatter",
         "x": [
          1,
          0.3677642980935875,
          0.27186597342576546,
          0.217157712305026,
          0.1781629116117851,
          0.1485846331600231,
          0.12853841709994224,
          0.1120739456961294,
          0.09988445984979781,
          0.09075678798382437,
          0.0829578278451762,
          0.06972848064702485,
          0.060196418255343734,
          0.052744078567302136,
          0.04754477180820335,
          0.043096476025418835,
          0.03916811091854419,
          0.034950895436164066,
          0.03217793183131138,
          0.029636048526863086,
          0.026978625072212593,
          0.021606008087810515,
          0.015713460427498556,
          0.011554015020219527,
          0.008318890814558059,
          0.004217215482380127,
          0.0016175621028307336,
          0.0007510109763142692,
          0.0001733102253032929
         ],
         "y": [
          0.03333333333333333,
          0.08529688972667294,
          0.11283467913302167,
          0.14019686086725192,
          0.16796368352788585,
          0.1947900466562986,
          0.21932584269662922,
          0.24536082474226803,
          0.26951995373048004,
          0.28580521960534694,
          0.30153203342618384,
          0.3396851698425849,
          0.3637236084452975,
          0.384446878422782,
          0.40340218712029163,
          0.41152815013404825,
          0.42035398230088494,
          0.43305785123966944,
          0.4524236983842011,
          0.45614035087719296,
          0.4817987152034261,
          0.5080213903743316,
          0.5588235294117647,
          0.61,
          0.6527777777777778,
          0.821917808219178,
          0.9285714285714286,
          1,
          1
         ]
        }
       ],
       "layout": {
        "font": {
         "family": "Serif",
         "size": 12
        },
        "legend": {
         "title": {
          "text": "relations"
         }
        },
        "template": {
         "data": {
          "bar": [
           {
            "error_x": {
             "color": "#2a3f5f"
            },
            "error_y": {
             "color": "#2a3f5f"
            },
            "marker": {
             "line": {
              "color": "#E5ECF6",
              "width": 0.5
             },
             "pattern": {
              "fillmode": "overlay",
              "size": 10,
              "solidity": 0.2
             }
            },
            "type": "bar"
           }
          ],
          "barpolar": [
           {
            "marker": {
             "line": {
              "color": "#E5ECF6",
              "width": 0.5
             },
             "pattern": {
              "fillmode": "overlay",
              "size": 10,
              "solidity": 0.2
             }
            },
            "type": "barpolar"
           }
          ],
          "carpet": [
           {
            "aaxis": {
             "endlinecolor": "#2a3f5f",
             "gridcolor": "white",
             "linecolor": "white",
             "minorgridcolor": "white",
             "startlinecolor": "#2a3f5f"
            },
            "baxis": {
             "endlinecolor": "#2a3f5f",
             "gridcolor": "white",
             "linecolor": "white",
             "minorgridcolor": "white",
             "startlinecolor": "#2a3f5f"
            },
            "type": "carpet"
           }
          ],
          "choropleth": [
           {
            "colorbar": {
             "outlinewidth": 0,
             "ticks": ""
            },
            "type": "choropleth"
           }
          ],
          "contour": [
           {
            "colorbar": {
             "outlinewidth": 0,
             "ticks": ""
            },
            "colorscale": [
             [
              0,
              "#0d0887"
             ],
             [
              0.1111111111111111,
              "#46039f"
             ],
             [
              0.2222222222222222,
              "#7201a8"
             ],
             [
              0.3333333333333333,
              "#9c179e"
             ],
             [
              0.4444444444444444,
              "#bd3786"
             ],
             [
              0.5555555555555556,
              "#d8576b"
             ],
             [
              0.6666666666666666,
              "#ed7953"
             ],
             [
              0.7777777777777778,
              "#fb9f3a"
             ],
             [
              0.8888888888888888,
              "#fdca26"
             ],
             [
              1,
              "#f0f921"
             ]
            ],
            "type": "contour"
           }
          ],
          "contourcarpet": [
           {
            "colorbar": {
             "outlinewidth": 0,
             "ticks": ""
            },
            "type": "contourcarpet"
           }
          ],
          "heatmap": [
           {
            "colorbar": {
             "outlinewidth": 0,
             "ticks": ""
            },
            "colorscale": [
             [
              0,
              "#0d0887"
             ],
             [
              0.1111111111111111,
              "#46039f"
             ],
             [
              0.2222222222222222,
              "#7201a8"
             ],
             [
              0.3333333333333333,
              "#9c179e"
             ],
             [
              0.4444444444444444,
              "#bd3786"
             ],
             [
              0.5555555555555556,
              "#d8576b"
             ],
             [
              0.6666666666666666,
              "#ed7953"
             ],
             [
              0.7777777777777778,
              "#fb9f3a"
             ],
             [
              0.8888888888888888,
              "#fdca26"
             ],
             [
              1,
              "#f0f921"
             ]
            ],
            "type": "heatmap"
           }
          ],
          "heatmapgl": [
           {
            "colorbar": {
             "outlinewidth": 0,
             "ticks": ""
            },
            "colorscale": [
             [
              0,
              "#0d0887"
             ],
             [
              0.1111111111111111,
              "#46039f"
             ],
             [
              0.2222222222222222,
              "#7201a8"
             ],
             [
              0.3333333333333333,
              "#9c179e"
             ],
             [
              0.4444444444444444,
              "#bd3786"
             ],
             [
              0.5555555555555556,
              "#d8576b"
             ],
             [
              0.6666666666666666,
              "#ed7953"
             ],
             [
              0.7777777777777778,
              "#fb9f3a"
             ],
             [
              0.8888888888888888,
              "#fdca26"
             ],
             [
              1,
              "#f0f921"
             ]
            ],
            "type": "heatmapgl"
           }
          ],
          "histogram": [
           {
            "marker": {
             "pattern": {
              "fillmode": "overlay",
              "size": 10,
              "solidity": 0.2
             }
            },
            "type": "histogram"
           }
          ],
          "histogram2d": [
           {
            "colorbar": {
             "outlinewidth": 0,
             "ticks": ""
            },
            "colorscale": [
             [
              0,
              "#0d0887"
             ],
             [
              0.1111111111111111,
              "#46039f"
             ],
             [
              0.2222222222222222,
              "#7201a8"
             ],
             [
              0.3333333333333333,
              "#9c179e"
             ],
             [
              0.4444444444444444,
              "#bd3786"
             ],
             [
              0.5555555555555556,
              "#d8576b"
             ],
             [
              0.6666666666666666,
              "#ed7953"
             ],
             [
              0.7777777777777778,
              "#fb9f3a"
             ],
             [
              0.8888888888888888,
              "#fdca26"
             ],
             [
              1,
              "#f0f921"
             ]
            ],
            "type": "histogram2d"
           }
          ],
          "histogram2dcontour": [
           {
            "colorbar": {
             "outlinewidth": 0,
             "ticks": ""
            },
            "colorscale": [
             [
              0,
              "#0d0887"
             ],
             [
              0.1111111111111111,
              "#46039f"
             ],
             [
              0.2222222222222222,
              "#7201a8"
             ],
             [
              0.3333333333333333,
              "#9c179e"
             ],
             [
              0.4444444444444444,
              "#bd3786"
             ],
             [
              0.5555555555555556,
              "#d8576b"
             ],
             [
              0.6666666666666666,
              "#ed7953"
             ],
             [
              0.7777777777777778,
              "#fb9f3a"
             ],
             [
              0.8888888888888888,
              "#fdca26"
             ],
             [
              1,
              "#f0f921"
             ]
            ],
            "type": "histogram2dcontour"
           }
          ],
          "mesh3d": [
           {
            "colorbar": {
             "outlinewidth": 0,
             "ticks": ""
            },
            "type": "mesh3d"
           }
          ],
          "parcoords": [
           {
            "line": {
             "colorbar": {
              "outlinewidth": 0,
              "ticks": ""
             }
            },
            "type": "parcoords"
           }
          ],
          "pie": [
           {
            "automargin": true,
            "type": "pie"
           }
          ],
          "scatter": [
           {
            "fillpattern": {
             "fillmode": "overlay",
             "size": 10,
             "solidity": 0.2
            },
            "type": "scatter"
           }
          ],
          "scatter3d": [
           {
            "line": {
             "colorbar": {
              "outlinewidth": 0,
              "ticks": ""
             }
            },
            "marker": {
             "colorbar": {
              "outlinewidth": 0,
              "ticks": ""
             }
            },
            "type": "scatter3d"
           }
          ],
          "scattercarpet": [
           {
            "marker": {
             "colorbar": {
              "outlinewidth": 0,
              "ticks": ""
             }
            },
            "type": "scattercarpet"
           }
          ],
          "scattergeo": [
           {
            "marker": {
             "colorbar": {
              "outlinewidth": 0,
              "ticks": ""
             }
            },
            "type": "scattergeo"
           }
          ],
          "scattergl": [
           {
            "marker": {
             "colorbar": {
              "outlinewidth": 0,
              "ticks": ""
             }
            },
            "type": "scattergl"
           }
          ],
          "scattermapbox": [
           {
            "marker": {
             "colorbar": {
              "outlinewidth": 0,
              "ticks": ""
             }
            },
            "type": "scattermapbox"
           }
          ],
          "scatterpolar": [
           {
            "marker": {
             "colorbar": {
              "outlinewidth": 0,
              "ticks": ""
             }
            },
            "type": "scatterpolar"
           }
          ],
          "scatterpolargl": [
           {
            "marker": {
             "colorbar": {
              "outlinewidth": 0,
              "ticks": ""
             }
            },
            "type": "scatterpolargl"
           }
          ],
          "scatterternary": [
           {
            "marker": {
             "colorbar": {
              "outlinewidth": 0,
              "ticks": ""
             }
            },
            "type": "scatterternary"
           }
          ],
          "surface": [
           {
            "colorbar": {
             "outlinewidth": 0,
             "ticks": ""
            },
            "colorscale": [
             [
              0,
              "#0d0887"
             ],
             [
              0.1111111111111111,
              "#46039f"
             ],
             [
              0.2222222222222222,
              "#7201a8"
             ],
             [
              0.3333333333333333,
              "#9c179e"
             ],
             [
              0.4444444444444444,
              "#bd3786"
             ],
             [
              0.5555555555555556,
              "#d8576b"
             ],
             [
              0.6666666666666666,
              "#ed7953"
             ],
             [
              0.7777777777777778,
              "#fb9f3a"
             ],
             [
              0.8888888888888888,
              "#fdca26"
             ],
             [
              1,
              "#f0f921"
             ]
            ],
            "type": "surface"
           }
          ],
          "table": [
           {
            "cells": {
             "fill": {
              "color": "#EBF0F8"
             },
             "line": {
              "color": "white"
             }
            },
            "header": {
             "fill": {
              "color": "#C8D4E3"
             },
             "line": {
              "color": "white"
             }
            },
            "type": "table"
           }
          ]
         },
         "layout": {
          "annotationdefaults": {
           "arrowcolor": "#2a3f5f",
           "arrowhead": 0,
           "arrowwidth": 1
          },
          "autotypenumbers": "strict",
          "coloraxis": {
           "colorbar": {
            "outlinewidth": 0,
            "ticks": ""
           }
          },
          "colorscale": {
           "diverging": [
            [
             0,
             "#8e0152"
            ],
            [
             0.1,
             "#c51b7d"
            ],
            [
             0.2,
             "#de77ae"
            ],
            [
             0.3,
             "#f1b6da"
            ],
            [
             0.4,
             "#fde0ef"
            ],
            [
             0.5,
             "#f7f7f7"
            ],
            [
             0.6,
             "#e6f5d0"
            ],
            [
             0.7,
             "#b8e186"
            ],
            [
             0.8,
             "#7fbc41"
            ],
            [
             0.9,
             "#4d9221"
            ],
            [
             1,
             "#276419"
            ]
           ],
           "sequential": [
            [
             0,
             "#0d0887"
            ],
            [
             0.1111111111111111,
             "#46039f"
            ],
            [
             0.2222222222222222,
             "#7201a8"
            ],
            [
             0.3333333333333333,
             "#9c179e"
            ],
            [
             0.4444444444444444,
             "#bd3786"
            ],
            [
             0.5555555555555556,
             "#d8576b"
            ],
            [
             0.6666666666666666,
             "#ed7953"
            ],
            [
             0.7777777777777778,
             "#fb9f3a"
            ],
            [
             0.8888888888888888,
             "#fdca26"
            ],
            [
             1,
             "#f0f921"
            ]
           ],
           "sequentialminus": [
            [
             0,
             "#0d0887"
            ],
            [
             0.1111111111111111,
             "#46039f"
            ],
            [
             0.2222222222222222,
             "#7201a8"
            ],
            [
             0.3333333333333333,
             "#9c179e"
            ],
            [
             0.4444444444444444,
             "#bd3786"
            ],
            [
             0.5555555555555556,
             "#d8576b"
            ],
            [
             0.6666666666666666,
             "#ed7953"
            ],
            [
             0.7777777777777778,
             "#fb9f3a"
            ],
            [
             0.8888888888888888,
             "#fdca26"
            ],
            [
             1,
             "#f0f921"
            ]
           ]
          },
          "colorway": [
           "#636efa",
           "#EF553B",
           "#00cc96",
           "#ab63fa",
           "#FFA15A",
           "#19d3f3",
           "#FF6692",
           "#B6E880",
           "#FF97FF",
           "#FECB52"
          ],
          "font": {
           "color": "#2a3f5f"
          },
          "geo": {
           "bgcolor": "white",
           "lakecolor": "white",
           "landcolor": "#E5ECF6",
           "showlakes": true,
           "showland": true,
           "subunitcolor": "white"
          },
          "hoverlabel": {
           "align": "left"
          },
          "hovermode": "closest",
          "mapbox": {
           "style": "light"
          },
          "paper_bgcolor": "white",
          "plot_bgcolor": "#E5ECF6",
          "polar": {
           "angularaxis": {
            "gridcolor": "white",
            "linecolor": "white",
            "ticks": ""
           },
           "bgcolor": "#E5ECF6",
           "radialaxis": {
            "gridcolor": "white",
            "linecolor": "white",
            "ticks": ""
           }
          },
          "scene": {
           "xaxis": {
            "backgroundcolor": "#E5ECF6",
            "gridcolor": "white",
            "gridwidth": 2,
            "linecolor": "white",
            "showbackground": true,
            "ticks": "",
            "zerolinecolor": "white"
           },
           "yaxis": {
            "backgroundcolor": "#E5ECF6",
            "gridcolor": "white",
            "gridwidth": 2,
            "linecolor": "white",
            "showbackground": true,
            "ticks": "",
            "zerolinecolor": "white"
           },
           "zaxis": {
            "backgroundcolor": "#E5ECF6",
            "gridcolor": "white",
            "gridwidth": 2,
            "linecolor": "white",
            "showbackground": true,
            "ticks": "",
            "zerolinecolor": "white"
           }
          },
          "shapedefaults": {
           "line": {
            "color": "#2a3f5f"
           }
          },
          "ternary": {
           "aaxis": {
            "gridcolor": "white",
            "linecolor": "white",
            "ticks": ""
           },
           "baxis": {
            "gridcolor": "white",
            "linecolor": "white",
            "ticks": ""
           },
           "bgcolor": "#E5ECF6",
           "caxis": {
            "gridcolor": "white",
            "linecolor": "white",
            "ticks": ""
           }
          },
          "title": {
           "x": 0.05
          },
          "xaxis": {
           "automargin": true,
           "gridcolor": "white",
           "linecolor": "white",
           "ticks": "",
           "title": {
            "standoff": 15
           },
           "zerolinecolor": "white",
           "zerolinewidth": 2
          },
          "yaxis": {
           "automargin": true,
           "gridcolor": "white",
           "linecolor": "white",
           "ticks": "",
           "title": {
            "standoff": 15
           },
           "zerolinecolor": "white",
           "zerolinewidth": 2
          }
         }
        },
        "title": {
         "text": "RC: Selective Prediction Using Model: Mistral-7B-I"
        },
        "xaxis": {
         "title": {
          "text": "coverage"
         }
        },
        "yaxis": {
         "title": {
          "text": "selective precision"
         }
        }
       }
      }
     },
     "metadata": {},
     "output_type": "display_data"
    },
    {
     "name": "stdout",
     "output_type": "stream",
     "text": [
      "Plotting run: hypernymy_2000_50_s_contexts\n",
      "Plotting run: hypernymy_2000_50\n",
      "Plotting run: hypernymy_2000_50_s_contexts_neg\n",
      "/Users/dug/Desktop/exp_3_set_proba_V4/RC_GPT-2-L_precision_selective_global_coverage_dataset.pdf\n"
     ]
    },
    {
     "data": {
      "application/vnd.plotly.v1+json": {
       "config": {
        "plotlyServerURL": "https://plot.ly"
       },
       "data": [
        {
         "mode": "lines+markers",
         "name": "Hypernymy + context, #p: 0, auc: 0.131",
         "type": "scatter",
         "x": [
          1,
          0.3387059503177354,
          0.2370883882149047,
          0.1831889081455806,
          0.15031773541305604,
          0.12801848642403235,
          0.11074523396880416,
          0.09699595609474293,
          0.08705950317735413,
          0.07781629116117851,
          0.07036395147313691,
          0.060138648180242636,
          0.0535528596187175,
          0.04702484113229347,
          0.042345465049104566,
          0.03864818024263431,
          0.03460427498555748,
          0.03200462160600809,
          0.02980935875216638,
          0.02749855574812247,
          0.025534373194685153,
          0.021606008087810515,
          0.018313113807047948,
          0.01606008087810514,
          0.014211438474870018,
          0.01097631426920855,
          0.008665511265164644,
          0.006065857885615251,
          0.0038128249566724438
         ],
         "y": [
          0.03333333333333333,
          0.09380863039399624,
          0.1301169590643275,
          0.1643014821822769,
          0.19446579554189086,
          0.22382671480144403,
          0.2540427751695357,
          0.28409767718880286,
          0.31453218314532183,
          0.3422420193021529,
          0.3727422003284072,
          0.42363112391930835,
          0.4627831715210356,
          0.5061425061425061,
          0.5470668485675307,
          0.5829596412556054,
          0.6227045075125208,
          0.648014440433213,
          0.6763565891472868,
          0.7163865546218487,
          0.7375565610859729,
          0.7807486631016043,
          0.8201892744479495,
          0.8489208633093526,
          0.8902439024390244,
          0.9526315789473684,
          0.9733333333333334,
          0.9714285714285714,
          1
         ]
        },
        {
         "mode": "lines+markers",
         "name": "Hypernymy + context, #p: 20, auc: 0.155",
         "type": "scatter",
         "x": [
          1,
          0.26481802426343154,
          0.17134604274985557,
          0.1339688041594454,
          0.11166955517042172,
          0.09682264586943963,
          0.08625072212593876,
          0.07718082033506643,
          0.07123050259965338,
          0.0661467359907568,
          0.06250722125938764,
          0.05534373194685153,
          0.05025996533795494,
          0.04615829000577701,
          0.043096476025418835,
          0.04072790294627383,
          0.03830155979202773,
          0.0365684575389948,
          0.03506643558636626,
          0.033275563258232235,
          0.031831311380704795,
          0.029173887926054305,
          0.027845176198729057,
          0.02582322357019064,
          0.02293471981513576,
          0.018370883882149046,
          0.012709416522241479,
          0.007741190063547083,
          0.00219526285384171
         ],
         "y": [
          0.03333333333333333,
          0.12521815008726003,
          0.1928523263654754,
          0.24622682190599396,
          0.2948784273150543,
          0.3394988066825776,
          0.3804420629604823,
          0.42290419161676646,
          0.4582319545823195,
          0.4925764192139738,
          0.5194085027726433,
          0.5855949895615866,
          0.6367816091954023,
          0.6871088861076345,
          0.7265415549597856,
          0.7546099290780142,
          0.7903469079939668,
          0.8135860979462876,
          0.8319604612850082,
          0.8559027777777778,
          0.867513611615245,
          0.8831683168316832,
          0.8858921161825726,
          0.8948545861297539,
          0.906801007556675,
          0.9308176100628931,
          0.9681818181818181,
          0.9776119402985075,
          1
         ]
        },
        {
         "mode": "lines+markers",
         "name": "Hypernymy , #p: 0, auc: 0.103",
         "type": "scatter",
         "x": [
          1,
          0.37920277296360483,
          0.250895436164067,
          0.18619295205083766,
          0.14546504910456384,
          0.1217215482380127,
          0.10439052570768342,
          0.09145002888503755,
          0.0807625649913345,
          0.07377238590410168,
          0.06759098786828423,
          0.058463316002310806,
          0.050606585788561524,
          0.04523396880415945,
          0.041190063547082614,
          0.03766608896591565,
          0.03454650491045638,
          0.0317735413056037,
          0.02975158867706528,
          0.028191796649335642,
          0.02628538417099942,
          0.022876949740034663,
          0.01923743500866551,
          0.016637781629116118,
          0.014269208549971116,
          0.010803004043905258,
          0.007394569612940497,
          0.004563835932986713,
          0.0021374927787406123
         ],
         "y": [
          0.03333333333333333,
          0.0751066422912858,
          0.10568731291733824,
          0.13434688178715481,
          0.16044479745830023,
          0.18224964404366398,
          0.2014388489208633,
          0.21920404295641188,
          0.23819742489270387,
          0.25215348472983556,
          0.26666666666666666,
          0.29150197628458496,
          0.3207762557077626,
          0.33588761174968074,
          0.3520336605890603,
          0.3665644171779141,
          0.38294314381270905,
          0.3890909090909091,
          0.39805825242718446,
          0.4016393442622951,
          0.4153846153846154,
          0.44696969696969696,
          0.4804804804804805,
          0.5138888888888888,
          0.5506072874493927,
          0.6096256684491979,
          0.703125,
          0.8607594936708861,
          1
         ]
        },
        {
         "mode": "lines+markers",
         "name": "Hypernymy , #p: 20, auc: 0.140",
         "type": "scatter",
         "x": [
          1,
          0.46031195840554595,
          0.30092432120161755,
          0.217157712305026,
          0.16528018486424031,
          0.134315424610052,
          0.11143847487001733,
          0.09468515309069901,
          0.08105141536683998,
          0.0707683419988446,
          0.06216060080878105,
          0.05043327556325823,
          0.04292316580011554,
          0.03778162911611785,
          0.034719815135759675,
          0.03246678220681687,
          0.030444829578278453,
          0.028942807625649915,
          0.027209705372616983,
          0.025649913344887348,
          0.023743500866551127,
          0.02102830733679954,
          0.017966493356441363,
          0.014962449451184287,
          0.012247255921432698,
          0.007914500288850376,
          0.003986135181975737,
          0.0015020219526285384,
          0.00023108030040439053
         ],
         "y": [
          0.03333333333333333,
          0.07216365461847389,
          0.10961796889998081,
          0.15083798882681565,
          0.19573575672841664,
          0.23655913978494625,
          0.2809745982374287,
          0.326418547895058,
          0.37633642195295797,
          0.42612244897959184,
          0.4721189591078067,
          0.563573883161512,
          0.6366083445491252,
          0.7018348623853211,
          0.7371048252911814,
          0.7758007117437722,
          0.793168880455408,
          0.810379241516966,
          0.8237791932059448,
          0.8468468468468469,
          0.8661800486618005,
          0.8873626373626373,
          0.8906752411575563,
          0.9034749034749034,
          0.8867924528301887,
          0.8832116788321168,
          0.927536231884058,
          0.9615384615384616,
          1
         ]
        },
        {
         "mode": "lines+markers",
         "name": "Hypernymy + neg context, #p: 0, auc: 0.094",
         "type": "scatter",
         "x": [
          1,
          0.38648180242634317,
          0.2588677065280185,
          0.19630271519352976,
          0.1586943963027152,
          0.13292894280762566,
          0.11282495667244367,
          0.09976891969959562,
          0.08809936452917388,
          0.07966493356441363,
          0.07232813402657423,
          0.060658578856152515,
          0.05233968804159445,
          0.04546504910456384,
          0.04101675332177932,
          0.036915077989601384,
          0.032813402657423454,
          0.029924898902368574,
          0.027440785673021374,
          0.02489890236857308,
          0.023050259965337955,
          0.019584055459272096,
          0.016868861929520508,
          0.014962449451184287,
          0.012651646447140381,
          0.00854997111496245,
          0.00658578856152513,
          0.004968226458694396,
          0.003004043905257077
         ],
         "y": [
          0.03333333333333333,
          0.06756352765321375,
          0.09350591385851373,
          0.11359623307828134,
          0.13396432471787403,
          0.15036940460669274,
          0.16641065028161803,
          0.1800810654313839,
          0.19672131147540983,
          0.2095721537345903,
          0.2220447284345048,
          0.24761904761904763,
          0.27483443708609273,
          0.29987293519695046,
          0.3183098591549296,
          0.3442879499217527,
          0.36619718309859156,
          0.3783783783783784,
          0.391578947368421,
          0.41299303944315546,
          0.42857142857142855,
          0.4631268436578171,
          0.5068493150684932,
          0.5173745173745173,
          0.5388127853881278,
          0.6621621621621622,
          0.7280701754385965,
          0.813953488372093,
          0.9807692307692307
         ]
        },
        {
         "mode": "lines+markers",
         "name": "Hypernymy + neg context, #p: 20, auc: 0.105",
         "type": "scatter",
         "x": [
          1,
          0.31871750433275564,
          0.21813980358174465,
          0.17238590410167534,
          0.14309647602541883,
          0.12264586943963027,
          0.10872328134026574,
          0.09786250722125939,
          0.08769497400346621,
          0.07978047371461583,
          0.07342576545349509,
          0.06418255343731946,
          0.05782784517619873,
          0.05245522819179665,
          0.04783362218370884,
          0.044309647602541885,
          0.041421143847487005,
          0.03864818024263431,
          0.03581744656268053,
          0.033275563258232235,
          0.03131138070479492,
          0.026458694396302714,
          0.02172154823801271,
          0.01802426343154246,
          0.014500288850375506,
          0.009589832466782206,
          0.005083766608896592,
          0.0020797227036395147,
          0.00011554015020219527
         ],
         "y": [
          0.03333333333333333,
          0.09606670291825267,
          0.133739406779661,
          0.16085790884718498,
          0.1844973758578926,
          0.2011304757418747,
          0.21253985122210414,
          0.22491145218417946,
          0.24176548089591568,
          0.2548877624909486,
          0.2675059008654603,
          0.2826282628262826,
          0.29270729270729273,
          0.2973568281938326,
          0.29830917874396135,
          0.3076923076923077,
          0.30962343096234307,
          0.3064275037369208,
          0.3064516129032258,
          0.3072916666666667,
          0.3044280442804428,
          0.30131004366812225,
          0.30319148936170215,
          0.2980769230769231,
          0.2788844621513944,
          0.2710843373493976,
          0.3409090909090909,
          0.3611111111111111,
          0.5
         ]
        }
       ],
       "layout": {
        "font": {
         "family": "Serif",
         "size": 12
        },
        "legend": {
         "title": {
          "text": "relations"
         }
        },
        "template": {
         "data": {
          "bar": [
           {
            "error_x": {
             "color": "#2a3f5f"
            },
            "error_y": {
             "color": "#2a3f5f"
            },
            "marker": {
             "line": {
              "color": "#E5ECF6",
              "width": 0.5
             },
             "pattern": {
              "fillmode": "overlay",
              "size": 10,
              "solidity": 0.2
             }
            },
            "type": "bar"
           }
          ],
          "barpolar": [
           {
            "marker": {
             "line": {
              "color": "#E5ECF6",
              "width": 0.5
             },
             "pattern": {
              "fillmode": "overlay",
              "size": 10,
              "solidity": 0.2
             }
            },
            "type": "barpolar"
           }
          ],
          "carpet": [
           {
            "aaxis": {
             "endlinecolor": "#2a3f5f",
             "gridcolor": "white",
             "linecolor": "white",
             "minorgridcolor": "white",
             "startlinecolor": "#2a3f5f"
            },
            "baxis": {
             "endlinecolor": "#2a3f5f",
             "gridcolor": "white",
             "linecolor": "white",
             "minorgridcolor": "white",
             "startlinecolor": "#2a3f5f"
            },
            "type": "carpet"
           }
          ],
          "choropleth": [
           {
            "colorbar": {
             "outlinewidth": 0,
             "ticks": ""
            },
            "type": "choropleth"
           }
          ],
          "contour": [
           {
            "colorbar": {
             "outlinewidth": 0,
             "ticks": ""
            },
            "colorscale": [
             [
              0,
              "#0d0887"
             ],
             [
              0.1111111111111111,
              "#46039f"
             ],
             [
              0.2222222222222222,
              "#7201a8"
             ],
             [
              0.3333333333333333,
              "#9c179e"
             ],
             [
              0.4444444444444444,
              "#bd3786"
             ],
             [
              0.5555555555555556,
              "#d8576b"
             ],
             [
              0.6666666666666666,
              "#ed7953"
             ],
             [
              0.7777777777777778,
              "#fb9f3a"
             ],
             [
              0.8888888888888888,
              "#fdca26"
             ],
             [
              1,
              "#f0f921"
             ]
            ],
            "type": "contour"
           }
          ],
          "contourcarpet": [
           {
            "colorbar": {
             "outlinewidth": 0,
             "ticks": ""
            },
            "type": "contourcarpet"
           }
          ],
          "heatmap": [
           {
            "colorbar": {
             "outlinewidth": 0,
             "ticks": ""
            },
            "colorscale": [
             [
              0,
              "#0d0887"
             ],
             [
              0.1111111111111111,
              "#46039f"
             ],
             [
              0.2222222222222222,
              "#7201a8"
             ],
             [
              0.3333333333333333,
              "#9c179e"
             ],
             [
              0.4444444444444444,
              "#bd3786"
             ],
             [
              0.5555555555555556,
              "#d8576b"
             ],
             [
              0.6666666666666666,
              "#ed7953"
             ],
             [
              0.7777777777777778,
              "#fb9f3a"
             ],
             [
              0.8888888888888888,
              "#fdca26"
             ],
             [
              1,
              "#f0f921"
             ]
            ],
            "type": "heatmap"
           }
          ],
          "heatmapgl": [
           {
            "colorbar": {
             "outlinewidth": 0,
             "ticks": ""
            },
            "colorscale": [
             [
              0,
              "#0d0887"
             ],
             [
              0.1111111111111111,
              "#46039f"
             ],
             [
              0.2222222222222222,
              "#7201a8"
             ],
             [
              0.3333333333333333,
              "#9c179e"
             ],
             [
              0.4444444444444444,
              "#bd3786"
             ],
             [
              0.5555555555555556,
              "#d8576b"
             ],
             [
              0.6666666666666666,
              "#ed7953"
             ],
             [
              0.7777777777777778,
              "#fb9f3a"
             ],
             [
              0.8888888888888888,
              "#fdca26"
             ],
             [
              1,
              "#f0f921"
             ]
            ],
            "type": "heatmapgl"
           }
          ],
          "histogram": [
           {
            "marker": {
             "pattern": {
              "fillmode": "overlay",
              "size": 10,
              "solidity": 0.2
             }
            },
            "type": "histogram"
           }
          ],
          "histogram2d": [
           {
            "colorbar": {
             "outlinewidth": 0,
             "ticks": ""
            },
            "colorscale": [
             [
              0,
              "#0d0887"
             ],
             [
              0.1111111111111111,
              "#46039f"
             ],
             [
              0.2222222222222222,
              "#7201a8"
             ],
             [
              0.3333333333333333,
              "#9c179e"
             ],
             [
              0.4444444444444444,
              "#bd3786"
             ],
             [
              0.5555555555555556,
              "#d8576b"
             ],
             [
              0.6666666666666666,
              "#ed7953"
             ],
             [
              0.7777777777777778,
              "#fb9f3a"
             ],
             [
              0.8888888888888888,
              "#fdca26"
             ],
             [
              1,
              "#f0f921"
             ]
            ],
            "type": "histogram2d"
           }
          ],
          "histogram2dcontour": [
           {
            "colorbar": {
             "outlinewidth": 0,
             "ticks": ""
            },
            "colorscale": [
             [
              0,
              "#0d0887"
             ],
             [
              0.1111111111111111,
              "#46039f"
             ],
             [
              0.2222222222222222,
              "#7201a8"
             ],
             [
              0.3333333333333333,
              "#9c179e"
             ],
             [
              0.4444444444444444,
              "#bd3786"
             ],
             [
              0.5555555555555556,
              "#d8576b"
             ],
             [
              0.6666666666666666,
              "#ed7953"
             ],
             [
              0.7777777777777778,
              "#fb9f3a"
             ],
             [
              0.8888888888888888,
              "#fdca26"
             ],
             [
              1,
              "#f0f921"
             ]
            ],
            "type": "histogram2dcontour"
           }
          ],
          "mesh3d": [
           {
            "colorbar": {
             "outlinewidth": 0,
             "ticks": ""
            },
            "type": "mesh3d"
           }
          ],
          "parcoords": [
           {
            "line": {
             "colorbar": {
              "outlinewidth": 0,
              "ticks": ""
             }
            },
            "type": "parcoords"
           }
          ],
          "pie": [
           {
            "automargin": true,
            "type": "pie"
           }
          ],
          "scatter": [
           {
            "fillpattern": {
             "fillmode": "overlay",
             "size": 10,
             "solidity": 0.2
            },
            "type": "scatter"
           }
          ],
          "scatter3d": [
           {
            "line": {
             "colorbar": {
              "outlinewidth": 0,
              "ticks": ""
             }
            },
            "marker": {
             "colorbar": {
              "outlinewidth": 0,
              "ticks": ""
             }
            },
            "type": "scatter3d"
           }
          ],
          "scattercarpet": [
           {
            "marker": {
             "colorbar": {
              "outlinewidth": 0,
              "ticks": ""
             }
            },
            "type": "scattercarpet"
           }
          ],
          "scattergeo": [
           {
            "marker": {
             "colorbar": {
              "outlinewidth": 0,
              "ticks": ""
             }
            },
            "type": "scattergeo"
           }
          ],
          "scattergl": [
           {
            "marker": {
             "colorbar": {
              "outlinewidth": 0,
              "ticks": ""
             }
            },
            "type": "scattergl"
           }
          ],
          "scattermapbox": [
           {
            "marker": {
             "colorbar": {
              "outlinewidth": 0,
              "ticks": ""
             }
            },
            "type": "scattermapbox"
           }
          ],
          "scatterpolar": [
           {
            "marker": {
             "colorbar": {
              "outlinewidth": 0,
              "ticks": ""
             }
            },
            "type": "scatterpolar"
           }
          ],
          "scatterpolargl": [
           {
            "marker": {
             "colorbar": {
              "outlinewidth": 0,
              "ticks": ""
             }
            },
            "type": "scatterpolargl"
           }
          ],
          "scatterternary": [
           {
            "marker": {
             "colorbar": {
              "outlinewidth": 0,
              "ticks": ""
             }
            },
            "type": "scatterternary"
           }
          ],
          "surface": [
           {
            "colorbar": {
             "outlinewidth": 0,
             "ticks": ""
            },
            "colorscale": [
             [
              0,
              "#0d0887"
             ],
             [
              0.1111111111111111,
              "#46039f"
             ],
             [
              0.2222222222222222,
              "#7201a8"
             ],
             [
              0.3333333333333333,
              "#9c179e"
             ],
             [
              0.4444444444444444,
              "#bd3786"
             ],
             [
              0.5555555555555556,
              "#d8576b"
             ],
             [
              0.6666666666666666,
              "#ed7953"
             ],
             [
              0.7777777777777778,
              "#fb9f3a"
             ],
             [
              0.8888888888888888,
              "#fdca26"
             ],
             [
              1,
              "#f0f921"
             ]
            ],
            "type": "surface"
           }
          ],
          "table": [
           {
            "cells": {
             "fill": {
              "color": "#EBF0F8"
             },
             "line": {
              "color": "white"
             }
            },
            "header": {
             "fill": {
              "color": "#C8D4E3"
             },
             "line": {
              "color": "white"
             }
            },
            "type": "table"
           }
          ]
         },
         "layout": {
          "annotationdefaults": {
           "arrowcolor": "#2a3f5f",
           "arrowhead": 0,
           "arrowwidth": 1
          },
          "autotypenumbers": "strict",
          "coloraxis": {
           "colorbar": {
            "outlinewidth": 0,
            "ticks": ""
           }
          },
          "colorscale": {
           "diverging": [
            [
             0,
             "#8e0152"
            ],
            [
             0.1,
             "#c51b7d"
            ],
            [
             0.2,
             "#de77ae"
            ],
            [
             0.3,
             "#f1b6da"
            ],
            [
             0.4,
             "#fde0ef"
            ],
            [
             0.5,
             "#f7f7f7"
            ],
            [
             0.6,
             "#e6f5d0"
            ],
            [
             0.7,
             "#b8e186"
            ],
            [
             0.8,
             "#7fbc41"
            ],
            [
             0.9,
             "#4d9221"
            ],
            [
             1,
             "#276419"
            ]
           ],
           "sequential": [
            [
             0,
             "#0d0887"
            ],
            [
             0.1111111111111111,
             "#46039f"
            ],
            [
             0.2222222222222222,
             "#7201a8"
            ],
            [
             0.3333333333333333,
             "#9c179e"
            ],
            [
             0.4444444444444444,
             "#bd3786"
            ],
            [
             0.5555555555555556,
             "#d8576b"
            ],
            [
             0.6666666666666666,
             "#ed7953"
            ],
            [
             0.7777777777777778,
             "#fb9f3a"
            ],
            [
             0.8888888888888888,
             "#fdca26"
            ],
            [
             1,
             "#f0f921"
            ]
           ],
           "sequentialminus": [
            [
             0,
             "#0d0887"
            ],
            [
             0.1111111111111111,
             "#46039f"
            ],
            [
             0.2222222222222222,
             "#7201a8"
            ],
            [
             0.3333333333333333,
             "#9c179e"
            ],
            [
             0.4444444444444444,
             "#bd3786"
            ],
            [
             0.5555555555555556,
             "#d8576b"
            ],
            [
             0.6666666666666666,
             "#ed7953"
            ],
            [
             0.7777777777777778,
             "#fb9f3a"
            ],
            [
             0.8888888888888888,
             "#fdca26"
            ],
            [
             1,
             "#f0f921"
            ]
           ]
          },
          "colorway": [
           "#636efa",
           "#EF553B",
           "#00cc96",
           "#ab63fa",
           "#FFA15A",
           "#19d3f3",
           "#FF6692",
           "#B6E880",
           "#FF97FF",
           "#FECB52"
          ],
          "font": {
           "color": "#2a3f5f"
          },
          "geo": {
           "bgcolor": "white",
           "lakecolor": "white",
           "landcolor": "#E5ECF6",
           "showlakes": true,
           "showland": true,
           "subunitcolor": "white"
          },
          "hoverlabel": {
           "align": "left"
          },
          "hovermode": "closest",
          "mapbox": {
           "style": "light"
          },
          "paper_bgcolor": "white",
          "plot_bgcolor": "#E5ECF6",
          "polar": {
           "angularaxis": {
            "gridcolor": "white",
            "linecolor": "white",
            "ticks": ""
           },
           "bgcolor": "#E5ECF6",
           "radialaxis": {
            "gridcolor": "white",
            "linecolor": "white",
            "ticks": ""
           }
          },
          "scene": {
           "xaxis": {
            "backgroundcolor": "#E5ECF6",
            "gridcolor": "white",
            "gridwidth": 2,
            "linecolor": "white",
            "showbackground": true,
            "ticks": "",
            "zerolinecolor": "white"
           },
           "yaxis": {
            "backgroundcolor": "#E5ECF6",
            "gridcolor": "white",
            "gridwidth": 2,
            "linecolor": "white",
            "showbackground": true,
            "ticks": "",
            "zerolinecolor": "white"
           },
           "zaxis": {
            "backgroundcolor": "#E5ECF6",
            "gridcolor": "white",
            "gridwidth": 2,
            "linecolor": "white",
            "showbackground": true,
            "ticks": "",
            "zerolinecolor": "white"
           }
          },
          "shapedefaults": {
           "line": {
            "color": "#2a3f5f"
           }
          },
          "ternary": {
           "aaxis": {
            "gridcolor": "white",
            "linecolor": "white",
            "ticks": ""
           },
           "baxis": {
            "gridcolor": "white",
            "linecolor": "white",
            "ticks": ""
           },
           "bgcolor": "#E5ECF6",
           "caxis": {
            "gridcolor": "white",
            "linecolor": "white",
            "ticks": ""
           }
          },
          "title": {
           "x": 0.05
          },
          "xaxis": {
           "automargin": true,
           "gridcolor": "white",
           "linecolor": "white",
           "ticks": "",
           "title": {
            "standoff": 15
           },
           "zerolinecolor": "white",
           "zerolinewidth": 2
          },
          "yaxis": {
           "automargin": true,
           "gridcolor": "white",
           "linecolor": "white",
           "ticks": "",
           "title": {
            "standoff": 15
           },
           "zerolinecolor": "white",
           "zerolinewidth": 2
          }
         }
        },
        "title": {
         "text": "RC: Selective Prediction Using Model: GPT-2-L"
        },
        "xaxis": {
         "title": {
          "text": "coverage"
         }
        },
        "yaxis": {
         "title": {
          "text": "selective precision"
         }
        }
       }
      }
     },
     "metadata": {},
     "output_type": "display_data"
    }
   ],
   "source": [
    "# Risk Coverage Curve for Dataset, Model and Paraphrases\n",
    "# RISK / COVERAGE CURVE for GLOBAL Classification with moving threshold\n",
    "# metrics for 3 full datastes = all relations, all paraphrases, full o_neg set\n",
    "df_stats_overall = df_all_stats[df_all_stats['relation'].str.contains('all_relations')]\n",
    "df_stats_overall = df_stats_overall[ (df_stats_overall['dataset'].isin(['trex', 'PopQA', 'hypernymy']))  ] # & (df_stats_overall['max_paraphrases'] > 0) & (df_stats_overall['max_o'] == 30)\n",
    "# df_stats_overall = df_stats_overall[['dataset',  'model', 'run_name', 'max_paraphrases', 'threshold', 'coverage_abs', 'relation', 'precision', 'recall', 'f1', 'accuracy', 'P(T)_fraction_above_threshold', 'coverage_abs', 'P(T)_fraction_above_threshold|pos', 'P(T)_total|pos', 'precision_argmax', 'recall_argmax', 'f1_argmax', 'accuracy_argmax']] \n",
    "df_stats_overall = convert_for_pdf(df_stats_overall)\n",
    "models = df_stats_overall['model'].unique()\n",
    "risk_names = ['precision_selective_global']\n",
    "\n",
    "all_data = []\n",
    "for model in models:\n",
    "    df_stats_overall_model = df_stats_overall[df_stats_overall['model'] == model]\n",
    "    for risk_name in risk_names:\n",
    "        fig, data = plot_coverage_risk_curve_2(df_stats_overall_model, risk_name=risk_name, coverage_name='coverage_rel_global', plot_title=f'RC: Selective Prediction Using Model: {model}', out_path=BASE_PATH / f'RC_{model}_{risk_name}_coverage_dataset')\n",
    "        all_data.extend(data)\n",
    "        fig.update_layout( font_family=\"Serif\", font_size=12, yaxis_title_text='selective precision')\n",
    "        fig.show()    \n",
    "        \n",
    "auc_data = pd.DataFrame(all_data, columns=['dataset', 'model', 'run_attributes', 'relation', 'max_p', 'risk_name', 'auc'])"
   ]
  },
  {
   "cell_type": "code",
   "execution_count": 9,
   "metadata": {},
   "outputs": [
    {
     "name": "stdout",
     "output_type": "stream",
     "text": [
      "Df columns: Index(['dataset', 'model', 'run_attributes', 'relation', 'max_p', 'risk_name',\n",
      "       'auc'],\n",
      "      dtype='object')\n",
      "/Users/dug/Desktop/exp_3_set_proba_V4/RC_auc_per_dataset.tex\n"
     ]
    },
    {
     "data": {
      "text/html": [
       "<div>\n",
       "<style scoped>\n",
       "    .dataframe tbody tr th:only-of-type {\n",
       "        vertical-align: middle;\n",
       "    }\n",
       "\n",
       "    .dataframe tbody tr th {\n",
       "        vertical-align: top;\n",
       "    }\n",
       "\n",
       "    .dataframe thead tr th {\n",
       "        text-align: left;\n",
       "    }\n",
       "\n",
       "    .dataframe thead tr:last-of-type th {\n",
       "        text-align: right;\n",
       "    }\n",
       "</style>\n",
       "<table border=\"1\" class=\"dataframe\">\n",
       "  <thead>\n",
       "    <tr>\n",
       "      <th></th>\n",
       "      <th></th>\n",
       "      <th colspan=\"3\" halign=\"left\">auc</th>\n",
       "      <th colspan=\"2\" halign=\"left\">rel. diff.</th>\n",
       "    </tr>\n",
       "    <tr>\n",
       "      <th></th>\n",
       "      <th>run attributes</th>\n",
       "      <th>+ context</th>\n",
       "      <th>+ neg context</th>\n",
       "      <th>0-shot</th>\n",
       "      <th>+ context</th>\n",
       "      <th>+ neg context</th>\n",
       "    </tr>\n",
       "    <tr>\n",
       "      <th>dataset</th>\n",
       "      <th>model</th>\n",
       "      <th></th>\n",
       "      <th></th>\n",
       "      <th></th>\n",
       "      <th></th>\n",
       "      <th></th>\n",
       "    </tr>\n",
       "  </thead>\n",
       "  <tbody>\n",
       "    <tr>\n",
       "      <th rowspan=\"2\" valign=\"top\">Hypernymy</th>\n",
       "      <th>GPT-2-L</th>\n",
       "      <td>0.142964</td>\n",
       "      <td>0.099229</td>\n",
       "      <td>0.121381</td>\n",
       "      <td>0.177809</td>\n",
       "      <td>-0.182504</td>\n",
       "    </tr>\n",
       "    <tr>\n",
       "      <th>Mistral-7B-I</th>\n",
       "      <td>0.150922</td>\n",
       "      <td>0.119916</td>\n",
       "      <td>0.131575</td>\n",
       "      <td>0.147042</td>\n",
       "      <td>-0.088606</td>\n",
       "    </tr>\n",
       "  </tbody>\n",
       "</table>\n",
       "</div>"
      ],
      "text/plain": [
       "                             auc                         rel. diff.  \\\n",
       "run attributes         + context + neg context    0-shot  + context   \n",
       "dataset   model                                                       \n",
       "Hypernymy GPT-2-L       0.142964      0.099229  0.121381   0.177809   \n",
       "          Mistral-7B-I  0.150922      0.119916  0.131575   0.147042   \n",
       "\n",
       "                                      \n",
       "run attributes         + neg context  \n",
       "dataset   model                       \n",
       "Hypernymy GPT-2-L          -0.182504  \n",
       "          Mistral-7B-I     -0.088606  "
      ]
     },
     "execution_count": 9,
     "metadata": {},
     "output_type": "execute_result"
    }
   ],
   "source": [
    "# Latex Table for AUC values\n",
    "df_latex = convert_for_pdf(auc_data.copy())\n",
    "df_latex.rename(columns={'run_attributes': 'run attributes'}, inplace=True)\n",
    "run_attributes = df_latex['run attributes'].to_list()\n",
    "df_latex['run attributes'] = ['0-shot' if x == '' else x for x in run_attributes]\n",
    "df_latex = df_latex.pivot_table(index= ['dataset', 'model' ], columns=['run attributes'], values=['auc'])\n",
    "df_latex[\"rel. diff.\", \"+ context\"] = (df_latex[('auc', '+ context')] - df_latex[('auc', '0-shot')]) / df_latex[('auc', '0-shot')]\n",
    "df_latex[\"rel. diff.\", \"+ neg context\"] = (df_latex[('auc', '+ neg context')] - df_latex[('auc', '0-shot')]) / df_latex[('auc', '0-shot')]\n",
    "with open(BASE_PATH / 'RC_auc_per_dataset.tex', 'w') as f:\n",
    "    f.write(\n",
    "        df_latex.to_latex(\n",
    "            index=True, formatters={\"name\": str.upper}, \n",
    "            caption=\"AUC values for selective prediction on the hypernymy data in the standard setting (0-shot), with context information about the subject, and with a random subject provided as control run.\",\n",
    "            label=\"tab:RC_auc_per_dataset\",\n",
    "            float_format=\"{:.3f}\".format,\n",
    "            # column_format=\"|l|l|l|l|\",\n",
    "            escape=True,\n",
    "            bold_rows=False, # Make the header row bold\n",
    "            sparsify =True,\n",
    "            position='H',\n",
    "        ),\n",
    "    )\n",
    "\n",
    "print(BASE_PATH / 'RC_auc_per_dataset.tex')\n",
    "df_latex\n"
   ]
  },
  {
   "cell_type": "markdown",
   "metadata": {},
   "source": [
    "# per subject"
   ]
  },
  {
   "cell_type": "code",
   "execution_count": 10,
   "metadata": {},
   "outputs": [
    {
     "data": {
      "text/plain": [
       "(4, 4, 4, 4)"
      ]
     },
     "execution_count": 10,
     "metadata": {},
     "output_type": "execute_result"
    }
   ],
   "source": [
    "# pairwise run comparision (context vs. no context)\n",
    "all_run_names = [['hypernymy_2000_50_s_contexts_mistral7B', 'hypernymy_2000_50_mistral7B'], ['hypernymy_2000_50_s_contexts',  'hypernymy_2000_50'], ['hypernymy_2000_50_s_contexts_neg_mistral7B', 'hypernymy_2000_50_mistral7B'], ['hypernymy_2000_50_s_contexts_neg', 'hypernymy_2000_50']]\n",
    "all_datasets_per_run = [['hypernymy', 'hypernymy'], ['hypernymy', 'hypernymy'], ['hypernymy', 'hypernymy'], ['hypernymy', 'hypernymy']]\n",
    "all_models_per_run = [['mistral-7B', 'mistral-7B'], ['gpt-l',  'gpt-l'], ['mistral-7B', 'mistral-7B'], ['gpt-l',  'gpt-l']]\n",
    "all_runs_attributes = [['+ context', ''], ['+ context', ''], ['+ neg context', ''], ['+ neg context', '']]\n",
    "\n",
    "len(all_run_names), len(all_datasets_per_run), len(all_models_per_run), len(all_runs_attributes)"
   ]
  },
  {
   "cell_type": "code",
   "execution_count": 11,
   "metadata": {},
   "outputs": [
    {
     "data": {
      "application/vnd.plotly.v1+json": {
       "config": {
        "plotlyServerURL": "https://plot.ly"
       },
       "data": [
        {
         "branchvalues": "total",
         "customdata": [
          [
           "R&B",
           "music",
           "music",
           "music",
           "R&B is a music.",
           "Knowledge is Incorrect"
          ],
          [
           "punk",
           "music",
           "music",
           "music",
           "Punk is a music.",
           "Knowledge is Incorrect"
          ],
          [
           "psychologist",
           "profession",
           "profession",
           "profession",
           "Psychologist is a profession.",
           "Knowledge is Incorrect"
          ],
          [
           "professor",
           "profession",
           "profession",
           "profession",
           "Professor is a profession.",
           "Knowledge is Correct"
          ],
          [
           "portugal",
           "country",
           "country",
           "country",
           "Portugal is a country.",
           "Knowledge is Incorrect"
          ],
          [
           "pigeon",
           "bird",
           "bird",
           "bird",
           "Pigeon is a bird.",
           "Knowledge is Incorrect"
          ],
          [
           "penguin",
           "bird",
           "bird",
           "bird",
           "Penguin is a bird.",
           "Knowledge is Incorrect"
          ],
          [
           "opera",
           "music",
           "music",
           "music",
           "Opera is a music.",
           "Knowledge is Incorrect"
          ],
          [
           "onions",
           "vegetable",
           "vegetable",
           "vegetable",
           "Onions is a vegetable.",
           "Knowledge is Correct"
          ],
          [
           "oak",
           "tree",
           "tree",
           "tree",
           "Oak is a tree.",
           "Knowledge is Correct"
          ],
          [
           "new age",
           "music",
           "music",
           "music",
           "New age is a music.",
           "Knowledge is Incorrect"
          ],
          [
           "nephew",
           "relative",
           "relative",
           "relative",
           "Nephew is a relative.",
           "Knowledge is Correct"
          ],
          [
           "millennium",
           "time",
           "time",
           "time",
           "Millennium is a time.",
           "Knowledge is Correct"
          ],
          [
           "meter",
           "distance",
           "distance",
           "time",
           "Meter is a distance.",
           "Knowledge is Correct"
          ],
          [
           "metal",
           "music",
           "music",
           "music",
           "Metal is a music.",
           "Knowledge is Incorrect"
          ],
          [
           "marlin",
           "fish",
           "fish",
           "fish",
           "Marlin is a fish.",
           "Knowledge is Correct"
          ],
          [
           "mango",
           "fruit",
           "fruit",
           "fruit",
           "Mango is a fruit.",
           "Knowledge is Incorrect"
          ],
          [
           "yen",
           "money",
           "money",
           "money",
           "Yen is money.",
           "Knowledge is Incorrect"
          ],
          [
           "lightning",
           "weather",
           "weather",
           "weather",
           "Lightning is a weather.",
           "Knowledge is Correct"
          ],
          [
           "lemon",
           "fruit",
           "fruit",
           "fruit",
           "Lemon is a fruit.",
           "Knowledge is Incorrect"
          ],
          [
           "hut",
           "home",
           "home",
           "home",
           "Hut is a home.",
           "Knowledge is Correct"
          ],
          [
           "hurricanes",
           "weather",
           "weather",
           "weather",
           "Hurricanes is a weather.",
           "Knowledge is Incorrect"
          ],
          [
           "hat",
           "clothing",
           "clothing",
           "clothing",
           "Hat is a clothing.",
           "Knowledge is Correct"
          ],
          [
           "hammer",
           "tool",
           "tool",
           "tool",
           "Hammer is a tool.",
           "Knowledge is Correct"
          ],
          [
           "hail",
           "weather",
           "weather",
           "weather",
           "Hail is a weather.",
           "Knowledge is Incorrect"
          ],
          [
           "grenade",
           "weapon",
           "weapon",
           "weapon",
           "Grenade is a weapon.",
           "Knowledge is Correct"
          ],
          [
           "great aunt",
           "relative",
           "relative",
           "relative",
           "Great aunt is a relative.",
           "Knowledge is Incorrect"
          ],
          [
           "grapefruit",
           "fruit",
           "fruit",
           "fruit",
           "Grapefruit is a fruit.",
           "Knowledge is Incorrect"
          ],
          [
           "gospel",
           "music",
           "music",
           "music",
           "Gospel is a music.",
           "Knowledge is Incorrect"
          ],
          [
           "gnat",
           "bug",
           "bug",
           "bug",
           "Gnat is a bug.",
           "Knowledge is Incorrect"
          ],
          [
           "rabbit",
           "animal",
           "animal",
           "animal",
           "Rabbit is an animal.",
           "Knowledge is Correct"
          ],
          [
           "futon",
           "furniture",
           "furniture",
           "furniture",
           "Futon is furniture.",
           "Knowledge is Incorrect"
          ],
          [
           "raft",
           "boat",
           "boat",
           "boat",
           "Raft is a boat.",
           "Knowledge is Correct"
          ],
          [
           "reggae",
           "music",
           "music",
           "music",
           "Reggae is a music.",
           "Knowledge is Incorrect"
          ],
          [
           "yard",
           "distance",
           "distance",
           "time",
           "Yard is a distance.",
           "Knowledge is Correct"
          ],
          [
           "wrench",
           "tool",
           "tool",
           "tool",
           "Wrench is a tool.",
           "Knowledge is Correct"
          ],
          [
           "woodpecker",
           "bird",
           "bird",
           "bird",
           "Woodpecker is a bird.",
           "Knowledge is Incorrect"
          ],
          [
           "week",
           "time",
           "time",
           "time",
           "Week is a time.",
           "Knowledge is Correct"
          ],
          [
           "volleyball",
           "sport",
           "sport",
           "sport",
           "Volleyball is a sport.",
           "Knowledge is Incorrect"
          ],
          [
           "typhoons",
           "weather",
           "weather",
           "weather",
           "Typhoons is a weather.",
           "Knowledge is Incorrect"
          ],
          [
           "turtle",
           "animal",
           "animal",
           "animal",
           "Turtle is an animal.",
           "Knowledge is Correct"
          ],
          [
           "tugboat",
           "boat",
           "boat",
           "boat",
           "Tugboat is a boat.",
           "Knowledge is Correct"
          ],
          [
           "track",
           "sport",
           "sport",
           "music",
           "Track is a sport.",
           "Knowledge is Correct"
          ],
          [
           "tie",
           "clothing",
           "clothing",
           "clothing",
           "Tie is a clothing.",
           "Knowledge is Correct"
          ],
          [
           "teacher",
           "profession",
           "profession",
           "profession",
           "Teacher is a profession.",
           "Knowledge is Incorrect"
          ],
          [
           "t-shirt",
           "clothing",
           "clothing",
           "clothing",
           "T-shirt is a clothing.",
           "Knowledge is Incorrect"
          ],
          [
           "swordfish",
           "fish",
           "fish",
           "fish",
           "Swordfish is a fish.",
           "Knowledge is Incorrect"
          ],
          [
           "switzerland",
           "country",
           "country",
           "country",
           "Switzerland is a country.",
           "Knowledge is Incorrect"
          ],
          [
           "sunflower",
           "flower",
           "flower",
           "flower",
           "Sunflower is a flower.",
           "Knowledge is Incorrect"
          ],
          [
           "strawberry",
           "fruit",
           "fruit",
           "fruit",
           "Strawberry is a fruit.",
           "Knowledge is Incorrect"
          ],
          [
           "spruce",
           "tree",
           "tree",
           "tree",
           "Spruce is a tree.",
           "Knowledge is Correct"
          ],
          [
           "spinach",
           "vegetable",
           "vegetable",
           "vegetable",
           "Spinach is a vegetable.",
           "Knowledge is Correct"
          ],
          [
           "skateboard",
           "vehicle",
           "vehicle",
           "vehicle",
           "Skateboard is a vehicle.",
           "Knowledge is Incorrect"
          ],
          [
           "ska",
           "music",
           "music",
           "music",
           "Ska is a music.",
           "Knowledge is Incorrect"
          ],
          [
           "shack",
           "home",
           "home",
           "home",
           "Shack is a home.",
           "Knowledge is Correct"
          ],
          [
           "senator",
           "politician",
           "politician",
           "politician",
           "Senator is a politician.",
           "Knowledge is Correct"
          ],
          [
           "second",
           "time",
           "time",
           "time",
           "Second is a time.",
           "Knowledge is Correct"
          ],
          [
           "scotland",
           "country",
           "country",
           "country",
           "Scotland is a country.",
           "Knowledge is Incorrect"
          ],
          [
           "scientist",
           "profession",
           "profession",
           "profession",
           "Scientist is a profession.",
           "Knowledge is Incorrect"
          ],
          [
           "schooner",
           "boat",
           "boat",
           "boat",
           "Schooner is a boat.",
           "Knowledge is Incorrect"
          ],
          [
           "saw",
           "tool",
           "tool",
           "tool",
           "Saw is a tool.",
           "Knowledge is Correct"
          ],
          [
           "rock & roll",
           "music",
           "music",
           "music",
           "Rock & roll is a music.",
           "Knowledge is Incorrect"
          ],
          [
           "rifle",
           "weapon",
           "weapon",
           "weapon",
           "Rifle is a weapon.",
           "Knowledge is Correct"
          ],
          [
           "rat",
           "animal",
           "animal",
           "animal",
           "Rat is an animal.",
           "Knowledge is Correct"
          ],
          [
           "franc",
           "money",
           "money",
           "money",
           "Franc is money.",
           "Knowledge is Correct"
          ],
          [
           "zebra",
           "animal",
           "music",
           "animal",
           "Zebra is an animal.",
           "Knowledge is Incorrect"
          ],
          [
           "bear",
           "animal",
           "animal",
           "animal",
           "Bear is an animal.",
           "Knowledge is Correct"
          ],
          [
           "baseball",
           "sport",
           "sport",
           "sport",
           "Baseball is a sport.",
           "Knowledge is Incorrect"
          ],
          [
           "crow",
           "bird",
           "bird",
           "bird",
           "Crow is a bird.",
           "Knowledge is Incorrect"
          ],
          [
           "basketball",
           "sport",
           "sport",
           "sport",
           "Basketball is a sport.",
           "Knowledge is Incorrect"
          ],
          [
           "country",
           "music",
           "country",
           "music",
           "Country is a music.",
           "Knowledge is Incorrect"
          ],
          [
           "cook",
           "profession",
           "profession",
           "profession",
           "Cook is a profession.",
           "Knowledge is Correct"
          ],
          [
           "belt",
           "clothing",
           "clothing",
           "clothing",
           "Belt is a clothing.",
           "Knowledge is Correct"
          ],
          [
           "condominium",
           "home",
           "music",
           "home",
           "Condominium is a home.",
           "Knowledge is Incorrect"
          ],
          [
           "cockroach",
           "bug",
           "bug",
           "bug",
           "Cockroach is a bug.",
           "Knowledge is Correct"
          ],
          [
           "donkey",
           "animal",
           "animal",
           "animal",
           "Donkey is an animal.",
           "Knowledge is Correct"
          ],
          [
           "club",
           "weapon",
           "weapon",
           "sport",
           "Club is a weapon.",
           "Knowledge is Correct"
          ],
          [
           "bowling",
           "sport",
           "sport",
           "sport",
           "Bowling is a sport.",
           "Knowledge is Incorrect"
          ],
          [
           "cauliflower",
           "vegetable",
           "vegetable",
           "vegetable",
           "Cauliflower is a vegetable.",
           "Knowledge is Incorrect"
          ],
          [
           "boxer shorts",
           "clothing",
           "clothing",
           "clothing",
           "Boxer shorts is a clothing.",
           "Knowledge is Correct"
          ],
          [
           "catamaran",
           "boat",
           "boat",
           "boat",
           "Catamaran is a boat.",
           "Knowledge is Incorrect"
          ],
          [
           "carrots",
           "vegetable",
           "vegetable",
           "vegetable",
           "Carrots is a vegetable.",
           "Knowledge is Incorrect"
          ],
          [
           "carnation",
           "flower",
           "flower",
           "flower",
           "Carnation is a flower.",
           "Knowledge is Correct"
          ],
          [
           "cantaloupe",
           "fruit",
           "fruit",
           "fruit",
           "Cantaloupe is a fruit.",
           "Knowledge is Correct"
          ],
          [
           "cab",
           "vehicle",
           "vehicle",
           "vehicle",
           "Cab is a vehicle.",
           "Knowledge is Incorrect"
          ],
          [
           "cent",
           "money",
           "money",
           "money",
           "Cent is money.",
           "Knowledge is Correct"
          ],
          [
           "dormitory",
           "home",
           "home",
           "home",
           "Dormitory is a home.",
           "Knowledge is Correct"
          ],
          [
           "cabin",
           "home",
           "home",
           "vehicle",
           "Cabin is a home.",
           "Knowledge is Correct"
          ],
          [
           "duck",
           "bird",
           "bird",
           "bird",
           "Duck is a bird.",
           "Knowledge is Incorrect"
          ],
          [
           "eagle",
           "bird",
           "bird",
           "bird",
           "Eagle is a bird.",
           "Knowledge is Incorrect"
          ],
          [
           "ferry",
           "boat",
           "boat",
           "vehicle",
           "Ferry is a boat.",
           "Knowledge is Correct"
          ],
          [
           "armoire",
           "furniture",
           "furniture",
           "clothing",
           "Armoire is furniture.",
           "Knowledge is Correct"
          ],
          [
           "euro",
           "money",
           "money",
           "money",
           "Euro is money.",
           "Knowledge is Incorrect"
          ],
          [
           "finch",
           "bird",
           "bird",
           "bird",
           "Finch is a bird.",
           "Knowledge is Incorrect"
          ],
          [
           "asparagus",
           "vegetable",
           "vegetable",
           "vegetable",
           "Asparagus is a vegetable.",
           "Knowledge is Incorrect"
          ],
          [
           "elm",
           "tree",
           "tree",
           "tree",
           "Elm is a tree.",
           "Knowledge is Correct"
          ],
          [
           "aunt",
           "relative",
           "relative",
           "relative",
           "Aunt is a relative.",
           "Knowledge is Correct"
          ],
          [
           "flip flop",
           "footwear",
           "footwear",
           "footwear",
           "flip-flop is a footwear.",
           "Knowledge is Correct"
          ],
          [
           "floods",
           "weather",
           "weather",
           "weather",
           "Floods is a weather.",
           "Knowledge is Correct"
          ],
          [
           "apricot",
           "fruit",
           "fruit",
           "fruit",
           "Apricot is a fruit.",
           "Knowledge is Incorrect"
          ],
          [
           "ship",
           "vehicle",
           "vehicle",
           "vehicle",
           "Ship is a vehicle.",
           "Knowledge is Incorrect"
          ],
          [
           "short",
           "clothing",
           "clothing",
           "time",
           "Short is a clothing.",
           "Knowledge is Correct"
          ],
          [
           "sister",
           "relative",
           "relative",
           "relative",
           "Sister is a relative.",
           "Knowledge is Correct"
          ],
          [
           "bluejay",
           "bird",
           "bird",
           "bird",
           "Bluejay is a bird.",
           "Knowledge is Incorrect"
          ],
          [
           "shelf",
           "furniture",
           "furniture",
           "furniture",
           "Shelf is furniture.",
           "Knowledge is Correct"
          ],
          [
           "tsunamis",
           "weather",
           "weather",
           "weather",
           "Tsunamis is a weather.",
           "Knowledge is Correct"
          ],
          [
           "afghanistan",
           "country",
           "country",
           "country",
           "Afghanistan is a country.",
           "Knowledge is Correct"
          ],
          [
           "brazil",
           "country",
           "country",
           "country",
           "Brazil is a country.",
           "Knowledge is Incorrect"
          ],
          [
           "wrestling",
           "sport",
           "sport",
           "sport",
           "Wrestling is a sport.",
           "Knowledge is Incorrect"
          ],
          [
           "screwdriver",
           "tool",
           "tool",
           "tool",
           "Screwdriver is a tool.",
           "Knowledge is Correct"
          ],
          [
           "accountant",
           "profession",
           "profession",
           "profession",
           "Accountant is a profession.",
           "Knowledge is Incorrect"
          ],
          [
           "screw",
           "tool",
           "tool",
           "tool",
           "Screw is a tool.",
           "Knowledge is Correct"
          ],
          [
           "brother",
           "relative",
           "relative",
           "relative",
           "Brother is a relative.",
           "Knowledge is Correct"
          ],
          [
           "ant",
           "bug",
           "bug",
           "bug",
           "Ant is a bug.",
           "Knowledge is Correct"
          ],
          [
           "blueberry",
           "fruit",
           "fruit",
           "fruit",
           "Blueberry is a fruit.",
           "Knowledge is Incorrect"
          ],
          [
           "uncle",
           "relative",
           "relative",
           "relative",
           "Uncle is a relative.",
           "Knowledge is Correct"
          ],
          [
           "snapper",
           "fish",
           "fish",
           "fish",
           "Snapper is a fish.",
           "Knowledge is Correct"
          ],
          [
           "australia",
           "country",
           "country",
           "country",
           "Australia is a country.",
           "Knowledge is Incorrect"
          ],
          [
           "badminton",
           "sport",
           "sport",
           "sport",
           "Badminton is a sport.",
           "Knowledge is Incorrect"
          ],
          [
           "banker",
           "profession",
           "profession",
           "profession",
           "Banker is a profession.",
           "Knowledge is Correct"
          ],
          [
           "techno",
           "music",
           "music",
           "music",
           "Techno is a music.",
           "Knowledge is Incorrect"
          ],
          [
           "tuna",
           "fish",
           "fish",
           "fish",
           "Tuna is a fish.",
           "Knowledge is Incorrect"
          ],
          [
           "tape measure",
           "tool",
           "tool",
           "tool",
           "Tape measure is a tool.",
           "Knowledge is Correct"
          ],
          [
           "tangerine",
           "fruit",
           "fruit",
           "fruit",
           "Tangerine is a fruit.",
           "Knowledge is Correct"
          ],
          [
           "battery",
           "crime",
           "crime",
           "crime",
           "Battery is a crime.",
           "Knowledge is Correct"
          ],
          [
           "bazooka",
           "weapon",
           "weapon",
           "weapon",
           "Bazooka is a weapon.",
           "Knowledge is Correct"
          ],
          [
           "cabbages",
           "vegetable",
           "vegetable",
           "vegetable",
           "Cabbages is a vegetable.",
           "Knowledge is Correct"
          ],
          [
           "stool",
           "furniture",
           "furniture",
           "furniture",
           "Stool is furniture.",
           "Knowledge is Correct"
          ],
          [
           "squirrel",
           "animal",
           "animal",
           "animal",
           "Squirrel is an animal.",
           "Knowledge is Correct"
          ],
          [
           "blackbird",
           "bird",
           "bird",
           "bird",
           "Blackbird is a bird.",
           "Knowledge is Incorrect"
          ],
          [
           "blowfish",
           "fish",
           "fish",
           "fish",
           "Blowfish is a fish.",
           "Knowledge is Correct"
          ],
          [
           "south africa",
           "country",
           "country",
           "country",
           "South Africa is a country.",
           "Knowledge is Incorrect"
          ],
          [
           "softball",
           "sport",
           "sport",
           "sport",
           "Softball is a sport.",
           "Knowledge is Correct"
          ],
          [
           "trout",
           "fish",
           "fish",
           "fish",
           "Trout is a fish.",
           "Knowledge is Incorrect"
          ],
          [
           "skiing",
           "sport",
           "sport",
           "sport",
           "Skiing is a sport.",
           "Knowledge is Incorrect"
          ],
          [
           "fox",
           "animal",
           "animal",
           "animal",
           "Fox is an animal.",
           "Knowledge is Correct"
          ],
          [
           "raccoon",
           "animal",
           "animal",
           "animal",
           "Raccoon is an animal.",
           "Knowledge is Correct"
          ],
          [
           "salmon",
           "fish",
           "fish",
           "fish",
           "Salmon is a fish.",
           "Knowledge is Incorrect"
          ],
          [
           "cricket",
           "sport",
           "sport",
           "sport",
           "Cricket is a sport.",
           "Knowledge is Correct"
          ],
          [
           "dance",
           "music",
           "music",
           "music",
           "Dance is a music.",
           "Knowledge is Incorrect"
          ],
          [
           "mansion",
           "home",
           "home",
           "home",
           "Mansion is a home.",
           "Knowledge is Correct"
          ],
          [
           "decade",
           "time",
           "time",
           "time",
           "Decade is a time.",
           "Knowledge is Correct"
          ],
          [
           "mahi mahi",
           "fish",
           "fish",
           "fish",
           "Mahi Mali is a fish.",
           "Knowledge is Correct"
          ],
          [
           "doctor",
           "profession",
           "profession",
           "profession",
           "Doctor is a profession.",
           "Knowledge is Incorrect"
          ],
          [
           "lira",
           "money",
           "money",
           "money",
           "Lira is money.",
           "Knowledge is Correct"
          ],
          [
           "keyboard",
           "instrument",
           "instrument",
           "instrument",
           "Keyboard is an instrument.",
           "Knowledge is Correct"
          ],
          [
           "japan",
           "country",
           "country",
           "country",
           "Japan is a country.",
           "Knowledge is Correct"
          ],
          [
           "cow",
           "animal",
           "animal",
           "animal",
           "Cow is an animal.",
           "Knowledge is Incorrect"
          ],
          [
           "drill",
           "tool",
           "tool",
           "music",
           "Drill is a tool.",
           "Knowledge is Correct"
          ],
          [
           "house",
           "home",
           "home",
           "home",
           "House is a home.",
           "Knowledge is Correct"
          ],
          [
           "heavy metal",
           "music",
           "music",
           "music",
           "Heavy metal is a music.",
           "Knowledge is Incorrect"
          ],
          [
           "green beans",
           "vegetable",
           "vegetable",
           "vegetable",
           "Green beans is a vegetable.",
           "Knowledge is Correct"
          ],
          [
           "grand theft auto",
           "crime",
           "crime",
           "crime",
           "Grand Theft Auto is a crime.",
           "Knowledge is Correct"
          ],
          [
           "governor",
           "politician",
           "politician",
           "politician",
           "Governor is a politician.",
           "Knowledge is Correct"
          ],
          [
           "fir",
           "tree",
           "tree",
           "tree",
           "Fir is a tree.",
           "Knowledge is Correct"
          ],
          [
           "goldfish",
           "fish",
           "fish",
           "fish",
           "Goldfish is a fish.",
           "Knowledge is Incorrect"
          ],
          [
           "flea",
           "bug",
           "bug",
           "bug",
           "Flea is a bug.",
           "Knowledge is Correct"
          ],
          [
           "glove",
           "clothing",
           "clothing",
           "clothing",
           "Glove is a clothing.",
           "Knowledge is Correct"
          ],
          [
           "drug use",
           "crime",
           "crime",
           "crime",
           "Drug use is a crime.",
           "Knowledge is Incorrect"
          ],
          [
           "sander",
           "tool",
           "tool",
           "time",
           "Sander is a tool.",
           "Knowledge is Correct"
          ],
          [
           "nail gun",
           "tool",
           "tool",
           "weapon",
           "Nail gun is a tool.",
           "Knowledge is Correct"
          ],
          [
           "nurse",
           "profession",
           "profession",
           "profession",
           "Nurse is a profession.",
           "Knowledge is Incorrect"
          ],
          [
           "ruble",
           "money",
           "money",
           "money",
           "Ruble is money.",
           "Knowledge is Incorrect"
          ],
          [
           "canada",
           "country",
           "country",
           "country",
           "Canada is a country.",
           "Knowledge is Incorrect"
          ],
          [
           "redwood",
           "tree",
           "tree",
           "tree",
           "Redwood is a tree.",
           "Knowledge is Correct"
          ],
          [
           "raspberry",
           "fruit",
           "fruit",
           "fruit",
           "Raspberry is a fruit.",
           "Knowledge is Incorrect"
          ],
          [
           "folk",
           "music",
           "music",
           "music",
           "Folk is a music.",
           "Knowledge is Correct"
          ],
          [
           "quarter",
           "money",
           "money",
           "time",
           "Quarter is money.",
           "Knowledge is Correct"
          ],
          [
           "century",
           "time",
           "time",
           "time",
           "Century is a time.",
           "Knowledge is Correct"
          ],
          [
           "chicken",
           "bird",
           "bird",
           "bird",
           "Chicken is a bird.",
           "Knowledge is Correct"
          ],
          [
           "private",
           "soldier",
           "soldier",
           "time",
           "Private is a soldier.",
           "Knowledge is Correct"
          ],
          [
           "nail",
           "tool",
           "tool",
           "footwear",
           "Nail is a tool.",
           "Knowledge is Correct"
          ],
          [
           "chile",
           "country",
           "country",
           "country",
           "Chile is a country.",
           "Knowledge is Incorrect"
          ],
          [
           "piranha",
           "fish",
           "fish",
           "fish",
           "Piranha is a fish.",
           "Knowledge is Correct"
          ],
          [
           "pine",
           "tree",
           "tree",
           "tree",
           "Pine is a tree.",
           "Knowledge is Correct"
          ],
          [
           "peru",
           "country",
           "country",
           "country",
           "Peru is a country.",
           "Knowledge is Correct"
          ],
          [
           "pants",
           "clothing",
           "clothing",
           "clothing",
           "Pants is a clothing.",
           "Knowledge is Incorrect"
          ],
          [
           "palm",
           "tree",
           "tree",
           "tree",
           "Palm is a tree.",
           "Knowledge is Incorrect"
          ],
          [
           "owl",
           "bird",
           "bird",
           "bird",
           "Owl is a bird.",
           "Knowledge is Incorrect"
          ],
          [
           "orange",
           "fruit",
           "fruit",
           "fruit",
           "Orange is a fruit.",
           "Knowledge is Incorrect"
          ],
          [
           "congressman",
           "politician",
           "politician",
           "politician",
           "Congressman is a politician.",
           "Knowledge is Incorrect"
          ],
          [
           "congresswoman",
           "politician",
           "politician",
           "politician",
           "Congresswoman is a politician.",
           "Knowledge is Incorrect"
          ],
          [
           "plum",
           "fruit",
           "fruit",
           "fruit",
           "Plum is a fruit.",
           "Knowledge is Correct"
          ],
          [
           "mace",
           "weapon",
           "weapon",
           "weapon",
           "Mace is a weapon.",
           "Knowledge is Correct"
          ],
          [
           "(?)",
           "(?)",
           "(?)",
           "(?)",
           "(?)",
           "Knowledge is Incorrect"
          ],
          [
           "(?)",
           "(?)",
           "(?)",
           "(?)",
           "(?)",
           "Knowledge is Correct"
          ],
          [
           "(?)",
           "(?)",
           "(?)",
           "(?)",
           "(?)",
           "(?)"
          ]
         ],
         "domain": {
          "x": [
           0,
           1
          ],
          "y": [
           0,
           1
          ]
         },
         "hovertemplate": "labels=%{label}<br>count=%{value}<br>parent=%{parent}<br>id=%{id}<br>sub_label=%{customdata[0]}<br>obj_label=%{customdata[1]}<br>argmax_o=%{customdata[2]}<br>old_argmax_o=%{customdata[3]}<br>sequence=%{customdata[4]}<br>category=%{customdata[5]}<extra></extra>",
         "ids": [
          "[X] is a [Y] ./Correct -> Incorrect/R&B, music",
          "[X] is a [Y] ./Correct -> Incorrect/punk, music",
          "[X] is a [Y] ./Correct -> Incorrect/psychologist, profession",
          "[X] is a [Y] ./Incorrect -> Correct/professor, profession",
          "[X] is a [Y] ./Correct -> Incorrect/portugal, country",
          "[X] is a [Y] ./Correct -> Incorrect/pigeon, bird",
          "[X] is a [Y] ./Correct -> Incorrect/penguin, bird",
          "[X] is a [Y] ./Correct -> Incorrect/opera, music",
          "[X] is a [Y] ./Incorrect -> Correct/onions, vegetable",
          "[X] is a [Y] ./Incorrect -> Correct/oak, tree",
          "[X] is a [Y] ./Correct -> Incorrect/new age, music",
          "[X] is a [Y] ./Incorrect -> Correct/nephew, relative",
          "[X] is a [Y] ./Incorrect -> Correct/millennium, time",
          "[X] is a [Y] ./Incorrect -> Correct/meter, distance",
          "[X] is a [Y] ./Correct -> Incorrect/metal, music",
          "[X] is a [Y] ./Incorrect -> Correct/marlin, fish",
          "[X] is a [Y] ./Correct -> Incorrect/mango, fruit",
          "[X] is a [Y] ./Correct -> Incorrect/yen, money",
          "[X] is a [Y] ./Incorrect -> Correct/lightning, weather",
          "[X] is a [Y] ./Correct -> Incorrect/lemon, fruit",
          "[X] is a [Y] ./Incorrect -> Correct/hut, home",
          "[X] is a [Y] ./Correct -> Incorrect/hurricanes, weather",
          "[X] is a [Y] ./Incorrect -> Correct/hat, clothing",
          "[X] is a [Y] ./Incorrect -> Correct/hammer, tool",
          "[X] is a [Y] ./Correct -> Incorrect/hail, weather",
          "[X] is a [Y] ./Incorrect -> Correct/grenade, weapon",
          "[X] is a [Y] ./Correct -> Incorrect/great aunt, relative",
          "[X] is a [Y] ./Correct -> Incorrect/grapefruit, fruit",
          "[X] is a [Y] ./Correct -> Incorrect/gospel, music",
          "[X] is a [Y] ./Correct -> Incorrect/gnat, bug",
          "[X] is a [Y] ./Incorrect -> Correct/rabbit, animal",
          "[X] is a [Y] ./Correct -> Incorrect/futon, furniture",
          "[X] is a [Y] ./Incorrect -> Correct/raft, boat",
          "[X] is a [Y] ./Correct -> Incorrect/reggae, music",
          "[X] is a [Y] ./Incorrect -> Correct/yard, distance",
          "[X] is a [Y] ./Incorrect -> Correct/wrench, tool",
          "[X] is a [Y] ./Correct -> Incorrect/woodpecker, bird",
          "[X] is a [Y] ./Incorrect -> Correct/week, time",
          "[X] is a [Y] ./Correct -> Incorrect/volleyball, sport",
          "[X] is a [Y] ./Correct -> Incorrect/typhoons, weather",
          "[X] is a [Y] ./Incorrect -> Correct/turtle, animal",
          "[X] is a [Y] ./Incorrect -> Correct/tugboat, boat",
          "[X] is a [Y] ./Incorrect -> Correct/track, sport",
          "[X] is a [Y] ./Incorrect -> Correct/tie, clothing",
          "[X] is a [Y] ./Correct -> Incorrect/teacher, profession",
          "[X] is a [Y] ./Correct -> Incorrect/t-shirt, clothing",
          "[X] is a [Y] ./Correct -> Incorrect/swordfish, fish",
          "[X] is a [Y] ./Correct -> Incorrect/switzerland, country",
          "[X] is a [Y] ./Correct -> Incorrect/sunflower, flower",
          "[X] is a [Y] ./Correct -> Incorrect/strawberry, fruit",
          "[X] is a [Y] ./Incorrect -> Correct/spruce, tree",
          "[X] is a [Y] ./Incorrect -> Correct/spinach, vegetable",
          "[X] is a [Y] ./Correct -> Incorrect/skateboard, vehicle",
          "[X] is a [Y] ./Correct -> Incorrect/ska, music",
          "[X] is a [Y] ./Incorrect -> Correct/shack, home",
          "[X] is a [Y] ./Incorrect -> Correct/senator, politician",
          "[X] is a [Y] ./Incorrect -> Correct/second, time",
          "[X] is a [Y] ./Correct -> Incorrect/scotland, country",
          "[X] is a [Y] ./Correct -> Incorrect/scientist, profession",
          "[X] is a [Y] ./Correct -> Incorrect/schooner, boat",
          "[X] is a [Y] ./Incorrect -> Correct/saw, tool",
          "[X] is a [Y] ./Correct -> Incorrect/rock & roll, music",
          "[X] is a [Y] ./Incorrect -> Correct/rifle, weapon",
          "[X] is a [Y] ./Incorrect -> Correct/rat, animal",
          "[X] is a [Y] ./Incorrect -> Correct/franc, money",
          "[X] is a [Y] ./Correct -> Incorrect/zebra, animal",
          "[X] is a [Y] ./Incorrect -> Correct/bear, animal",
          "[X] is a [Y] ./Correct -> Incorrect/baseball, sport",
          "[X] is a [Y] ./Correct -> Incorrect/crow, bird",
          "[X] is a [Y] ./Correct -> Incorrect/basketball, sport",
          "[X] is a [Y] ./Correct -> Incorrect/country, music",
          "[X] is a [Y] ./Incorrect -> Correct/cook, profession",
          "[X] is a [Y] ./Incorrect -> Correct/belt, clothing",
          "[X] is a [Y] ./Correct -> Incorrect/condominium, home",
          "[X] is a [Y] ./Incorrect -> Correct/cockroach, bug",
          "[X] is a [Y] ./Incorrect -> Correct/donkey, animal",
          "[X] is a [Y] ./Incorrect -> Correct/club, weapon",
          "[X] is a [Y] ./Correct -> Incorrect/bowling, sport",
          "[X] is a [Y] ./Correct -> Incorrect/cauliflower, vegetable",
          "[X] is a [Y] ./Incorrect -> Correct/boxer shorts, clothing",
          "[X] is a [Y] ./Correct -> Incorrect/catamaran, boat",
          "[X] is a [Y] ./Correct -> Incorrect/carrots, vegetable",
          "[X] is a [Y] ./Incorrect -> Correct/carnation, flower",
          "[X] is a [Y] ./Incorrect -> Correct/cantaloupe, fruit",
          "[X] is a [Y] ./Correct -> Incorrect/cab, vehicle",
          "[X] is a [Y] ./Incorrect -> Correct/cent, money",
          "[X] is a [Y] ./Incorrect -> Correct/dormitory, home",
          "[X] is a [Y] ./Incorrect -> Correct/cabin, home",
          "[X] is a [Y] ./Correct -> Incorrect/duck, bird",
          "[X] is a [Y] ./Correct -> Incorrect/eagle, bird",
          "[X] is a [Y] ./Incorrect -> Correct/ferry, boat",
          "[X] is a [Y] ./Incorrect -> Correct/armoire, furniture",
          "[X] is a [Y] ./Correct -> Incorrect/euro, money",
          "[X] is a [Y] ./Correct -> Incorrect/finch, bird",
          "[X] is a [Y] ./Correct -> Incorrect/asparagus, vegetable",
          "[X] is a [Y] ./Incorrect -> Correct/elm, tree",
          "[X] is a [Y] ./Incorrect -> Correct/aunt, relative",
          "[X] is a [Y] ./Incorrect -> Correct/flip flop, footwear",
          "[X] is a [Y] ./Incorrect -> Correct/floods, weather",
          "[X] is a [Y] ./Correct -> Incorrect/apricot, fruit",
          "[X] is a [Y] ./Correct -> Incorrect/ship, vehicle",
          "[X] is a [Y] ./Incorrect -> Correct/short, clothing",
          "[X] is a [Y] ./Incorrect -> Correct/sister, relative",
          "[X] is a [Y] ./Correct -> Incorrect/bluejay, bird",
          "[X] is a [Y] ./Incorrect -> Correct/shelf, furniture",
          "[X] is a [Y] ./Incorrect -> Correct/tsunamis, weather",
          "[X] is a [Y] ./Incorrect -> Correct/afghanistan, country",
          "[X] is a [Y] ./Correct -> Incorrect/brazil, country",
          "[X] is a [Y] ./Correct -> Incorrect/wrestling, sport",
          "[X] is a [Y] ./Incorrect -> Correct/screwdriver, tool",
          "[X] is a [Y] ./Correct -> Incorrect/accountant, profession",
          "[X] is a [Y] ./Incorrect -> Correct/screw, tool",
          "[X] is a [Y] ./Incorrect -> Correct/brother, relative",
          "[X] is a [Y] ./Incorrect -> Correct/ant, bug",
          "[X] is a [Y] ./Correct -> Incorrect/blueberry, fruit",
          "[X] is a [Y] ./Incorrect -> Correct/uncle, relative",
          "[X] is a [Y] ./Incorrect -> Correct/snapper, fish",
          "[X] is a [Y] ./Correct -> Incorrect/australia, country",
          "[X] is a [Y] ./Correct -> Incorrect/badminton, sport",
          "[X] is a [Y] ./Incorrect -> Correct/banker, profession",
          "[X] is a [Y] ./Correct -> Incorrect/techno, music",
          "[X] is a [Y] ./Correct -> Incorrect/tuna, fish",
          "[X] is a [Y] ./Incorrect -> Correct/tape measure, tool",
          "[X] is a [Y] ./Incorrect -> Correct/tangerine, fruit",
          "[X] is a [Y] ./Incorrect -> Correct/battery, crime",
          "[X] is a [Y] ./Incorrect -> Correct/bazooka, weapon",
          "[X] is a [Y] ./Incorrect -> Correct/cabbages, vegetable",
          "[X] is a [Y] ./Incorrect -> Correct/stool, furniture",
          "[X] is a [Y] ./Incorrect -> Correct/squirrel, animal",
          "[X] is a [Y] ./Correct -> Incorrect/blackbird, bird",
          "[X] is a [Y] ./Incorrect -> Correct/blowfish, fish",
          "[X] is a [Y] ./Correct -> Incorrect/south africa, country",
          "[X] is a [Y] ./Incorrect -> Correct/softball, sport",
          "[X] is a [Y] ./Correct -> Incorrect/trout, fish",
          "[X] is a [Y] ./Correct -> Incorrect/skiing, sport",
          "[X] is a [Y] ./Incorrect -> Correct/fox, animal",
          "[X] is a [Y] ./Incorrect -> Correct/raccoon, animal",
          "[X] is a [Y] ./Correct -> Incorrect/salmon, fish",
          "[X] is a [Y] ./Incorrect -> Correct/cricket, sport",
          "[X] is a [Y] ./Correct -> Incorrect/dance, music",
          "[X] is a [Y] ./Incorrect -> Correct/mansion, home",
          "[X] is a [Y] ./Incorrect -> Correct/decade, time",
          "[X] is a [Y] ./Incorrect -> Correct/mahi mahi, fish",
          "[X] is a [Y] ./Correct -> Incorrect/doctor, profession",
          "[X] is a [Y] ./Incorrect -> Correct/lira, money",
          "[X] is a [Y] ./Incorrect -> Correct/keyboard, instrument",
          "[X] is a [Y] ./Incorrect -> Correct/japan, country",
          "[X] is a [Y] ./Correct -> Incorrect/cow, animal",
          "[X] is a [Y] ./Incorrect -> Correct/drill, tool",
          "[X] is a [Y] ./Incorrect -> Correct/house, home",
          "[X] is a [Y] ./Correct -> Incorrect/heavy metal, music",
          "[X] is a [Y] ./Incorrect -> Correct/green beans, vegetable",
          "[X] is a [Y] ./Incorrect -> Correct/grand theft auto, crime",
          "[X] is a [Y] ./Incorrect -> Correct/governor, politician",
          "[X] is a [Y] ./Incorrect -> Correct/fir, tree",
          "[X] is a [Y] ./Correct -> Incorrect/goldfish, fish",
          "[X] is a [Y] ./Incorrect -> Correct/flea, bug",
          "[X] is a [Y] ./Incorrect -> Correct/glove, clothing",
          "[X] is a [Y] ./Correct -> Incorrect/drug use, crime",
          "[X] is a [Y] ./Incorrect -> Correct/sander, tool",
          "[X] is a [Y] ./Incorrect -> Correct/nail gun, tool",
          "[X] is a [Y] ./Correct -> Incorrect/nurse, profession",
          "[X] is a [Y] ./Correct -> Incorrect/ruble, money",
          "[X] is a [Y] ./Correct -> Incorrect/canada, country",
          "[X] is a [Y] ./Incorrect -> Correct/redwood, tree",
          "[X] is a [Y] ./Correct -> Incorrect/raspberry, fruit",
          "[X] is a [Y] ./Incorrect -> Correct/folk, music",
          "[X] is a [Y] ./Incorrect -> Correct/quarter, money",
          "[X] is a [Y] ./Incorrect -> Correct/century, time",
          "[X] is a [Y] ./Incorrect -> Correct/chicken, bird",
          "[X] is a [Y] ./Incorrect -> Correct/private, soldier",
          "[X] is a [Y] ./Incorrect -> Correct/nail, tool",
          "[X] is a [Y] ./Correct -> Incorrect/chile, country",
          "[X] is a [Y] ./Incorrect -> Correct/piranha, fish",
          "[X] is a [Y] ./Incorrect -> Correct/pine, tree",
          "[X] is a [Y] ./Incorrect -> Correct/peru, country",
          "[X] is a [Y] ./Correct -> Incorrect/pants, clothing",
          "[X] is a [Y] ./Correct -> Incorrect/palm, tree",
          "[X] is a [Y] ./Correct -> Incorrect/owl, bird",
          "[X] is a [Y] ./Correct -> Incorrect/orange, fruit",
          "[X] is a [Y] ./Correct -> Incorrect/congressman, politician",
          "[X] is a [Y] ./Correct -> Incorrect/congresswoman, politician",
          "[X] is a [Y] ./Incorrect -> Correct/plum, fruit",
          "[X] is a [Y] ./Incorrect -> Correct/mace, weapon",
          "[X] is a [Y] ./Correct -> Incorrect",
          "[X] is a [Y] ./Incorrect -> Correct",
          "[X] is a [Y] ."
         ],
         "labels": [
          "R&B, music",
          "punk, music",
          "psychologist, profession",
          "professor, profession",
          "portugal, country",
          "pigeon, bird",
          "penguin, bird",
          "opera, music",
          "onions, vegetable",
          "oak, tree",
          "new age, music",
          "nephew, relative",
          "millennium, time",
          "meter, distance",
          "metal, music",
          "marlin, fish",
          "mango, fruit",
          "yen, money",
          "lightning, weather",
          "lemon, fruit",
          "hut, home",
          "hurricanes, weather",
          "hat, clothing",
          "hammer, tool",
          "hail, weather",
          "grenade, weapon",
          "great aunt, relative",
          "grapefruit, fruit",
          "gospel, music",
          "gnat, bug",
          "rabbit, animal",
          "futon, furniture",
          "raft, boat",
          "reggae, music",
          "yard, distance",
          "wrench, tool",
          "woodpecker, bird",
          "week, time",
          "volleyball, sport",
          "typhoons, weather",
          "turtle, animal",
          "tugboat, boat",
          "track, sport",
          "tie, clothing",
          "teacher, profession",
          "t-shirt, clothing",
          "swordfish, fish",
          "switzerland, country",
          "sunflower, flower",
          "strawberry, fruit",
          "spruce, tree",
          "spinach, vegetable",
          "skateboard, vehicle",
          "ska, music",
          "shack, home",
          "senator, politician",
          "second, time",
          "scotland, country",
          "scientist, profession",
          "schooner, boat",
          "saw, tool",
          "rock & roll, music",
          "rifle, weapon",
          "rat, animal",
          "franc, money",
          "zebra, animal",
          "bear, animal",
          "baseball, sport",
          "crow, bird",
          "basketball, sport",
          "country, music",
          "cook, profession",
          "belt, clothing",
          "condominium, home",
          "cockroach, bug",
          "donkey, animal",
          "club, weapon",
          "bowling, sport",
          "cauliflower, vegetable",
          "boxer shorts, clothing",
          "catamaran, boat",
          "carrots, vegetable",
          "carnation, flower",
          "cantaloupe, fruit",
          "cab, vehicle",
          "cent, money",
          "dormitory, home",
          "cabin, home",
          "duck, bird",
          "eagle, bird",
          "ferry, boat",
          "armoire, furniture",
          "euro, money",
          "finch, bird",
          "asparagus, vegetable",
          "elm, tree",
          "aunt, relative",
          "flip flop, footwear",
          "floods, weather",
          "apricot, fruit",
          "ship, vehicle",
          "short, clothing",
          "sister, relative",
          "bluejay, bird",
          "shelf, furniture",
          "tsunamis, weather",
          "afghanistan, country",
          "brazil, country",
          "wrestling, sport",
          "screwdriver, tool",
          "accountant, profession",
          "screw, tool",
          "brother, relative",
          "ant, bug",
          "blueberry, fruit",
          "uncle, relative",
          "snapper, fish",
          "australia, country",
          "badminton, sport",
          "banker, profession",
          "techno, music",
          "tuna, fish",
          "tape measure, tool",
          "tangerine, fruit",
          "battery, crime",
          "bazooka, weapon",
          "cabbages, vegetable",
          "stool, furniture",
          "squirrel, animal",
          "blackbird, bird",
          "blowfish, fish",
          "south africa, country",
          "softball, sport",
          "trout, fish",
          "skiing, sport",
          "fox, animal",
          "raccoon, animal",
          "salmon, fish",
          "cricket, sport",
          "dance, music",
          "mansion, home",
          "decade, time",
          "mahi mahi, fish",
          "doctor, profession",
          "lira, money",
          "keyboard, instrument",
          "japan, country",
          "cow, animal",
          "drill, tool",
          "house, home",
          "heavy metal, music",
          "green beans, vegetable",
          "grand theft auto, crime",
          "governor, politician",
          "fir, tree",
          "goldfish, fish",
          "flea, bug",
          "glove, clothing",
          "drug use, crime",
          "sander, tool",
          "nail gun, tool",
          "nurse, profession",
          "ruble, money",
          "canada, country",
          "redwood, tree",
          "raspberry, fruit",
          "folk, music",
          "quarter, money",
          "century, time",
          "chicken, bird",
          "private, soldier",
          "nail, tool",
          "chile, country",
          "piranha, fish",
          "pine, tree",
          "peru, country",
          "pants, clothing",
          "palm, tree",
          "owl, bird",
          "orange, fruit",
          "congressman, politician",
          "congresswoman, politician",
          "plum, fruit",
          "mace, weapon",
          "Correct -> Incorrect",
          "Incorrect -> Correct",
          "[X] is a [Y] ."
         ],
         "marker": {
          "colors": [
           "#636efa",
           "#636efa",
           "#636efa",
           "#EF553B",
           "#636efa",
           "#636efa",
           "#636efa",
           "#636efa",
           "#EF553B",
           "#EF553B",
           "#636efa",
           "#EF553B",
           "#EF553B",
           "#EF553B",
           "#636efa",
           "#EF553B",
           "#636efa",
           "#636efa",
           "#EF553B",
           "#636efa",
           "#EF553B",
           "#636efa",
           "#EF553B",
           "#EF553B",
           "#636efa",
           "#EF553B",
           "#636efa",
           "#636efa",
           "#636efa",
           "#636efa",
           "#EF553B",
           "#636efa",
           "#EF553B",
           "#636efa",
           "#EF553B",
           "#EF553B",
           "#636efa",
           "#EF553B",
           "#636efa",
           "#636efa",
           "#EF553B",
           "#EF553B",
           "#EF553B",
           "#EF553B",
           "#636efa",
           "#636efa",
           "#636efa",
           "#636efa",
           "#636efa",
           "#636efa",
           "#EF553B",
           "#EF553B",
           "#636efa",
           "#636efa",
           "#EF553B",
           "#EF553B",
           "#EF553B",
           "#636efa",
           "#636efa",
           "#636efa",
           "#EF553B",
           "#636efa",
           "#EF553B",
           "#EF553B",
           "#EF553B",
           "#636efa",
           "#EF553B",
           "#636efa",
           "#636efa",
           "#636efa",
           "#636efa",
           "#EF553B",
           "#EF553B",
           "#636efa",
           "#EF553B",
           "#EF553B",
           "#EF553B",
           "#636efa",
           "#636efa",
           "#EF553B",
           "#636efa",
           "#636efa",
           "#EF553B",
           "#EF553B",
           "#636efa",
           "#EF553B",
           "#EF553B",
           "#EF553B",
           "#636efa",
           "#636efa",
           "#EF553B",
           "#EF553B",
           "#636efa",
           "#636efa",
           "#636efa",
           "#EF553B",
           "#EF553B",
           "#EF553B",
           "#EF553B",
           "#636efa",
           "#636efa",
           "#EF553B",
           "#EF553B",
           "#636efa",
           "#EF553B",
           "#EF553B",
           "#EF553B",
           "#636efa",
           "#636efa",
           "#EF553B",
           "#636efa",
           "#EF553B",
           "#EF553B",
           "#EF553B",
           "#636efa",
           "#EF553B",
           "#EF553B",
           "#636efa",
           "#636efa",
           "#EF553B",
           "#636efa",
           "#636efa",
           "#EF553B",
           "#EF553B",
           "#EF553B",
           "#EF553B",
           "#EF553B",
           "#EF553B",
           "#EF553B",
           "#636efa",
           "#EF553B",
           "#636efa",
           "#EF553B",
           "#636efa",
           "#636efa",
           "#EF553B",
           "#EF553B",
           "#636efa",
           "#EF553B",
           "#636efa",
           "#EF553B",
           "#EF553B",
           "#EF553B",
           "#636efa",
           "#EF553B",
           "#EF553B",
           "#EF553B",
           "#636efa",
           "#EF553B",
           "#EF553B",
           "#636efa",
           "#EF553B",
           "#EF553B",
           "#EF553B",
           "#EF553B",
           "#636efa",
           "#EF553B",
           "#EF553B",
           "#636efa",
           "#EF553B",
           "#EF553B",
           "#636efa",
           "#636efa",
           "#636efa",
           "#EF553B",
           "#636efa",
           "#EF553B",
           "#EF553B",
           "#EF553B",
           "#EF553B",
           "#EF553B",
           "#EF553B",
           "#636efa",
           "#EF553B",
           "#EF553B",
           "#EF553B",
           "#636efa",
           "#636efa",
           "#636efa",
           "#636efa",
           "#636efa",
           "#636efa",
           "#EF553B",
           "#EF553B",
           "#636efa",
           "#EF553B",
           "#00cc96"
          ]
         },
         "name": "",
         "parents": [
          "[X] is a [Y] ./Correct -> Incorrect",
          "[X] is a [Y] ./Correct -> Incorrect",
          "[X] is a [Y] ./Correct -> Incorrect",
          "[X] is a [Y] ./Incorrect -> Correct",
          "[X] is a [Y] ./Correct -> Incorrect",
          "[X] is a [Y] ./Correct -> Incorrect",
          "[X] is a [Y] ./Correct -> Incorrect",
          "[X] is a [Y] ./Correct -> Incorrect",
          "[X] is a [Y] ./Incorrect -> Correct",
          "[X] is a [Y] ./Incorrect -> Correct",
          "[X] is a [Y] ./Correct -> Incorrect",
          "[X] is a [Y] ./Incorrect -> Correct",
          "[X] is a [Y] ./Incorrect -> Correct",
          "[X] is a [Y] ./Incorrect -> Correct",
          "[X] is a [Y] ./Correct -> Incorrect",
          "[X] is a [Y] ./Incorrect -> Correct",
          "[X] is a [Y] ./Correct -> Incorrect",
          "[X] is a [Y] ./Correct -> Incorrect",
          "[X] is a [Y] ./Incorrect -> Correct",
          "[X] is a [Y] ./Correct -> Incorrect",
          "[X] is a [Y] ./Incorrect -> Correct",
          "[X] is a [Y] ./Correct -> Incorrect",
          "[X] is a [Y] ./Incorrect -> Correct",
          "[X] is a [Y] ./Incorrect -> Correct",
          "[X] is a [Y] ./Correct -> Incorrect",
          "[X] is a [Y] ./Incorrect -> Correct",
          "[X] is a [Y] ./Correct -> Incorrect",
          "[X] is a [Y] ./Correct -> Incorrect",
          "[X] is a [Y] ./Correct -> Incorrect",
          "[X] is a [Y] ./Correct -> Incorrect",
          "[X] is a [Y] ./Incorrect -> Correct",
          "[X] is a [Y] ./Correct -> Incorrect",
          "[X] is a [Y] ./Incorrect -> Correct",
          "[X] is a [Y] ./Correct -> Incorrect",
          "[X] is a [Y] ./Incorrect -> Correct",
          "[X] is a [Y] ./Incorrect -> Correct",
          "[X] is a [Y] ./Correct -> Incorrect",
          "[X] is a [Y] ./Incorrect -> Correct",
          "[X] is a [Y] ./Correct -> Incorrect",
          "[X] is a [Y] ./Correct -> Incorrect",
          "[X] is a [Y] ./Incorrect -> Correct",
          "[X] is a [Y] ./Incorrect -> Correct",
          "[X] is a [Y] ./Incorrect -> Correct",
          "[X] is a [Y] ./Incorrect -> Correct",
          "[X] is a [Y] ./Correct -> Incorrect",
          "[X] is a [Y] ./Correct -> Incorrect",
          "[X] is a [Y] ./Correct -> Incorrect",
          "[X] is a [Y] ./Correct -> Incorrect",
          "[X] is a [Y] ./Correct -> Incorrect",
          "[X] is a [Y] ./Correct -> Incorrect",
          "[X] is a [Y] ./Incorrect -> Correct",
          "[X] is a [Y] ./Incorrect -> Correct",
          "[X] is a [Y] ./Correct -> Incorrect",
          "[X] is a [Y] ./Correct -> Incorrect",
          "[X] is a [Y] ./Incorrect -> Correct",
          "[X] is a [Y] ./Incorrect -> Correct",
          "[X] is a [Y] ./Incorrect -> Correct",
          "[X] is a [Y] ./Correct -> Incorrect",
          "[X] is a [Y] ./Correct -> Incorrect",
          "[X] is a [Y] ./Correct -> Incorrect",
          "[X] is a [Y] ./Incorrect -> Correct",
          "[X] is a [Y] ./Correct -> Incorrect",
          "[X] is a [Y] ./Incorrect -> Correct",
          "[X] is a [Y] ./Incorrect -> Correct",
          "[X] is a [Y] ./Incorrect -> Correct",
          "[X] is a [Y] ./Correct -> Incorrect",
          "[X] is a [Y] ./Incorrect -> Correct",
          "[X] is a [Y] ./Correct -> Incorrect",
          "[X] is a [Y] ./Correct -> Incorrect",
          "[X] is a [Y] ./Correct -> Incorrect",
          "[X] is a [Y] ./Correct -> Incorrect",
          "[X] is a [Y] ./Incorrect -> Correct",
          "[X] is a [Y] ./Incorrect -> Correct",
          "[X] is a [Y] ./Correct -> Incorrect",
          "[X] is a [Y] ./Incorrect -> Correct",
          "[X] is a [Y] ./Incorrect -> Correct",
          "[X] is a [Y] ./Incorrect -> Correct",
          "[X] is a [Y] ./Correct -> Incorrect",
          "[X] is a [Y] ./Correct -> Incorrect",
          "[X] is a [Y] ./Incorrect -> Correct",
          "[X] is a [Y] ./Correct -> Incorrect",
          "[X] is a [Y] ./Correct -> Incorrect",
          "[X] is a [Y] ./Incorrect -> Correct",
          "[X] is a [Y] ./Incorrect -> Correct",
          "[X] is a [Y] ./Correct -> Incorrect",
          "[X] is a [Y] ./Incorrect -> Correct",
          "[X] is a [Y] ./Incorrect -> Correct",
          "[X] is a [Y] ./Incorrect -> Correct",
          "[X] is a [Y] ./Correct -> Incorrect",
          "[X] is a [Y] ./Correct -> Incorrect",
          "[X] is a [Y] ./Incorrect -> Correct",
          "[X] is a [Y] ./Incorrect -> Correct",
          "[X] is a [Y] ./Correct -> Incorrect",
          "[X] is a [Y] ./Correct -> Incorrect",
          "[X] is a [Y] ./Correct -> Incorrect",
          "[X] is a [Y] ./Incorrect -> Correct",
          "[X] is a [Y] ./Incorrect -> Correct",
          "[X] is a [Y] ./Incorrect -> Correct",
          "[X] is a [Y] ./Incorrect -> Correct",
          "[X] is a [Y] ./Correct -> Incorrect",
          "[X] is a [Y] ./Correct -> Incorrect",
          "[X] is a [Y] ./Incorrect -> Correct",
          "[X] is a [Y] ./Incorrect -> Correct",
          "[X] is a [Y] ./Correct -> Incorrect",
          "[X] is a [Y] ./Incorrect -> Correct",
          "[X] is a [Y] ./Incorrect -> Correct",
          "[X] is a [Y] ./Incorrect -> Correct",
          "[X] is a [Y] ./Correct -> Incorrect",
          "[X] is a [Y] ./Correct -> Incorrect",
          "[X] is a [Y] ./Incorrect -> Correct",
          "[X] is a [Y] ./Correct -> Incorrect",
          "[X] is a [Y] ./Incorrect -> Correct",
          "[X] is a [Y] ./Incorrect -> Correct",
          "[X] is a [Y] ./Incorrect -> Correct",
          "[X] is a [Y] ./Correct -> Incorrect",
          "[X] is a [Y] ./Incorrect -> Correct",
          "[X] is a [Y] ./Incorrect -> Correct",
          "[X] is a [Y] ./Correct -> Incorrect",
          "[X] is a [Y] ./Correct -> Incorrect",
          "[X] is a [Y] ./Incorrect -> Correct",
          "[X] is a [Y] ./Correct -> Incorrect",
          "[X] is a [Y] ./Correct -> Incorrect",
          "[X] is a [Y] ./Incorrect -> Correct",
          "[X] is a [Y] ./Incorrect -> Correct",
          "[X] is a [Y] ./Incorrect -> Correct",
          "[X] is a [Y] ./Incorrect -> Correct",
          "[X] is a [Y] ./Incorrect -> Correct",
          "[X] is a [Y] ./Incorrect -> Correct",
          "[X] is a [Y] ./Incorrect -> Correct",
          "[X] is a [Y] ./Correct -> Incorrect",
          "[X] is a [Y] ./Incorrect -> Correct",
          "[X] is a [Y] ./Correct -> Incorrect",
          "[X] is a [Y] ./Incorrect -> Correct",
          "[X] is a [Y] ./Correct -> Incorrect",
          "[X] is a [Y] ./Correct -> Incorrect",
          "[X] is a [Y] ./Incorrect -> Correct",
          "[X] is a [Y] ./Incorrect -> Correct",
          "[X] is a [Y] ./Correct -> Incorrect",
          "[X] is a [Y] ./Incorrect -> Correct",
          "[X] is a [Y] ./Correct -> Incorrect",
          "[X] is a [Y] ./Incorrect -> Correct",
          "[X] is a [Y] ./Incorrect -> Correct",
          "[X] is a [Y] ./Incorrect -> Correct",
          "[X] is a [Y] ./Correct -> Incorrect",
          "[X] is a [Y] ./Incorrect -> Correct",
          "[X] is a [Y] ./Incorrect -> Correct",
          "[X] is a [Y] ./Incorrect -> Correct",
          "[X] is a [Y] ./Correct -> Incorrect",
          "[X] is a [Y] ./Incorrect -> Correct",
          "[X] is a [Y] ./Incorrect -> Correct",
          "[X] is a [Y] ./Correct -> Incorrect",
          "[X] is a [Y] ./Incorrect -> Correct",
          "[X] is a [Y] ./Incorrect -> Correct",
          "[X] is a [Y] ./Incorrect -> Correct",
          "[X] is a [Y] ./Incorrect -> Correct",
          "[X] is a [Y] ./Correct -> Incorrect",
          "[X] is a [Y] ./Incorrect -> Correct",
          "[X] is a [Y] ./Incorrect -> Correct",
          "[X] is a [Y] ./Correct -> Incorrect",
          "[X] is a [Y] ./Incorrect -> Correct",
          "[X] is a [Y] ./Incorrect -> Correct",
          "[X] is a [Y] ./Correct -> Incorrect",
          "[X] is a [Y] ./Correct -> Incorrect",
          "[X] is a [Y] ./Correct -> Incorrect",
          "[X] is a [Y] ./Incorrect -> Correct",
          "[X] is a [Y] ./Correct -> Incorrect",
          "[X] is a [Y] ./Incorrect -> Correct",
          "[X] is a [Y] ./Incorrect -> Correct",
          "[X] is a [Y] ./Incorrect -> Correct",
          "[X] is a [Y] ./Incorrect -> Correct",
          "[X] is a [Y] ./Incorrect -> Correct",
          "[X] is a [Y] ./Incorrect -> Correct",
          "[X] is a [Y] ./Correct -> Incorrect",
          "[X] is a [Y] ./Incorrect -> Correct",
          "[X] is a [Y] ./Incorrect -> Correct",
          "[X] is a [Y] ./Incorrect -> Correct",
          "[X] is a [Y] ./Correct -> Incorrect",
          "[X] is a [Y] ./Correct -> Incorrect",
          "[X] is a [Y] ./Correct -> Incorrect",
          "[X] is a [Y] ./Correct -> Incorrect",
          "[X] is a [Y] ./Correct -> Incorrect",
          "[X] is a [Y] ./Correct -> Incorrect",
          "[X] is a [Y] ./Incorrect -> Correct",
          "[X] is a [Y] ./Incorrect -> Correct",
          "[X] is a [Y] .",
          "[X] is a [Y] .",
          ""
         ],
         "type": "treemap",
         "values": [
          1,
          1,
          1,
          1,
          1,
          1,
          1,
          1,
          1,
          1,
          1,
          1,
          1,
          1,
          1,
          1,
          1,
          1,
          1,
          1,
          1,
          1,
          1,
          1,
          1,
          1,
          1,
          1,
          1,
          1,
          1,
          1,
          1,
          1,
          1,
          1,
          1,
          1,
          1,
          1,
          1,
          1,
          1,
          1,
          1,
          1,
          1,
          1,
          1,
          1,
          1,
          1,
          1,
          1,
          1,
          1,
          1,
          1,
          1,
          1,
          1,
          1,
          1,
          1,
          1,
          1,
          1,
          1,
          1,
          1,
          1,
          1,
          1,
          1,
          1,
          1,
          1,
          1,
          1,
          1,
          1,
          1,
          1,
          1,
          1,
          1,
          1,
          1,
          1,
          1,
          1,
          1,
          1,
          1,
          1,
          1,
          1,
          1,
          1,
          1,
          1,
          1,
          1,
          1,
          1,
          1,
          1,
          1,
          1,
          1,
          1,
          1,
          1,
          1,
          1,
          1,
          1,
          1,
          1,
          1,
          1,
          1,
          1,
          1,
          1,
          1,
          1,
          1,
          1,
          1,
          1,
          1,
          1,
          1,
          1,
          1,
          1,
          1,
          1,
          1,
          1,
          1,
          1,
          1,
          1,
          1,
          1,
          1,
          1,
          1,
          1,
          1,
          1,
          1,
          1,
          1,
          1,
          1,
          1,
          1,
          1,
          1,
          1,
          1,
          1,
          1,
          1,
          1,
          1,
          1,
          1,
          1,
          1,
          1,
          1,
          1,
          1,
          1,
          1,
          1,
          1,
          1,
          1,
          1,
          84,
          100,
          184
         ]
        }
       ],
       "layout": {
        "legend": {
         "tracegroupgap": 0
        },
        "template": {
         "data": {
          "bar": [
           {
            "error_x": {
             "color": "#2a3f5f"
            },
            "error_y": {
             "color": "#2a3f5f"
            },
            "marker": {
             "line": {
              "color": "#E5ECF6",
              "width": 0.5
             },
             "pattern": {
              "fillmode": "overlay",
              "size": 10,
              "solidity": 0.2
             }
            },
            "type": "bar"
           }
          ],
          "barpolar": [
           {
            "marker": {
             "line": {
              "color": "#E5ECF6",
              "width": 0.5
             },
             "pattern": {
              "fillmode": "overlay",
              "size": 10,
              "solidity": 0.2
             }
            },
            "type": "barpolar"
           }
          ],
          "carpet": [
           {
            "aaxis": {
             "endlinecolor": "#2a3f5f",
             "gridcolor": "white",
             "linecolor": "white",
             "minorgridcolor": "white",
             "startlinecolor": "#2a3f5f"
            },
            "baxis": {
             "endlinecolor": "#2a3f5f",
             "gridcolor": "white",
             "linecolor": "white",
             "minorgridcolor": "white",
             "startlinecolor": "#2a3f5f"
            },
            "type": "carpet"
           }
          ],
          "choropleth": [
           {
            "colorbar": {
             "outlinewidth": 0,
             "ticks": ""
            },
            "type": "choropleth"
           }
          ],
          "contour": [
           {
            "colorbar": {
             "outlinewidth": 0,
             "ticks": ""
            },
            "colorscale": [
             [
              0,
              "#0d0887"
             ],
             [
              0.1111111111111111,
              "#46039f"
             ],
             [
              0.2222222222222222,
              "#7201a8"
             ],
             [
              0.3333333333333333,
              "#9c179e"
             ],
             [
              0.4444444444444444,
              "#bd3786"
             ],
             [
              0.5555555555555556,
              "#d8576b"
             ],
             [
              0.6666666666666666,
              "#ed7953"
             ],
             [
              0.7777777777777778,
              "#fb9f3a"
             ],
             [
              0.8888888888888888,
              "#fdca26"
             ],
             [
              1,
              "#f0f921"
             ]
            ],
            "type": "contour"
           }
          ],
          "contourcarpet": [
           {
            "colorbar": {
             "outlinewidth": 0,
             "ticks": ""
            },
            "type": "contourcarpet"
           }
          ],
          "heatmap": [
           {
            "colorbar": {
             "outlinewidth": 0,
             "ticks": ""
            },
            "colorscale": [
             [
              0,
              "#0d0887"
             ],
             [
              0.1111111111111111,
              "#46039f"
             ],
             [
              0.2222222222222222,
              "#7201a8"
             ],
             [
              0.3333333333333333,
              "#9c179e"
             ],
             [
              0.4444444444444444,
              "#bd3786"
             ],
             [
              0.5555555555555556,
              "#d8576b"
             ],
             [
              0.6666666666666666,
              "#ed7953"
             ],
             [
              0.7777777777777778,
              "#fb9f3a"
             ],
             [
              0.8888888888888888,
              "#fdca26"
             ],
             [
              1,
              "#f0f921"
             ]
            ],
            "type": "heatmap"
           }
          ],
          "heatmapgl": [
           {
            "colorbar": {
             "outlinewidth": 0,
             "ticks": ""
            },
            "colorscale": [
             [
              0,
              "#0d0887"
             ],
             [
              0.1111111111111111,
              "#46039f"
             ],
             [
              0.2222222222222222,
              "#7201a8"
             ],
             [
              0.3333333333333333,
              "#9c179e"
             ],
             [
              0.4444444444444444,
              "#bd3786"
             ],
             [
              0.5555555555555556,
              "#d8576b"
             ],
             [
              0.6666666666666666,
              "#ed7953"
             ],
             [
              0.7777777777777778,
              "#fb9f3a"
             ],
             [
              0.8888888888888888,
              "#fdca26"
             ],
             [
              1,
              "#f0f921"
             ]
            ],
            "type": "heatmapgl"
           }
          ],
          "histogram": [
           {
            "marker": {
             "pattern": {
              "fillmode": "overlay",
              "size": 10,
              "solidity": 0.2
             }
            },
            "type": "histogram"
           }
          ],
          "histogram2d": [
           {
            "colorbar": {
             "outlinewidth": 0,
             "ticks": ""
            },
            "colorscale": [
             [
              0,
              "#0d0887"
             ],
             [
              0.1111111111111111,
              "#46039f"
             ],
             [
              0.2222222222222222,
              "#7201a8"
             ],
             [
              0.3333333333333333,
              "#9c179e"
             ],
             [
              0.4444444444444444,
              "#bd3786"
             ],
             [
              0.5555555555555556,
              "#d8576b"
             ],
             [
              0.6666666666666666,
              "#ed7953"
             ],
             [
              0.7777777777777778,
              "#fb9f3a"
             ],
             [
              0.8888888888888888,
              "#fdca26"
             ],
             [
              1,
              "#f0f921"
             ]
            ],
            "type": "histogram2d"
           }
          ],
          "histogram2dcontour": [
           {
            "colorbar": {
             "outlinewidth": 0,
             "ticks": ""
            },
            "colorscale": [
             [
              0,
              "#0d0887"
             ],
             [
              0.1111111111111111,
              "#46039f"
             ],
             [
              0.2222222222222222,
              "#7201a8"
             ],
             [
              0.3333333333333333,
              "#9c179e"
             ],
             [
              0.4444444444444444,
              "#bd3786"
             ],
             [
              0.5555555555555556,
              "#d8576b"
             ],
             [
              0.6666666666666666,
              "#ed7953"
             ],
             [
              0.7777777777777778,
              "#fb9f3a"
             ],
             [
              0.8888888888888888,
              "#fdca26"
             ],
             [
              1,
              "#f0f921"
             ]
            ],
            "type": "histogram2dcontour"
           }
          ],
          "mesh3d": [
           {
            "colorbar": {
             "outlinewidth": 0,
             "ticks": ""
            },
            "type": "mesh3d"
           }
          ],
          "parcoords": [
           {
            "line": {
             "colorbar": {
              "outlinewidth": 0,
              "ticks": ""
             }
            },
            "type": "parcoords"
           }
          ],
          "pie": [
           {
            "automargin": true,
            "type": "pie"
           }
          ],
          "scatter": [
           {
            "fillpattern": {
             "fillmode": "overlay",
             "size": 10,
             "solidity": 0.2
            },
            "type": "scatter"
           }
          ],
          "scatter3d": [
           {
            "line": {
             "colorbar": {
              "outlinewidth": 0,
              "ticks": ""
             }
            },
            "marker": {
             "colorbar": {
              "outlinewidth": 0,
              "ticks": ""
             }
            },
            "type": "scatter3d"
           }
          ],
          "scattercarpet": [
           {
            "marker": {
             "colorbar": {
              "outlinewidth": 0,
              "ticks": ""
             }
            },
            "type": "scattercarpet"
           }
          ],
          "scattergeo": [
           {
            "marker": {
             "colorbar": {
              "outlinewidth": 0,
              "ticks": ""
             }
            },
            "type": "scattergeo"
           }
          ],
          "scattergl": [
           {
            "marker": {
             "colorbar": {
              "outlinewidth": 0,
              "ticks": ""
             }
            },
            "type": "scattergl"
           }
          ],
          "scattermapbox": [
           {
            "marker": {
             "colorbar": {
              "outlinewidth": 0,
              "ticks": ""
             }
            },
            "type": "scattermapbox"
           }
          ],
          "scatterpolar": [
           {
            "marker": {
             "colorbar": {
              "outlinewidth": 0,
              "ticks": ""
             }
            },
            "type": "scatterpolar"
           }
          ],
          "scatterpolargl": [
           {
            "marker": {
             "colorbar": {
              "outlinewidth": 0,
              "ticks": ""
             }
            },
            "type": "scatterpolargl"
           }
          ],
          "scatterternary": [
           {
            "marker": {
             "colorbar": {
              "outlinewidth": 0,
              "ticks": ""
             }
            },
            "type": "scatterternary"
           }
          ],
          "surface": [
           {
            "colorbar": {
             "outlinewidth": 0,
             "ticks": ""
            },
            "colorscale": [
             [
              0,
              "#0d0887"
             ],
             [
              0.1111111111111111,
              "#46039f"
             ],
             [
              0.2222222222222222,
              "#7201a8"
             ],
             [
              0.3333333333333333,
              "#9c179e"
             ],
             [
              0.4444444444444444,
              "#bd3786"
             ],
             [
              0.5555555555555556,
              "#d8576b"
             ],
             [
              0.6666666666666666,
              "#ed7953"
             ],
             [
              0.7777777777777778,
              "#fb9f3a"
             ],
             [
              0.8888888888888888,
              "#fdca26"
             ],
             [
              1,
              "#f0f921"
             ]
            ],
            "type": "surface"
           }
          ],
          "table": [
           {
            "cells": {
             "fill": {
              "color": "#EBF0F8"
             },
             "line": {
              "color": "white"
             }
            },
            "header": {
             "fill": {
              "color": "#C8D4E3"
             },
             "line": {
              "color": "white"
             }
            },
            "type": "table"
           }
          ]
         },
         "layout": {
          "annotationdefaults": {
           "arrowcolor": "#2a3f5f",
           "arrowhead": 0,
           "arrowwidth": 1
          },
          "autotypenumbers": "strict",
          "coloraxis": {
           "colorbar": {
            "outlinewidth": 0,
            "ticks": ""
           }
          },
          "colorscale": {
           "diverging": [
            [
             0,
             "#8e0152"
            ],
            [
             0.1,
             "#c51b7d"
            ],
            [
             0.2,
             "#de77ae"
            ],
            [
             0.3,
             "#f1b6da"
            ],
            [
             0.4,
             "#fde0ef"
            ],
            [
             0.5,
             "#f7f7f7"
            ],
            [
             0.6,
             "#e6f5d0"
            ],
            [
             0.7,
             "#b8e186"
            ],
            [
             0.8,
             "#7fbc41"
            ],
            [
             0.9,
             "#4d9221"
            ],
            [
             1,
             "#276419"
            ]
           ],
           "sequential": [
            [
             0,
             "#0d0887"
            ],
            [
             0.1111111111111111,
             "#46039f"
            ],
            [
             0.2222222222222222,
             "#7201a8"
            ],
            [
             0.3333333333333333,
             "#9c179e"
            ],
            [
             0.4444444444444444,
             "#bd3786"
            ],
            [
             0.5555555555555556,
             "#d8576b"
            ],
            [
             0.6666666666666666,
             "#ed7953"
            ],
            [
             0.7777777777777778,
             "#fb9f3a"
            ],
            [
             0.8888888888888888,
             "#fdca26"
            ],
            [
             1,
             "#f0f921"
            ]
           ],
           "sequentialminus": [
            [
             0,
             "#0d0887"
            ],
            [
             0.1111111111111111,
             "#46039f"
            ],
            [
             0.2222222222222222,
             "#7201a8"
            ],
            [
             0.3333333333333333,
             "#9c179e"
            ],
            [
             0.4444444444444444,
             "#bd3786"
            ],
            [
             0.5555555555555556,
             "#d8576b"
            ],
            [
             0.6666666666666666,
             "#ed7953"
            ],
            [
             0.7777777777777778,
             "#fb9f3a"
            ],
            [
             0.8888888888888888,
             "#fdca26"
            ],
            [
             1,
             "#f0f921"
            ]
           ]
          },
          "colorway": [
           "#636efa",
           "#EF553B",
           "#00cc96",
           "#ab63fa",
           "#FFA15A",
           "#19d3f3",
           "#FF6692",
           "#B6E880",
           "#FF97FF",
           "#FECB52"
          ],
          "font": {
           "color": "#2a3f5f"
          },
          "geo": {
           "bgcolor": "white",
           "lakecolor": "white",
           "landcolor": "#E5ECF6",
           "showlakes": true,
           "showland": true,
           "subunitcolor": "white"
          },
          "hoverlabel": {
           "align": "left"
          },
          "hovermode": "closest",
          "mapbox": {
           "style": "light"
          },
          "paper_bgcolor": "white",
          "plot_bgcolor": "#E5ECF6",
          "polar": {
           "angularaxis": {
            "gridcolor": "white",
            "linecolor": "white",
            "ticks": ""
           },
           "bgcolor": "#E5ECF6",
           "radialaxis": {
            "gridcolor": "white",
            "linecolor": "white",
            "ticks": ""
           }
          },
          "scene": {
           "xaxis": {
            "backgroundcolor": "#E5ECF6",
            "gridcolor": "white",
            "gridwidth": 2,
            "linecolor": "white",
            "showbackground": true,
            "ticks": "",
            "zerolinecolor": "white"
           },
           "yaxis": {
            "backgroundcolor": "#E5ECF6",
            "gridcolor": "white",
            "gridwidth": 2,
            "linecolor": "white",
            "showbackground": true,
            "ticks": "",
            "zerolinecolor": "white"
           },
           "zaxis": {
            "backgroundcolor": "#E5ECF6",
            "gridcolor": "white",
            "gridwidth": 2,
            "linecolor": "white",
            "showbackground": true,
            "ticks": "",
            "zerolinecolor": "white"
           }
          },
          "shapedefaults": {
           "line": {
            "color": "#2a3f5f"
           }
          },
          "ternary": {
           "aaxis": {
            "gridcolor": "white",
            "linecolor": "white",
            "ticks": ""
           },
           "baxis": {
            "gridcolor": "white",
            "linecolor": "white",
            "ticks": ""
           },
           "bgcolor": "#E5ECF6",
           "caxis": {
            "gridcolor": "white",
            "linecolor": "white",
            "ticks": ""
           }
          },
          "title": {
           "x": 0.05
          },
          "xaxis": {
           "automargin": true,
           "gridcolor": "white",
           "linecolor": "white",
           "ticks": "",
           "title": {
            "standoff": 15
           },
           "zerolinecolor": "white",
           "zerolinewidth": 2
          },
          "yaxis": {
           "automargin": true,
           "gridcolor": "white",
           "linecolor": "white",
           "ticks": "",
           "title": {
            "standoff": 15
           },
           "zerolinecolor": "white",
           "zerolinewidth": 2
          }
         }
        },
        "title": {
         "text": "Precision @0.5 threshold for hypernymy, mistral-7B"
        }
       }
      }
     },
     "metadata": {},
     "output_type": "display_data"
    },
    {
     "data": {
      "application/vnd.plotly.v1+json": {
       "config": {
        "plotlyServerURL": "https://plot.ly"
       },
       "data": [
        {
         "branchvalues": "total",
         "customdata": [
          [
           "accountant",
           "profession",
           "profession",
           "profession",
           "Accountant is a profession.",
           "Knowledge is Correct"
          ],
          [
           "orange",
           "fruit",
           "fruit",
           "fruit",
           "Orange is a fruit.",
           "Knowledge is Correct"
          ],
          [
           "oriole",
           "bird",
           "bird",
           "fish",
           "Oriole is a bird.",
           "Knowledge is Correct"
          ],
          [
           "ostrich",
           "bird",
           "bird",
           "bird",
           "Ostrich is a bird.",
           "Knowledge is Correct"
          ],
          [
           "ottoman",
           "furniture",
           "furniture",
           "furniture",
           "Ottoman is furniture.",
           "Knowledge is Correct"
          ],
          [
           "palm",
           "tree",
           "tree",
           "tree",
           "Palm is a tree.",
           "Knowledge is Correct"
          ],
          [
           "papaya",
           "fruit",
           "fruit",
           "fruit",
           "Papaya is a fruit.",
           "Knowledge is Incorrect"
          ],
          [
           "pear",
           "fruit",
           "fruit",
           "fruit",
           "Pear is a fruit.",
           "Knowledge is Correct"
          ],
          [
           "penguin",
           "bird",
           "bird",
           "fish",
           "Penguin is a bird.",
           "Knowledge is Correct"
          ],
          [
           "peso",
           "money",
           "money",
           "money",
           "Peso is money.",
           "Knowledge is Correct"
          ],
          [
           "pike",
           "fish",
           "fish",
           "fish",
           "Pike is a fish.",
           "Knowledge is Correct"
          ],
          [
           "pine",
           "tree",
           "tree",
           "tree",
           "Pine is a tree.",
           "Knowledge is Correct"
          ],
          [
           "pineapple",
           "fruit",
           "fruit",
           "fruit",
           "Pineapple is a fruit.",
           "Knowledge is Incorrect"
          ],
          [
           "pliers",
           "tool",
           "tool",
           "tool",
           "Pliers is a tool.",
           "Knowledge is Correct"
          ],
          [
           "polo",
           "sport",
           "sport",
           "sport",
           "Polo is a sport.",
           "Knowledge is Correct"
          ],
          [
           "pontoon",
           "boat",
           "boat",
           "boat",
           "Pontoon is a boat.",
           "Knowledge is Correct"
          ],
          [
           "pound",
           "money",
           "money",
           "money",
           "Pound is money.",
           "Knowledge is Correct"
          ],
          [
           "private",
           "soldier",
           "soldier",
           "money",
           "Private is a soldier.",
           "Knowledge is Correct"
          ],
          [
           "professor",
           "profession",
           "profession",
           "profession",
           "Professor is a profession.",
           "Knowledge is Correct"
          ],
          [
           "psychologist",
           "profession",
           "profession",
           "profession",
           "Psychologist is a profession.",
           "Knowledge is Correct"
          ],
          [
           "oak",
           "tree",
           "tree",
           "tree",
           "Oak is a tree.",
           "Knowledge is Correct"
          ],
          [
           "nurse",
           "profession",
           "profession",
           "profession",
           "Nurse is a profession.",
           "Knowledge is Correct"
          ],
          [
           "nunchucks",
           "weapon",
           "weapon",
           "weapon",
           "Nunchucks is a weapon.",
           "Knowledge is Correct"
          ],
          [
           "niece",
           "relative",
           "relative",
           "crime",
           "Niece is a relative.",
           "Knowledge is Correct"
          ],
          [
           "yard",
           "distance",
           "distance",
           "tree",
           "Yard is a distance.",
           "Knowledge is Correct"
          ],
          [
           "kiwi",
           "fruit",
           "fruit",
           "fruit",
           "Kiwi is a fruit.",
           "Knowledge is Correct"
          ],
          [
           "ladybug",
           "bug",
           "bug",
           "bug",
           "Ladybug is a bug.",
           "Knowledge is Correct"
          ],
          [
           "lawyer",
           "profession",
           "profession",
           "profession",
           "Lawyer is a profession.",
           "Knowledge is Correct"
          ],
          [
           "lettuce",
           "vegetable",
           "vegetable",
           "vegetable",
           "Lettuce is a vegetable.",
           "Knowledge is Correct"
          ],
          [
           "lieutenant",
           "soldier",
           "soldier",
           "soldier",
           "Lieutenant is a soldier.",
           "Knowledge is Correct"
          ],
          [
           "lime",
           "fruit",
           "fruit",
           "fruit",
           "Lime is a fruit.",
           "Knowledge is Correct"
          ],
          [
           "loafer",
           "footwear",
           "footwear",
           "footwear",
           "Loafer is a footwear.",
           "Knowledge is Correct"
          ],
          [
           "loveseat",
           "furniture",
           "furniture",
           "furniture",
           "Loveseat is furniture.",
           "Knowledge is Correct"
          ],
          [
           "quarter",
           "money",
           "money",
           "time",
           "Quarter is money.",
           "Knowledge is Correct"
          ],
          [
           "mace",
           "weapon",
           "weapon",
           "weapon",
           "Mace is a weapon.",
           "Knowledge is Correct"
          ],
          [
           "mayor",
           "politician",
           "politician",
           "politician",
           "Mayor is a politician.",
           "Knowledge is Correct"
          ],
          [
           "melon",
           "fruit",
           "fruit",
           "fruit",
           "Melon is a fruit.",
           "Knowledge is Correct"
          ],
          [
           "mile",
           "distance",
           "distance",
           "distance",
           "Mile is a distance.",
           "Knowledge is Correct"
          ],
          [
           "millennium",
           "time",
           "time",
           "time",
           "Millennium is a time.",
           "Knowledge is Correct"
          ],
          [
           "missile",
           "weapon",
           "weapon",
           "weapon",
           "Missile is a weapon.",
           "Knowledge is Correct"
          ],
          [
           "moccasin",
           "footwear",
           "footwear",
           "footwear",
           "Moccasin is a footwear.",
           "Knowledge is Correct"
          ],
          [
           "mockingbird",
           "bird",
           "bird",
           "bird",
           "Mockingbird is a bird.",
           "Knowledge is Correct"
          ],
          [
           "nail gun",
           "tool",
           "tool",
           "weapon",
           "Nail gun is a tool.",
           "Knowledge is Correct"
          ],
          [
           "nephew",
           "relative",
           "relative",
           "crime",
           "Nephew is a relative.",
           "Knowledge is Correct"
          ],
          [
           "maple",
           "tree",
           "tree",
           "tree",
           "Maple is a tree.",
           "Knowledge is Correct"
          ],
          [
           "kayak",
           "boat",
           "boat",
           "boat",
           "Kayak is a boat.",
           "Knowledge is Correct"
          ],
          [
           "quartz",
           "gem",
           "gem",
           "gem",
           "Quartz is a gem.",
           "Knowledge is Correct"
          ],
          [
           "raven",
           "bird",
           "bird",
           "bird",
           "Raven is a bird.",
           "Knowledge is Correct"
          ],
          [
           "speeding",
           "crime",
           "crime",
           "crime",
           "Speeding is a crime.",
           "Knowledge is Correct"
          ],
          [
           "spinach",
           "vegetable",
           "vegetable",
           "vegetable",
           "Spinach is a vegetable.",
           "Knowledge is Incorrect"
          ],
          [
           "stool",
           "furniture",
           "furniture",
           "furniture",
           "Stool is furniture.",
           "Knowledge is Correct"
          ],
          [
           "sweden",
           "country",
           "country",
           "country",
           "Sweden is a country.",
           "Knowledge is Correct"
          ],
          [
           "sycamore",
           "tree",
           "tree",
           "tree",
           "Sycamore is a tree.",
           "Knowledge is Correct"
          ],
          [
           "table",
           "furniture",
           "furniture",
           "furniture",
           "Table is furniture.",
           "Knowledge is Correct"
          ],
          [
           "tidal waves",
           "weather",
           "weather",
           "weather",
           "Tidal waves is a weather.",
           "Knowledge is Correct"
          ],
          [
           "tie",
           "clothing",
           "clothing",
           "clothing",
           "Tie is a clothing.",
           "Knowledge is Correct"
          ],
          [
           "topaz",
           "gem",
           "gem",
           "gem",
           "Topaz is a gem.",
           "Knowledge is Correct"
          ],
          [
           "townhouse",
           "home",
           "home",
           "home",
           "Townhouse is a home.",
           "Knowledge is Correct"
          ],
          [
           "track",
           "sport",
           "sport",
           "music",
           "Track is a sport.",
           "Knowledge is Correct"
          ],
          [
           "train",
           "vehicle",
           "vehicle",
           "vehicle",
           "Train is a vehicle.",
           "Knowledge is Correct"
          ],
          [
           "tugboat",
           "boat",
           "boat",
           "boat",
           "Tugboat is a boat.",
           "Knowledge is Correct"
          ],
          [
           "turnips",
           "vegetable",
           "vegetable",
           "vegetable",
           "Turnips is a vegetable.",
           "Knowledge is Correct"
          ],
          [
           "turquoise",
           "gem",
           "gem",
           "fish",
           "Turquoise is a gem.",
           "Knowledge is Correct"
          ],
          [
           "uncle",
           "relative",
           "relative",
           "money",
           "Uncle is a relative.",
           "Knowledge is Correct"
          ],
          [
           "van",
           "vehicle",
           "vehicle",
           "vehicle",
           "Van is a vehicle.",
           "Knowledge is Correct"
          ],
          [
           "willow",
           "tree",
           "tree",
           "tree",
           "Willow is a tree.",
           "Knowledge is Correct"
          ],
          [
           "wrench",
           "tool",
           "tool",
           "tool",
           "Wrench is a tool.",
           "Knowledge is Correct"
          ],
          [
           "speedboat",
           "boat",
           "boat",
           "boat",
           "Speedboat is a boat.",
           "Knowledge is Correct"
          ],
          [
           "spear",
           "weapon",
           "weapon",
           "weapon",
           "Spear is a weapon.",
           "Knowledge is Correct"
          ],
          [
           "son",
           "relative",
           "relative",
           "animal",
           "Son is a relative.",
           "Knowledge is Correct"
          ],
          [
           "sneaker",
           "footwear",
           "footwear",
           "footwear",
           "Sneaker is a footwear.",
           "Knowledge is Correct"
          ],
          [
           "robin",
           "bird",
           "bird",
           "animal",
           "Robin is a bird.",
           "Knowledge is Correct"
          ],
          [
           "ruby",
           "gem",
           "gem",
           "gem",
           "Ruby is a gem.",
           "Knowledge is Correct"
          ],
          [
           "sander",
           "tool",
           "tool",
           "fish",
           "Sander is a tool.",
           "Knowledge is Correct"
          ],
          [
           "sapphire",
           "gem",
           "gem",
           "gem",
           "Sapphire is a gem.",
           "Knowledge is Correct"
          ],
          [
           "saw",
           "tool",
           "tool",
           "music",
           "Saw is a tool.",
           "Knowledge is Correct"
          ],
          [
           "scarf",
           "clothing",
           "clothing",
           "clothing",
           "Scarf is a clothing.",
           "Knowledge is Correct"
          ],
          [
           "schooner",
           "boat",
           "boat",
           "boat",
           "Schooner is a boat.",
           "Knowledge is Correct"
          ],
          [
           "screw",
           "tool",
           "tool",
           "tool",
           "Screw is a tool.",
           "Knowledge is Correct"
          ],
          [
           "screwdriver",
           "tool",
           "tool",
           "tool",
           "Screwdriver is a tool.",
           "Knowledge is Correct"
          ],
          [
           "raft",
           "boat",
           "boat",
           "boat",
           "Raft is a boat.",
           "Knowledge is Correct"
          ],
          [
           "seagull",
           "bird",
           "bird",
           "bird",
           "Seagull is a bird.",
           "Knowledge is Correct"
          ],
          [
           "second",
           "time",
           "time",
           "time",
           "Second is a time.",
           "Knowledge is Correct"
          ],
          [
           "senator",
           "politician",
           "politician",
           "politician",
           "Senator is a politician.",
           "Knowledge is Correct"
          ],
          [
           "sergeant",
           "soldier",
           "soldier",
           "soldier",
           "Sergeant is a soldier.",
           "Knowledge is Correct"
          ],
          [
           "shack",
           "home",
           "home",
           "furniture",
           "Shack is a home.",
           "Knowledge is Correct"
          ],
          [
           "shelf",
           "furniture",
           "furniture",
           "furniture",
           "Shelf is furniture.",
           "Knowledge is Correct"
          ],
          [
           "shoe",
           "footwear",
           "footwear",
           "footwear",
           "Shoe is a footwear.",
           "Knowledge is Correct"
          ],
          [
           "short",
           "clothing",
           "clothing",
           "time",
           "Short is a clothing.",
           "Knowledge is Correct"
          ],
          [
           "sister",
           "relative",
           "relative",
           "relative",
           "Sister is a relative.",
           "Knowledge is Correct"
          ],
          [
           "slipper",
           "footwear",
           "footwear",
           "footwear",
           "Slipper is a footwear.",
           "Knowledge is Correct"
          ],
          [
           "second cousin",
           "relative",
           "relative",
           "relative",
           "Second cousin is a relative.",
           "Knowledge is Correct"
          ],
          [
           "iraq",
           "country",
           "country",
           "country",
           "Iraq is a country.",
           "Knowledge is Correct"
          ],
          [
           "kilometer",
           "distance",
           "distance",
           "distance",
           "Kilometer is a distance.",
           "Knowledge is Correct"
          ],
          [
           "hut",
           "home",
           "home",
           "furniture",
           "Hut is a home.",
           "Knowledge is Correct"
          ],
          [
           "cabin",
           "home",
           "home",
           "vehicle",
           "Cabin is a home.",
           "Knowledge is Correct"
          ],
          [
           "cabinet",
           "furniture",
           "furniture",
           "furniture",
           "Cabinet is furniture.",
           "Knowledge is Correct"
          ],
          [
           "cadet",
           "soldier",
           "soldier",
           "soldier",
           "Cadet is a soldier.",
           "Knowledge is Correct"
          ],
          [
           "canary",
           "bird",
           "bird",
           "fish",
           "Canary is a bird.",
           "Knowledge is Correct"
          ],
          [
           "canoe",
           "boat",
           "boat",
           "boat",
           "Canoe is a boat.",
           "Knowledge is Correct"
          ],
          [
           "captain",
           "soldier",
           "soldier",
           "soldier",
           "Captain is a soldier.",
           "Knowledge is Correct"
          ],
          [
           "cardinal",
           "bird",
           "bird",
           "bird",
           "Cardinal is a bird.",
           "Knowledge is Correct"
          ],
          [
           "catamaran",
           "boat",
           "boat",
           "boat",
           "Catamaran is a boat.",
           "Knowledge is Correct"
          ],
          [
           "cabbages",
           "vegetable",
           "vegetable",
           "fruit",
           "Cabbages is a vegetable.",
           "Knowledge is Correct"
          ],
          [
           "cedar",
           "tree",
           "tree",
           "tree",
           "Cedar is a tree.",
           "Knowledge is Correct"
          ],
          [
           "century",
           "time",
           "time",
           "time",
           "Century is a time.",
           "Knowledge is Correct"
          ],
          [
           "chair",
           "furniture",
           "furniture",
           "furniture",
           "Chair is furniture.",
           "Knowledge is Correct"
          ],
          [
           "chicken",
           "bird",
           "bird",
           "fish",
           "Chicken is a bird.",
           "Knowledge is Correct"
          ],
          [
           "china",
           "country",
           "country",
           "country",
           "China is a country.",
           "Knowledge is Correct"
          ],
          [
           "cleat",
           "footwear",
           "footwear",
           "footwear",
           "Cleat is a footwear.",
           "Knowledge is Correct"
          ],
          [
           "clog",
           "footwear",
           "footwear",
           "time",
           "Clog is a footwear.",
           "Knowledge is Correct"
          ],
          [
           "india",
           "country",
           "country",
           "country",
           "India is a country.",
           "Knowledge is Correct"
          ],
          [
           "colonel",
           "soldier",
           "soldier",
           "soldier",
           "Colonel is a soldier.",
           "Knowledge is Correct"
          ],
          [
           "celery",
           "vegetable",
           "vegetable",
           "vegetable",
           "Celery is a vegetable.",
           "Knowledge is Correct"
          ],
          [
           "cab",
           "vehicle",
           "vehicle",
           "vehicle",
           "Cab is a vehicle.",
           "Knowledge is Correct"
          ],
          [
           "bus",
           "vehicle",
           "vehicle",
           "vehicle",
           "Bus is a vehicle.",
           "Knowledge is Correct"
          ],
          [
           "brother",
           "relative",
           "relative",
           "crime",
           "Brother is a relative.",
           "Knowledge is Correct"
          ],
          [
           "afghanistan",
           "country",
           "country",
           "country",
           "Afghanistan is a country.",
           "Knowledge is Incorrect"
          ],
          [
           "alternative",
           "music",
           "music",
           "music",
           "Alternative is a music.",
           "Knowledge is Correct"
          ],
          [
           "amethyst",
           "gem",
           "gem",
           "gem",
           "Amethyst is a gem.",
           "Knowledge is Correct"
          ],
          [
           "apple",
           "fruit",
           "fruit",
           "fruit",
           "Apple is a fruit.",
           "Knowledge is Correct"
          ],
          [
           "aspen",
           "tree",
           "tree",
           "tree",
           "Aspen is a tree.",
           "Knowledge is Correct"
          ],
          [
           "aunt",
           "relative",
           "relative",
           "time",
           "Aunt is a relative.",
           "Knowledge is Correct"
          ],
          [
           "battery",
           "crime",
           "crime",
           "crime",
           "Battery is a crime.",
           "Knowledge is Correct"
          ],
          [
           "beans",
           "vegetable",
           "vegetable",
           "vegetable",
           "Beans is a vegetable.",
           "Knowledge is Correct"
          ],
          [
           "bed",
           "furniture",
           "furniture",
           "furniture",
           "Bed is furniture.",
           "Knowledge is Correct"
          ],
          [
           "beets",
           "vegetable",
           "vegetable",
           "fruit",
           "Beets is a vegetable.",
           "Knowledge is Correct"
          ],
          [
           "bell pepper",
           "vegetable",
           "fruit",
           "vegetable",
           "Bell pepper is a vegetable.",
           "Knowledge is Incorrect"
          ],
          [
           "belt",
           "clothing",
           "clothing",
           "clothing",
           "Belt is a clothing.",
           "Knowledge is Correct"
          ],
          [
           "bicycle",
           "vehicle",
           "vehicle",
           "vehicle",
           "Bicycle is a vehicle.",
           "Knowledge is Correct"
          ],
          [
           "blackbird",
           "bird",
           "bird",
           "bird",
           "Blackbird is a bird.",
           "Knowledge is Correct"
          ],
          [
           "bluebird",
           "bird",
           "bird",
           "bird",
           "Bluebird is a bird.",
           "Knowledge is Correct"
          ],
          [
           "bluejay",
           "bird",
           "bird",
           "fish",
           "Bluejay is a bird.",
           "Knowledge is Correct"
          ],
          [
           "bomb",
           "weapon",
           "weapon",
           "weapon",
           "Bomb is a weapon.",
           "Knowledge is Correct"
          ],
          [
           "boot",
           "footwear",
           "footwear",
           "footwear",
           "Boot is a footwear.",
           "Knowledge is Correct"
          ],
          [
           "boxer shorts",
           "clothing",
           "clothing",
           "clothing",
           "Boxer shorts is a clothing.",
           "Knowledge is Incorrect"
          ],
          [
           "condominium",
           "home",
           "home",
           "home",
           "Condominium is a home.",
           "Knowledge is Correct"
          ],
          [
           "congressman",
           "politician",
           "politician",
           "politician",
           "Congressman is a politician.",
           "Knowledge is Correct"
          ],
          [
           "cockroach",
           "bug",
           "bug",
           "bug",
           "Cockroach is a bug.",
           "Knowledge is Correct"
          ],
          [
           "corporal",
           "soldier",
           "soldier",
           "soldier",
           "Corporal is a soldier.",
           "Knowledge is Correct"
          ],
          [
           "congresswoman",
           "politician",
           "politician",
           "politician",
           "Congresswoman is a politician.",
           "Knowledge is Correct"
          ],
          [
           "flamingo",
           "bird",
           "bird",
           "fish",
           "Flamingo is a bird.",
           "Knowledge is Correct"
          ],
          [
           "flip flop",
           "footwear",
           "footwear",
           "music",
           "flip-flop is a footwear.",
           "Knowledge is Correct"
          ],
          [
           "footstool",
           "furniture",
           "furniture",
           "furniture",
           "Footstool is furniture.",
           "Knowledge is Correct"
          ],
          [
           "franc",
           "money",
           "money",
           "money",
           "Franc is money.",
           "Knowledge is Correct"
          ],
          [
           "france",
           "country",
           "country",
           "country",
           "France is a country.",
           "Knowledge is Correct"
          ],
          [
           "futon",
           "furniture",
           "furniture",
           "furniture",
           "Futon is furniture.",
           "Knowledge is Correct"
          ],
          [
           "garnet",
           "gem",
           "gem",
           "gem",
           "Garnet is a gem.",
           "Knowledge is Correct"
          ],
          [
           "glove",
           "clothing",
           "clothing",
           "tool",
           "Glove is a clothing.",
           "Knowledge is Correct"
          ],
          [
           "governor",
           "politician",
           "politician",
           "politician",
           "Governor is a politician.",
           "Knowledge is Correct"
          ],
          [
           "great aunt",
           "relative",
           "relative",
           "relative",
           "Great aunt is a relative.",
           "Knowledge is Correct"
          ],
          [
           "great uncle",
           "relative",
           "relative",
           "relative",
           "Great uncle is a relative.",
           "Knowledge is Correct"
          ],
          [
           "green beans",
           "vegetable",
           "fruit",
           "vegetable",
           "Green beans is a vegetable.",
           "Knowledge is Incorrect"
          ],
          [
           "hammer",
           "tool",
           "tool",
           "weapon",
           "Hammer is a tool.",
           "Knowledge is Correct"
          ],
          [
           "hat",
           "clothing",
           "clothing",
           "clothing",
           "Hat is a clothing.",
           "Knowledge is Correct"
          ],
          [
           "hawk",
           "bird",
           "bird",
           "bird",
           "Hawk is a bird.",
           "Knowledge is Correct"
          ],
          [
           "hotel",
           "home",
           "home",
           "home",
           "Hotel is a home.",
           "Knowledge is Correct"
          ],
          [
           "house",
           "home",
           "home",
           "music",
           "House is a home.",
           "Knowledge is Correct"
          ],
          [
           "hummingbird",
           "bird",
           "bird",
           "bird",
           "Hummingbird is a bird.",
           "Knowledge is Correct"
          ],
          [
           "finch",
           "bird",
           "bird",
           "fish",
           "Finch is a bird.",
           "Knowledge is Correct"
          ],
          [
           "ferry",
           "boat",
           "boat",
           "boat",
           "Ferry is a boat.",
           "Knowledge is Correct"
          ],
          [
           "fir",
           "tree",
           "tree",
           "tree",
           "Fir is a tree.",
           "Knowledge is Correct"
          ],
          [
           "eon",
           "time",
           "time",
           "time",
           "Eon is a time.",
           "Knowledge is Correct"
          ],
          [
           "couch",
           "furniture",
           "furniture",
           "furniture",
           "Couch is furniture.",
           "Knowledge is Correct"
          ],
          [
           "cousin",
           "relative",
           "relative",
           "relative",
           "Cousin is a relative.",
           "Knowledge is Correct"
          ],
          [
           "crow",
           "bird",
           "bird",
           "bird",
           "Crow is a bird.",
           "Knowledge is Correct"
          ],
          [
           "diamond",
           "gem",
           "gem",
           "gem",
           "Diamond is a gem.",
           "Knowledge is Correct"
          ],
          [
           "dime",
           "money",
           "money",
           "money",
           "Dime is money.",
           "Knowledge is Correct"
          ],
          [
           "dinghy",
           "boat",
           "boat",
           "boat",
           "Dinghy is a boat.",
           "Knowledge is Correct"
          ],
          [
           "dog",
           "animal",
           "animal",
           "animal",
           "Dog is an animal.",
           "Knowledge is Incorrect"
          ],
          [
           "dogwood",
           "tree",
           "tree",
           "tree",
           "Dogwood is a tree.",
           "Knowledge is Correct"
          ],
          [
           "falcon",
           "bird",
           "bird",
           "bird",
           "Falcon is a bird.",
           "Knowledge is Correct"
          ],
          [
           "donkey",
           "animal",
           "animal",
           "animal",
           "Donkey is an animal.",
           "Knowledge is Correct"
          ],
          [
           "zucchini",
           "vegetable",
           "vegetable",
           "vegetable",
           "Zucchini is a vegetable.",
           "Knowledge is Incorrect"
          ],
          [
           "dormitory",
           "home",
           "home",
           "home",
           "Dormitory is a home.",
           "Knowledge is Correct"
          ],
          [
           "dove",
           "bird",
           "bird",
           "bird",
           "Dove is a bird.",
           "Knowledge is Correct"
          ],
          [
           "dresser",
           "furniture",
           "furniture",
           "furniture",
           "Dresser is furniture.",
           "Knowledge is Correct"
          ],
          [
           "drill",
           "tool",
           "tool",
           "music",
           "Drill is a tool.",
           "Knowledge is Correct"
          ],
          [
           "duck",
           "bird",
           "bird",
           "bird",
           "Duck is a bird.",
           "Knowledge is Correct"
          ],
          [
           "emerald",
           "gem",
           "gem",
           "gem",
           "Emerald is a gem.",
           "Knowledge is Correct"
          ],
          [
           "eagle",
           "bird",
           "bird",
           "bird",
           "Eagle is a bird.",
           "Knowledge is Correct"
          ],
          [
           "elm",
           "tree",
           "tree",
           "tree",
           "Elm is a tree.",
           "Knowledge is Correct"
          ],
          [
           "commander",
           "soldier",
           "soldier",
           "soldier",
           "Commander is a soldier.",
           "Knowledge is Correct"
          ],
          [
           "sleet",
           "weather",
           "weather",
           "weather",
           "Sleet is a weather.",
           "Knowledge is Correct"
          ],
          [
           "vulture",
           "bird",
           "bird",
           "bird",
           "Vulture is a bird.",
           "Knowledge is Correct"
          ],
          [
           "sandal",
           "footwear",
           "footwear",
           "footwear",
           "Sandal is a footwear.",
           "Knowledge is Correct"
          ],
          [
           "birch",
           "tree",
           "tree",
           "tree",
           "Birch is a tree.",
           "Knowledge is Correct"
          ],
          [
           "bluegrass",
           "music",
           "country",
           "music",
           "Bluegrass is a music.",
           "Knowledge is Incorrect"
          ],
          [
           "mansion",
           "home",
           "home",
           "home",
           "Mansion is a home.",
           "Knowledge is Correct"
          ],
          [
           "tangerine",
           "fruit",
           "fruit",
           "fruit",
           "Tangerine is a fruit.",
           "Knowledge is Correct"
          ],
          [
           "apartment",
           "home",
           "home",
           "home",
           "Apartment is a home.",
           "Knowledge is Correct"
          ],
          [
           "cent",
           "money",
           "money",
           "money",
           "Cent is money.",
           "Knowledge is Correct"
          ],
          [
           "(?)",
           "(?)",
           "(?)",
           "(?)",
           "(?)",
           "Knowledge is Incorrect"
          ],
          [
           "(?)",
           "(?)",
           "(?)",
           "(?)",
           "(?)",
           "Knowledge is Correct"
          ],
          [
           "(?)",
           "(?)",
           "(?)",
           "(?)",
           "(?)",
           "(?)"
          ]
         ],
         "domain": {
          "x": [
           0,
           1
          ],
          "y": [
           0,
           1
          ]
         },
         "hovertemplate": "labels=%{label}<br>count=%{value}<br>parent=%{parent}<br>id=%{id}<br>sub_label=%{customdata[0]}<br>obj_label=%{customdata[1]}<br>argmax_o=%{customdata[2]}<br>old_argmax_o=%{customdata[3]}<br>sequence=%{customdata[4]}<br>category=%{customdata[5]}<extra></extra>",
         "ids": [
          "[X] is a [Y] ./Incorrect -> Correct/accountant, profession",
          "[X] is a [Y] ./Incorrect -> Correct/orange, fruit",
          "[X] is a [Y] ./Incorrect -> Correct/oriole, bird",
          "[X] is a [Y] ./Incorrect -> Correct/ostrich, bird",
          "[X] is a [Y] ./Incorrect -> Correct/ottoman, furniture",
          "[X] is a [Y] ./Incorrect -> Correct/palm, tree",
          "[X] is a [Y] ./Correct -> Incorrect/papaya, fruit",
          "[X] is a [Y] ./Incorrect -> Correct/pear, fruit",
          "[X] is a [Y] ./Incorrect -> Correct/penguin, bird",
          "[X] is a [Y] ./Incorrect -> Correct/peso, money",
          "[X] is a [Y] ./Incorrect -> Correct/pike, fish",
          "[X] is a [Y] ./Incorrect -> Correct/pine, tree",
          "[X] is a [Y] ./Correct -> Incorrect/pineapple, fruit",
          "[X] is a [Y] ./Incorrect -> Correct/pliers, tool",
          "[X] is a [Y] ./Incorrect -> Correct/polo, sport",
          "[X] is a [Y] ./Incorrect -> Correct/pontoon, boat",
          "[X] is a [Y] ./Incorrect -> Correct/pound, money",
          "[X] is a [Y] ./Incorrect -> Correct/private, soldier",
          "[X] is a [Y] ./Incorrect -> Correct/professor, profession",
          "[X] is a [Y] ./Incorrect -> Correct/psychologist, profession",
          "[X] is a [Y] ./Incorrect -> Correct/oak, tree",
          "[X] is a [Y] ./Incorrect -> Correct/nurse, profession",
          "[X] is a [Y] ./Incorrect -> Correct/nunchucks, weapon",
          "[X] is a [Y] ./Incorrect -> Correct/niece, relative",
          "[X] is a [Y] ./Incorrect -> Correct/yard, distance",
          "[X] is a [Y] ./Incorrect -> Correct/kiwi, fruit",
          "[X] is a [Y] ./Incorrect -> Correct/ladybug, bug",
          "[X] is a [Y] ./Incorrect -> Correct/lawyer, profession",
          "[X] is a [Y] ./Incorrect -> Correct/lettuce, vegetable",
          "[X] is a [Y] ./Incorrect -> Correct/lieutenant, soldier",
          "[X] is a [Y] ./Incorrect -> Correct/lime, fruit",
          "[X] is a [Y] ./Incorrect -> Correct/loafer, footwear",
          "[X] is a [Y] ./Incorrect -> Correct/loveseat, furniture",
          "[X] is a [Y] ./Incorrect -> Correct/quarter, money",
          "[X] is a [Y] ./Incorrect -> Correct/mace, weapon",
          "[X] is a [Y] ./Incorrect -> Correct/mayor, politician",
          "[X] is a [Y] ./Incorrect -> Correct/melon, fruit",
          "[X] is a [Y] ./Incorrect -> Correct/mile, distance",
          "[X] is a [Y] ./Incorrect -> Correct/millennium, time",
          "[X] is a [Y] ./Incorrect -> Correct/missile, weapon",
          "[X] is a [Y] ./Incorrect -> Correct/moccasin, footwear",
          "[X] is a [Y] ./Incorrect -> Correct/mockingbird, bird",
          "[X] is a [Y] ./Incorrect -> Correct/nail gun, tool",
          "[X] is a [Y] ./Incorrect -> Correct/nephew, relative",
          "[X] is a [Y] ./Incorrect -> Correct/maple, tree",
          "[X] is a [Y] ./Incorrect -> Correct/kayak, boat",
          "[X] is a [Y] ./Incorrect -> Correct/quartz, gem",
          "[X] is a [Y] ./Incorrect -> Correct/raven, bird",
          "[X] is a [Y] ./Incorrect -> Correct/speeding, crime",
          "[X] is a [Y] ./Correct -> Incorrect/spinach, vegetable",
          "[X] is a [Y] ./Incorrect -> Correct/stool, furniture",
          "[X] is a [Y] ./Incorrect -> Correct/sweden, country",
          "[X] is a [Y] ./Incorrect -> Correct/sycamore, tree",
          "[X] is a [Y] ./Incorrect -> Correct/table, furniture",
          "[X] is a [Y] ./Incorrect -> Correct/tidal waves, weather",
          "[X] is a [Y] ./Incorrect -> Correct/tie, clothing",
          "[X] is a [Y] ./Incorrect -> Correct/topaz, gem",
          "[X] is a [Y] ./Incorrect -> Correct/townhouse, home",
          "[X] is a [Y] ./Incorrect -> Correct/track, sport",
          "[X] is a [Y] ./Incorrect -> Correct/train, vehicle",
          "[X] is a [Y] ./Incorrect -> Correct/tugboat, boat",
          "[X] is a [Y] ./Incorrect -> Correct/turnips, vegetable",
          "[X] is a [Y] ./Incorrect -> Correct/turquoise, gem",
          "[X] is a [Y] ./Incorrect -> Correct/uncle, relative",
          "[X] is a [Y] ./Incorrect -> Correct/van, vehicle",
          "[X] is a [Y] ./Incorrect -> Correct/willow, tree",
          "[X] is a [Y] ./Incorrect -> Correct/wrench, tool",
          "[X] is a [Y] ./Incorrect -> Correct/speedboat, boat",
          "[X] is a [Y] ./Incorrect -> Correct/spear, weapon",
          "[X] is a [Y] ./Incorrect -> Correct/son, relative",
          "[X] is a [Y] ./Incorrect -> Correct/sneaker, footwear",
          "[X] is a [Y] ./Incorrect -> Correct/robin, bird",
          "[X] is a [Y] ./Incorrect -> Correct/ruby, gem",
          "[X] is a [Y] ./Incorrect -> Correct/sander, tool",
          "[X] is a [Y] ./Incorrect -> Correct/sapphire, gem",
          "[X] is a [Y] ./Incorrect -> Correct/saw, tool",
          "[X] is a [Y] ./Incorrect -> Correct/scarf, clothing",
          "[X] is a [Y] ./Incorrect -> Correct/schooner, boat",
          "[X] is a [Y] ./Incorrect -> Correct/screw, tool",
          "[X] is a [Y] ./Incorrect -> Correct/screwdriver, tool",
          "[X] is a [Y] ./Incorrect -> Correct/raft, boat",
          "[X] is a [Y] ./Incorrect -> Correct/seagull, bird",
          "[X] is a [Y] ./Incorrect -> Correct/second, time",
          "[X] is a [Y] ./Incorrect -> Correct/senator, politician",
          "[X] is a [Y] ./Incorrect -> Correct/sergeant, soldier",
          "[X] is a [Y] ./Incorrect -> Correct/shack, home",
          "[X] is a [Y] ./Incorrect -> Correct/shelf, furniture",
          "[X] is a [Y] ./Incorrect -> Correct/shoe, footwear",
          "[X] is a [Y] ./Incorrect -> Correct/short, clothing",
          "[X] is a [Y] ./Incorrect -> Correct/sister, relative",
          "[X] is a [Y] ./Incorrect -> Correct/slipper, footwear",
          "[X] is a [Y] ./Incorrect -> Correct/second cousin, relative",
          "[X] is a [Y] ./Incorrect -> Correct/iraq, country",
          "[X] is a [Y] ./Incorrect -> Correct/kilometer, distance",
          "[X] is a [Y] ./Incorrect -> Correct/hut, home",
          "[X] is a [Y] ./Incorrect -> Correct/cabin, home",
          "[X] is a [Y] ./Incorrect -> Correct/cabinet, furniture",
          "[X] is a [Y] ./Incorrect -> Correct/cadet, soldier",
          "[X] is a [Y] ./Incorrect -> Correct/canary, bird",
          "[X] is a [Y] ./Incorrect -> Correct/canoe, boat",
          "[X] is a [Y] ./Incorrect -> Correct/captain, soldier",
          "[X] is a [Y] ./Incorrect -> Correct/cardinal, bird",
          "[X] is a [Y] ./Incorrect -> Correct/catamaran, boat",
          "[X] is a [Y] ./Incorrect -> Correct/cabbages, vegetable",
          "[X] is a [Y] ./Incorrect -> Correct/cedar, tree",
          "[X] is a [Y] ./Incorrect -> Correct/century, time",
          "[X] is a [Y] ./Incorrect -> Correct/chair, furniture",
          "[X] is a [Y] ./Incorrect -> Correct/chicken, bird",
          "[X] is a [Y] ./Incorrect -> Correct/china, country",
          "[X] is a [Y] ./Incorrect -> Correct/cleat, footwear",
          "[X] is a [Y] ./Incorrect -> Correct/clog, footwear",
          "[X] is a [Y] ./Incorrect -> Correct/india, country",
          "[X] is a [Y] ./Incorrect -> Correct/colonel, soldier",
          "[X] is a [Y] ./Incorrect -> Correct/celery, vegetable",
          "[X] is a [Y] ./Incorrect -> Correct/cab, vehicle",
          "[X] is a [Y] ./Incorrect -> Correct/bus, vehicle",
          "[X] is a [Y] ./Incorrect -> Correct/brother, relative",
          "[X] is a [Y] ./Correct -> Incorrect/afghanistan, country",
          "[X] is a [Y] ./Incorrect -> Correct/alternative, music",
          "[X] is a [Y] ./Incorrect -> Correct/amethyst, gem",
          "[X] is a [Y] ./Incorrect -> Correct/apple, fruit",
          "[X] is a [Y] ./Incorrect -> Correct/aspen, tree",
          "[X] is a [Y] ./Incorrect -> Correct/aunt, relative",
          "[X] is a [Y] ./Incorrect -> Correct/battery, crime",
          "[X] is a [Y] ./Incorrect -> Correct/beans, vegetable",
          "[X] is a [Y] ./Incorrect -> Correct/bed, furniture",
          "[X] is a [Y] ./Incorrect -> Correct/beets, vegetable",
          "[X] is a [Y] ./Correct -> Incorrect/bell pepper, vegetable",
          "[X] is a [Y] ./Incorrect -> Correct/belt, clothing",
          "[X] is a [Y] ./Incorrect -> Correct/bicycle, vehicle",
          "[X] is a [Y] ./Incorrect -> Correct/blackbird, bird",
          "[X] is a [Y] ./Incorrect -> Correct/bluebird, bird",
          "[X] is a [Y] ./Incorrect -> Correct/bluejay, bird",
          "[X] is a [Y] ./Incorrect -> Correct/bomb, weapon",
          "[X] is a [Y] ./Incorrect -> Correct/boot, footwear",
          "[X] is a [Y] ./Correct -> Incorrect/boxer shorts, clothing",
          "[X] is a [Y] ./Incorrect -> Correct/condominium, home",
          "[X] is a [Y] ./Incorrect -> Correct/congressman, politician",
          "[X] is a [Y] ./Incorrect -> Correct/cockroach, bug",
          "[X] is a [Y] ./Incorrect -> Correct/corporal, soldier",
          "[X] is a [Y] ./Incorrect -> Correct/congresswoman, politician",
          "[X] is a [Y] ./Incorrect -> Correct/flamingo, bird",
          "[X] is a [Y] ./Incorrect -> Correct/flip flop, footwear",
          "[X] is a [Y] ./Incorrect -> Correct/footstool, furniture",
          "[X] is a [Y] ./Incorrect -> Correct/franc, money",
          "[X] is a [Y] ./Incorrect -> Correct/france, country",
          "[X] is a [Y] ./Incorrect -> Correct/futon, furniture",
          "[X] is a [Y] ./Incorrect -> Correct/garnet, gem",
          "[X] is a [Y] ./Incorrect -> Correct/glove, clothing",
          "[X] is a [Y] ./Incorrect -> Correct/governor, politician",
          "[X] is a [Y] ./Incorrect -> Correct/great aunt, relative",
          "[X] is a [Y] ./Incorrect -> Correct/great uncle, relative",
          "[X] is a [Y] ./Correct -> Incorrect/green beans, vegetable",
          "[X] is a [Y] ./Incorrect -> Correct/hammer, tool",
          "[X] is a [Y] ./Incorrect -> Correct/hat, clothing",
          "[X] is a [Y] ./Incorrect -> Correct/hawk, bird",
          "[X] is a [Y] ./Incorrect -> Correct/hotel, home",
          "[X] is a [Y] ./Incorrect -> Correct/house, home",
          "[X] is a [Y] ./Incorrect -> Correct/hummingbird, bird",
          "[X] is a [Y] ./Incorrect -> Correct/finch, bird",
          "[X] is a [Y] ./Incorrect -> Correct/ferry, boat",
          "[X] is a [Y] ./Incorrect -> Correct/fir, tree",
          "[X] is a [Y] ./Incorrect -> Correct/eon, time",
          "[X] is a [Y] ./Incorrect -> Correct/couch, furniture",
          "[X] is a [Y] ./Incorrect -> Correct/cousin, relative",
          "[X] is a [Y] ./Incorrect -> Correct/crow, bird",
          "[X] is a [Y] ./Incorrect -> Correct/diamond, gem",
          "[X] is a [Y] ./Incorrect -> Correct/dime, money",
          "[X] is a [Y] ./Incorrect -> Correct/dinghy, boat",
          "[X] is a [Y] ./Correct -> Incorrect/dog, animal",
          "[X] is a [Y] ./Incorrect -> Correct/dogwood, tree",
          "[X] is a [Y] ./Incorrect -> Correct/falcon, bird",
          "[X] is a [Y] ./Incorrect -> Correct/donkey, animal",
          "[X] is a [Y] ./Correct -> Incorrect/zucchini, vegetable",
          "[X] is a [Y] ./Incorrect -> Correct/dormitory, home",
          "[X] is a [Y] ./Incorrect -> Correct/dove, bird",
          "[X] is a [Y] ./Incorrect -> Correct/dresser, furniture",
          "[X] is a [Y] ./Incorrect -> Correct/drill, tool",
          "[X] is a [Y] ./Incorrect -> Correct/duck, bird",
          "[X] is a [Y] ./Incorrect -> Correct/emerald, gem",
          "[X] is a [Y] ./Incorrect -> Correct/eagle, bird",
          "[X] is a [Y] ./Incorrect -> Correct/elm, tree",
          "[X] is a [Y] ./Incorrect -> Correct/commander, soldier",
          "[X] is a [Y] ./Incorrect -> Correct/sleet, weather",
          "[X] is a [Y] ./Incorrect -> Correct/vulture, bird",
          "[X] is a [Y] ./Incorrect -> Correct/sandal, footwear",
          "[X] is a [Y] ./Incorrect -> Correct/birch, tree",
          "[X] is a [Y] ./Correct -> Incorrect/bluegrass, music",
          "[X] is a [Y] ./Incorrect -> Correct/mansion, home",
          "[X] is a [Y] ./Incorrect -> Correct/tangerine, fruit",
          "[X] is a [Y] ./Incorrect -> Correct/apartment, home",
          "[X] is a [Y] ./Incorrect -> Correct/cent, money",
          "[X] is a [Y] ./Correct -> Incorrect",
          "[X] is a [Y] ./Incorrect -> Correct",
          "[X] is a [Y] ."
         ],
         "labels": [
          "accountant, profession",
          "orange, fruit",
          "oriole, bird",
          "ostrich, bird",
          "ottoman, furniture",
          "palm, tree",
          "papaya, fruit",
          "pear, fruit",
          "penguin, bird",
          "peso, money",
          "pike, fish",
          "pine, tree",
          "pineapple, fruit",
          "pliers, tool",
          "polo, sport",
          "pontoon, boat",
          "pound, money",
          "private, soldier",
          "professor, profession",
          "psychologist, profession",
          "oak, tree",
          "nurse, profession",
          "nunchucks, weapon",
          "niece, relative",
          "yard, distance",
          "kiwi, fruit",
          "ladybug, bug",
          "lawyer, profession",
          "lettuce, vegetable",
          "lieutenant, soldier",
          "lime, fruit",
          "loafer, footwear",
          "loveseat, furniture",
          "quarter, money",
          "mace, weapon",
          "mayor, politician",
          "melon, fruit",
          "mile, distance",
          "millennium, time",
          "missile, weapon",
          "moccasin, footwear",
          "mockingbird, bird",
          "nail gun, tool",
          "nephew, relative",
          "maple, tree",
          "kayak, boat",
          "quartz, gem",
          "raven, bird",
          "speeding, crime",
          "spinach, vegetable",
          "stool, furniture",
          "sweden, country",
          "sycamore, tree",
          "table, furniture",
          "tidal waves, weather",
          "tie, clothing",
          "topaz, gem",
          "townhouse, home",
          "track, sport",
          "train, vehicle",
          "tugboat, boat",
          "turnips, vegetable",
          "turquoise, gem",
          "uncle, relative",
          "van, vehicle",
          "willow, tree",
          "wrench, tool",
          "speedboat, boat",
          "spear, weapon",
          "son, relative",
          "sneaker, footwear",
          "robin, bird",
          "ruby, gem",
          "sander, tool",
          "sapphire, gem",
          "saw, tool",
          "scarf, clothing",
          "schooner, boat",
          "screw, tool",
          "screwdriver, tool",
          "raft, boat",
          "seagull, bird",
          "second, time",
          "senator, politician",
          "sergeant, soldier",
          "shack, home",
          "shelf, furniture",
          "shoe, footwear",
          "short, clothing",
          "sister, relative",
          "slipper, footwear",
          "second cousin, relative",
          "iraq, country",
          "kilometer, distance",
          "hut, home",
          "cabin, home",
          "cabinet, furniture",
          "cadet, soldier",
          "canary, bird",
          "canoe, boat",
          "captain, soldier",
          "cardinal, bird",
          "catamaran, boat",
          "cabbages, vegetable",
          "cedar, tree",
          "century, time",
          "chair, furniture",
          "chicken, bird",
          "china, country",
          "cleat, footwear",
          "clog, footwear",
          "india, country",
          "colonel, soldier",
          "celery, vegetable",
          "cab, vehicle",
          "bus, vehicle",
          "brother, relative",
          "afghanistan, country",
          "alternative, music",
          "amethyst, gem",
          "apple, fruit",
          "aspen, tree",
          "aunt, relative",
          "battery, crime",
          "beans, vegetable",
          "bed, furniture",
          "beets, vegetable",
          "bell pepper, vegetable",
          "belt, clothing",
          "bicycle, vehicle",
          "blackbird, bird",
          "bluebird, bird",
          "bluejay, bird",
          "bomb, weapon",
          "boot, footwear",
          "boxer shorts, clothing",
          "condominium, home",
          "congressman, politician",
          "cockroach, bug",
          "corporal, soldier",
          "congresswoman, politician",
          "flamingo, bird",
          "flip flop, footwear",
          "footstool, furniture",
          "franc, money",
          "france, country",
          "futon, furniture",
          "garnet, gem",
          "glove, clothing",
          "governor, politician",
          "great aunt, relative",
          "great uncle, relative",
          "green beans, vegetable",
          "hammer, tool",
          "hat, clothing",
          "hawk, bird",
          "hotel, home",
          "house, home",
          "hummingbird, bird",
          "finch, bird",
          "ferry, boat",
          "fir, tree",
          "eon, time",
          "couch, furniture",
          "cousin, relative",
          "crow, bird",
          "diamond, gem",
          "dime, money",
          "dinghy, boat",
          "dog, animal",
          "dogwood, tree",
          "falcon, bird",
          "donkey, animal",
          "zucchini, vegetable",
          "dormitory, home",
          "dove, bird",
          "dresser, furniture",
          "drill, tool",
          "duck, bird",
          "emerald, gem",
          "eagle, bird",
          "elm, tree",
          "commander, soldier",
          "sleet, weather",
          "vulture, bird",
          "sandal, footwear",
          "birch, tree",
          "bluegrass, music",
          "mansion, home",
          "tangerine, fruit",
          "apartment, home",
          "cent, money",
          "Correct -> Incorrect",
          "Incorrect -> Correct",
          "[X] is a [Y] ."
         ],
         "marker": {
          "colors": [
           "#636efa",
           "#636efa",
           "#636efa",
           "#636efa",
           "#636efa",
           "#636efa",
           "#EF553B",
           "#636efa",
           "#636efa",
           "#636efa",
           "#636efa",
           "#636efa",
           "#EF553B",
           "#636efa",
           "#636efa",
           "#636efa",
           "#636efa",
           "#636efa",
           "#636efa",
           "#636efa",
           "#636efa",
           "#636efa",
           "#636efa",
           "#636efa",
           "#636efa",
           "#636efa",
           "#636efa",
           "#636efa",
           "#636efa",
           "#636efa",
           "#636efa",
           "#636efa",
           "#636efa",
           "#636efa",
           "#636efa",
           "#636efa",
           "#636efa",
           "#636efa",
           "#636efa",
           "#636efa",
           "#636efa",
           "#636efa",
           "#636efa",
           "#636efa",
           "#636efa",
           "#636efa",
           "#636efa",
           "#636efa",
           "#636efa",
           "#EF553B",
           "#636efa",
           "#636efa",
           "#636efa",
           "#636efa",
           "#636efa",
           "#636efa",
           "#636efa",
           "#636efa",
           "#636efa",
           "#636efa",
           "#636efa",
           "#636efa",
           "#636efa",
           "#636efa",
           "#636efa",
           "#636efa",
           "#636efa",
           "#636efa",
           "#636efa",
           "#636efa",
           "#636efa",
           "#636efa",
           "#636efa",
           "#636efa",
           "#636efa",
           "#636efa",
           "#636efa",
           "#636efa",
           "#636efa",
           "#636efa",
           "#636efa",
           "#636efa",
           "#636efa",
           "#636efa",
           "#636efa",
           "#636efa",
           "#636efa",
           "#636efa",
           "#636efa",
           "#636efa",
           "#636efa",
           "#636efa",
           "#636efa",
           "#636efa",
           "#636efa",
           "#636efa",
           "#636efa",
           "#636efa",
           "#636efa",
           "#636efa",
           "#636efa",
           "#636efa",
           "#636efa",
           "#636efa",
           "#636efa",
           "#636efa",
           "#636efa",
           "#636efa",
           "#636efa",
           "#636efa",
           "#636efa",
           "#636efa",
           "#636efa",
           "#636efa",
           "#636efa",
           "#636efa",
           "#636efa",
           "#EF553B",
           "#636efa",
           "#636efa",
           "#636efa",
           "#636efa",
           "#636efa",
           "#636efa",
           "#636efa",
           "#636efa",
           "#636efa",
           "#EF553B",
           "#636efa",
           "#636efa",
           "#636efa",
           "#636efa",
           "#636efa",
           "#636efa",
           "#636efa",
           "#EF553B",
           "#636efa",
           "#636efa",
           "#636efa",
           "#636efa",
           "#636efa",
           "#636efa",
           "#636efa",
           "#636efa",
           "#636efa",
           "#636efa",
           "#636efa",
           "#636efa",
           "#636efa",
           "#636efa",
           "#636efa",
           "#636efa",
           "#EF553B",
           "#636efa",
           "#636efa",
           "#636efa",
           "#636efa",
           "#636efa",
           "#636efa",
           "#636efa",
           "#636efa",
           "#636efa",
           "#636efa",
           "#636efa",
           "#636efa",
           "#636efa",
           "#636efa",
           "#636efa",
           "#636efa",
           "#EF553B",
           "#636efa",
           "#636efa",
           "#636efa",
           "#EF553B",
           "#636efa",
           "#636efa",
           "#636efa",
           "#636efa",
           "#636efa",
           "#636efa",
           "#636efa",
           "#636efa",
           "#636efa",
           "#636efa",
           "#636efa",
           "#636efa",
           "#636efa",
           "#EF553B",
           "#636efa",
           "#636efa",
           "#636efa",
           "#636efa",
           "#EF553B",
           "#636efa",
           "#00cc96"
          ]
         },
         "name": "",
         "parents": [
          "[X] is a [Y] ./Incorrect -> Correct",
          "[X] is a [Y] ./Incorrect -> Correct",
          "[X] is a [Y] ./Incorrect -> Correct",
          "[X] is a [Y] ./Incorrect -> Correct",
          "[X] is a [Y] ./Incorrect -> Correct",
          "[X] is a [Y] ./Incorrect -> Correct",
          "[X] is a [Y] ./Correct -> Incorrect",
          "[X] is a [Y] ./Incorrect -> Correct",
          "[X] is a [Y] ./Incorrect -> Correct",
          "[X] is a [Y] ./Incorrect -> Correct",
          "[X] is a [Y] ./Incorrect -> Correct",
          "[X] is a [Y] ./Incorrect -> Correct",
          "[X] is a [Y] ./Correct -> Incorrect",
          "[X] is a [Y] ./Incorrect -> Correct",
          "[X] is a [Y] ./Incorrect -> Correct",
          "[X] is a [Y] ./Incorrect -> Correct",
          "[X] is a [Y] ./Incorrect -> Correct",
          "[X] is a [Y] ./Incorrect -> Correct",
          "[X] is a [Y] ./Incorrect -> Correct",
          "[X] is a [Y] ./Incorrect -> Correct",
          "[X] is a [Y] ./Incorrect -> Correct",
          "[X] is a [Y] ./Incorrect -> Correct",
          "[X] is a [Y] ./Incorrect -> Correct",
          "[X] is a [Y] ./Incorrect -> Correct",
          "[X] is a [Y] ./Incorrect -> Correct",
          "[X] is a [Y] ./Incorrect -> Correct",
          "[X] is a [Y] ./Incorrect -> Correct",
          "[X] is a [Y] ./Incorrect -> Correct",
          "[X] is a [Y] ./Incorrect -> Correct",
          "[X] is a [Y] ./Incorrect -> Correct",
          "[X] is a [Y] ./Incorrect -> Correct",
          "[X] is a [Y] ./Incorrect -> Correct",
          "[X] is a [Y] ./Incorrect -> Correct",
          "[X] is a [Y] ./Incorrect -> Correct",
          "[X] is a [Y] ./Incorrect -> Correct",
          "[X] is a [Y] ./Incorrect -> Correct",
          "[X] is a [Y] ./Incorrect -> Correct",
          "[X] is a [Y] ./Incorrect -> Correct",
          "[X] is a [Y] ./Incorrect -> Correct",
          "[X] is a [Y] ./Incorrect -> Correct",
          "[X] is a [Y] ./Incorrect -> Correct",
          "[X] is a [Y] ./Incorrect -> Correct",
          "[X] is a [Y] ./Incorrect -> Correct",
          "[X] is a [Y] ./Incorrect -> Correct",
          "[X] is a [Y] ./Incorrect -> Correct",
          "[X] is a [Y] ./Incorrect -> Correct",
          "[X] is a [Y] ./Incorrect -> Correct",
          "[X] is a [Y] ./Incorrect -> Correct",
          "[X] is a [Y] ./Incorrect -> Correct",
          "[X] is a [Y] ./Correct -> Incorrect",
          "[X] is a [Y] ./Incorrect -> Correct",
          "[X] is a [Y] ./Incorrect -> Correct",
          "[X] is a [Y] ./Incorrect -> Correct",
          "[X] is a [Y] ./Incorrect -> Correct",
          "[X] is a [Y] ./Incorrect -> Correct",
          "[X] is a [Y] ./Incorrect -> Correct",
          "[X] is a [Y] ./Incorrect -> Correct",
          "[X] is a [Y] ./Incorrect -> Correct",
          "[X] is a [Y] ./Incorrect -> Correct",
          "[X] is a [Y] ./Incorrect -> Correct",
          "[X] is a [Y] ./Incorrect -> Correct",
          "[X] is a [Y] ./Incorrect -> Correct",
          "[X] is a [Y] ./Incorrect -> Correct",
          "[X] is a [Y] ./Incorrect -> Correct",
          "[X] is a [Y] ./Incorrect -> Correct",
          "[X] is a [Y] ./Incorrect -> Correct",
          "[X] is a [Y] ./Incorrect -> Correct",
          "[X] is a [Y] ./Incorrect -> Correct",
          "[X] is a [Y] ./Incorrect -> Correct",
          "[X] is a [Y] ./Incorrect -> Correct",
          "[X] is a [Y] ./Incorrect -> Correct",
          "[X] is a [Y] ./Incorrect -> Correct",
          "[X] is a [Y] ./Incorrect -> Correct",
          "[X] is a [Y] ./Incorrect -> Correct",
          "[X] is a [Y] ./Incorrect -> Correct",
          "[X] is a [Y] ./Incorrect -> Correct",
          "[X] is a [Y] ./Incorrect -> Correct",
          "[X] is a [Y] ./Incorrect -> Correct",
          "[X] is a [Y] ./Incorrect -> Correct",
          "[X] is a [Y] ./Incorrect -> Correct",
          "[X] is a [Y] ./Incorrect -> Correct",
          "[X] is a [Y] ./Incorrect -> Correct",
          "[X] is a [Y] ./Incorrect -> Correct",
          "[X] is a [Y] ./Incorrect -> Correct",
          "[X] is a [Y] ./Incorrect -> Correct",
          "[X] is a [Y] ./Incorrect -> Correct",
          "[X] is a [Y] ./Incorrect -> Correct",
          "[X] is a [Y] ./Incorrect -> Correct",
          "[X] is a [Y] ./Incorrect -> Correct",
          "[X] is a [Y] ./Incorrect -> Correct",
          "[X] is a [Y] ./Incorrect -> Correct",
          "[X] is a [Y] ./Incorrect -> Correct",
          "[X] is a [Y] ./Incorrect -> Correct",
          "[X] is a [Y] ./Incorrect -> Correct",
          "[X] is a [Y] ./Incorrect -> Correct",
          "[X] is a [Y] ./Incorrect -> Correct",
          "[X] is a [Y] ./Incorrect -> Correct",
          "[X] is a [Y] ./Incorrect -> Correct",
          "[X] is a [Y] ./Incorrect -> Correct",
          "[X] is a [Y] ./Incorrect -> Correct",
          "[X] is a [Y] ./Incorrect -> Correct",
          "[X] is a [Y] ./Incorrect -> Correct",
          "[X] is a [Y] ./Incorrect -> Correct",
          "[X] is a [Y] ./Incorrect -> Correct",
          "[X] is a [Y] ./Incorrect -> Correct",
          "[X] is a [Y] ./Incorrect -> Correct",
          "[X] is a [Y] ./Incorrect -> Correct",
          "[X] is a [Y] ./Incorrect -> Correct",
          "[X] is a [Y] ./Incorrect -> Correct",
          "[X] is a [Y] ./Incorrect -> Correct",
          "[X] is a [Y] ./Incorrect -> Correct",
          "[X] is a [Y] ./Incorrect -> Correct",
          "[X] is a [Y] ./Incorrect -> Correct",
          "[X] is a [Y] ./Incorrect -> Correct",
          "[X] is a [Y] ./Incorrect -> Correct",
          "[X] is a [Y] ./Incorrect -> Correct",
          "[X] is a [Y] ./Incorrect -> Correct",
          "[X] is a [Y] ./Correct -> Incorrect",
          "[X] is a [Y] ./Incorrect -> Correct",
          "[X] is a [Y] ./Incorrect -> Correct",
          "[X] is a [Y] ./Incorrect -> Correct",
          "[X] is a [Y] ./Incorrect -> Correct",
          "[X] is a [Y] ./Incorrect -> Correct",
          "[X] is a [Y] ./Incorrect -> Correct",
          "[X] is a [Y] ./Incorrect -> Correct",
          "[X] is a [Y] ./Incorrect -> Correct",
          "[X] is a [Y] ./Incorrect -> Correct",
          "[X] is a [Y] ./Correct -> Incorrect",
          "[X] is a [Y] ./Incorrect -> Correct",
          "[X] is a [Y] ./Incorrect -> Correct",
          "[X] is a [Y] ./Incorrect -> Correct",
          "[X] is a [Y] ./Incorrect -> Correct",
          "[X] is a [Y] ./Incorrect -> Correct",
          "[X] is a [Y] ./Incorrect -> Correct",
          "[X] is a [Y] ./Incorrect -> Correct",
          "[X] is a [Y] ./Correct -> Incorrect",
          "[X] is a [Y] ./Incorrect -> Correct",
          "[X] is a [Y] ./Incorrect -> Correct",
          "[X] is a [Y] ./Incorrect -> Correct",
          "[X] is a [Y] ./Incorrect -> Correct",
          "[X] is a [Y] ./Incorrect -> Correct",
          "[X] is a [Y] ./Incorrect -> Correct",
          "[X] is a [Y] ./Incorrect -> Correct",
          "[X] is a [Y] ./Incorrect -> Correct",
          "[X] is a [Y] ./Incorrect -> Correct",
          "[X] is a [Y] ./Incorrect -> Correct",
          "[X] is a [Y] ./Incorrect -> Correct",
          "[X] is a [Y] ./Incorrect -> Correct",
          "[X] is a [Y] ./Incorrect -> Correct",
          "[X] is a [Y] ./Incorrect -> Correct",
          "[X] is a [Y] ./Incorrect -> Correct",
          "[X] is a [Y] ./Incorrect -> Correct",
          "[X] is a [Y] ./Correct -> Incorrect",
          "[X] is a [Y] ./Incorrect -> Correct",
          "[X] is a [Y] ./Incorrect -> Correct",
          "[X] is a [Y] ./Incorrect -> Correct",
          "[X] is a [Y] ./Incorrect -> Correct",
          "[X] is a [Y] ./Incorrect -> Correct",
          "[X] is a [Y] ./Incorrect -> Correct",
          "[X] is a [Y] ./Incorrect -> Correct",
          "[X] is a [Y] ./Incorrect -> Correct",
          "[X] is a [Y] ./Incorrect -> Correct",
          "[X] is a [Y] ./Incorrect -> Correct",
          "[X] is a [Y] ./Incorrect -> Correct",
          "[X] is a [Y] ./Incorrect -> Correct",
          "[X] is a [Y] ./Incorrect -> Correct",
          "[X] is a [Y] ./Incorrect -> Correct",
          "[X] is a [Y] ./Incorrect -> Correct",
          "[X] is a [Y] ./Incorrect -> Correct",
          "[X] is a [Y] ./Correct -> Incorrect",
          "[X] is a [Y] ./Incorrect -> Correct",
          "[X] is a [Y] ./Incorrect -> Correct",
          "[X] is a [Y] ./Incorrect -> Correct",
          "[X] is a [Y] ./Correct -> Incorrect",
          "[X] is a [Y] ./Incorrect -> Correct",
          "[X] is a [Y] ./Incorrect -> Correct",
          "[X] is a [Y] ./Incorrect -> Correct",
          "[X] is a [Y] ./Incorrect -> Correct",
          "[X] is a [Y] ./Incorrect -> Correct",
          "[X] is a [Y] ./Incorrect -> Correct",
          "[X] is a [Y] ./Incorrect -> Correct",
          "[X] is a [Y] ./Incorrect -> Correct",
          "[X] is a [Y] ./Incorrect -> Correct",
          "[X] is a [Y] ./Incorrect -> Correct",
          "[X] is a [Y] ./Incorrect -> Correct",
          "[X] is a [Y] ./Incorrect -> Correct",
          "[X] is a [Y] ./Incorrect -> Correct",
          "[X] is a [Y] ./Correct -> Incorrect",
          "[X] is a [Y] ./Incorrect -> Correct",
          "[X] is a [Y] ./Incorrect -> Correct",
          "[X] is a [Y] ./Incorrect -> Correct",
          "[X] is a [Y] ./Incorrect -> Correct",
          "[X] is a [Y] .",
          "[X] is a [Y] .",
          ""
         ],
         "type": "treemap",
         "values": [
          1,
          1,
          1,
          1,
          1,
          1,
          1,
          1,
          1,
          1,
          1,
          1,
          1,
          1,
          1,
          1,
          1,
          1,
          1,
          1,
          1,
          1,
          1,
          1,
          1,
          1,
          1,
          1,
          1,
          1,
          1,
          1,
          1,
          1,
          1,
          1,
          1,
          1,
          1,
          1,
          1,
          1,
          1,
          1,
          1,
          1,
          1,
          1,
          1,
          1,
          1,
          1,
          1,
          1,
          1,
          1,
          1,
          1,
          1,
          1,
          1,
          1,
          1,
          1,
          1,
          1,
          1,
          1,
          1,
          1,
          1,
          1,
          1,
          1,
          1,
          1,
          1,
          1,
          1,
          1,
          1,
          1,
          1,
          1,
          1,
          1,
          1,
          1,
          1,
          1,
          1,
          1,
          1,
          1,
          1,
          1,
          1,
          1,
          1,
          1,
          1,
          1,
          1,
          1,
          1,
          1,
          1,
          1,
          1,
          1,
          1,
          1,
          1,
          1,
          1,
          1,
          1,
          1,
          1,
          1,
          1,
          1,
          1,
          1,
          1,
          1,
          1,
          1,
          1,
          1,
          1,
          1,
          1,
          1,
          1,
          1,
          1,
          1,
          1,
          1,
          1,
          1,
          1,
          1,
          1,
          1,
          1,
          1,
          1,
          1,
          1,
          1,
          1,
          1,
          1,
          1,
          1,
          1,
          1,
          1,
          1,
          1,
          1,
          1,
          1,
          1,
          1,
          1,
          1,
          1,
          1,
          1,
          1,
          1,
          1,
          1,
          1,
          1,
          1,
          1,
          1,
          1,
          1,
          1,
          1,
          1,
          1,
          1,
          1,
          1,
          1,
          1,
          10,
          182,
          192
         ]
        }
       ],
       "layout": {
        "legend": {
         "tracegroupgap": 0
        },
        "template": {
         "data": {
          "bar": [
           {
            "error_x": {
             "color": "#2a3f5f"
            },
            "error_y": {
             "color": "#2a3f5f"
            },
            "marker": {
             "line": {
              "color": "#E5ECF6",
              "width": 0.5
             },
             "pattern": {
              "fillmode": "overlay",
              "size": 10,
              "solidity": 0.2
             }
            },
            "type": "bar"
           }
          ],
          "barpolar": [
           {
            "marker": {
             "line": {
              "color": "#E5ECF6",
              "width": 0.5
             },
             "pattern": {
              "fillmode": "overlay",
              "size": 10,
              "solidity": 0.2
             }
            },
            "type": "barpolar"
           }
          ],
          "carpet": [
           {
            "aaxis": {
             "endlinecolor": "#2a3f5f",
             "gridcolor": "white",
             "linecolor": "white",
             "minorgridcolor": "white",
             "startlinecolor": "#2a3f5f"
            },
            "baxis": {
             "endlinecolor": "#2a3f5f",
             "gridcolor": "white",
             "linecolor": "white",
             "minorgridcolor": "white",
             "startlinecolor": "#2a3f5f"
            },
            "type": "carpet"
           }
          ],
          "choropleth": [
           {
            "colorbar": {
             "outlinewidth": 0,
             "ticks": ""
            },
            "type": "choropleth"
           }
          ],
          "contour": [
           {
            "colorbar": {
             "outlinewidth": 0,
             "ticks": ""
            },
            "colorscale": [
             [
              0,
              "#0d0887"
             ],
             [
              0.1111111111111111,
              "#46039f"
             ],
             [
              0.2222222222222222,
              "#7201a8"
             ],
             [
              0.3333333333333333,
              "#9c179e"
             ],
             [
              0.4444444444444444,
              "#bd3786"
             ],
             [
              0.5555555555555556,
              "#d8576b"
             ],
             [
              0.6666666666666666,
              "#ed7953"
             ],
             [
              0.7777777777777778,
              "#fb9f3a"
             ],
             [
              0.8888888888888888,
              "#fdca26"
             ],
             [
              1,
              "#f0f921"
             ]
            ],
            "type": "contour"
           }
          ],
          "contourcarpet": [
           {
            "colorbar": {
             "outlinewidth": 0,
             "ticks": ""
            },
            "type": "contourcarpet"
           }
          ],
          "heatmap": [
           {
            "colorbar": {
             "outlinewidth": 0,
             "ticks": ""
            },
            "colorscale": [
             [
              0,
              "#0d0887"
             ],
             [
              0.1111111111111111,
              "#46039f"
             ],
             [
              0.2222222222222222,
              "#7201a8"
             ],
             [
              0.3333333333333333,
              "#9c179e"
             ],
             [
              0.4444444444444444,
              "#bd3786"
             ],
             [
              0.5555555555555556,
              "#d8576b"
             ],
             [
              0.6666666666666666,
              "#ed7953"
             ],
             [
              0.7777777777777778,
              "#fb9f3a"
             ],
             [
              0.8888888888888888,
              "#fdca26"
             ],
             [
              1,
              "#f0f921"
             ]
            ],
            "type": "heatmap"
           }
          ],
          "heatmapgl": [
           {
            "colorbar": {
             "outlinewidth": 0,
             "ticks": ""
            },
            "colorscale": [
             [
              0,
              "#0d0887"
             ],
             [
              0.1111111111111111,
              "#46039f"
             ],
             [
              0.2222222222222222,
              "#7201a8"
             ],
             [
              0.3333333333333333,
              "#9c179e"
             ],
             [
              0.4444444444444444,
              "#bd3786"
             ],
             [
              0.5555555555555556,
              "#d8576b"
             ],
             [
              0.6666666666666666,
              "#ed7953"
             ],
             [
              0.7777777777777778,
              "#fb9f3a"
             ],
             [
              0.8888888888888888,
              "#fdca26"
             ],
             [
              1,
              "#f0f921"
             ]
            ],
            "type": "heatmapgl"
           }
          ],
          "histogram": [
           {
            "marker": {
             "pattern": {
              "fillmode": "overlay",
              "size": 10,
              "solidity": 0.2
             }
            },
            "type": "histogram"
           }
          ],
          "histogram2d": [
           {
            "colorbar": {
             "outlinewidth": 0,
             "ticks": ""
            },
            "colorscale": [
             [
              0,
              "#0d0887"
             ],
             [
              0.1111111111111111,
              "#46039f"
             ],
             [
              0.2222222222222222,
              "#7201a8"
             ],
             [
              0.3333333333333333,
              "#9c179e"
             ],
             [
              0.4444444444444444,
              "#bd3786"
             ],
             [
              0.5555555555555556,
              "#d8576b"
             ],
             [
              0.6666666666666666,
              "#ed7953"
             ],
             [
              0.7777777777777778,
              "#fb9f3a"
             ],
             [
              0.8888888888888888,
              "#fdca26"
             ],
             [
              1,
              "#f0f921"
             ]
            ],
            "type": "histogram2d"
           }
          ],
          "histogram2dcontour": [
           {
            "colorbar": {
             "outlinewidth": 0,
             "ticks": ""
            },
            "colorscale": [
             [
              0,
              "#0d0887"
             ],
             [
              0.1111111111111111,
              "#46039f"
             ],
             [
              0.2222222222222222,
              "#7201a8"
             ],
             [
              0.3333333333333333,
              "#9c179e"
             ],
             [
              0.4444444444444444,
              "#bd3786"
             ],
             [
              0.5555555555555556,
              "#d8576b"
             ],
             [
              0.6666666666666666,
              "#ed7953"
             ],
             [
              0.7777777777777778,
              "#fb9f3a"
             ],
             [
              0.8888888888888888,
              "#fdca26"
             ],
             [
              1,
              "#f0f921"
             ]
            ],
            "type": "histogram2dcontour"
           }
          ],
          "mesh3d": [
           {
            "colorbar": {
             "outlinewidth": 0,
             "ticks": ""
            },
            "type": "mesh3d"
           }
          ],
          "parcoords": [
           {
            "line": {
             "colorbar": {
              "outlinewidth": 0,
              "ticks": ""
             }
            },
            "type": "parcoords"
           }
          ],
          "pie": [
           {
            "automargin": true,
            "type": "pie"
           }
          ],
          "scatter": [
           {
            "fillpattern": {
             "fillmode": "overlay",
             "size": 10,
             "solidity": 0.2
            },
            "type": "scatter"
           }
          ],
          "scatter3d": [
           {
            "line": {
             "colorbar": {
              "outlinewidth": 0,
              "ticks": ""
             }
            },
            "marker": {
             "colorbar": {
              "outlinewidth": 0,
              "ticks": ""
             }
            },
            "type": "scatter3d"
           }
          ],
          "scattercarpet": [
           {
            "marker": {
             "colorbar": {
              "outlinewidth": 0,
              "ticks": ""
             }
            },
            "type": "scattercarpet"
           }
          ],
          "scattergeo": [
           {
            "marker": {
             "colorbar": {
              "outlinewidth": 0,
              "ticks": ""
             }
            },
            "type": "scattergeo"
           }
          ],
          "scattergl": [
           {
            "marker": {
             "colorbar": {
              "outlinewidth": 0,
              "ticks": ""
             }
            },
            "type": "scattergl"
           }
          ],
          "scattermapbox": [
           {
            "marker": {
             "colorbar": {
              "outlinewidth": 0,
              "ticks": ""
             }
            },
            "type": "scattermapbox"
           }
          ],
          "scatterpolar": [
           {
            "marker": {
             "colorbar": {
              "outlinewidth": 0,
              "ticks": ""
             }
            },
            "type": "scatterpolar"
           }
          ],
          "scatterpolargl": [
           {
            "marker": {
             "colorbar": {
              "outlinewidth": 0,
              "ticks": ""
             }
            },
            "type": "scatterpolargl"
           }
          ],
          "scatterternary": [
           {
            "marker": {
             "colorbar": {
              "outlinewidth": 0,
              "ticks": ""
             }
            },
            "type": "scatterternary"
           }
          ],
          "surface": [
           {
            "colorbar": {
             "outlinewidth": 0,
             "ticks": ""
            },
            "colorscale": [
             [
              0,
              "#0d0887"
             ],
             [
              0.1111111111111111,
              "#46039f"
             ],
             [
              0.2222222222222222,
              "#7201a8"
             ],
             [
              0.3333333333333333,
              "#9c179e"
             ],
             [
              0.4444444444444444,
              "#bd3786"
             ],
             [
              0.5555555555555556,
              "#d8576b"
             ],
             [
              0.6666666666666666,
              "#ed7953"
             ],
             [
              0.7777777777777778,
              "#fb9f3a"
             ],
             [
              0.8888888888888888,
              "#fdca26"
             ],
             [
              1,
              "#f0f921"
             ]
            ],
            "type": "surface"
           }
          ],
          "table": [
           {
            "cells": {
             "fill": {
              "color": "#EBF0F8"
             },
             "line": {
              "color": "white"
             }
            },
            "header": {
             "fill": {
              "color": "#C8D4E3"
             },
             "line": {
              "color": "white"
             }
            },
            "type": "table"
           }
          ]
         },
         "layout": {
          "annotationdefaults": {
           "arrowcolor": "#2a3f5f",
           "arrowhead": 0,
           "arrowwidth": 1
          },
          "autotypenumbers": "strict",
          "coloraxis": {
           "colorbar": {
            "outlinewidth": 0,
            "ticks": ""
           }
          },
          "colorscale": {
           "diverging": [
            [
             0,
             "#8e0152"
            ],
            [
             0.1,
             "#c51b7d"
            ],
            [
             0.2,
             "#de77ae"
            ],
            [
             0.3,
             "#f1b6da"
            ],
            [
             0.4,
             "#fde0ef"
            ],
            [
             0.5,
             "#f7f7f7"
            ],
            [
             0.6,
             "#e6f5d0"
            ],
            [
             0.7,
             "#b8e186"
            ],
            [
             0.8,
             "#7fbc41"
            ],
            [
             0.9,
             "#4d9221"
            ],
            [
             1,
             "#276419"
            ]
           ],
           "sequential": [
            [
             0,
             "#0d0887"
            ],
            [
             0.1111111111111111,
             "#46039f"
            ],
            [
             0.2222222222222222,
             "#7201a8"
            ],
            [
             0.3333333333333333,
             "#9c179e"
            ],
            [
             0.4444444444444444,
             "#bd3786"
            ],
            [
             0.5555555555555556,
             "#d8576b"
            ],
            [
             0.6666666666666666,
             "#ed7953"
            ],
            [
             0.7777777777777778,
             "#fb9f3a"
            ],
            [
             0.8888888888888888,
             "#fdca26"
            ],
            [
             1,
             "#f0f921"
            ]
           ],
           "sequentialminus": [
            [
             0,
             "#0d0887"
            ],
            [
             0.1111111111111111,
             "#46039f"
            ],
            [
             0.2222222222222222,
             "#7201a8"
            ],
            [
             0.3333333333333333,
             "#9c179e"
            ],
            [
             0.4444444444444444,
             "#bd3786"
            ],
            [
             0.5555555555555556,
             "#d8576b"
            ],
            [
             0.6666666666666666,
             "#ed7953"
            ],
            [
             0.7777777777777778,
             "#fb9f3a"
            ],
            [
             0.8888888888888888,
             "#fdca26"
            ],
            [
             1,
             "#f0f921"
            ]
           ]
          },
          "colorway": [
           "#636efa",
           "#EF553B",
           "#00cc96",
           "#ab63fa",
           "#FFA15A",
           "#19d3f3",
           "#FF6692",
           "#B6E880",
           "#FF97FF",
           "#FECB52"
          ],
          "font": {
           "color": "#2a3f5f"
          },
          "geo": {
           "bgcolor": "white",
           "lakecolor": "white",
           "landcolor": "#E5ECF6",
           "showlakes": true,
           "showland": true,
           "subunitcolor": "white"
          },
          "hoverlabel": {
           "align": "left"
          },
          "hovermode": "closest",
          "mapbox": {
           "style": "light"
          },
          "paper_bgcolor": "white",
          "plot_bgcolor": "#E5ECF6",
          "polar": {
           "angularaxis": {
            "gridcolor": "white",
            "linecolor": "white",
            "ticks": ""
           },
           "bgcolor": "#E5ECF6",
           "radialaxis": {
            "gridcolor": "white",
            "linecolor": "white",
            "ticks": ""
           }
          },
          "scene": {
           "xaxis": {
            "backgroundcolor": "#E5ECF6",
            "gridcolor": "white",
            "gridwidth": 2,
            "linecolor": "white",
            "showbackground": true,
            "ticks": "",
            "zerolinecolor": "white"
           },
           "yaxis": {
            "backgroundcolor": "#E5ECF6",
            "gridcolor": "white",
            "gridwidth": 2,
            "linecolor": "white",
            "showbackground": true,
            "ticks": "",
            "zerolinecolor": "white"
           },
           "zaxis": {
            "backgroundcolor": "#E5ECF6",
            "gridcolor": "white",
            "gridwidth": 2,
            "linecolor": "white",
            "showbackground": true,
            "ticks": "",
            "zerolinecolor": "white"
           }
          },
          "shapedefaults": {
           "line": {
            "color": "#2a3f5f"
           }
          },
          "ternary": {
           "aaxis": {
            "gridcolor": "white",
            "linecolor": "white",
            "ticks": ""
           },
           "baxis": {
            "gridcolor": "white",
            "linecolor": "white",
            "ticks": ""
           },
           "bgcolor": "#E5ECF6",
           "caxis": {
            "gridcolor": "white",
            "linecolor": "white",
            "ticks": ""
           }
          },
          "title": {
           "x": 0.05
          },
          "xaxis": {
           "automargin": true,
           "gridcolor": "white",
           "linecolor": "white",
           "ticks": "",
           "title": {
            "standoff": 15
           },
           "zerolinecolor": "white",
           "zerolinewidth": 2
          },
          "yaxis": {
           "automargin": true,
           "gridcolor": "white",
           "linecolor": "white",
           "ticks": "",
           "title": {
            "standoff": 15
           },
           "zerolinecolor": "white",
           "zerolinewidth": 2
          }
         }
        },
        "title": {
         "text": "Precision @0.5 threshold for hypernymy, gpt-l"
        }
       }
      }
     },
     "metadata": {},
     "output_type": "display_data"
    },
    {
     "data": {
      "application/vnd.plotly.v1+json": {
       "config": {
        "plotlyServerURL": "https://plot.ly"
       },
       "data": [
        {
         "branchvalues": "total",
         "customdata": [
          [
           "recliner",
           "furniture",
           "music",
           "furniture",
           "Recliner is furniture.",
           "Knowledge is Incorrect"
          ],
          [
           "rowboat",
           "boat",
           "boat",
           "boat",
           "Rowboat is a boat.",
           "Knowledge is Incorrect"
          ],
          [
           "businesswoman",
           "profession",
           "boat",
           "profession",
           "Businesswoman is a profession.",
           "Knowledge is Incorrect"
          ],
          [
           "sunflower",
           "flower",
           "flower",
           "flower",
           "Sunflower is a flower.",
           "Knowledge is Incorrect"
          ],
          [
           "bomb",
           "weapon",
           "fish",
           "weapon",
           "Bomb is a weapon.",
           "Knowledge is Incorrect"
          ],
          [
           "penguin",
           "bird",
           "furniture",
           "bird",
           "Penguin is a bird.",
           "Knowledge is Incorrect"
          ],
          [
           "tennis",
           "sport",
           "sport",
           "sport",
           "Tennis is a sport.",
           "Knowledge is Incorrect"
          ],
          [
           "chair",
           "furniture",
           "furniture",
           "furniture",
           "Chair is furniture.",
           "Knowledge is Incorrect"
          ],
          [
           "speeding",
           "crime",
           "vehicle",
           "crime",
           "Speeding is a crime.",
           "Knowledge is Incorrect"
          ],
          [
           "lawyer",
           "profession",
           "profession",
           "profession",
           "Lawyer is a profession.",
           "Knowledge is Incorrect"
          ],
          [
           "rape",
           "crime",
           "vegetable",
           "crime",
           "Rape is a crime.",
           "Knowledge is Incorrect"
          ],
          [
           "vandalism",
           "crime",
           "crime",
           "crime",
           "Vandalism is a crime.",
           "Knowledge is Incorrect"
          ],
          [
           "portugal",
           "country",
           "crime",
           "country",
           "Portugal is a country.",
           "Knowledge is Incorrect"
          ],
          [
           "raspberry",
           "fruit",
           "crime",
           "fruit",
           "Raspberry is a fruit.",
           "Knowledge is Incorrect"
          ],
          [
           "pants",
           "clothing",
           "clothing",
           "clothing",
           "Pants is a clothing.",
           "Knowledge is Incorrect"
          ],
          [
           "papaya",
           "fruit",
           "music",
           "fruit",
           "Papaya is a fruit.",
           "Knowledge is Incorrect"
          ],
          [
           "rap",
           "music",
           "music",
           "music",
           "Rap is a music.",
           "Knowledge is Incorrect"
          ],
          [
           "parrot",
           "bird",
           "bird",
           "bird",
           "Parrot is a bird.",
           "Knowledge is Incorrect"
          ],
          [
           "peach",
           "fruit",
           "fruit",
           "fruit",
           "Peach is a fruit.",
           "Knowledge is Incorrect"
          ],
          [
           "pear",
           "fruit",
           "fruit",
           "fruit",
           "Pear is a fruit.",
           "Knowledge is Incorrect"
          ],
          [
           "rainbow trout",
           "fish",
           "fish",
           "fish",
           "Rainbow trout is a fish.",
           "Knowledge is Correct"
          ],
          [
           "pigeon",
           "bird",
           "footwear",
           "bird",
           "Pigeon is a bird.",
           "Knowledge is Incorrect"
          ],
          [
           "palm",
           "tree",
           "footwear",
           "tree",
           "Palm is a tree.",
           "Knowledge is Incorrect"
          ],
          [
           "pontoon",
           "boat",
           "furniture",
           "boat",
           "Pontoon is a boat.",
           "Knowledge is Incorrect"
          ],
          [
           "punk",
           "music",
           "clothing",
           "music",
           "Punk is a music.",
           "Knowledge is Incorrect"
          ],
          [
           "pop",
           "music",
           "tree",
           "music",
           "Pop is a music.",
           "Knowledge is Incorrect"
          ],
          [
           "psychologist",
           "profession",
           "flower",
           "profession",
           "Psychologist is a profession.",
           "Knowledge is Incorrect"
          ],
          [
           "pineapple",
           "fruit",
           "clothing",
           "fruit",
           "Pineapple is a fruit.",
           "Knowledge is Incorrect"
          ],
          [
           "SUV",
           "vehicle",
           "furniture",
           "vehicle",
           "SUV is a vehicle.",
           "Knowledge is Incorrect"
          ],
          [
           "owl",
           "bird",
           "furniture",
           "bird",
           "Owl is a bird.",
           "Knowledge is Incorrect"
          ],
          [
           "maple",
           "tree",
           "tree",
           "tree",
           "Maple is a tree.",
           "Knowledge is Correct"
          ],
          [
           "mayor",
           "politician",
           "footwear",
           "politician",
           "Mayor is a politician.",
           "Knowledge is Incorrect"
          ],
          [
           "metal",
           "music",
           "music",
           "music",
           "Metal is a music.",
           "Knowledge is Incorrect"
          ],
          [
           "mexico",
           "country",
           "country",
           "country",
           "Mexico is a country.",
           "Knowledge is Correct"
          ],
          [
           "mile",
           "distance",
           "profession",
           "distance",
           "Mile is a distance.",
           "Knowledge is Incorrect"
          ],
          [
           "millisecond",
           "time",
           "vegetable",
           "time",
           "Millisecond is a time.",
           "Knowledge is Incorrect"
          ],
          [
           "minivan",
           "vehicle",
           "music",
           "vehicle",
           "Minivan is a vehicle.",
           "Knowledge is Incorrect"
          ],
          [
           "minnow",
           "fish",
           "footwear",
           "fish",
           "Minnow is a fish.",
           "Knowledge is Incorrect"
          ],
          [
           "minute",
           "time",
           "time",
           "time",
           "Minute is a time.",
           "Knowledge is Incorrect"
          ],
          [
           "missile",
           "weapon",
           "weapon",
           "weapon",
           "Missile is a weapon.",
           "Knowledge is Incorrect"
          ],
          [
           "monsoons",
           "weather",
           "fish",
           "weather",
           "Monsoons is a weather.",
           "Knowledge is Incorrect"
          ],
          [
           "month",
           "time",
           "weather",
           "time",
           "Month is a time.",
           "Knowledge is Incorrect"
          ],
          [
           "moped",
           "vehicle",
           "vehicle",
           "vehicle",
           "Moped is a vehicle.",
           "Knowledge is Incorrect"
          ],
          [
           "nectarine",
           "fruit",
           "fruit",
           "fruit",
           "Nectarine is a fruit.",
           "Knowledge is Incorrect"
          ],
          [
           "new age",
           "music",
           "fruit",
           "music",
           "New age is a music.",
           "Knowledge is Incorrect"
          ],
          [
           "nunchucks",
           "weapon",
           "footwear",
           "weapon",
           "Nunchucks is a weapon.",
           "Knowledge is Incorrect"
          ],
          [
           "nurse",
           "profession",
           "music",
           "profession",
           "Nurse is a profession.",
           "Knowledge is Incorrect"
          ],
          [
           "orange",
           "fruit",
           "fruit",
           "fruit",
           "Orange is a fruit.",
           "Knowledge is Incorrect"
          ],
          [
           "ostrich",
           "bird",
           "bird",
           "bird",
           "Ostrich is a bird.",
           "Knowledge is Incorrect"
          ],
          [
           "paddleboat",
           "boat",
           "boat",
           "boat",
           "Paddleboat is a boat.",
           "Knowledge is Incorrect"
          ],
          [
           "ottoman",
           "furniture",
           "fruit",
           "furniture",
           "Ottoman is furniture.",
           "Knowledge is Incorrect"
          ],
          [
           "sailboat",
           "boat",
           "boat",
           "boat",
           "Sailboat is a boat.",
           "Knowledge is Incorrect"
          ],
          [
           "rugby",
           "sport",
           "boat",
           "sport",
           "Rugby is a sport.",
           "Knowledge is Incorrect"
          ],
          [
           "switzerland",
           "country",
           "country",
           "country",
           "Switzerland is a country.",
           "Knowledge is Incorrect"
          ],
          [
           "sword",
           "weapon",
           "weapon",
           "weapon",
           "Sword is a weapon.",
           "Knowledge is Incorrect"
          ],
          [
           "table",
           "furniture",
           "music",
           "furniture",
           "Table is furniture.",
           "Knowledge is Incorrect"
          ],
          [
           "teacher",
           "profession",
           "music",
           "profession",
           "Teacher is a profession.",
           "Knowledge is Incorrect"
          ],
          [
           "techno",
           "music",
           "fish",
           "music",
           "Techno is a music.",
           "Knowledge is Incorrect"
          ],
          [
           "tornados",
           "weather",
           "weather",
           "weather",
           "Tornados is a weather.",
           "Knowledge is Correct"
          ],
          [
           "townhouse",
           "home",
           "furniture",
           "home",
           "Townhouse is a home.",
           "Knowledge is Incorrect"
          ],
          [
           "train",
           "vehicle",
           "bird",
           "vehicle",
           "Train is a vehicle.",
           "Knowledge is Incorrect"
          ],
          [
           "trout",
           "fish",
           "fish",
           "fish",
           "Trout is a fish.",
           "Knowledge is Incorrect"
          ],
          [
           "truck",
           "vehicle",
           "vehicle",
           "vehicle",
           "Truck is a vehicle.",
           "Knowledge is Incorrect"
          ],
          [
           "tuna",
           "fish",
           "fish",
           "fish",
           "Tuna is a fish.",
           "Knowledge is Incorrect"
          ],
          [
           "typhoons",
           "weather",
           "weather",
           "weather",
           "Typhoons is a weather.",
           "Knowledge is Incorrect"
          ],
          [
           "vulture",
           "bird",
           "bird",
           "bird",
           "Vulture is a bird.",
           "Knowledge is Incorrect"
          ],
          [
           "weeping willow",
           "tree",
           "fish",
           "tree",
           "Weeping willow is a tree.",
           "Knowledge is Incorrect"
          ],
          [
           "wind",
           "weather",
           "music",
           "weather",
           "Wind is a weather.",
           "Knowledge is Incorrect"
          ],
          [
           "woodpecker",
           "bird",
           "music",
           "bird",
           "Woodpecker is a bird.",
           "Knowledge is Incorrect"
          ],
          [
           "wrestling",
           "sport",
           "sport",
           "sport",
           "Wrestling is a sport.",
           "Knowledge is Incorrect"
          ],
          [
           "swimming",
           "sport",
           "sport",
           "sport",
           "Swimming is a sport.",
           "Knowledge is Correct"
          ],
          [
           "strawberry",
           "fruit",
           "fruit",
           "fruit",
           "Strawberry is a fruit.",
           "Knowledge is Incorrect"
          ],
          [
           "storms",
           "weather",
           "weather",
           "weather",
           "Storms is a weather.",
           "Knowledge is Incorrect"
          ],
          [
           "starfruit",
           "fruit",
           "fruit",
           "fruit",
           "Starfruit is a fruit.",
           "Knowledge is Incorrect"
          ],
          [
           "mango",
           "fruit",
           "sport",
           "fruit",
           "Mango is a fruit.",
           "Knowledge is Incorrect"
          ],
          [
           "salmon",
           "fish",
           "music",
           "fish",
           "Salmon is a fish.",
           "Knowledge is Incorrect"
          ],
          [
           "schooner",
           "boat",
           "music",
           "boat",
           "Schooner is a boat.",
           "Knowledge is Incorrect"
          ],
          [
           "scientist",
           "profession",
           "time",
           "profession",
           "Scientist is a profession.",
           "Knowledge is Incorrect"
          ],
          [
           "scotland",
           "country",
           "country",
           "country",
           "Scotland is a country.",
           "Knowledge is Incorrect"
          ],
          [
           "second cousin",
           "relative",
           "music",
           "relative",
           "Second cousin is a relative.",
           "Knowledge is Incorrect"
          ],
          [
           "ship",
           "vehicle",
           "fruit",
           "vehicle",
           "Ship is a vehicle.",
           "Knowledge is Incorrect"
          ],
          [
           "shoe",
           "footwear",
           "fish",
           "footwear",
           "Shoe is a footwear.",
           "Knowledge is Incorrect"
          ],
          [
           "ruble",
           "money",
           "profession",
           "money",
           "Ruble is money.",
           "Knowledge is Incorrect"
          ],
          [
           "skateboard",
           "vehicle",
           "vehicle",
           "vehicle",
           "Skateboard is a vehicle.",
           "Knowledge is Incorrect"
          ],
          [
           "slipper",
           "footwear",
           "footwear",
           "footwear",
           "Slipper is a footwear.",
           "Knowledge is Incorrect"
          ],
          [
           "snow",
           "weather",
           "clothing",
           "weather",
           "Snow is a weather.",
           "Knowledge is Incorrect"
          ],
          [
           "soccer",
           "sport",
           "sport",
           "sport",
           "Soccer is a sport.",
           "Knowledge is Incorrect"
          ],
          [
           "softball",
           "sport",
           "sport",
           "sport",
           "Softball is a sport.",
           "Knowledge is Correct"
          ],
          [
           "south africa",
           "country",
           "instrument",
           "country",
           "South Africa is a country.",
           "Knowledge is Incorrect"
          ],
          [
           "spear",
           "weapon",
           "boat",
           "weapon",
           "Spear is a weapon.",
           "Knowledge is Incorrect"
          ],
          [
           "speedboat",
           "boat",
           "gem",
           "boat",
           "Speedboat is a boat.",
           "Knowledge is Incorrect"
          ],
          [
           "spinach",
           "vegetable",
           "vegetable",
           "vegetable",
           "Spinach is a vegetable.",
           "Knowledge is Correct"
          ],
          [
           "skiing",
           "sport",
           "boat",
           "sport",
           "Skiing is a sport.",
           "Knowledge is Incorrect"
          ],
          [
           "loveseat",
           "furniture",
           "furniture",
           "furniture",
           "Loveseat is furniture.",
           "Knowledge is Incorrect"
          ],
          [
           "light year",
           "distance",
           "vehicle",
           "distance",
           "Light year is a distance.",
           "Knowledge is Incorrect"
          ],
          [
           "yacht",
           "boat",
           "furniture",
           "boat",
           "Yacht is a boat.",
           "Knowledge is Incorrect"
          ],
          [
           "brass knuckle",
           "weapon",
           "weapon",
           "weapon",
           "Brass knuckle is a weapon.",
           "Knowledge is Incorrect"
          ],
          [
           "brazil",
           "country",
           "sport",
           "country",
           "Brazil is a country.",
           "Knowledge is Incorrect"
          ],
          [
           "burglary",
           "crime",
           "crime",
           "crime",
           "Burglary is a crime.",
           "Knowledge is Incorrect"
          ],
          [
           "bus",
           "vehicle",
           "furniture",
           "vehicle",
           "Bus is a vehicle.",
           "Knowledge is Incorrect"
          ],
          [
           "businessman",
           "profession",
           "flower",
           "profession",
           "Businessman is a profession.",
           "Knowledge is Incorrect"
          ],
          [
           "cab",
           "vehicle",
           "vehicle",
           "vehicle",
           "Cab is a vehicle.",
           "Knowledge is Incorrect"
          ],
          [
           "cabbages",
           "vegetable",
           "vegetable",
           "vegetable",
           "Cabbages is a vegetable.",
           "Knowledge is Correct"
          ],
          [
           "canada",
           "country",
           "politician",
           "country",
           "Canada is a country.",
           "Knowledge is Incorrect"
          ],
          [
           "bra",
           "clothing",
           "clothing",
           "clothing",
           "Bra is a clothing.",
           "Knowledge is Incorrect"
          ],
          [
           "car",
           "vehicle",
           "boat",
           "vehicle",
           "Car is a vehicle.",
           "Knowledge is Incorrect"
          ],
          [
           "catamaran",
           "boat",
           "fruit",
           "boat",
           "Catamaran is a boat.",
           "Knowledge is Incorrect"
          ],
          [
           "cauliflower",
           "vegetable",
           "vegetable",
           "vegetable",
           "Cauliflower is a vegetable.",
           "Knowledge is Incorrect"
          ],
          [
           "cedar",
           "tree",
           "tree",
           "tree",
           "Cedar is a tree.",
           "Knowledge is Correct"
          ],
          [
           "celery",
           "vegetable",
           "vegetable",
           "vegetable",
           "Celery is a vegetable.",
           "Knowledge is Incorrect"
          ],
          [
           "cherry",
           "fruit",
           "fish",
           "fruit",
           "Cherry is a fruit.",
           "Knowledge is Incorrect"
          ],
          [
           "chile",
           "country",
           "country",
           "country",
           "Chile is a country.",
           "Knowledge is Incorrect"
          ],
          [
           "classical",
           "music",
           "vegetable",
           "music",
           "Classical is a music.",
           "Knowledge is Incorrect"
          ],
          [
           "clog",
           "footwear",
           "footwear",
           "footwear",
           "Clog is a footwear.",
           "Knowledge is Incorrect"
          ],
          [
           "carrots",
           "vegetable",
           "vegetable",
           "vegetable",
           "Carrots is a vegetable.",
           "Knowledge is Incorrect"
          ],
          [
           "boxer shorts",
           "clothing",
           "clothing",
           "clothing",
           "Boxer shorts is a clothing.",
           "Knowledge is Correct"
          ],
          [
           "bowling",
           "sport",
           "music",
           "sport",
           "Bowling is a sport.",
           "Knowledge is Incorrect"
          ],
          [
           "bookcase",
           "furniture",
           "furniture",
           "furniture",
           "Bookcase is furniture.",
           "Knowledge is Incorrect"
          ],
          [
           "accountant",
           "profession",
           "sport",
           "profession",
           "Accountant is a profession.",
           "Knowledge is Incorrect"
          ],
          [
           "airplane",
           "vehicle",
           "tree",
           "vehicle",
           "Airplane is a vehicle.",
           "Knowledge is Incorrect"
          ],
          [
           "apartment",
           "home",
           "tool",
           "home",
           "Apartment is a home.",
           "Knowledge is Incorrect"
          ],
          [
           "apricot",
           "fruit",
           "boat",
           "fruit",
           "Apricot is a fruit.",
           "Knowledge is Incorrect"
          ],
          [
           "argentina",
           "country",
           "country",
           "country",
           "Argentina is a country.",
           "Knowledge is Incorrect"
          ],
          [
           "armoire",
           "furniture",
           "furniture",
           "clothing",
           "Armoire is furniture.",
           "Knowledge is Correct"
          ],
          [
           "asparagus",
           "vegetable",
           "furniture",
           "vegetable",
           "Asparagus is a vegetable.",
           "Knowledge is Incorrect"
          ],
          [
           "australia",
           "country",
           "footwear",
           "country",
           "Australia is a country.",
           "Knowledge is Incorrect"
          ],
          [
           "badminton",
           "sport",
           "sport",
           "sport",
           "Badminton is a sport.",
           "Knowledge is Incorrect"
          ],
          [
           "banana",
           "fruit",
           "music",
           "fruit",
           "Banana is a fruit.",
           "Knowledge is Incorrect"
          ],
          [
           "barge",
           "boat",
           "music",
           "boat",
           "Barge is a boat.",
           "Knowledge is Incorrect"
          ],
          [
           "baseball",
           "sport",
           "sport",
           "sport",
           "Baseball is a sport.",
           "Knowledge is Incorrect"
          ],
          [
           "basketball",
           "sport",
           "music",
           "sport",
           "Basketball is a sport.",
           "Knowledge is Incorrect"
          ],
          [
           "bed",
           "furniture",
           "boat",
           "furniture",
           "Bed is furniture.",
           "Knowledge is Incorrect"
          ],
          [
           "bicycle",
           "vehicle",
           "footwear",
           "vehicle",
           "Bicycle is a vehicle.",
           "Knowledge is Incorrect"
          ],
          [
           "blackbird",
           "bird",
           "crime",
           "bird",
           "Blackbird is a bird.",
           "Knowledge is Incorrect"
          ],
          [
           "blizzards",
           "weather",
           "boat",
           "weather",
           "Blizzards is a weather.",
           "Knowledge is Incorrect"
          ],
          [
           "bluejay",
           "bird",
           "sport",
           "bird",
           "Bluejay is a bird.",
           "Knowledge is Incorrect"
          ],
          [
           "blues",
           "music",
           "music",
           "music",
           "Blues is a music.",
           "Knowledge is Incorrect"
          ],
          [
           "clouds",
           "weather",
           "furniture",
           "weather",
           "Clouds is a weather.",
           "Knowledge is Incorrect"
          ],
          [
           "coat",
           "clothing",
           "music",
           "clothing",
           "Coat is a clothing.",
           "Knowledge is Incorrect"
          ],
          [
           "cod",
           "fish",
           "furniture",
           "fish",
           "Cod is a fish.",
           "Knowledge is Incorrect"
          ],
          [
           "coffee table",
           "furniture",
           "furniture",
           "furniture",
           "Coffee table is furniture.",
           "Knowledge is Incorrect"
          ],
          [
           "futon",
           "furniture",
           "furniture",
           "furniture",
           "Futon is furniture.",
           "Knowledge is Incorrect"
          ],
          [
           "gnat",
           "bug",
           "country",
           "bug",
           "Gnat is a bug.",
           "Knowledge is Incorrect"
          ],
          [
           "golf",
           "sport",
           "tree",
           "sport",
           "Golf is a sport.",
           "Knowledge is Incorrect"
          ],
          [
           "grandparent",
           "relative",
           "fruit",
           "relative",
           "Grandparent is a relative.",
           "Knowledge is Incorrect"
          ],
          [
           "grapefruit",
           "fruit",
           "music",
           "fruit",
           "Grapefruit is a fruit.",
           "Knowledge is Incorrect"
          ],
          [
           "great aunt",
           "relative",
           "furniture",
           "relative",
           "Great aunt is a relative.",
           "Knowledge is Incorrect"
          ],
          [
           "guppy",
           "fish",
           "fish",
           "fish",
           "Guppy is a fish.",
           "Knowledge is Incorrect"
          ],
          [
           "handgun",
           "weapon",
           "weapon",
           "weapon",
           "Handgun is a weapon.",
           "Knowledge is Incorrect"
          ],
          [
           "hawk",
           "bird",
           "bird",
           "bird",
           "Hawk is a bird.",
           "Knowledge is Incorrect"
          ],
          [
           "heel",
           "footwear",
           "footwear",
           "footwear",
           "Heel is a footwear.",
           "Knowledge is Incorrect"
          ],
          [
           "herring",
           "fish",
           "furniture",
           "fish",
           "Herring is a fish.",
           "Knowledge is Incorrect"
          ],
          [
           "hour",
           "time",
           "time",
           "time",
           "Hour is a time.",
           "Knowledge is Incorrect"
          ],
          [
           "hummingbird",
           "bird",
           "bird",
           "bird",
           "Hummingbird is a bird.",
           "Knowledge is Incorrect"
          ],
          [
           "jacket",
           "clothing",
           "bird",
           "clothing",
           "Jacket is a clothing.",
           "Knowledge is Incorrect"
          ],
          [
           "jeans",
           "clothing",
           "furniture",
           "clothing",
           "Jeans is a clothing.",
           "Knowledge is Incorrect"
          ],
          [
           "kayak",
           "boat",
           "furniture",
           "boat",
           "Kayak is a boat.",
           "Knowledge is Incorrect"
          ],
          [
           "kilometer",
           "distance",
           "animal",
           "distance",
           "Kilometer is a distance.",
           "Knowledge is Incorrect"
          ],
          [
           "lacrosse",
           "sport",
           "clothing",
           "sport",
           "Lacrosse is a sport.",
           "Knowledge is Incorrect"
          ],
          [
           "lemon",
           "fruit",
           "fruit",
           "fruit",
           "Lemon is a fruit.",
           "Knowledge is Incorrect"
          ],
          [
           "footstool",
           "furniture",
           "furniture",
           "furniture",
           "Footstool is furniture.",
           "Knowledge is Incorrect"
          ],
          [
           "loafer",
           "footwear",
           "footwear",
           "footwear",
           "Loafer is a footwear.",
           "Knowledge is Incorrect"
          ],
          [
           "football",
           "sport",
           "music",
           "sport",
           "Football is a sport.",
           "Knowledge is Incorrect"
          ],
          [
           "finch",
           "bird",
           "bird",
           "bird",
           "Finch is a bird.",
           "Knowledge is Incorrect"
          ],
          [
           "condominium",
           "home",
           "clothing",
           "home",
           "Condominium is a home.",
           "Knowledge is Incorrect"
          ],
          [
           "congressman",
           "politician",
           "tree",
           "politician",
           "Congressman is a politician.",
           "Knowledge is Incorrect"
          ],
          [
           "couch",
           "furniture",
           "sport",
           "furniture",
           "Couch is furniture.",
           "Knowledge is Incorrect"
          ],
          [
           "cousin",
           "relative",
           "weather",
           "relative",
           "Cousin is a relative.",
           "Knowledge is Incorrect"
          ],
          [
           "cow",
           "animal",
           "animal",
           "animal",
           "Cow is an animal.",
           "Knowledge is Incorrect"
          ],
          [
           "crow",
           "bird",
           "bird",
           "bird",
           "Crow is a bird.",
           "Knowledge is Incorrect"
          ],
          [
           "day",
           "time",
           "music",
           "time",
           "Day is a time.",
           "Knowledge is Incorrect"
          ],
          [
           "desk",
           "furniture",
           "sport",
           "furniture",
           "Desk is furniture.",
           "Knowledge is Incorrect"
          ],
          [
           "dollar",
           "money",
           "furniture",
           "money",
           "Dollar is money.",
           "Knowledge is Incorrect"
          ],
          [
           "dress",
           "clothing",
           "clothing",
           "clothing",
           "Dress is a clothing.",
           "Knowledge is Incorrect"
          ],
          [
           "dresser",
           "furniture",
           "boat",
           "furniture",
           "Dresser is furniture.",
           "Knowledge is Incorrect"
          ],
          [
           "drill",
           "tool",
           "tool",
           "music",
           "Drill is a tool.",
           "Knowledge is Correct"
          ],
          [
           "drug use",
           "crime",
           "crime",
           "crime",
           "Drug use is a crime.",
           "Knowledge is Incorrect"
          ],
          [
           "duck",
           "bird",
           "bird",
           "bird",
           "Duck is a bird.",
           "Knowledge is Incorrect"
          ],
          [
           "eagle",
           "bird",
           "animal",
           "bird",
           "Eagle is a bird.",
           "Knowledge is Incorrect"
          ],
          [
           "earthquakes",
           "weather",
           "sport",
           "weather",
           "Earthquakes is a weather.",
           "Knowledge is Incorrect"
          ],
          [
           "engineer",
           "profession",
           "music",
           "profession",
           "Engineer is a profession.",
           "Knowledge is Incorrect"
          ],
          [
           "eon",
           "time",
           "time",
           "time",
           "Eon is a time.",
           "Knowledge is Incorrect"
          ],
          [
           "euro",
           "money",
           "animal",
           "money",
           "Euro is money.",
           "Knowledge is Incorrect"
          ],
          [
           "flounder",
           "fish",
           "fish",
           "fish",
           "Flounder is a fish.",
           "Knowledge is Incorrect"
          ],
          [
           "year",
           "time",
           "time",
           "time",
           "Year is a time.",
           "Knowledge is Incorrect"
          ],
          [
           "(?)",
           "(?)",
           "(?)",
           "(?)",
           "(?)",
           "Knowledge is Incorrect"
          ],
          [
           "(?)",
           "(?)",
           "(?)",
           "(?)",
           "(?)",
           "Knowledge is Correct"
          ],
          [
           "(?)",
           "(?)",
           "(?)",
           "(?)",
           "(?)",
           "(?)"
          ]
         ],
         "domain": {
          "x": [
           0,
           1
          ],
          "y": [
           0,
           1
          ]
         },
         "hovertemplate": "labels=%{label}<br>count=%{value}<br>parent=%{parent}<br>id=%{id}<br>sub_label=%{customdata[0]}<br>obj_label=%{customdata[1]}<br>argmax_o=%{customdata[2]}<br>old_argmax_o=%{customdata[3]}<br>sequence=%{customdata[4]}<br>category=%{customdata[5]}<extra></extra>",
         "ids": [
          "[X] is a [Y] ./Correct -> Incorrect/recliner, furniture",
          "[X] is a [Y] ./Correct -> Incorrect/rowboat, boat",
          "[X] is a [Y] ./Correct -> Incorrect/businesswoman, profession",
          "[X] is a [Y] ./Correct -> Incorrect/sunflower, flower",
          "[X] is a [Y] ./Correct -> Incorrect/bomb, weapon",
          "[X] is a [Y] ./Correct -> Incorrect/penguin, bird",
          "[X] is a [Y] ./Correct -> Incorrect/tennis, sport",
          "[X] is a [Y] ./Correct -> Incorrect/chair, furniture",
          "[X] is a [Y] ./Correct -> Incorrect/speeding, crime",
          "[X] is a [Y] ./Correct -> Incorrect/lawyer, profession",
          "[X] is a [Y] ./Correct -> Incorrect/rape, crime",
          "[X] is a [Y] ./Correct -> Incorrect/vandalism, crime",
          "[X] is a [Y] ./Correct -> Incorrect/portugal, country",
          "[X] is a [Y] ./Correct -> Incorrect/raspberry, fruit",
          "[X] is a [Y] ./Correct -> Incorrect/pants, clothing",
          "[X] is a [Y] ./Correct -> Incorrect/papaya, fruit",
          "[X] is a [Y] ./Correct -> Incorrect/rap, music",
          "[X] is a [Y] ./Correct -> Incorrect/parrot, bird",
          "[X] is a [Y] ./Correct -> Incorrect/peach, fruit",
          "[X] is a [Y] ./Correct -> Incorrect/pear, fruit",
          "[X] is a [Y] ./Incorrect -> Correct/rainbow trout, fish",
          "[X] is a [Y] ./Correct -> Incorrect/pigeon, bird",
          "[X] is a [Y] ./Correct -> Incorrect/palm, tree",
          "[X] is a [Y] ./Correct -> Incorrect/pontoon, boat",
          "[X] is a [Y] ./Correct -> Incorrect/punk, music",
          "[X] is a [Y] ./Correct -> Incorrect/pop, music",
          "[X] is a [Y] ./Correct -> Incorrect/psychologist, profession",
          "[X] is a [Y] ./Correct -> Incorrect/pineapple, fruit",
          "[X] is a [Y] ./Correct -> Incorrect/SUV, vehicle",
          "[X] is a [Y] ./Correct -> Incorrect/owl, bird",
          "[X] is a [Y] ./Incorrect -> Correct/maple, tree",
          "[X] is a [Y] ./Correct -> Incorrect/mayor, politician",
          "[X] is a [Y] ./Correct -> Incorrect/metal, music",
          "[X] is a [Y] ./Incorrect -> Correct/mexico, country",
          "[X] is a [Y] ./Correct -> Incorrect/mile, distance",
          "[X] is a [Y] ./Correct -> Incorrect/millisecond, time",
          "[X] is a [Y] ./Correct -> Incorrect/minivan, vehicle",
          "[X] is a [Y] ./Correct -> Incorrect/minnow, fish",
          "[X] is a [Y] ./Correct -> Incorrect/minute, time",
          "[X] is a [Y] ./Correct -> Incorrect/missile, weapon",
          "[X] is a [Y] ./Correct -> Incorrect/monsoons, weather",
          "[X] is a [Y] ./Correct -> Incorrect/month, time",
          "[X] is a [Y] ./Correct -> Incorrect/moped, vehicle",
          "[X] is a [Y] ./Correct -> Incorrect/nectarine, fruit",
          "[X] is a [Y] ./Correct -> Incorrect/new age, music",
          "[X] is a [Y] ./Correct -> Incorrect/nunchucks, weapon",
          "[X] is a [Y] ./Correct -> Incorrect/nurse, profession",
          "[X] is a [Y] ./Correct -> Incorrect/orange, fruit",
          "[X] is a [Y] ./Correct -> Incorrect/ostrich, bird",
          "[X] is a [Y] ./Correct -> Incorrect/paddleboat, boat",
          "[X] is a [Y] ./Correct -> Incorrect/ottoman, furniture",
          "[X] is a [Y] ./Correct -> Incorrect/sailboat, boat",
          "[X] is a [Y] ./Correct -> Incorrect/rugby, sport",
          "[X] is a [Y] ./Correct -> Incorrect/switzerland, country",
          "[X] is a [Y] ./Correct -> Incorrect/sword, weapon",
          "[X] is a [Y] ./Correct -> Incorrect/table, furniture",
          "[X] is a [Y] ./Correct -> Incorrect/teacher, profession",
          "[X] is a [Y] ./Correct -> Incorrect/techno, music",
          "[X] is a [Y] ./Incorrect -> Correct/tornados, weather",
          "[X] is a [Y] ./Correct -> Incorrect/townhouse, home",
          "[X] is a [Y] ./Correct -> Incorrect/train, vehicle",
          "[X] is a [Y] ./Correct -> Incorrect/trout, fish",
          "[X] is a [Y] ./Correct -> Incorrect/truck, vehicle",
          "[X] is a [Y] ./Correct -> Incorrect/tuna, fish",
          "[X] is a [Y] ./Correct -> Incorrect/typhoons, weather",
          "[X] is a [Y] ./Correct -> Incorrect/vulture, bird",
          "[X] is a [Y] ./Correct -> Incorrect/weeping willow, tree",
          "[X] is a [Y] ./Correct -> Incorrect/wind, weather",
          "[X] is a [Y] ./Correct -> Incorrect/woodpecker, bird",
          "[X] is a [Y] ./Correct -> Incorrect/wrestling, sport",
          "[X] is a [Y] ./Incorrect -> Correct/swimming, sport",
          "[X] is a [Y] ./Correct -> Incorrect/strawberry, fruit",
          "[X] is a [Y] ./Correct -> Incorrect/storms, weather",
          "[X] is a [Y] ./Correct -> Incorrect/starfruit, fruit",
          "[X] is a [Y] ./Correct -> Incorrect/mango, fruit",
          "[X] is a [Y] ./Correct -> Incorrect/salmon, fish",
          "[X] is a [Y] ./Correct -> Incorrect/schooner, boat",
          "[X] is a [Y] ./Correct -> Incorrect/scientist, profession",
          "[X] is a [Y] ./Correct -> Incorrect/scotland, country",
          "[X] is a [Y] ./Correct -> Incorrect/second cousin, relative",
          "[X] is a [Y] ./Correct -> Incorrect/ship, vehicle",
          "[X] is a [Y] ./Correct -> Incorrect/shoe, footwear",
          "[X] is a [Y] ./Correct -> Incorrect/ruble, money",
          "[X] is a [Y] ./Correct -> Incorrect/skateboard, vehicle",
          "[X] is a [Y] ./Correct -> Incorrect/slipper, footwear",
          "[X] is a [Y] ./Correct -> Incorrect/snow, weather",
          "[X] is a [Y] ./Correct -> Incorrect/soccer, sport",
          "[X] is a [Y] ./Incorrect -> Correct/softball, sport",
          "[X] is a [Y] ./Correct -> Incorrect/south africa, country",
          "[X] is a [Y] ./Correct -> Incorrect/spear, weapon",
          "[X] is a [Y] ./Correct -> Incorrect/speedboat, boat",
          "[X] is a [Y] ./Incorrect -> Correct/spinach, vegetable",
          "[X] is a [Y] ./Correct -> Incorrect/skiing, sport",
          "[X] is a [Y] ./Correct -> Incorrect/loveseat, furniture",
          "[X] is a [Y] ./Correct -> Incorrect/light year, distance",
          "[X] is a [Y] ./Correct -> Incorrect/yacht, boat",
          "[X] is a [Y] ./Correct -> Incorrect/brass knuckle, weapon",
          "[X] is a [Y] ./Correct -> Incorrect/brazil, country",
          "[X] is a [Y] ./Correct -> Incorrect/burglary, crime",
          "[X] is a [Y] ./Correct -> Incorrect/bus, vehicle",
          "[X] is a [Y] ./Correct -> Incorrect/businessman, profession",
          "[X] is a [Y] ./Correct -> Incorrect/cab, vehicle",
          "[X] is a [Y] ./Incorrect -> Correct/cabbages, vegetable",
          "[X] is a [Y] ./Correct -> Incorrect/canada, country",
          "[X] is a [Y] ./Correct -> Incorrect/bra, clothing",
          "[X] is a [Y] ./Correct -> Incorrect/car, vehicle",
          "[X] is a [Y] ./Correct -> Incorrect/catamaran, boat",
          "[X] is a [Y] ./Correct -> Incorrect/cauliflower, vegetable",
          "[X] is a [Y] ./Incorrect -> Correct/cedar, tree",
          "[X] is a [Y] ./Correct -> Incorrect/celery, vegetable",
          "[X] is a [Y] ./Correct -> Incorrect/cherry, fruit",
          "[X] is a [Y] ./Correct -> Incorrect/chile, country",
          "[X] is a [Y] ./Correct -> Incorrect/classical, music",
          "[X] is a [Y] ./Correct -> Incorrect/clog, footwear",
          "[X] is a [Y] ./Correct -> Incorrect/carrots, vegetable",
          "[X] is a [Y] ./Incorrect -> Correct/boxer shorts, clothing",
          "[X] is a [Y] ./Correct -> Incorrect/bowling, sport",
          "[X] is a [Y] ./Correct -> Incorrect/bookcase, furniture",
          "[X] is a [Y] ./Correct -> Incorrect/accountant, profession",
          "[X] is a [Y] ./Correct -> Incorrect/airplane, vehicle",
          "[X] is a [Y] ./Correct -> Incorrect/apartment, home",
          "[X] is a [Y] ./Correct -> Incorrect/apricot, fruit",
          "[X] is a [Y] ./Correct -> Incorrect/argentina, country",
          "[X] is a [Y] ./Incorrect -> Correct/armoire, furniture",
          "[X] is a [Y] ./Correct -> Incorrect/asparagus, vegetable",
          "[X] is a [Y] ./Correct -> Incorrect/australia, country",
          "[X] is a [Y] ./Correct -> Incorrect/badminton, sport",
          "[X] is a [Y] ./Correct -> Incorrect/banana, fruit",
          "[X] is a [Y] ./Correct -> Incorrect/barge, boat",
          "[X] is a [Y] ./Correct -> Incorrect/baseball, sport",
          "[X] is a [Y] ./Correct -> Incorrect/basketball, sport",
          "[X] is a [Y] ./Correct -> Incorrect/bed, furniture",
          "[X] is a [Y] ./Correct -> Incorrect/bicycle, vehicle",
          "[X] is a [Y] ./Correct -> Incorrect/blackbird, bird",
          "[X] is a [Y] ./Correct -> Incorrect/blizzards, weather",
          "[X] is a [Y] ./Correct -> Incorrect/bluejay, bird",
          "[X] is a [Y] ./Correct -> Incorrect/blues, music",
          "[X] is a [Y] ./Correct -> Incorrect/clouds, weather",
          "[X] is a [Y] ./Correct -> Incorrect/coat, clothing",
          "[X] is a [Y] ./Correct -> Incorrect/cod, fish",
          "[X] is a [Y] ./Correct -> Incorrect/coffee table, furniture",
          "[X] is a [Y] ./Correct -> Incorrect/futon, furniture",
          "[X] is a [Y] ./Correct -> Incorrect/gnat, bug",
          "[X] is a [Y] ./Correct -> Incorrect/golf, sport",
          "[X] is a [Y] ./Correct -> Incorrect/grandparent, relative",
          "[X] is a [Y] ./Correct -> Incorrect/grapefruit, fruit",
          "[X] is a [Y] ./Correct -> Incorrect/great aunt, relative",
          "[X] is a [Y] ./Correct -> Incorrect/guppy, fish",
          "[X] is a [Y] ./Correct -> Incorrect/handgun, weapon",
          "[X] is a [Y] ./Correct -> Incorrect/hawk, bird",
          "[X] is a [Y] ./Correct -> Incorrect/heel, footwear",
          "[X] is a [Y] ./Correct -> Incorrect/herring, fish",
          "[X] is a [Y] ./Correct -> Incorrect/hour, time",
          "[X] is a [Y] ./Correct -> Incorrect/hummingbird, bird",
          "[X] is a [Y] ./Correct -> Incorrect/jacket, clothing",
          "[X] is a [Y] ./Correct -> Incorrect/jeans, clothing",
          "[X] is a [Y] ./Correct -> Incorrect/kayak, boat",
          "[X] is a [Y] ./Correct -> Incorrect/kilometer, distance",
          "[X] is a [Y] ./Correct -> Incorrect/lacrosse, sport",
          "[X] is a [Y] ./Correct -> Incorrect/lemon, fruit",
          "[X] is a [Y] ./Correct -> Incorrect/footstool, furniture",
          "[X] is a [Y] ./Correct -> Incorrect/loafer, footwear",
          "[X] is a [Y] ./Correct -> Incorrect/football, sport",
          "[X] is a [Y] ./Correct -> Incorrect/finch, bird",
          "[X] is a [Y] ./Correct -> Incorrect/condominium, home",
          "[X] is a [Y] ./Correct -> Incorrect/congressman, politician",
          "[X] is a [Y] ./Correct -> Incorrect/couch, furniture",
          "[X] is a [Y] ./Correct -> Incorrect/cousin, relative",
          "[X] is a [Y] ./Correct -> Incorrect/cow, animal",
          "[X] is a [Y] ./Correct -> Incorrect/crow, bird",
          "[X] is a [Y] ./Correct -> Incorrect/day, time",
          "[X] is a [Y] ./Correct -> Incorrect/desk, furniture",
          "[X] is a [Y] ./Correct -> Incorrect/dollar, money",
          "[X] is a [Y] ./Correct -> Incorrect/dress, clothing",
          "[X] is a [Y] ./Correct -> Incorrect/dresser, furniture",
          "[X] is a [Y] ./Incorrect -> Correct/drill, tool",
          "[X] is a [Y] ./Correct -> Incorrect/drug use, crime",
          "[X] is a [Y] ./Correct -> Incorrect/duck, bird",
          "[X] is a [Y] ./Correct -> Incorrect/eagle, bird",
          "[X] is a [Y] ./Correct -> Incorrect/earthquakes, weather",
          "[X] is a [Y] ./Correct -> Incorrect/engineer, profession",
          "[X] is a [Y] ./Correct -> Incorrect/eon, time",
          "[X] is a [Y] ./Correct -> Incorrect/euro, money",
          "[X] is a [Y] ./Correct -> Incorrect/flounder, fish",
          "[X] is a [Y] ./Correct -> Incorrect/year, time",
          "[X] is a [Y] ./Correct -> Incorrect",
          "[X] is a [Y] ./Incorrect -> Correct",
          "[X] is a [Y] ."
         ],
         "labels": [
          "recliner, furniture",
          "rowboat, boat",
          "businesswoman, profession",
          "sunflower, flower",
          "bomb, weapon",
          "penguin, bird",
          "tennis, sport",
          "chair, furniture",
          "speeding, crime",
          "lawyer, profession",
          "rape, crime",
          "vandalism, crime",
          "portugal, country",
          "raspberry, fruit",
          "pants, clothing",
          "papaya, fruit",
          "rap, music",
          "parrot, bird",
          "peach, fruit",
          "pear, fruit",
          "rainbow trout, fish",
          "pigeon, bird",
          "palm, tree",
          "pontoon, boat",
          "punk, music",
          "pop, music",
          "psychologist, profession",
          "pineapple, fruit",
          "SUV, vehicle",
          "owl, bird",
          "maple, tree",
          "mayor, politician",
          "metal, music",
          "mexico, country",
          "mile, distance",
          "millisecond, time",
          "minivan, vehicle",
          "minnow, fish",
          "minute, time",
          "missile, weapon",
          "monsoons, weather",
          "month, time",
          "moped, vehicle",
          "nectarine, fruit",
          "new age, music",
          "nunchucks, weapon",
          "nurse, profession",
          "orange, fruit",
          "ostrich, bird",
          "paddleboat, boat",
          "ottoman, furniture",
          "sailboat, boat",
          "rugby, sport",
          "switzerland, country",
          "sword, weapon",
          "table, furniture",
          "teacher, profession",
          "techno, music",
          "tornados, weather",
          "townhouse, home",
          "train, vehicle",
          "trout, fish",
          "truck, vehicle",
          "tuna, fish",
          "typhoons, weather",
          "vulture, bird",
          "weeping willow, tree",
          "wind, weather",
          "woodpecker, bird",
          "wrestling, sport",
          "swimming, sport",
          "strawberry, fruit",
          "storms, weather",
          "starfruit, fruit",
          "mango, fruit",
          "salmon, fish",
          "schooner, boat",
          "scientist, profession",
          "scotland, country",
          "second cousin, relative",
          "ship, vehicle",
          "shoe, footwear",
          "ruble, money",
          "skateboard, vehicle",
          "slipper, footwear",
          "snow, weather",
          "soccer, sport",
          "softball, sport",
          "south africa, country",
          "spear, weapon",
          "speedboat, boat",
          "spinach, vegetable",
          "skiing, sport",
          "loveseat, furniture",
          "light year, distance",
          "yacht, boat",
          "brass knuckle, weapon",
          "brazil, country",
          "burglary, crime",
          "bus, vehicle",
          "businessman, profession",
          "cab, vehicle",
          "cabbages, vegetable",
          "canada, country",
          "bra, clothing",
          "car, vehicle",
          "catamaran, boat",
          "cauliflower, vegetable",
          "cedar, tree",
          "celery, vegetable",
          "cherry, fruit",
          "chile, country",
          "classical, music",
          "clog, footwear",
          "carrots, vegetable",
          "boxer shorts, clothing",
          "bowling, sport",
          "bookcase, furniture",
          "accountant, profession",
          "airplane, vehicle",
          "apartment, home",
          "apricot, fruit",
          "argentina, country",
          "armoire, furniture",
          "asparagus, vegetable",
          "australia, country",
          "badminton, sport",
          "banana, fruit",
          "barge, boat",
          "baseball, sport",
          "basketball, sport",
          "bed, furniture",
          "bicycle, vehicle",
          "blackbird, bird",
          "blizzards, weather",
          "bluejay, bird",
          "blues, music",
          "clouds, weather",
          "coat, clothing",
          "cod, fish",
          "coffee table, furniture",
          "futon, furniture",
          "gnat, bug",
          "golf, sport",
          "grandparent, relative",
          "grapefruit, fruit",
          "great aunt, relative",
          "guppy, fish",
          "handgun, weapon",
          "hawk, bird",
          "heel, footwear",
          "herring, fish",
          "hour, time",
          "hummingbird, bird",
          "jacket, clothing",
          "jeans, clothing",
          "kayak, boat",
          "kilometer, distance",
          "lacrosse, sport",
          "lemon, fruit",
          "footstool, furniture",
          "loafer, footwear",
          "football, sport",
          "finch, bird",
          "condominium, home",
          "congressman, politician",
          "couch, furniture",
          "cousin, relative",
          "cow, animal",
          "crow, bird",
          "day, time",
          "desk, furniture",
          "dollar, money",
          "dress, clothing",
          "dresser, furniture",
          "drill, tool",
          "drug use, crime",
          "duck, bird",
          "eagle, bird",
          "earthquakes, weather",
          "engineer, profession",
          "eon, time",
          "euro, money",
          "flounder, fish",
          "year, time",
          "Correct -> Incorrect",
          "Incorrect -> Correct",
          "[X] is a [Y] ."
         ],
         "marker": {
          "colors": [
           "#636efa",
           "#636efa",
           "#636efa",
           "#636efa",
           "#636efa",
           "#636efa",
           "#636efa",
           "#636efa",
           "#636efa",
           "#636efa",
           "#636efa",
           "#636efa",
           "#636efa",
           "#636efa",
           "#636efa",
           "#636efa",
           "#636efa",
           "#636efa",
           "#636efa",
           "#636efa",
           "#EF553B",
           "#636efa",
           "#636efa",
           "#636efa",
           "#636efa",
           "#636efa",
           "#636efa",
           "#636efa",
           "#636efa",
           "#636efa",
           "#EF553B",
           "#636efa",
           "#636efa",
           "#EF553B",
           "#636efa",
           "#636efa",
           "#636efa",
           "#636efa",
           "#636efa",
           "#636efa",
           "#636efa",
           "#636efa",
           "#636efa",
           "#636efa",
           "#636efa",
           "#636efa",
           "#636efa",
           "#636efa",
           "#636efa",
           "#636efa",
           "#636efa",
           "#636efa",
           "#636efa",
           "#636efa",
           "#636efa",
           "#636efa",
           "#636efa",
           "#636efa",
           "#EF553B",
           "#636efa",
           "#636efa",
           "#636efa",
           "#636efa",
           "#636efa",
           "#636efa",
           "#636efa",
           "#636efa",
           "#636efa",
           "#636efa",
           "#636efa",
           "#EF553B",
           "#636efa",
           "#636efa",
           "#636efa",
           "#636efa",
           "#636efa",
           "#636efa",
           "#636efa",
           "#636efa",
           "#636efa",
           "#636efa",
           "#636efa",
           "#636efa",
           "#636efa",
           "#636efa",
           "#636efa",
           "#636efa",
           "#EF553B",
           "#636efa",
           "#636efa",
           "#636efa",
           "#EF553B",
           "#636efa",
           "#636efa",
           "#636efa",
           "#636efa",
           "#636efa",
           "#636efa",
           "#636efa",
           "#636efa",
           "#636efa",
           "#636efa",
           "#EF553B",
           "#636efa",
           "#636efa",
           "#636efa",
           "#636efa",
           "#636efa",
           "#EF553B",
           "#636efa",
           "#636efa",
           "#636efa",
           "#636efa",
           "#636efa",
           "#636efa",
           "#EF553B",
           "#636efa",
           "#636efa",
           "#636efa",
           "#636efa",
           "#636efa",
           "#636efa",
           "#636efa",
           "#EF553B",
           "#636efa",
           "#636efa",
           "#636efa",
           "#636efa",
           "#636efa",
           "#636efa",
           "#636efa",
           "#636efa",
           "#636efa",
           "#636efa",
           "#636efa",
           "#636efa",
           "#636efa",
           "#636efa",
           "#636efa",
           "#636efa",
           "#636efa",
           "#636efa",
           "#636efa",
           "#636efa",
           "#636efa",
           "#636efa",
           "#636efa",
           "#636efa",
           "#636efa",
           "#636efa",
           "#636efa",
           "#636efa",
           "#636efa",
           "#636efa",
           "#636efa",
           "#636efa",
           "#636efa",
           "#636efa",
           "#636efa",
           "#636efa",
           "#636efa",
           "#636efa",
           "#636efa",
           "#636efa",
           "#636efa",
           "#636efa",
           "#636efa",
           "#636efa",
           "#636efa",
           "#636efa",
           "#636efa",
           "#636efa",
           "#636efa",
           "#636efa",
           "#636efa",
           "#EF553B",
           "#636efa",
           "#636efa",
           "#636efa",
           "#636efa",
           "#636efa",
           "#636efa",
           "#636efa",
           "#636efa",
           "#636efa",
           "#636efa",
           "#EF553B",
           "#00cc96"
          ]
         },
         "name": "",
         "parents": [
          "[X] is a [Y] ./Correct -> Incorrect",
          "[X] is a [Y] ./Correct -> Incorrect",
          "[X] is a [Y] ./Correct -> Incorrect",
          "[X] is a [Y] ./Correct -> Incorrect",
          "[X] is a [Y] ./Correct -> Incorrect",
          "[X] is a [Y] ./Correct -> Incorrect",
          "[X] is a [Y] ./Correct -> Incorrect",
          "[X] is a [Y] ./Correct -> Incorrect",
          "[X] is a [Y] ./Correct -> Incorrect",
          "[X] is a [Y] ./Correct -> Incorrect",
          "[X] is a [Y] ./Correct -> Incorrect",
          "[X] is a [Y] ./Correct -> Incorrect",
          "[X] is a [Y] ./Correct -> Incorrect",
          "[X] is a [Y] ./Correct -> Incorrect",
          "[X] is a [Y] ./Correct -> Incorrect",
          "[X] is a [Y] ./Correct -> Incorrect",
          "[X] is a [Y] ./Correct -> Incorrect",
          "[X] is a [Y] ./Correct -> Incorrect",
          "[X] is a [Y] ./Correct -> Incorrect",
          "[X] is a [Y] ./Correct -> Incorrect",
          "[X] is a [Y] ./Incorrect -> Correct",
          "[X] is a [Y] ./Correct -> Incorrect",
          "[X] is a [Y] ./Correct -> Incorrect",
          "[X] is a [Y] ./Correct -> Incorrect",
          "[X] is a [Y] ./Correct -> Incorrect",
          "[X] is a [Y] ./Correct -> Incorrect",
          "[X] is a [Y] ./Correct -> Incorrect",
          "[X] is a [Y] ./Correct -> Incorrect",
          "[X] is a [Y] ./Correct -> Incorrect",
          "[X] is a [Y] ./Correct -> Incorrect",
          "[X] is a [Y] ./Incorrect -> Correct",
          "[X] is a [Y] ./Correct -> Incorrect",
          "[X] is a [Y] ./Correct -> Incorrect",
          "[X] is a [Y] ./Incorrect -> Correct",
          "[X] is a [Y] ./Correct -> Incorrect",
          "[X] is a [Y] ./Correct -> Incorrect",
          "[X] is a [Y] ./Correct -> Incorrect",
          "[X] is a [Y] ./Correct -> Incorrect",
          "[X] is a [Y] ./Correct -> Incorrect",
          "[X] is a [Y] ./Correct -> Incorrect",
          "[X] is a [Y] ./Correct -> Incorrect",
          "[X] is a [Y] ./Correct -> Incorrect",
          "[X] is a [Y] ./Correct -> Incorrect",
          "[X] is a [Y] ./Correct -> Incorrect",
          "[X] is a [Y] ./Correct -> Incorrect",
          "[X] is a [Y] ./Correct -> Incorrect",
          "[X] is a [Y] ./Correct -> Incorrect",
          "[X] is a [Y] ./Correct -> Incorrect",
          "[X] is a [Y] ./Correct -> Incorrect",
          "[X] is a [Y] ./Correct -> Incorrect",
          "[X] is a [Y] ./Correct -> Incorrect",
          "[X] is a [Y] ./Correct -> Incorrect",
          "[X] is a [Y] ./Correct -> Incorrect",
          "[X] is a [Y] ./Correct -> Incorrect",
          "[X] is a [Y] ./Correct -> Incorrect",
          "[X] is a [Y] ./Correct -> Incorrect",
          "[X] is a [Y] ./Correct -> Incorrect",
          "[X] is a [Y] ./Correct -> Incorrect",
          "[X] is a [Y] ./Incorrect -> Correct",
          "[X] is a [Y] ./Correct -> Incorrect",
          "[X] is a [Y] ./Correct -> Incorrect",
          "[X] is a [Y] ./Correct -> Incorrect",
          "[X] is a [Y] ./Correct -> Incorrect",
          "[X] is a [Y] ./Correct -> Incorrect",
          "[X] is a [Y] ./Correct -> Incorrect",
          "[X] is a [Y] ./Correct -> Incorrect",
          "[X] is a [Y] ./Correct -> Incorrect",
          "[X] is a [Y] ./Correct -> Incorrect",
          "[X] is a [Y] ./Correct -> Incorrect",
          "[X] is a [Y] ./Correct -> Incorrect",
          "[X] is a [Y] ./Incorrect -> Correct",
          "[X] is a [Y] ./Correct -> Incorrect",
          "[X] is a [Y] ./Correct -> Incorrect",
          "[X] is a [Y] ./Correct -> Incorrect",
          "[X] is a [Y] ./Correct -> Incorrect",
          "[X] is a [Y] ./Correct -> Incorrect",
          "[X] is a [Y] ./Correct -> Incorrect",
          "[X] is a [Y] ./Correct -> Incorrect",
          "[X] is a [Y] ./Correct -> Incorrect",
          "[X] is a [Y] ./Correct -> Incorrect",
          "[X] is a [Y] ./Correct -> Incorrect",
          "[X] is a [Y] ./Correct -> Incorrect",
          "[X] is a [Y] ./Correct -> Incorrect",
          "[X] is a [Y] ./Correct -> Incorrect",
          "[X] is a [Y] ./Correct -> Incorrect",
          "[X] is a [Y] ./Correct -> Incorrect",
          "[X] is a [Y] ./Correct -> Incorrect",
          "[X] is a [Y] ./Incorrect -> Correct",
          "[X] is a [Y] ./Correct -> Incorrect",
          "[X] is a [Y] ./Correct -> Incorrect",
          "[X] is a [Y] ./Correct -> Incorrect",
          "[X] is a [Y] ./Incorrect -> Correct",
          "[X] is a [Y] ./Correct -> Incorrect",
          "[X] is a [Y] ./Correct -> Incorrect",
          "[X] is a [Y] ./Correct -> Incorrect",
          "[X] is a [Y] ./Correct -> Incorrect",
          "[X] is a [Y] ./Correct -> Incorrect",
          "[X] is a [Y] ./Correct -> Incorrect",
          "[X] is a [Y] ./Correct -> Incorrect",
          "[X] is a [Y] ./Correct -> Incorrect",
          "[X] is a [Y] ./Correct -> Incorrect",
          "[X] is a [Y] ./Correct -> Incorrect",
          "[X] is a [Y] ./Incorrect -> Correct",
          "[X] is a [Y] ./Correct -> Incorrect",
          "[X] is a [Y] ./Correct -> Incorrect",
          "[X] is a [Y] ./Correct -> Incorrect",
          "[X] is a [Y] ./Correct -> Incorrect",
          "[X] is a [Y] ./Correct -> Incorrect",
          "[X] is a [Y] ./Incorrect -> Correct",
          "[X] is a [Y] ./Correct -> Incorrect",
          "[X] is a [Y] ./Correct -> Incorrect",
          "[X] is a [Y] ./Correct -> Incorrect",
          "[X] is a [Y] ./Correct -> Incorrect",
          "[X] is a [Y] ./Correct -> Incorrect",
          "[X] is a [Y] ./Correct -> Incorrect",
          "[X] is a [Y] ./Incorrect -> Correct",
          "[X] is a [Y] ./Correct -> Incorrect",
          "[X] is a [Y] ./Correct -> Incorrect",
          "[X] is a [Y] ./Correct -> Incorrect",
          "[X] is a [Y] ./Correct -> Incorrect",
          "[X] is a [Y] ./Correct -> Incorrect",
          "[X] is a [Y] ./Correct -> Incorrect",
          "[X] is a [Y] ./Correct -> Incorrect",
          "[X] is a [Y] ./Incorrect -> Correct",
          "[X] is a [Y] ./Correct -> Incorrect",
          "[X] is a [Y] ./Correct -> Incorrect",
          "[X] is a [Y] ./Correct -> Incorrect",
          "[X] is a [Y] ./Correct -> Incorrect",
          "[X] is a [Y] ./Correct -> Incorrect",
          "[X] is a [Y] ./Correct -> Incorrect",
          "[X] is a [Y] ./Correct -> Incorrect",
          "[X] is a [Y] ./Correct -> Incorrect",
          "[X] is a [Y] ./Correct -> Incorrect",
          "[X] is a [Y] ./Correct -> Incorrect",
          "[X] is a [Y] ./Correct -> Incorrect",
          "[X] is a [Y] ./Correct -> Incorrect",
          "[X] is a [Y] ./Correct -> Incorrect",
          "[X] is a [Y] ./Correct -> Incorrect",
          "[X] is a [Y] ./Correct -> Incorrect",
          "[X] is a [Y] ./Correct -> Incorrect",
          "[X] is a [Y] ./Correct -> Incorrect",
          "[X] is a [Y] ./Correct -> Incorrect",
          "[X] is a [Y] ./Correct -> Incorrect",
          "[X] is a [Y] ./Correct -> Incorrect",
          "[X] is a [Y] ./Correct -> Incorrect",
          "[X] is a [Y] ./Correct -> Incorrect",
          "[X] is a [Y] ./Correct -> Incorrect",
          "[X] is a [Y] ./Correct -> Incorrect",
          "[X] is a [Y] ./Correct -> Incorrect",
          "[X] is a [Y] ./Correct -> Incorrect",
          "[X] is a [Y] ./Correct -> Incorrect",
          "[X] is a [Y] ./Correct -> Incorrect",
          "[X] is a [Y] ./Correct -> Incorrect",
          "[X] is a [Y] ./Correct -> Incorrect",
          "[X] is a [Y] ./Correct -> Incorrect",
          "[X] is a [Y] ./Correct -> Incorrect",
          "[X] is a [Y] ./Correct -> Incorrect",
          "[X] is a [Y] ./Correct -> Incorrect",
          "[X] is a [Y] ./Correct -> Incorrect",
          "[X] is a [Y] ./Correct -> Incorrect",
          "[X] is a [Y] ./Correct -> Incorrect",
          "[X] is a [Y] ./Correct -> Incorrect",
          "[X] is a [Y] ./Correct -> Incorrect",
          "[X] is a [Y] ./Correct -> Incorrect",
          "[X] is a [Y] ./Correct -> Incorrect",
          "[X] is a [Y] ./Correct -> Incorrect",
          "[X] is a [Y] ./Correct -> Incorrect",
          "[X] is a [Y] ./Correct -> Incorrect",
          "[X] is a [Y] ./Correct -> Incorrect",
          "[X] is a [Y] ./Correct -> Incorrect",
          "[X] is a [Y] ./Correct -> Incorrect",
          "[X] is a [Y] ./Correct -> Incorrect",
          "[X] is a [Y] ./Correct -> Incorrect",
          "[X] is a [Y] ./Correct -> Incorrect",
          "[X] is a [Y] ./Correct -> Incorrect",
          "[X] is a [Y] ./Incorrect -> Correct",
          "[X] is a [Y] ./Correct -> Incorrect",
          "[X] is a [Y] ./Correct -> Incorrect",
          "[X] is a [Y] ./Correct -> Incorrect",
          "[X] is a [Y] ./Correct -> Incorrect",
          "[X] is a [Y] ./Correct -> Incorrect",
          "[X] is a [Y] ./Correct -> Incorrect",
          "[X] is a [Y] ./Correct -> Incorrect",
          "[X] is a [Y] ./Correct -> Incorrect",
          "[X] is a [Y] ./Correct -> Incorrect",
          "[X] is a [Y] .",
          "[X] is a [Y] .",
          ""
         ],
         "type": "treemap",
         "values": [
          1,
          1,
          1,
          1,
          1,
          1,
          1,
          1,
          1,
          1,
          1,
          1,
          1,
          1,
          1,
          1,
          1,
          1,
          1,
          1,
          1,
          1,
          1,
          1,
          1,
          1,
          1,
          1,
          1,
          1,
          1,
          1,
          1,
          1,
          1,
          1,
          1,
          1,
          1,
          1,
          1,
          1,
          1,
          1,
          1,
          1,
          1,
          1,
          1,
          1,
          1,
          1,
          1,
          1,
          1,
          1,
          1,
          1,
          1,
          1,
          1,
          1,
          1,
          1,
          1,
          1,
          1,
          1,
          1,
          1,
          1,
          1,
          1,
          1,
          1,
          1,
          1,
          1,
          1,
          1,
          1,
          1,
          1,
          1,
          1,
          1,
          1,
          1,
          1,
          1,
          1,
          1,
          1,
          1,
          1,
          1,
          1,
          1,
          1,
          1,
          1,
          1,
          1,
          1,
          1,
          1,
          1,
          1,
          1,
          1,
          1,
          1,
          1,
          1,
          1,
          1,
          1,
          1,
          1,
          1,
          1,
          1,
          1,
          1,
          1,
          1,
          1,
          1,
          1,
          1,
          1,
          1,
          1,
          1,
          1,
          1,
          1,
          1,
          1,
          1,
          1,
          1,
          1,
          1,
          1,
          1,
          1,
          1,
          1,
          1,
          1,
          1,
          1,
          1,
          1,
          1,
          1,
          1,
          1,
          1,
          1,
          1,
          1,
          1,
          1,
          1,
          1,
          1,
          1,
          1,
          1,
          1,
          1,
          1,
          1,
          1,
          1,
          1,
          1,
          1,
          1,
          1,
          1,
          1,
          1,
          173,
          12,
          185
         ]
        }
       ],
       "layout": {
        "legend": {
         "tracegroupgap": 0
        },
        "template": {
         "data": {
          "bar": [
           {
            "error_x": {
             "color": "#2a3f5f"
            },
            "error_y": {
             "color": "#2a3f5f"
            },
            "marker": {
             "line": {
              "color": "#E5ECF6",
              "width": 0.5
             },
             "pattern": {
              "fillmode": "overlay",
              "size": 10,
              "solidity": 0.2
             }
            },
            "type": "bar"
           }
          ],
          "barpolar": [
           {
            "marker": {
             "line": {
              "color": "#E5ECF6",
              "width": 0.5
             },
             "pattern": {
              "fillmode": "overlay",
              "size": 10,
              "solidity": 0.2
             }
            },
            "type": "barpolar"
           }
          ],
          "carpet": [
           {
            "aaxis": {
             "endlinecolor": "#2a3f5f",
             "gridcolor": "white",
             "linecolor": "white",
             "minorgridcolor": "white",
             "startlinecolor": "#2a3f5f"
            },
            "baxis": {
             "endlinecolor": "#2a3f5f",
             "gridcolor": "white",
             "linecolor": "white",
             "minorgridcolor": "white",
             "startlinecolor": "#2a3f5f"
            },
            "type": "carpet"
           }
          ],
          "choropleth": [
           {
            "colorbar": {
             "outlinewidth": 0,
             "ticks": ""
            },
            "type": "choropleth"
           }
          ],
          "contour": [
           {
            "colorbar": {
             "outlinewidth": 0,
             "ticks": ""
            },
            "colorscale": [
             [
              0,
              "#0d0887"
             ],
             [
              0.1111111111111111,
              "#46039f"
             ],
             [
              0.2222222222222222,
              "#7201a8"
             ],
             [
              0.3333333333333333,
              "#9c179e"
             ],
             [
              0.4444444444444444,
              "#bd3786"
             ],
             [
              0.5555555555555556,
              "#d8576b"
             ],
             [
              0.6666666666666666,
              "#ed7953"
             ],
             [
              0.7777777777777778,
              "#fb9f3a"
             ],
             [
              0.8888888888888888,
              "#fdca26"
             ],
             [
              1,
              "#f0f921"
             ]
            ],
            "type": "contour"
           }
          ],
          "contourcarpet": [
           {
            "colorbar": {
             "outlinewidth": 0,
             "ticks": ""
            },
            "type": "contourcarpet"
           }
          ],
          "heatmap": [
           {
            "colorbar": {
             "outlinewidth": 0,
             "ticks": ""
            },
            "colorscale": [
             [
              0,
              "#0d0887"
             ],
             [
              0.1111111111111111,
              "#46039f"
             ],
             [
              0.2222222222222222,
              "#7201a8"
             ],
             [
              0.3333333333333333,
              "#9c179e"
             ],
             [
              0.4444444444444444,
              "#bd3786"
             ],
             [
              0.5555555555555556,
              "#d8576b"
             ],
             [
              0.6666666666666666,
              "#ed7953"
             ],
             [
              0.7777777777777778,
              "#fb9f3a"
             ],
             [
              0.8888888888888888,
              "#fdca26"
             ],
             [
              1,
              "#f0f921"
             ]
            ],
            "type": "heatmap"
           }
          ],
          "heatmapgl": [
           {
            "colorbar": {
             "outlinewidth": 0,
             "ticks": ""
            },
            "colorscale": [
             [
              0,
              "#0d0887"
             ],
             [
              0.1111111111111111,
              "#46039f"
             ],
             [
              0.2222222222222222,
              "#7201a8"
             ],
             [
              0.3333333333333333,
              "#9c179e"
             ],
             [
              0.4444444444444444,
              "#bd3786"
             ],
             [
              0.5555555555555556,
              "#d8576b"
             ],
             [
              0.6666666666666666,
              "#ed7953"
             ],
             [
              0.7777777777777778,
              "#fb9f3a"
             ],
             [
              0.8888888888888888,
              "#fdca26"
             ],
             [
              1,
              "#f0f921"
             ]
            ],
            "type": "heatmapgl"
           }
          ],
          "histogram": [
           {
            "marker": {
             "pattern": {
              "fillmode": "overlay",
              "size": 10,
              "solidity": 0.2
             }
            },
            "type": "histogram"
           }
          ],
          "histogram2d": [
           {
            "colorbar": {
             "outlinewidth": 0,
             "ticks": ""
            },
            "colorscale": [
             [
              0,
              "#0d0887"
             ],
             [
              0.1111111111111111,
              "#46039f"
             ],
             [
              0.2222222222222222,
              "#7201a8"
             ],
             [
              0.3333333333333333,
              "#9c179e"
             ],
             [
              0.4444444444444444,
              "#bd3786"
             ],
             [
              0.5555555555555556,
              "#d8576b"
             ],
             [
              0.6666666666666666,
              "#ed7953"
             ],
             [
              0.7777777777777778,
              "#fb9f3a"
             ],
             [
              0.8888888888888888,
              "#fdca26"
             ],
             [
              1,
              "#f0f921"
             ]
            ],
            "type": "histogram2d"
           }
          ],
          "histogram2dcontour": [
           {
            "colorbar": {
             "outlinewidth": 0,
             "ticks": ""
            },
            "colorscale": [
             [
              0,
              "#0d0887"
             ],
             [
              0.1111111111111111,
              "#46039f"
             ],
             [
              0.2222222222222222,
              "#7201a8"
             ],
             [
              0.3333333333333333,
              "#9c179e"
             ],
             [
              0.4444444444444444,
              "#bd3786"
             ],
             [
              0.5555555555555556,
              "#d8576b"
             ],
             [
              0.6666666666666666,
              "#ed7953"
             ],
             [
              0.7777777777777778,
              "#fb9f3a"
             ],
             [
              0.8888888888888888,
              "#fdca26"
             ],
             [
              1,
              "#f0f921"
             ]
            ],
            "type": "histogram2dcontour"
           }
          ],
          "mesh3d": [
           {
            "colorbar": {
             "outlinewidth": 0,
             "ticks": ""
            },
            "type": "mesh3d"
           }
          ],
          "parcoords": [
           {
            "line": {
             "colorbar": {
              "outlinewidth": 0,
              "ticks": ""
             }
            },
            "type": "parcoords"
           }
          ],
          "pie": [
           {
            "automargin": true,
            "type": "pie"
           }
          ],
          "scatter": [
           {
            "fillpattern": {
             "fillmode": "overlay",
             "size": 10,
             "solidity": 0.2
            },
            "type": "scatter"
           }
          ],
          "scatter3d": [
           {
            "line": {
             "colorbar": {
              "outlinewidth": 0,
              "ticks": ""
             }
            },
            "marker": {
             "colorbar": {
              "outlinewidth": 0,
              "ticks": ""
             }
            },
            "type": "scatter3d"
           }
          ],
          "scattercarpet": [
           {
            "marker": {
             "colorbar": {
              "outlinewidth": 0,
              "ticks": ""
             }
            },
            "type": "scattercarpet"
           }
          ],
          "scattergeo": [
           {
            "marker": {
             "colorbar": {
              "outlinewidth": 0,
              "ticks": ""
             }
            },
            "type": "scattergeo"
           }
          ],
          "scattergl": [
           {
            "marker": {
             "colorbar": {
              "outlinewidth": 0,
              "ticks": ""
             }
            },
            "type": "scattergl"
           }
          ],
          "scattermapbox": [
           {
            "marker": {
             "colorbar": {
              "outlinewidth": 0,
              "ticks": ""
             }
            },
            "type": "scattermapbox"
           }
          ],
          "scatterpolar": [
           {
            "marker": {
             "colorbar": {
              "outlinewidth": 0,
              "ticks": ""
             }
            },
            "type": "scatterpolar"
           }
          ],
          "scatterpolargl": [
           {
            "marker": {
             "colorbar": {
              "outlinewidth": 0,
              "ticks": ""
             }
            },
            "type": "scatterpolargl"
           }
          ],
          "scatterternary": [
           {
            "marker": {
             "colorbar": {
              "outlinewidth": 0,
              "ticks": ""
             }
            },
            "type": "scatterternary"
           }
          ],
          "surface": [
           {
            "colorbar": {
             "outlinewidth": 0,
             "ticks": ""
            },
            "colorscale": [
             [
              0,
              "#0d0887"
             ],
             [
              0.1111111111111111,
              "#46039f"
             ],
             [
              0.2222222222222222,
              "#7201a8"
             ],
             [
              0.3333333333333333,
              "#9c179e"
             ],
             [
              0.4444444444444444,
              "#bd3786"
             ],
             [
              0.5555555555555556,
              "#d8576b"
             ],
             [
              0.6666666666666666,
              "#ed7953"
             ],
             [
              0.7777777777777778,
              "#fb9f3a"
             ],
             [
              0.8888888888888888,
              "#fdca26"
             ],
             [
              1,
              "#f0f921"
             ]
            ],
            "type": "surface"
           }
          ],
          "table": [
           {
            "cells": {
             "fill": {
              "color": "#EBF0F8"
             },
             "line": {
              "color": "white"
             }
            },
            "header": {
             "fill": {
              "color": "#C8D4E3"
             },
             "line": {
              "color": "white"
             }
            },
            "type": "table"
           }
          ]
         },
         "layout": {
          "annotationdefaults": {
           "arrowcolor": "#2a3f5f",
           "arrowhead": 0,
           "arrowwidth": 1
          },
          "autotypenumbers": "strict",
          "coloraxis": {
           "colorbar": {
            "outlinewidth": 0,
            "ticks": ""
           }
          },
          "colorscale": {
           "diverging": [
            [
             0,
             "#8e0152"
            ],
            [
             0.1,
             "#c51b7d"
            ],
            [
             0.2,
             "#de77ae"
            ],
            [
             0.3,
             "#f1b6da"
            ],
            [
             0.4,
             "#fde0ef"
            ],
            [
             0.5,
             "#f7f7f7"
            ],
            [
             0.6,
             "#e6f5d0"
            ],
            [
             0.7,
             "#b8e186"
            ],
            [
             0.8,
             "#7fbc41"
            ],
            [
             0.9,
             "#4d9221"
            ],
            [
             1,
             "#276419"
            ]
           ],
           "sequential": [
            [
             0,
             "#0d0887"
            ],
            [
             0.1111111111111111,
             "#46039f"
            ],
            [
             0.2222222222222222,
             "#7201a8"
            ],
            [
             0.3333333333333333,
             "#9c179e"
            ],
            [
             0.4444444444444444,
             "#bd3786"
            ],
            [
             0.5555555555555556,
             "#d8576b"
            ],
            [
             0.6666666666666666,
             "#ed7953"
            ],
            [
             0.7777777777777778,
             "#fb9f3a"
            ],
            [
             0.8888888888888888,
             "#fdca26"
            ],
            [
             1,
             "#f0f921"
            ]
           ],
           "sequentialminus": [
            [
             0,
             "#0d0887"
            ],
            [
             0.1111111111111111,
             "#46039f"
            ],
            [
             0.2222222222222222,
             "#7201a8"
            ],
            [
             0.3333333333333333,
             "#9c179e"
            ],
            [
             0.4444444444444444,
             "#bd3786"
            ],
            [
             0.5555555555555556,
             "#d8576b"
            ],
            [
             0.6666666666666666,
             "#ed7953"
            ],
            [
             0.7777777777777778,
             "#fb9f3a"
            ],
            [
             0.8888888888888888,
             "#fdca26"
            ],
            [
             1,
             "#f0f921"
            ]
           ]
          },
          "colorway": [
           "#636efa",
           "#EF553B",
           "#00cc96",
           "#ab63fa",
           "#FFA15A",
           "#19d3f3",
           "#FF6692",
           "#B6E880",
           "#FF97FF",
           "#FECB52"
          ],
          "font": {
           "color": "#2a3f5f"
          },
          "geo": {
           "bgcolor": "white",
           "lakecolor": "white",
           "landcolor": "#E5ECF6",
           "showlakes": true,
           "showland": true,
           "subunitcolor": "white"
          },
          "hoverlabel": {
           "align": "left"
          },
          "hovermode": "closest",
          "mapbox": {
           "style": "light"
          },
          "paper_bgcolor": "white",
          "plot_bgcolor": "#E5ECF6",
          "polar": {
           "angularaxis": {
            "gridcolor": "white",
            "linecolor": "white",
            "ticks": ""
           },
           "bgcolor": "#E5ECF6",
           "radialaxis": {
            "gridcolor": "white",
            "linecolor": "white",
            "ticks": ""
           }
          },
          "scene": {
           "xaxis": {
            "backgroundcolor": "#E5ECF6",
            "gridcolor": "white",
            "gridwidth": 2,
            "linecolor": "white",
            "showbackground": true,
            "ticks": "",
            "zerolinecolor": "white"
           },
           "yaxis": {
            "backgroundcolor": "#E5ECF6",
            "gridcolor": "white",
            "gridwidth": 2,
            "linecolor": "white",
            "showbackground": true,
            "ticks": "",
            "zerolinecolor": "white"
           },
           "zaxis": {
            "backgroundcolor": "#E5ECF6",
            "gridcolor": "white",
            "gridwidth": 2,
            "linecolor": "white",
            "showbackground": true,
            "ticks": "",
            "zerolinecolor": "white"
           }
          },
          "shapedefaults": {
           "line": {
            "color": "#2a3f5f"
           }
          },
          "ternary": {
           "aaxis": {
            "gridcolor": "white",
            "linecolor": "white",
            "ticks": ""
           },
           "baxis": {
            "gridcolor": "white",
            "linecolor": "white",
            "ticks": ""
           },
           "bgcolor": "#E5ECF6",
           "caxis": {
            "gridcolor": "white",
            "linecolor": "white",
            "ticks": ""
           }
          },
          "title": {
           "x": 0.05
          },
          "xaxis": {
           "automargin": true,
           "gridcolor": "white",
           "linecolor": "white",
           "ticks": "",
           "title": {
            "standoff": 15
           },
           "zerolinecolor": "white",
           "zerolinewidth": 2
          },
          "yaxis": {
           "automargin": true,
           "gridcolor": "white",
           "linecolor": "white",
           "ticks": "",
           "title": {
            "standoff": 15
           },
           "zerolinecolor": "white",
           "zerolinewidth": 2
          }
         }
        },
        "title": {
         "text": "Precision @0.5 threshold for hypernymy, mistral-7B"
        }
       }
      }
     },
     "metadata": {},
     "output_type": "display_data"
    },
    {
     "data": {
      "application/vnd.plotly.v1+json": {
       "config": {
        "plotlyServerURL": "https://plot.ly"
       },
       "data": [
        {
         "branchvalues": "total",
         "customdata": [
          [
           "carp",
           "fish",
           "bird",
           "fish",
           "Carp is a fish.",
           "Knowledge is Incorrect"
          ],
          [
           "skirt",
           "clothing",
           "clothing",
           "clothing",
           "Skirt is a clothing.",
           "Knowledge is Incorrect"
          ],
          [
           "desk",
           "furniture",
           "sport",
           "furniture",
           "Desk is furniture.",
           "Knowledge is Incorrect"
          ],
          [
           "snapper",
           "fish",
           "bug",
           "fish",
           "Snapper is a fish.",
           "Knowledge is Incorrect"
          ],
          [
           "guppy",
           "fish",
           "fish",
           "fish",
           "Guppy is a fish.",
           "Knowledge is Incorrect"
          ],
          [
           "strawberry",
           "fruit",
           "sport",
           "fruit",
           "Strawberry is a fruit.",
           "Knowledge is Incorrect"
          ],
          [
           "pigeon",
           "bird",
           "footwear",
           "bird",
           "Pigeon is a bird.",
           "Knowledge is Incorrect"
          ],
          [
           "cauliflower",
           "vegetable",
           "sport",
           "vegetable",
           "Cauliflower is a vegetable.",
           "Knowledge is Incorrect"
          ],
          [
           "folk",
           "music",
           "weapon",
           "music",
           "Folk is a music.",
           "Knowledge is Incorrect"
          ],
          [
           "tank top",
           "clothing",
           "clothing",
           "clothing",
           "Tank top is a clothing.",
           "Knowledge is Incorrect"
          ],
          [
           "thunderstorms",
           "weather",
           "tree",
           "weather",
           "Thunderstorms is a weather.",
           "Knowledge is Incorrect"
          ],
          [
           "bra",
           "clothing",
           "clothing",
           "clothing",
           "Bra is a clothing.",
           "Knowledge is Incorrect"
          ],
          [
           "hurricanes",
           "weather",
           "weather",
           "weather",
           "Hurricanes is a weather.",
           "Knowledge is Incorrect"
          ],
          [
           "flounder",
           "fish",
           "sport",
           "fish",
           "Flounder is a fish.",
           "Knowledge is Incorrect"
          ],
          [
           "blizzards",
           "weather",
           "boat",
           "weather",
           "Blizzards is a weather.",
           "Knowledge is Incorrect"
          ],
          [
           "apricot",
           "fruit",
           "boat",
           "fruit",
           "Apricot is a fruit.",
           "Knowledge is Incorrect"
          ],
          [
           "peach",
           "fruit",
           "footwear",
           "fruit",
           "Peach is a fruit.",
           "Knowledge is Incorrect"
          ],
          [
           "rifle",
           "weapon",
           "fruit",
           "weapon",
           "Rifle is a weapon.",
           "Knowledge is Incorrect"
          ],
          [
           "redwood",
           "tree",
           "bird",
           "tree",
           "Redwood is a tree.",
           "Knowledge is Incorrect"
          ],
          [
           "recliner",
           "furniture",
           "music",
           "furniture",
           "Recliner is furniture.",
           "Knowledge is Incorrect"
          ],
          [
           "raspberry",
           "fruit",
           "crime",
           "fruit",
           "Raspberry is a fruit.",
           "Knowledge is Incorrect"
          ],
          [
           "moped",
           "vehicle",
           "crime",
           "vehicle",
           "Moped is a vehicle.",
           "Knowledge is Incorrect"
          ],
          [
           "nectarine",
           "fruit",
           "sport",
           "fruit",
           "Nectarine is a fruit.",
           "Knowledge is Incorrect"
          ],
          [
           "rape",
           "crime",
           "fruit",
           "crime",
           "Rape is a crime.",
           "Knowledge is Incorrect"
          ],
          [
           "punk",
           "music",
           "clothing",
           "music",
           "Punk is a music.",
           "Knowledge is Incorrect"
          ],
          [
           "potatoes",
           "vegetable",
           "tree",
           "vegetable",
           "Potatoes is a vegetable.",
           "Knowledge is Incorrect"
          ],
          [
           "pop",
           "music",
           "music",
           "music",
           "Pop is a music.",
           "Knowledge is Incorrect"
          ],
          [
           "polo",
           "sport",
           "sport",
           "sport",
           "Polo is a sport.",
           "Knowledge is Correct"
          ],
          [
           "plum",
           "fruit",
           "fish",
           "fruit",
           "Plum is a fruit.",
           "Knowledge is Incorrect"
          ],
          [
           "nightstand",
           "furniture",
           "fruit",
           "furniture",
           "Nightstand is furniture.",
           "Knowledge is Incorrect"
          ],
          [
           "pliers",
           "tool",
           "tool",
           "tool",
           "Pliers is a tool.",
           "Knowledge is Correct"
          ],
          [
           "opera",
           "music",
           "sport",
           "music",
           "Opera is a music.",
           "Knowledge is Incorrect"
          ],
          [
           "piranha",
           "fish",
           "sport",
           "fish",
           "Piranha is a fish.",
           "Knowledge is Incorrect"
          ],
          [
           "pineapple",
           "fruit",
           "clothing",
           "fruit",
           "Pineapple is a fruit.",
           "Knowledge is Incorrect"
          ],
          [
           "owl",
           "bird",
           "furniture",
           "bird",
           "Owl is a bird.",
           "Knowledge is Incorrect"
          ],
          [
           "paddleboat",
           "boat",
           "sport",
           "boat",
           "Paddleboat is a boat.",
           "Knowledge is Incorrect"
          ],
          [
           "panties",
           "clothing",
           "clothing",
           "clothing",
           "Panties is a clothing.",
           "Knowledge is Incorrect"
          ],
          [
           "physical therapist",
           "profession",
           "sport",
           "profession",
           "Physical therapist is a profession.",
           "Knowledge is Incorrect"
          ],
          [
           "pants",
           "clothing",
           "clothing",
           "clothing",
           "Pants is a clothing.",
           "Knowledge is Incorrect"
          ],
          [
           "perch",
           "fish",
           "fish",
           "fish",
           "Perch is a fish.",
           "Knowledge is Incorrect"
          ],
          [
           "papaya",
           "fruit",
           "music",
           "fruit",
           "Papaya is a fruit.",
           "Knowledge is Incorrect"
          ],
          [
           "parakeet",
           "bird",
           "fish",
           "bird",
           "Parakeet is a bird.",
           "Knowledge is Incorrect"
          ],
          [
           "parrot",
           "bird",
           "bird",
           "bird",
           "Parrot is a bird.",
           "Knowledge is Incorrect"
          ],
          [
           "SUV",
           "vehicle",
           "furniture",
           "vehicle",
           "SUV is a vehicle.",
           "Knowledge is Incorrect"
          ],
          [
           "shirt",
           "clothing",
           "clothing",
           "clothing",
           "Shirt is a clothing.",
           "Knowledge is Incorrect"
          ],
          [
           "rugby",
           "sport",
           "boat",
           "sport",
           "Rugby is a sport.",
           "Knowledge is Incorrect"
          ],
          [
           "wrestling",
           "sport",
           "boat",
           "sport",
           "Wrestling is a sport.",
           "Knowledge is Incorrect"
          ],
          [
           "woodpecker",
           "bird",
           "instrument",
           "bird",
           "Woodpecker is a bird.",
           "Knowledge is Incorrect"
          ],
          [
           "wind",
           "weather",
           "music",
           "weather",
           "Wind is a weather.",
           "Knowledge is Incorrect"
          ],
          [
           "weeping willow",
           "tree",
           "fish",
           "tree",
           "Weeping willow is a tree.",
           "Knowledge is Incorrect"
          ],
          [
           "watermelon",
           "fruit",
           "fruit",
           "fruit",
           "Watermelon is a fruit.",
           "Knowledge is Incorrect"
          ],
          [
           "volleyball",
           "sport",
           "furniture",
           "sport",
           "Volleyball is a sport.",
           "Knowledge is Incorrect"
          ],
          [
           "vandalism",
           "crime",
           "music",
           "crime",
           "Vandalism is a crime.",
           "Knowledge is Incorrect"
          ],
          [
           "van",
           "vehicle",
           "vehicle",
           "vehicle",
           "Van is a vehicle.",
           "Knowledge is Correct"
          ],
          [
           "undershirt",
           "clothing",
           "soldier",
           "clothing",
           "Undershirt is a clothing.",
           "Knowledge is Incorrect"
          ],
          [
           "truck",
           "vehicle",
           "weather",
           "vehicle",
           "Truck is a vehicle.",
           "Knowledge is Incorrect"
          ],
          [
           "trout",
           "fish",
           "fish",
           "fish",
           "Trout is a fish.",
           "Knowledge is Incorrect"
          ],
          [
           "tornados",
           "weather",
           "weather",
           "weather",
           "Tornados is a weather.",
           "Knowledge is Incorrect"
          ],
          [
           "topaz",
           "gem",
           "gem",
           "gem",
           "Topaz is a gem.",
           "Knowledge is Correct"
          ],
          [
           "techno",
           "music",
           "fish",
           "music",
           "Techno is a music.",
           "Knowledge is Incorrect"
          ],
          [
           "sword",
           "weapon",
           "instrument",
           "weapon",
           "Sword is a weapon.",
           "Knowledge is Incorrect"
          ],
          [
           "sweatshirt",
           "clothing",
           "clothing",
           "clothing",
           "Sweatshirt is a clothing.",
           "Knowledge is Incorrect"
          ],
          [
           "sweater",
           "clothing",
           "clothing",
           "clothing",
           "Sweater is a clothing.",
           "Knowledge is Incorrect"
          ],
          [
           "running",
           "sport",
           "sport",
           "sport",
           "Running is a sport.",
           "Knowledge is Incorrect"
          ],
          [
           "salmon",
           "fish",
           "fish",
           "fish",
           "Salmon is a fish.",
           "Knowledge is Incorrect"
          ],
          [
           "scarf",
           "clothing",
           "clothing",
           "clothing",
           "Scarf is a clothing.",
           "Knowledge is Correct"
          ],
          [
           "monsoons",
           "weather",
           "fish",
           "weather",
           "Monsoons is a weather.",
           "Knowledge is Incorrect"
          ],
          [
           "skiing",
           "sport",
           "boat",
           "sport",
           "Skiing is a sport.",
           "Knowledge is Incorrect"
          ],
          [
           "snow",
           "weather",
           "clothing",
           "weather",
           "Snow is a weather.",
           "Knowledge is Incorrect"
          ],
          [
           "rowboat",
           "boat",
           "soldier",
           "boat",
           "Rowboat is a boat.",
           "Knowledge is Incorrect"
          ],
          [
           "soccer",
           "sport",
           "sport",
           "sport",
           "Soccer is a sport.",
           "Knowledge is Incorrect"
          ],
          [
           "sparrow",
           "bird",
           "bird",
           "bird",
           "Sparrow is a bird.",
           "Knowledge is Incorrect"
          ],
          [
           "spinach",
           "vegetable",
           "country",
           "vegetable",
           "Spinach is a vegetable.",
           "Knowledge is Incorrect"
          ],
          [
           "spruce",
           "tree",
           "furniture",
           "tree",
           "Spruce is a tree.",
           "Knowledge is Incorrect"
          ],
          [
           "starfruit",
           "fruit",
           "footwear",
           "fruit",
           "Starfruit is a fruit.",
           "Knowledge is Incorrect"
          ],
          [
           "storms",
           "weather",
           "weather",
           "weather",
           "Storms is a weather.",
           "Knowledge is Incorrect"
          ],
          [
           "subway",
           "vehicle",
           "vehicle",
           "country",
           "Subway is a vehicle.",
           "Knowledge is Correct"
          ],
          [
           "sofa",
           "furniture",
           "crime",
           "furniture",
           "Sofa is furniture.",
           "Knowledge is Incorrect"
          ],
          [
           "minute",
           "time",
           "time",
           "time",
           "Minute is a time.",
           "Knowledge is Incorrect"
          ],
          [
           "marlin",
           "fish",
           "fish",
           "fish",
           "Marlin is a fish.",
           "Knowledge is Incorrect"
          ],
          [
           "minivan",
           "vehicle",
           "music",
           "vehicle",
           "Minivan is a vehicle.",
           "Knowledge is Incorrect"
          ],
          [
           "dog",
           "animal",
           "animal",
           "animal",
           "Dog is an animal.",
           "Knowledge is Incorrect"
          ],
          [
           "decade",
           "time",
           "time",
           "time",
           "Decade is a time.",
           "Knowledge is Incorrect"
          ],
          [
           "day",
           "time",
           "music",
           "time",
           "Day is a time.",
           "Knowledge is Incorrect"
          ],
          [
           "dance",
           "music",
           "sport",
           "music",
           "Dance is a music.",
           "Knowledge is Incorrect"
          ],
          [
           "cross country",
           "sport",
           "sport",
           "sport",
           "cross-country is a sport.",
           "Knowledge is Incorrect"
          ],
          [
           "cricket",
           "sport",
           "music",
           "sport",
           "Cricket is a sport.",
           "Knowledge is Incorrect"
          ],
          [
           "country",
           "music",
           "music",
           "country",
           "Country is a music.",
           "Knowledge is Correct"
          ],
          [
           "coffee table",
           "furniture",
           "furniture",
           "furniture",
           "Coffee table is furniture.",
           "Knowledge is Incorrect"
          ],
          [
           "cod",
           "fish",
           "furniture",
           "fish",
           "Cod is a fish.",
           "Knowledge is Incorrect"
          ],
          [
           "coat",
           "clothing",
           "music",
           "clothing",
           "Coat is a clothing.",
           "Knowledge is Incorrect"
          ],
          [
           "clouds",
           "weather",
           "tool",
           "weather",
           "Clouds is a weather.",
           "Knowledge is Incorrect"
          ],
          [
           "classical",
           "music",
           "vegetable",
           "music",
           "Classical is a music.",
           "Knowledge is Incorrect"
          ],
          [
           "chile",
           "country",
           "country",
           "country",
           "Chile is a country.",
           "Knowledge is Correct"
          ],
          [
           "cherry",
           "fruit",
           "fish",
           "fruit",
           "Cherry is a fruit.",
           "Knowledge is Incorrect"
          ],
          [
           "car",
           "vehicle",
           "boat",
           "vehicle",
           "Car is a vehicle.",
           "Knowledge is Incorrect"
          ],
          [
           "cantaloupe",
           "fruit",
           "music",
           "fruit",
           "Cantaloupe is a fruit.",
           "Knowledge is Incorrect"
          ],
          [
           "canoe",
           "boat",
           "boat",
           "boat",
           "Canoe is a boat.",
           "Knowledge is Correct"
          ],
          [
           "afghanistan",
           "country",
           "country",
           "country",
           "Afghanistan is a country.",
           "Knowledge is Incorrect"
          ],
          [
           "armoire",
           "furniture",
           "furniture",
           "weapon",
           "Armoire is furniture.",
           "Knowledge is Correct"
          ],
          [
           "arson",
           "crime",
           "music",
           "crime",
           "Arson is a crime.",
           "Knowledge is Incorrect"
          ],
          [
           "banana",
           "fruit",
           "music",
           "fruit",
           "Banana is a fruit.",
           "Knowledge is Incorrect"
          ],
          [
           "baseball",
           "sport",
           "bird",
           "sport",
           "Baseball is a sport.",
           "Knowledge is Incorrect"
          ],
          [
           "basketball",
           "sport",
           "music",
           "sport",
           "Basketball is a sport.",
           "Knowledge is Incorrect"
          ],
          [
           "dollar",
           "money",
           "furniture",
           "money",
           "Dollar is money.",
           "Knowledge is Incorrect"
          ],
          [
           "bell pepper",
           "vegetable",
           "fruit",
           "vegetable",
           "Bell pepper is a vegetable.",
           "Knowledge is Incorrect"
          ],
          [
           "blowfish",
           "fish",
           "fish",
           "fish",
           "Blowfish is a fish.",
           "Knowledge is Incorrect"
          ],
          [
           "blueberry",
           "fruit",
           "fruit",
           "fruit",
           "Blueberry is a fruit.",
           "Knowledge is Incorrect"
          ],
          [
           "bookcase",
           "furniture",
           "instrument",
           "furniture",
           "Bookcase is furniture.",
           "Knowledge is Incorrect"
          ],
          [
           "bowling",
           "sport",
           "music",
           "sport",
           "Bowling is a sport.",
           "Knowledge is Incorrect"
          ],
          [
           "boxer shorts",
           "clothing",
           "footwear",
           "clothing",
           "Boxer shorts is a clothing.",
           "Knowledge is Incorrect"
          ],
          [
           "broccoli",
           "vegetable",
           "fruit",
           "vegetable",
           "Broccoli is a vegetable.",
           "Knowledge is Incorrect"
          ],
          [
           "birch",
           "tree",
           "tree",
           "tree",
           "Birch is a tree.",
           "Knowledge is Correct"
          ],
          [
           "dress",
           "clothing",
           "clothing",
           "clothing",
           "Dress is a clothing.",
           "Knowledge is Incorrect"
          ],
          [
           "drought",
           "weather",
           "weather",
           "weather",
           "Drought is a weather.",
           "Knowledge is Incorrect"
          ],
          [
           "drug use",
           "crime",
           "crime",
           "crime",
           "Drug use is a crime.",
           "Knowledge is Incorrect"
          ],
          [
           "hour",
           "time",
           "time",
           "time",
           "Hour is a time.",
           "Knowledge is Incorrect"
          ],
          [
           "jacket",
           "clothing",
           "bird",
           "clothing",
           "Jacket is a clothing.",
           "Knowledge is Incorrect"
          ],
          [
           "jeans",
           "clothing",
           "clothing",
           "clothing",
           "Jeans is a clothing.",
           "Knowledge is Incorrect"
          ],
          [
           "kayak",
           "boat",
           "boat",
           "boat",
           "Kayak is a boat.",
           "Knowledge is Correct"
          ],
          [
           "lemon",
           "fruit",
           "fruit",
           "fruit",
           "Lemon is a fruit.",
           "Knowledge is Incorrect"
          ],
          [
           "lightning",
           "weather",
           "footwear",
           "weather",
           "Lightning is a weather.",
           "Knowledge is Incorrect"
          ],
          [
           "herring",
           "fish",
           "furniture",
           "fish",
           "Herring is a fish.",
           "Knowledge is Incorrect"
          ],
          [
           "lira",
           "money",
           "country",
           "money",
           "Lira is money.",
           "Knowledge is Incorrect"
          ],
          [
           "mango",
           "fruit",
           "fruit",
           "fruit",
           "Mango is a fruit.",
           "Knowledge is Incorrect"
          ],
          [
           "maple",
           "tree",
           "tree",
           "tree",
           "Maple is a tree.",
           "Knowledge is Correct"
          ],
          [
           "yacht",
           "boat",
           "furniture",
           "boat",
           "Yacht is a boat.",
           "Knowledge is Incorrect"
          ],
          [
           "melon",
           "fruit",
           "fruit",
           "fruit",
           "Melon is a fruit.",
           "Knowledge is Correct"
          ],
          [
           "metal",
           "music",
           "music",
           "music",
           "Metal is a music.",
           "Knowledge is Correct"
          ],
          [
           "millisecond",
           "time",
           "time",
           "time",
           "Millisecond is a time.",
           "Knowledge is Incorrect"
          ],
          [
           "mahi mahi",
           "fish",
           "music",
           "fish",
           "Mahi Mali is a fish.",
           "Knowledge is Incorrect"
          ],
          [
           "minnow",
           "fish",
           "footwear",
           "fish",
           "Minnow is a fish.",
           "Knowledge is Incorrect"
          ],
          [
           "heavy metal",
           "music",
           "music",
           "music",
           "Heavy metal is a music.",
           "Knowledge is Incorrect"
          ],
          [
           "half dollar",
           "money",
           "money",
           "money",
           "Half dollar is money.",
           "Knowledge is Incorrect"
          ],
          [
           "end table",
           "furniture",
           "furniture",
           "furniture",
           "End table is furniture.",
           "Knowledge is Incorrect"
          ],
          [
           "euro",
           "money",
           "money",
           "money",
           "Euro is money.",
           "Knowledge is Incorrect"
          ],
          [
           "floods",
           "weather",
           "weather",
           "weather",
           "Floods is a weather.",
           "Knowledge is Incorrect"
          ],
          [
           "gemstone",
           "gem",
           "money",
           "gem",
           "Gemstone is a gem.",
           "Knowledge is Incorrect"
          ],
          [
           "goldfish",
           "fish",
           "soldier",
           "fish",
           "Goldfish is a fish.",
           "Knowledge is Incorrect"
          ],
          [
           "golf",
           "sport",
           "sport",
           "sport",
           "Golf is a sport.",
           "Knowledge is Incorrect"
          ],
          [
           "handgun",
           "weapon",
           "fruit",
           "weapon",
           "Handgun is a weapon.",
           "Knowledge is Incorrect"
          ],
          [
           "gospel",
           "music",
           "music",
           "music",
           "Gospel is a music.",
           "Knowledge is Incorrect"
          ],
          [
           "grandmom",
           "relative",
           "relative",
           "time",
           "Grandmom is a relative.",
           "Knowledge is Correct"
          ],
          [
           "grape",
           "fruit",
           "fruit",
           "fruit",
           "Grape is a fruit.",
           "Knowledge is Incorrect"
          ],
          [
           "grapefruit",
           "fruit",
           "fruit",
           "fruit",
           "Grapefruit is a fruit.",
           "Knowledge is Incorrect"
          ],
          [
           "green beans",
           "vegetable",
           "vegetable",
           "vegetable",
           "Green beans is a vegetable.",
           "Knowledge is Incorrect"
          ],
          [
           "grenade",
           "weapon",
           "time",
           "weapon",
           "Grenade is a weapon.",
           "Knowledge is Incorrect"
          ],
          [
           "hail",
           "weather",
           "weather",
           "weather",
           "Hail is a weather.",
           "Knowledge is Incorrect"
          ],
          [
           "grand theft auto",
           "crime",
           "furniture",
           "crime",
           "Grand Theft Auto is a crime.",
           "Knowledge is Incorrect"
          ],
          [
           "yen",
           "money",
           "money",
           "money",
           "Yen is money.",
           "Knowledge is Incorrect"
          ],
          [
           "(?)",
           "(?)",
           "(?)",
           "(?)",
           "(?)",
           "Knowledge is Incorrect"
          ],
          [
           "(?)",
           "(?)",
           "(?)",
           "(?)",
           "(?)",
           "Knowledge is Correct"
          ],
          [
           "(?)",
           "(?)",
           "(?)",
           "(?)",
           "(?)",
           "(?)"
          ]
         ],
         "domain": {
          "x": [
           0,
           1
          ],
          "y": [
           0,
           1
          ]
         },
         "hovertemplate": "labels=%{label}<br>count=%{value}<br>parent=%{parent}<br>id=%{id}<br>sub_label=%{customdata[0]}<br>obj_label=%{customdata[1]}<br>argmax_o=%{customdata[2]}<br>old_argmax_o=%{customdata[3]}<br>sequence=%{customdata[4]}<br>category=%{customdata[5]}<extra></extra>",
         "ids": [
          "[X] is a [Y] ./Correct -> Incorrect/carp, fish",
          "[X] is a [Y] ./Correct -> Incorrect/skirt, clothing",
          "[X] is a [Y] ./Correct -> Incorrect/desk, furniture",
          "[X] is a [Y] ./Correct -> Incorrect/snapper, fish",
          "[X] is a [Y] ./Correct -> Incorrect/guppy, fish",
          "[X] is a [Y] ./Correct -> Incorrect/strawberry, fruit",
          "[X] is a [Y] ./Correct -> Incorrect/pigeon, bird",
          "[X] is a [Y] ./Correct -> Incorrect/cauliflower, vegetable",
          "[X] is a [Y] ./Correct -> Incorrect/folk, music",
          "[X] is a [Y] ./Correct -> Incorrect/tank top, clothing",
          "[X] is a [Y] ./Correct -> Incorrect/thunderstorms, weather",
          "[X] is a [Y] ./Correct -> Incorrect/bra, clothing",
          "[X] is a [Y] ./Correct -> Incorrect/hurricanes, weather",
          "[X] is a [Y] ./Correct -> Incorrect/flounder, fish",
          "[X] is a [Y] ./Correct -> Incorrect/blizzards, weather",
          "[X] is a [Y] ./Correct -> Incorrect/apricot, fruit",
          "[X] is a [Y] ./Correct -> Incorrect/peach, fruit",
          "[X] is a [Y] ./Correct -> Incorrect/rifle, weapon",
          "[X] is a [Y] ./Correct -> Incorrect/redwood, tree",
          "[X] is a [Y] ./Correct -> Incorrect/recliner, furniture",
          "[X] is a [Y] ./Correct -> Incorrect/raspberry, fruit",
          "[X] is a [Y] ./Correct -> Incorrect/moped, vehicle",
          "[X] is a [Y] ./Correct -> Incorrect/nectarine, fruit",
          "[X] is a [Y] ./Correct -> Incorrect/rape, crime",
          "[X] is a [Y] ./Correct -> Incorrect/punk, music",
          "[X] is a [Y] ./Correct -> Incorrect/potatoes, vegetable",
          "[X] is a [Y] ./Correct -> Incorrect/pop, music",
          "[X] is a [Y] ./Incorrect -> Correct/polo, sport",
          "[X] is a [Y] ./Correct -> Incorrect/plum, fruit",
          "[X] is a [Y] ./Correct -> Incorrect/nightstand, furniture",
          "[X] is a [Y] ./Incorrect -> Correct/pliers, tool",
          "[X] is a [Y] ./Correct -> Incorrect/opera, music",
          "[X] is a [Y] ./Correct -> Incorrect/piranha, fish",
          "[X] is a [Y] ./Correct -> Incorrect/pineapple, fruit",
          "[X] is a [Y] ./Correct -> Incorrect/owl, bird",
          "[X] is a [Y] ./Correct -> Incorrect/paddleboat, boat",
          "[X] is a [Y] ./Correct -> Incorrect/panties, clothing",
          "[X] is a [Y] ./Correct -> Incorrect/physical therapist, profession",
          "[X] is a [Y] ./Correct -> Incorrect/pants, clothing",
          "[X] is a [Y] ./Correct -> Incorrect/perch, fish",
          "[X] is a [Y] ./Correct -> Incorrect/papaya, fruit",
          "[X] is a [Y] ./Correct -> Incorrect/parakeet, bird",
          "[X] is a [Y] ./Correct -> Incorrect/parrot, bird",
          "[X] is a [Y] ./Correct -> Incorrect/SUV, vehicle",
          "[X] is a [Y] ./Correct -> Incorrect/shirt, clothing",
          "[X] is a [Y] ./Correct -> Incorrect/rugby, sport",
          "[X] is a [Y] ./Correct -> Incorrect/wrestling, sport",
          "[X] is a [Y] ./Correct -> Incorrect/woodpecker, bird",
          "[X] is a [Y] ./Correct -> Incorrect/wind, weather",
          "[X] is a [Y] ./Correct -> Incorrect/weeping willow, tree",
          "[X] is a [Y] ./Correct -> Incorrect/watermelon, fruit",
          "[X] is a [Y] ./Correct -> Incorrect/volleyball, sport",
          "[X] is a [Y] ./Correct -> Incorrect/vandalism, crime",
          "[X] is a [Y] ./Incorrect -> Correct/van, vehicle",
          "[X] is a [Y] ./Correct -> Incorrect/undershirt, clothing",
          "[X] is a [Y] ./Correct -> Incorrect/truck, vehicle",
          "[X] is a [Y] ./Correct -> Incorrect/trout, fish",
          "[X] is a [Y] ./Correct -> Incorrect/tornados, weather",
          "[X] is a [Y] ./Incorrect -> Correct/topaz, gem",
          "[X] is a [Y] ./Correct -> Incorrect/techno, music",
          "[X] is a [Y] ./Correct -> Incorrect/sword, weapon",
          "[X] is a [Y] ./Correct -> Incorrect/sweatshirt, clothing",
          "[X] is a [Y] ./Correct -> Incorrect/sweater, clothing",
          "[X] is a [Y] ./Correct -> Incorrect/running, sport",
          "[X] is a [Y] ./Correct -> Incorrect/salmon, fish",
          "[X] is a [Y] ./Incorrect -> Correct/scarf, clothing",
          "[X] is a [Y] ./Correct -> Incorrect/monsoons, weather",
          "[X] is a [Y] ./Correct -> Incorrect/skiing, sport",
          "[X] is a [Y] ./Correct -> Incorrect/snow, weather",
          "[X] is a [Y] ./Correct -> Incorrect/rowboat, boat",
          "[X] is a [Y] ./Correct -> Incorrect/soccer, sport",
          "[X] is a [Y] ./Correct -> Incorrect/sparrow, bird",
          "[X] is a [Y] ./Correct -> Incorrect/spinach, vegetable",
          "[X] is a [Y] ./Correct -> Incorrect/spruce, tree",
          "[X] is a [Y] ./Correct -> Incorrect/starfruit, fruit",
          "[X] is a [Y] ./Correct -> Incorrect/storms, weather",
          "[X] is a [Y] ./Incorrect -> Correct/subway, vehicle",
          "[X] is a [Y] ./Correct -> Incorrect/sofa, furniture",
          "[X] is a [Y] ./Correct -> Incorrect/minute, time",
          "[X] is a [Y] ./Correct -> Incorrect/marlin, fish",
          "[X] is a [Y] ./Correct -> Incorrect/minivan, vehicle",
          "[X] is a [Y] ./Correct -> Incorrect/dog, animal",
          "[X] is a [Y] ./Correct -> Incorrect/decade, time",
          "[X] is a [Y] ./Correct -> Incorrect/day, time",
          "[X] is a [Y] ./Correct -> Incorrect/dance, music",
          "[X] is a [Y] ./Correct -> Incorrect/cross country, sport",
          "[X] is a [Y] ./Correct -> Incorrect/cricket, sport",
          "[X] is a [Y] ./Incorrect -> Correct/country, music",
          "[X] is a [Y] ./Correct -> Incorrect/coffee table, furniture",
          "[X] is a [Y] ./Correct -> Incorrect/cod, fish",
          "[X] is a [Y] ./Correct -> Incorrect/coat, clothing",
          "[X] is a [Y] ./Correct -> Incorrect/clouds, weather",
          "[X] is a [Y] ./Correct -> Incorrect/classical, music",
          "[X] is a [Y] ./Incorrect -> Correct/chile, country",
          "[X] is a [Y] ./Correct -> Incorrect/cherry, fruit",
          "[X] is a [Y] ./Correct -> Incorrect/car, vehicle",
          "[X] is a [Y] ./Correct -> Incorrect/cantaloupe, fruit",
          "[X] is a [Y] ./Incorrect -> Correct/canoe, boat",
          "[X] is a [Y] ./Correct -> Incorrect/afghanistan, country",
          "[X] is a [Y] ./Incorrect -> Correct/armoire, furniture",
          "[X] is a [Y] ./Correct -> Incorrect/arson, crime",
          "[X] is a [Y] ./Correct -> Incorrect/banana, fruit",
          "[X] is a [Y] ./Correct -> Incorrect/baseball, sport",
          "[X] is a [Y] ./Correct -> Incorrect/basketball, sport",
          "[X] is a [Y] ./Correct -> Incorrect/dollar, money",
          "[X] is a [Y] ./Correct -> Incorrect/bell pepper, vegetable",
          "[X] is a [Y] ./Correct -> Incorrect/blowfish, fish",
          "[X] is a [Y] ./Correct -> Incorrect/blueberry, fruit",
          "[X] is a [Y] ./Correct -> Incorrect/bookcase, furniture",
          "[X] is a [Y] ./Correct -> Incorrect/bowling, sport",
          "[X] is a [Y] ./Correct -> Incorrect/boxer shorts, clothing",
          "[X] is a [Y] ./Correct -> Incorrect/broccoli, vegetable",
          "[X] is a [Y] ./Incorrect -> Correct/birch, tree",
          "[X] is a [Y] ./Correct -> Incorrect/dress, clothing",
          "[X] is a [Y] ./Correct -> Incorrect/drought, weather",
          "[X] is a [Y] ./Correct -> Incorrect/drug use, crime",
          "[X] is a [Y] ./Correct -> Incorrect/hour, time",
          "[X] is a [Y] ./Correct -> Incorrect/jacket, clothing",
          "[X] is a [Y] ./Correct -> Incorrect/jeans, clothing",
          "[X] is a [Y] ./Incorrect -> Correct/kayak, boat",
          "[X] is a [Y] ./Correct -> Incorrect/lemon, fruit",
          "[X] is a [Y] ./Correct -> Incorrect/lightning, weather",
          "[X] is a [Y] ./Correct -> Incorrect/herring, fish",
          "[X] is a [Y] ./Correct -> Incorrect/lira, money",
          "[X] is a [Y] ./Correct -> Incorrect/mango, fruit",
          "[X] is a [Y] ./Incorrect -> Correct/maple, tree",
          "[X] is a [Y] ./Correct -> Incorrect/yacht, boat",
          "[X] is a [Y] ./Incorrect -> Correct/melon, fruit",
          "[X] is a [Y] ./Incorrect -> Correct/metal, music",
          "[X] is a [Y] ./Correct -> Incorrect/millisecond, time",
          "[X] is a [Y] ./Correct -> Incorrect/mahi mahi, fish",
          "[X] is a [Y] ./Correct -> Incorrect/minnow, fish",
          "[X] is a [Y] ./Correct -> Incorrect/heavy metal, music",
          "[X] is a [Y] ./Correct -> Incorrect/half dollar, money",
          "[X] is a [Y] ./Correct -> Incorrect/end table, furniture",
          "[X] is a [Y] ./Correct -> Incorrect/euro, money",
          "[X] is a [Y] ./Correct -> Incorrect/floods, weather",
          "[X] is a [Y] ./Correct -> Incorrect/gemstone, gem",
          "[X] is a [Y] ./Correct -> Incorrect/goldfish, fish",
          "[X] is a [Y] ./Correct -> Incorrect/golf, sport",
          "[X] is a [Y] ./Correct -> Incorrect/handgun, weapon",
          "[X] is a [Y] ./Correct -> Incorrect/gospel, music",
          "[X] is a [Y] ./Incorrect -> Correct/grandmom, relative",
          "[X] is a [Y] ./Correct -> Incorrect/grape, fruit",
          "[X] is a [Y] ./Correct -> Incorrect/grapefruit, fruit",
          "[X] is a [Y] ./Correct -> Incorrect/green beans, vegetable",
          "[X] is a [Y] ./Correct -> Incorrect/grenade, weapon",
          "[X] is a [Y] ./Correct -> Incorrect/hail, weather",
          "[X] is a [Y] ./Correct -> Incorrect/grand theft auto, crime",
          "[X] is a [Y] ./Correct -> Incorrect/yen, money",
          "[X] is a [Y] ./Correct -> Incorrect",
          "[X] is a [Y] ./Incorrect -> Correct",
          "[X] is a [Y] ."
         ],
         "labels": [
          "carp, fish",
          "skirt, clothing",
          "desk, furniture",
          "snapper, fish",
          "guppy, fish",
          "strawberry, fruit",
          "pigeon, bird",
          "cauliflower, vegetable",
          "folk, music",
          "tank top, clothing",
          "thunderstorms, weather",
          "bra, clothing",
          "hurricanes, weather",
          "flounder, fish",
          "blizzards, weather",
          "apricot, fruit",
          "peach, fruit",
          "rifle, weapon",
          "redwood, tree",
          "recliner, furniture",
          "raspberry, fruit",
          "moped, vehicle",
          "nectarine, fruit",
          "rape, crime",
          "punk, music",
          "potatoes, vegetable",
          "pop, music",
          "polo, sport",
          "plum, fruit",
          "nightstand, furniture",
          "pliers, tool",
          "opera, music",
          "piranha, fish",
          "pineapple, fruit",
          "owl, bird",
          "paddleboat, boat",
          "panties, clothing",
          "physical therapist, profession",
          "pants, clothing",
          "perch, fish",
          "papaya, fruit",
          "parakeet, bird",
          "parrot, bird",
          "SUV, vehicle",
          "shirt, clothing",
          "rugby, sport",
          "wrestling, sport",
          "woodpecker, bird",
          "wind, weather",
          "weeping willow, tree",
          "watermelon, fruit",
          "volleyball, sport",
          "vandalism, crime",
          "van, vehicle",
          "undershirt, clothing",
          "truck, vehicle",
          "trout, fish",
          "tornados, weather",
          "topaz, gem",
          "techno, music",
          "sword, weapon",
          "sweatshirt, clothing",
          "sweater, clothing",
          "running, sport",
          "salmon, fish",
          "scarf, clothing",
          "monsoons, weather",
          "skiing, sport",
          "snow, weather",
          "rowboat, boat",
          "soccer, sport",
          "sparrow, bird",
          "spinach, vegetable",
          "spruce, tree",
          "starfruit, fruit",
          "storms, weather",
          "subway, vehicle",
          "sofa, furniture",
          "minute, time",
          "marlin, fish",
          "minivan, vehicle",
          "dog, animal",
          "decade, time",
          "day, time",
          "dance, music",
          "cross country, sport",
          "cricket, sport",
          "country, music",
          "coffee table, furniture",
          "cod, fish",
          "coat, clothing",
          "clouds, weather",
          "classical, music",
          "chile, country",
          "cherry, fruit",
          "car, vehicle",
          "cantaloupe, fruit",
          "canoe, boat",
          "afghanistan, country",
          "armoire, furniture",
          "arson, crime",
          "banana, fruit",
          "baseball, sport",
          "basketball, sport",
          "dollar, money",
          "bell pepper, vegetable",
          "blowfish, fish",
          "blueberry, fruit",
          "bookcase, furniture",
          "bowling, sport",
          "boxer shorts, clothing",
          "broccoli, vegetable",
          "birch, tree",
          "dress, clothing",
          "drought, weather",
          "drug use, crime",
          "hour, time",
          "jacket, clothing",
          "jeans, clothing",
          "kayak, boat",
          "lemon, fruit",
          "lightning, weather",
          "herring, fish",
          "lira, money",
          "mango, fruit",
          "maple, tree",
          "yacht, boat",
          "melon, fruit",
          "metal, music",
          "millisecond, time",
          "mahi mahi, fish",
          "minnow, fish",
          "heavy metal, music",
          "half dollar, money",
          "end table, furniture",
          "euro, money",
          "floods, weather",
          "gemstone, gem",
          "goldfish, fish",
          "golf, sport",
          "handgun, weapon",
          "gospel, music",
          "grandmom, relative",
          "grape, fruit",
          "grapefruit, fruit",
          "green beans, vegetable",
          "grenade, weapon",
          "hail, weather",
          "grand theft auto, crime",
          "yen, money",
          "Correct -> Incorrect",
          "Incorrect -> Correct",
          "[X] is a [Y] ."
         ],
         "marker": {
          "colors": [
           "#636efa",
           "#636efa",
           "#636efa",
           "#636efa",
           "#636efa",
           "#636efa",
           "#636efa",
           "#636efa",
           "#636efa",
           "#636efa",
           "#636efa",
           "#636efa",
           "#636efa",
           "#636efa",
           "#636efa",
           "#636efa",
           "#636efa",
           "#636efa",
           "#636efa",
           "#636efa",
           "#636efa",
           "#636efa",
           "#636efa",
           "#636efa",
           "#636efa",
           "#636efa",
           "#636efa",
           "#EF553B",
           "#636efa",
           "#636efa",
           "#EF553B",
           "#636efa",
           "#636efa",
           "#636efa",
           "#636efa",
           "#636efa",
           "#636efa",
           "#636efa",
           "#636efa",
           "#636efa",
           "#636efa",
           "#636efa",
           "#636efa",
           "#636efa",
           "#636efa",
           "#636efa",
           "#636efa",
           "#636efa",
           "#636efa",
           "#636efa",
           "#636efa",
           "#636efa",
           "#636efa",
           "#EF553B",
           "#636efa",
           "#636efa",
           "#636efa",
           "#636efa",
           "#EF553B",
           "#636efa",
           "#636efa",
           "#636efa",
           "#636efa",
           "#636efa",
           "#636efa",
           "#EF553B",
           "#636efa",
           "#636efa",
           "#636efa",
           "#636efa",
           "#636efa",
           "#636efa",
           "#636efa",
           "#636efa",
           "#636efa",
           "#636efa",
           "#EF553B",
           "#636efa",
           "#636efa",
           "#636efa",
           "#636efa",
           "#636efa",
           "#636efa",
           "#636efa",
           "#636efa",
           "#636efa",
           "#636efa",
           "#EF553B",
           "#636efa",
           "#636efa",
           "#636efa",
           "#636efa",
           "#636efa",
           "#EF553B",
           "#636efa",
           "#636efa",
           "#636efa",
           "#EF553B",
           "#636efa",
           "#EF553B",
           "#636efa",
           "#636efa",
           "#636efa",
           "#636efa",
           "#636efa",
           "#636efa",
           "#636efa",
           "#636efa",
           "#636efa",
           "#636efa",
           "#636efa",
           "#636efa",
           "#EF553B",
           "#636efa",
           "#636efa",
           "#636efa",
           "#636efa",
           "#636efa",
           "#636efa",
           "#EF553B",
           "#636efa",
           "#636efa",
           "#636efa",
           "#636efa",
           "#636efa",
           "#EF553B",
           "#636efa",
           "#EF553B",
           "#EF553B",
           "#636efa",
           "#636efa",
           "#636efa",
           "#636efa",
           "#636efa",
           "#636efa",
           "#636efa",
           "#636efa",
           "#636efa",
           "#636efa",
           "#636efa",
           "#636efa",
           "#636efa",
           "#EF553B",
           "#636efa",
           "#636efa",
           "#636efa",
           "#636efa",
           "#636efa",
           "#636efa",
           "#636efa",
           "#636efa",
           "#EF553B",
           "#00cc96"
          ]
         },
         "name": "",
         "parents": [
          "[X] is a [Y] ./Correct -> Incorrect",
          "[X] is a [Y] ./Correct -> Incorrect",
          "[X] is a [Y] ./Correct -> Incorrect",
          "[X] is a [Y] ./Correct -> Incorrect",
          "[X] is a [Y] ./Correct -> Incorrect",
          "[X] is a [Y] ./Correct -> Incorrect",
          "[X] is a [Y] ./Correct -> Incorrect",
          "[X] is a [Y] ./Correct -> Incorrect",
          "[X] is a [Y] ./Correct -> Incorrect",
          "[X] is a [Y] ./Correct -> Incorrect",
          "[X] is a [Y] ./Correct -> Incorrect",
          "[X] is a [Y] ./Correct -> Incorrect",
          "[X] is a [Y] ./Correct -> Incorrect",
          "[X] is a [Y] ./Correct -> Incorrect",
          "[X] is a [Y] ./Correct -> Incorrect",
          "[X] is a [Y] ./Correct -> Incorrect",
          "[X] is a [Y] ./Correct -> Incorrect",
          "[X] is a [Y] ./Correct -> Incorrect",
          "[X] is a [Y] ./Correct -> Incorrect",
          "[X] is a [Y] ./Correct -> Incorrect",
          "[X] is a [Y] ./Correct -> Incorrect",
          "[X] is a [Y] ./Correct -> Incorrect",
          "[X] is a [Y] ./Correct -> Incorrect",
          "[X] is a [Y] ./Correct -> Incorrect",
          "[X] is a [Y] ./Correct -> Incorrect",
          "[X] is a [Y] ./Correct -> Incorrect",
          "[X] is a [Y] ./Correct -> Incorrect",
          "[X] is a [Y] ./Incorrect -> Correct",
          "[X] is a [Y] ./Correct -> Incorrect",
          "[X] is a [Y] ./Correct -> Incorrect",
          "[X] is a [Y] ./Incorrect -> Correct",
          "[X] is a [Y] ./Correct -> Incorrect",
          "[X] is a [Y] ./Correct -> Incorrect",
          "[X] is a [Y] ./Correct -> Incorrect",
          "[X] is a [Y] ./Correct -> Incorrect",
          "[X] is a [Y] ./Correct -> Incorrect",
          "[X] is a [Y] ./Correct -> Incorrect",
          "[X] is a [Y] ./Correct -> Incorrect",
          "[X] is a [Y] ./Correct -> Incorrect",
          "[X] is a [Y] ./Correct -> Incorrect",
          "[X] is a [Y] ./Correct -> Incorrect",
          "[X] is a [Y] ./Correct -> Incorrect",
          "[X] is a [Y] ./Correct -> Incorrect",
          "[X] is a [Y] ./Correct -> Incorrect",
          "[X] is a [Y] ./Correct -> Incorrect",
          "[X] is a [Y] ./Correct -> Incorrect",
          "[X] is a [Y] ./Correct -> Incorrect",
          "[X] is a [Y] ./Correct -> Incorrect",
          "[X] is a [Y] ./Correct -> Incorrect",
          "[X] is a [Y] ./Correct -> Incorrect",
          "[X] is a [Y] ./Correct -> Incorrect",
          "[X] is a [Y] ./Correct -> Incorrect",
          "[X] is a [Y] ./Correct -> Incorrect",
          "[X] is a [Y] ./Incorrect -> Correct",
          "[X] is a [Y] ./Correct -> Incorrect",
          "[X] is a [Y] ./Correct -> Incorrect",
          "[X] is a [Y] ./Correct -> Incorrect",
          "[X] is a [Y] ./Correct -> Incorrect",
          "[X] is a [Y] ./Incorrect -> Correct",
          "[X] is a [Y] ./Correct -> Incorrect",
          "[X] is a [Y] ./Correct -> Incorrect",
          "[X] is a [Y] ./Correct -> Incorrect",
          "[X] is a [Y] ./Correct -> Incorrect",
          "[X] is a [Y] ./Correct -> Incorrect",
          "[X] is a [Y] ./Correct -> Incorrect",
          "[X] is a [Y] ./Incorrect -> Correct",
          "[X] is a [Y] ./Correct -> Incorrect",
          "[X] is a [Y] ./Correct -> Incorrect",
          "[X] is a [Y] ./Correct -> Incorrect",
          "[X] is a [Y] ./Correct -> Incorrect",
          "[X] is a [Y] ./Correct -> Incorrect",
          "[X] is a [Y] ./Correct -> Incorrect",
          "[X] is a [Y] ./Correct -> Incorrect",
          "[X] is a [Y] ./Correct -> Incorrect",
          "[X] is a [Y] ./Correct -> Incorrect",
          "[X] is a [Y] ./Correct -> Incorrect",
          "[X] is a [Y] ./Incorrect -> Correct",
          "[X] is a [Y] ./Correct -> Incorrect",
          "[X] is a [Y] ./Correct -> Incorrect",
          "[X] is a [Y] ./Correct -> Incorrect",
          "[X] is a [Y] ./Correct -> Incorrect",
          "[X] is a [Y] ./Correct -> Incorrect",
          "[X] is a [Y] ./Correct -> Incorrect",
          "[X] is a [Y] ./Correct -> Incorrect",
          "[X] is a [Y] ./Correct -> Incorrect",
          "[X] is a [Y] ./Correct -> Incorrect",
          "[X] is a [Y] ./Correct -> Incorrect",
          "[X] is a [Y] ./Incorrect -> Correct",
          "[X] is a [Y] ./Correct -> Incorrect",
          "[X] is a [Y] ./Correct -> Incorrect",
          "[X] is a [Y] ./Correct -> Incorrect",
          "[X] is a [Y] ./Correct -> Incorrect",
          "[X] is a [Y] ./Correct -> Incorrect",
          "[X] is a [Y] ./Incorrect -> Correct",
          "[X] is a [Y] ./Correct -> Incorrect",
          "[X] is a [Y] ./Correct -> Incorrect",
          "[X] is a [Y] ./Correct -> Incorrect",
          "[X] is a [Y] ./Incorrect -> Correct",
          "[X] is a [Y] ./Correct -> Incorrect",
          "[X] is a [Y] ./Incorrect -> Correct",
          "[X] is a [Y] ./Correct -> Incorrect",
          "[X] is a [Y] ./Correct -> Incorrect",
          "[X] is a [Y] ./Correct -> Incorrect",
          "[X] is a [Y] ./Correct -> Incorrect",
          "[X] is a [Y] ./Correct -> Incorrect",
          "[X] is a [Y] ./Correct -> Incorrect",
          "[X] is a [Y] ./Correct -> Incorrect",
          "[X] is a [Y] ./Correct -> Incorrect",
          "[X] is a [Y] ./Correct -> Incorrect",
          "[X] is a [Y] ./Correct -> Incorrect",
          "[X] is a [Y] ./Correct -> Incorrect",
          "[X] is a [Y] ./Correct -> Incorrect",
          "[X] is a [Y] ./Incorrect -> Correct",
          "[X] is a [Y] ./Correct -> Incorrect",
          "[X] is a [Y] ./Correct -> Incorrect",
          "[X] is a [Y] ./Correct -> Incorrect",
          "[X] is a [Y] ./Correct -> Incorrect",
          "[X] is a [Y] ./Correct -> Incorrect",
          "[X] is a [Y] ./Correct -> Incorrect",
          "[X] is a [Y] ./Incorrect -> Correct",
          "[X] is a [Y] ./Correct -> Incorrect",
          "[X] is a [Y] ./Correct -> Incorrect",
          "[X] is a [Y] ./Correct -> Incorrect",
          "[X] is a [Y] ./Correct -> Incorrect",
          "[X] is a [Y] ./Correct -> Incorrect",
          "[X] is a [Y] ./Incorrect -> Correct",
          "[X] is a [Y] ./Correct -> Incorrect",
          "[X] is a [Y] ./Incorrect -> Correct",
          "[X] is a [Y] ./Incorrect -> Correct",
          "[X] is a [Y] ./Correct -> Incorrect",
          "[X] is a [Y] ./Correct -> Incorrect",
          "[X] is a [Y] ./Correct -> Incorrect",
          "[X] is a [Y] ./Correct -> Incorrect",
          "[X] is a [Y] ./Correct -> Incorrect",
          "[X] is a [Y] ./Correct -> Incorrect",
          "[X] is a [Y] ./Correct -> Incorrect",
          "[X] is a [Y] ./Correct -> Incorrect",
          "[X] is a [Y] ./Correct -> Incorrect",
          "[X] is a [Y] ./Correct -> Incorrect",
          "[X] is a [Y] ./Correct -> Incorrect",
          "[X] is a [Y] ./Correct -> Incorrect",
          "[X] is a [Y] ./Correct -> Incorrect",
          "[X] is a [Y] ./Incorrect -> Correct",
          "[X] is a [Y] ./Correct -> Incorrect",
          "[X] is a [Y] ./Correct -> Incorrect",
          "[X] is a [Y] ./Correct -> Incorrect",
          "[X] is a [Y] ./Correct -> Incorrect",
          "[X] is a [Y] ./Correct -> Incorrect",
          "[X] is a [Y] ./Correct -> Incorrect",
          "[X] is a [Y] ./Correct -> Incorrect",
          "[X] is a [Y] .",
          "[X] is a [Y] .",
          ""
         ],
         "type": "treemap",
         "values": [
          1,
          1,
          1,
          1,
          1,
          1,
          1,
          1,
          1,
          1,
          1,
          1,
          1,
          1,
          1,
          1,
          1,
          1,
          1,
          1,
          1,
          1,
          1,
          1,
          1,
          1,
          1,
          1,
          1,
          1,
          1,
          1,
          1,
          1,
          1,
          1,
          1,
          1,
          1,
          1,
          1,
          1,
          1,
          1,
          1,
          1,
          1,
          1,
          1,
          1,
          1,
          1,
          1,
          1,
          1,
          1,
          1,
          1,
          1,
          1,
          1,
          1,
          1,
          1,
          1,
          1,
          1,
          1,
          1,
          1,
          1,
          1,
          1,
          1,
          1,
          1,
          1,
          1,
          1,
          1,
          1,
          1,
          1,
          1,
          1,
          1,
          1,
          1,
          1,
          1,
          1,
          1,
          1,
          1,
          1,
          1,
          1,
          1,
          1,
          1,
          1,
          1,
          1,
          1,
          1,
          1,
          1,
          1,
          1,
          1,
          1,
          1,
          1,
          1,
          1,
          1,
          1,
          1,
          1,
          1,
          1,
          1,
          1,
          1,
          1,
          1,
          1,
          1,
          1,
          1,
          1,
          1,
          1,
          1,
          1,
          1,
          1,
          1,
          1,
          1,
          1,
          1,
          1,
          1,
          1,
          1,
          1,
          1,
          1,
          1,
          134,
          16,
          150
         ]
        }
       ],
       "layout": {
        "legend": {
         "tracegroupgap": 0
        },
        "template": {
         "data": {
          "bar": [
           {
            "error_x": {
             "color": "#2a3f5f"
            },
            "error_y": {
             "color": "#2a3f5f"
            },
            "marker": {
             "line": {
              "color": "#E5ECF6",
              "width": 0.5
             },
             "pattern": {
              "fillmode": "overlay",
              "size": 10,
              "solidity": 0.2
             }
            },
            "type": "bar"
           }
          ],
          "barpolar": [
           {
            "marker": {
             "line": {
              "color": "#E5ECF6",
              "width": 0.5
             },
             "pattern": {
              "fillmode": "overlay",
              "size": 10,
              "solidity": 0.2
             }
            },
            "type": "barpolar"
           }
          ],
          "carpet": [
           {
            "aaxis": {
             "endlinecolor": "#2a3f5f",
             "gridcolor": "white",
             "linecolor": "white",
             "minorgridcolor": "white",
             "startlinecolor": "#2a3f5f"
            },
            "baxis": {
             "endlinecolor": "#2a3f5f",
             "gridcolor": "white",
             "linecolor": "white",
             "minorgridcolor": "white",
             "startlinecolor": "#2a3f5f"
            },
            "type": "carpet"
           }
          ],
          "choropleth": [
           {
            "colorbar": {
             "outlinewidth": 0,
             "ticks": ""
            },
            "type": "choropleth"
           }
          ],
          "contour": [
           {
            "colorbar": {
             "outlinewidth": 0,
             "ticks": ""
            },
            "colorscale": [
             [
              0,
              "#0d0887"
             ],
             [
              0.1111111111111111,
              "#46039f"
             ],
             [
              0.2222222222222222,
              "#7201a8"
             ],
             [
              0.3333333333333333,
              "#9c179e"
             ],
             [
              0.4444444444444444,
              "#bd3786"
             ],
             [
              0.5555555555555556,
              "#d8576b"
             ],
             [
              0.6666666666666666,
              "#ed7953"
             ],
             [
              0.7777777777777778,
              "#fb9f3a"
             ],
             [
              0.8888888888888888,
              "#fdca26"
             ],
             [
              1,
              "#f0f921"
             ]
            ],
            "type": "contour"
           }
          ],
          "contourcarpet": [
           {
            "colorbar": {
             "outlinewidth": 0,
             "ticks": ""
            },
            "type": "contourcarpet"
           }
          ],
          "heatmap": [
           {
            "colorbar": {
             "outlinewidth": 0,
             "ticks": ""
            },
            "colorscale": [
             [
              0,
              "#0d0887"
             ],
             [
              0.1111111111111111,
              "#46039f"
             ],
             [
              0.2222222222222222,
              "#7201a8"
             ],
             [
              0.3333333333333333,
              "#9c179e"
             ],
             [
              0.4444444444444444,
              "#bd3786"
             ],
             [
              0.5555555555555556,
              "#d8576b"
             ],
             [
              0.6666666666666666,
              "#ed7953"
             ],
             [
              0.7777777777777778,
              "#fb9f3a"
             ],
             [
              0.8888888888888888,
              "#fdca26"
             ],
             [
              1,
              "#f0f921"
             ]
            ],
            "type": "heatmap"
           }
          ],
          "heatmapgl": [
           {
            "colorbar": {
             "outlinewidth": 0,
             "ticks": ""
            },
            "colorscale": [
             [
              0,
              "#0d0887"
             ],
             [
              0.1111111111111111,
              "#46039f"
             ],
             [
              0.2222222222222222,
              "#7201a8"
             ],
             [
              0.3333333333333333,
              "#9c179e"
             ],
             [
              0.4444444444444444,
              "#bd3786"
             ],
             [
              0.5555555555555556,
              "#d8576b"
             ],
             [
              0.6666666666666666,
              "#ed7953"
             ],
             [
              0.7777777777777778,
              "#fb9f3a"
             ],
             [
              0.8888888888888888,
              "#fdca26"
             ],
             [
              1,
              "#f0f921"
             ]
            ],
            "type": "heatmapgl"
           }
          ],
          "histogram": [
           {
            "marker": {
             "pattern": {
              "fillmode": "overlay",
              "size": 10,
              "solidity": 0.2
             }
            },
            "type": "histogram"
           }
          ],
          "histogram2d": [
           {
            "colorbar": {
             "outlinewidth": 0,
             "ticks": ""
            },
            "colorscale": [
             [
              0,
              "#0d0887"
             ],
             [
              0.1111111111111111,
              "#46039f"
             ],
             [
              0.2222222222222222,
              "#7201a8"
             ],
             [
              0.3333333333333333,
              "#9c179e"
             ],
             [
              0.4444444444444444,
              "#bd3786"
             ],
             [
              0.5555555555555556,
              "#d8576b"
             ],
             [
              0.6666666666666666,
              "#ed7953"
             ],
             [
              0.7777777777777778,
              "#fb9f3a"
             ],
             [
              0.8888888888888888,
              "#fdca26"
             ],
             [
              1,
              "#f0f921"
             ]
            ],
            "type": "histogram2d"
           }
          ],
          "histogram2dcontour": [
           {
            "colorbar": {
             "outlinewidth": 0,
             "ticks": ""
            },
            "colorscale": [
             [
              0,
              "#0d0887"
             ],
             [
              0.1111111111111111,
              "#46039f"
             ],
             [
              0.2222222222222222,
              "#7201a8"
             ],
             [
              0.3333333333333333,
              "#9c179e"
             ],
             [
              0.4444444444444444,
              "#bd3786"
             ],
             [
              0.5555555555555556,
              "#d8576b"
             ],
             [
              0.6666666666666666,
              "#ed7953"
             ],
             [
              0.7777777777777778,
              "#fb9f3a"
             ],
             [
              0.8888888888888888,
              "#fdca26"
             ],
             [
              1,
              "#f0f921"
             ]
            ],
            "type": "histogram2dcontour"
           }
          ],
          "mesh3d": [
           {
            "colorbar": {
             "outlinewidth": 0,
             "ticks": ""
            },
            "type": "mesh3d"
           }
          ],
          "parcoords": [
           {
            "line": {
             "colorbar": {
              "outlinewidth": 0,
              "ticks": ""
             }
            },
            "type": "parcoords"
           }
          ],
          "pie": [
           {
            "automargin": true,
            "type": "pie"
           }
          ],
          "scatter": [
           {
            "fillpattern": {
             "fillmode": "overlay",
             "size": 10,
             "solidity": 0.2
            },
            "type": "scatter"
           }
          ],
          "scatter3d": [
           {
            "line": {
             "colorbar": {
              "outlinewidth": 0,
              "ticks": ""
             }
            },
            "marker": {
             "colorbar": {
              "outlinewidth": 0,
              "ticks": ""
             }
            },
            "type": "scatter3d"
           }
          ],
          "scattercarpet": [
           {
            "marker": {
             "colorbar": {
              "outlinewidth": 0,
              "ticks": ""
             }
            },
            "type": "scattercarpet"
           }
          ],
          "scattergeo": [
           {
            "marker": {
             "colorbar": {
              "outlinewidth": 0,
              "ticks": ""
             }
            },
            "type": "scattergeo"
           }
          ],
          "scattergl": [
           {
            "marker": {
             "colorbar": {
              "outlinewidth": 0,
              "ticks": ""
             }
            },
            "type": "scattergl"
           }
          ],
          "scattermapbox": [
           {
            "marker": {
             "colorbar": {
              "outlinewidth": 0,
              "ticks": ""
             }
            },
            "type": "scattermapbox"
           }
          ],
          "scatterpolar": [
           {
            "marker": {
             "colorbar": {
              "outlinewidth": 0,
              "ticks": ""
             }
            },
            "type": "scatterpolar"
           }
          ],
          "scatterpolargl": [
           {
            "marker": {
             "colorbar": {
              "outlinewidth": 0,
              "ticks": ""
             }
            },
            "type": "scatterpolargl"
           }
          ],
          "scatterternary": [
           {
            "marker": {
             "colorbar": {
              "outlinewidth": 0,
              "ticks": ""
             }
            },
            "type": "scatterternary"
           }
          ],
          "surface": [
           {
            "colorbar": {
             "outlinewidth": 0,
             "ticks": ""
            },
            "colorscale": [
             [
              0,
              "#0d0887"
             ],
             [
              0.1111111111111111,
              "#46039f"
             ],
             [
              0.2222222222222222,
              "#7201a8"
             ],
             [
              0.3333333333333333,
              "#9c179e"
             ],
             [
              0.4444444444444444,
              "#bd3786"
             ],
             [
              0.5555555555555556,
              "#d8576b"
             ],
             [
              0.6666666666666666,
              "#ed7953"
             ],
             [
              0.7777777777777778,
              "#fb9f3a"
             ],
             [
              0.8888888888888888,
              "#fdca26"
             ],
             [
              1,
              "#f0f921"
             ]
            ],
            "type": "surface"
           }
          ],
          "table": [
           {
            "cells": {
             "fill": {
              "color": "#EBF0F8"
             },
             "line": {
              "color": "white"
             }
            },
            "header": {
             "fill": {
              "color": "#C8D4E3"
             },
             "line": {
              "color": "white"
             }
            },
            "type": "table"
           }
          ]
         },
         "layout": {
          "annotationdefaults": {
           "arrowcolor": "#2a3f5f",
           "arrowhead": 0,
           "arrowwidth": 1
          },
          "autotypenumbers": "strict",
          "coloraxis": {
           "colorbar": {
            "outlinewidth": 0,
            "ticks": ""
           }
          },
          "colorscale": {
           "diverging": [
            [
             0,
             "#8e0152"
            ],
            [
             0.1,
             "#c51b7d"
            ],
            [
             0.2,
             "#de77ae"
            ],
            [
             0.3,
             "#f1b6da"
            ],
            [
             0.4,
             "#fde0ef"
            ],
            [
             0.5,
             "#f7f7f7"
            ],
            [
             0.6,
             "#e6f5d0"
            ],
            [
             0.7,
             "#b8e186"
            ],
            [
             0.8,
             "#7fbc41"
            ],
            [
             0.9,
             "#4d9221"
            ],
            [
             1,
             "#276419"
            ]
           ],
           "sequential": [
            [
             0,
             "#0d0887"
            ],
            [
             0.1111111111111111,
             "#46039f"
            ],
            [
             0.2222222222222222,
             "#7201a8"
            ],
            [
             0.3333333333333333,
             "#9c179e"
            ],
            [
             0.4444444444444444,
             "#bd3786"
            ],
            [
             0.5555555555555556,
             "#d8576b"
            ],
            [
             0.6666666666666666,
             "#ed7953"
            ],
            [
             0.7777777777777778,
             "#fb9f3a"
            ],
            [
             0.8888888888888888,
             "#fdca26"
            ],
            [
             1,
             "#f0f921"
            ]
           ],
           "sequentialminus": [
            [
             0,
             "#0d0887"
            ],
            [
             0.1111111111111111,
             "#46039f"
            ],
            [
             0.2222222222222222,
             "#7201a8"
            ],
            [
             0.3333333333333333,
             "#9c179e"
            ],
            [
             0.4444444444444444,
             "#bd3786"
            ],
            [
             0.5555555555555556,
             "#d8576b"
            ],
            [
             0.6666666666666666,
             "#ed7953"
            ],
            [
             0.7777777777777778,
             "#fb9f3a"
            ],
            [
             0.8888888888888888,
             "#fdca26"
            ],
            [
             1,
             "#f0f921"
            ]
           ]
          },
          "colorway": [
           "#636efa",
           "#EF553B",
           "#00cc96",
           "#ab63fa",
           "#FFA15A",
           "#19d3f3",
           "#FF6692",
           "#B6E880",
           "#FF97FF",
           "#FECB52"
          ],
          "font": {
           "color": "#2a3f5f"
          },
          "geo": {
           "bgcolor": "white",
           "lakecolor": "white",
           "landcolor": "#E5ECF6",
           "showlakes": true,
           "showland": true,
           "subunitcolor": "white"
          },
          "hoverlabel": {
           "align": "left"
          },
          "hovermode": "closest",
          "mapbox": {
           "style": "light"
          },
          "paper_bgcolor": "white",
          "plot_bgcolor": "#E5ECF6",
          "polar": {
           "angularaxis": {
            "gridcolor": "white",
            "linecolor": "white",
            "ticks": ""
           },
           "bgcolor": "#E5ECF6",
           "radialaxis": {
            "gridcolor": "white",
            "linecolor": "white",
            "ticks": ""
           }
          },
          "scene": {
           "xaxis": {
            "backgroundcolor": "#E5ECF6",
            "gridcolor": "white",
            "gridwidth": 2,
            "linecolor": "white",
            "showbackground": true,
            "ticks": "",
            "zerolinecolor": "white"
           },
           "yaxis": {
            "backgroundcolor": "#E5ECF6",
            "gridcolor": "white",
            "gridwidth": 2,
            "linecolor": "white",
            "showbackground": true,
            "ticks": "",
            "zerolinecolor": "white"
           },
           "zaxis": {
            "backgroundcolor": "#E5ECF6",
            "gridcolor": "white",
            "gridwidth": 2,
            "linecolor": "white",
            "showbackground": true,
            "ticks": "",
            "zerolinecolor": "white"
           }
          },
          "shapedefaults": {
           "line": {
            "color": "#2a3f5f"
           }
          },
          "ternary": {
           "aaxis": {
            "gridcolor": "white",
            "linecolor": "white",
            "ticks": ""
           },
           "baxis": {
            "gridcolor": "white",
            "linecolor": "white",
            "ticks": ""
           },
           "bgcolor": "#E5ECF6",
           "caxis": {
            "gridcolor": "white",
            "linecolor": "white",
            "ticks": ""
           }
          },
          "title": {
           "x": 0.05
          },
          "xaxis": {
           "automargin": true,
           "gridcolor": "white",
           "linecolor": "white",
           "ticks": "",
           "title": {
            "standoff": 15
           },
           "zerolinecolor": "white",
           "zerolinewidth": 2
          },
          "yaxis": {
           "automargin": true,
           "gridcolor": "white",
           "linecolor": "white",
           "ticks": "",
           "title": {
            "standoff": 15
           },
           "zerolinecolor": "white",
           "zerolinewidth": 2
          }
         }
        },
        "title": {
         "text": "Precision @0.5 threshold for hypernymy, gpt-l"
        }
       }
      }
     },
     "metadata": {},
     "output_type": "display_data"
    }
   ],
   "source": [
    "# Precision @0.5 threshold for Dataset, Model and Paraphrases and subject: compare with and without context\n",
    "# RISK / COVERAGE CURVE for GLOBAL Classification with moving threshold\n",
    "\n",
    "threshold = 0.5\n",
    "\n",
    "change_data = []\n",
    "for t in range(len(all_run_names)):\n",
    "    run_names = all_run_names[t]\n",
    "    dataset_per_run = all_datasets_per_run[t]\n",
    "    model_per_run = all_models_per_run[t]\n",
    "    run_attributes = all_runs_attributes[t]    \n",
    "    \n",
    "    assert len(run_names) == 2 and len(dataset_per_run) == 2 and len(model_per_run) and len(run_attributes) ==2, f'Need 2 runs for comparison, got {len(run_names)} runs.'\n",
    "\n",
    "    stats_s_all, stats_plot, data = find_differences_2_runs(run_names, dataset_per_run, model_per_run, run_attributes, BASE_PATH, threshold, metric='precision_selective_global')\n",
    "    change_data.append(data)\n",
    "\n",
    "    # plot same and different r,s,o for both runs \n",
    "    fig = px.treemap(stats_plot, path=['orig_relation_template', 'difference_str', 's, o'],  title=f'Precision @0.5 threshold for {dataset_per_run[0]}, {model_per_run[0]}',\n",
    "                        color='category', hover_data=['sub_label', 'obj_label', 'argmax_o', 'old_argmax_o', 'sequence'] ) # value=...\n",
    "    # fig.show()\n",
    "\n",
    "    # plot the changes\n",
    "    treemap_df = stats_plot[stats_plot['difference'] == 1]\n",
    "    new_correct = treemap_df['new_correct'].to_list()\n",
    "    treemap_df['new_correct_str'] = ['Incorrect -> Correct' if x == True else 'Correct -> Incorrect' for x in new_correct]\n",
    "\n",
    "    fig = px.treemap(treemap_df, path=['orig_relation_template', 'new_correct_str', 's, o'],  title=f'Precision @0.5 threshold for {dataset_per_run[0]}, {model_per_run[0]}',\n",
    "                        color='category', hover_data=['sub_label', 'obj_label', 'argmax_o', 'old_argmax_o', 'sequence'] ) # value=...\n",
    "    fig.show()\n",
    "\n",
    "\n",
    "  "
   ]
  },
  {
   "cell_type": "code",
   "execution_count": 12,
   "metadata": {},
   "outputs": [
    {
     "name": "stdout",
     "output_type": "stream",
     "text": [
      "Df columns: Index(['dataset', 'model', 'run_attributes', 'to correct', 'to incorrect',\n",
      "       'no changes'],\n",
      "      dtype='object')\n",
      "/Users/dug/Desktop/exp_3_set_proba_V4/RC_changes.tex\n"
     ]
    },
    {
     "data": {
      "text/html": [
       "<div>\n",
       "<style scoped>\n",
       "    .dataframe tbody tr th:only-of-type {\n",
       "        vertical-align: middle;\n",
       "    }\n",
       "\n",
       "    .dataframe tbody tr th {\n",
       "        vertical-align: top;\n",
       "    }\n",
       "\n",
       "    .dataframe thead tr th {\n",
       "        text-align: left;\n",
       "    }\n",
       "\n",
       "    .dataframe thead tr:last-of-type th {\n",
       "        text-align: right;\n",
       "    }\n",
       "</style>\n",
       "<table border=\"1\" class=\"dataframe\">\n",
       "  <thead>\n",
       "    <tr>\n",
       "      <th></th>\n",
       "      <th></th>\n",
       "      <th colspan=\"2\" halign=\"left\">to correct</th>\n",
       "      <th colspan=\"2\" halign=\"left\">to incorrect</th>\n",
       "      <th colspan=\"2\" halign=\"left\">no changes</th>\n",
       "    </tr>\n",
       "    <tr>\n",
       "      <th></th>\n",
       "      <th>run_attributes</th>\n",
       "      <th>+ context</th>\n",
       "      <th>+ neg context</th>\n",
       "      <th>+ context</th>\n",
       "      <th>+ neg context</th>\n",
       "      <th>+ context</th>\n",
       "      <th>+ neg context</th>\n",
       "    </tr>\n",
       "    <tr>\n",
       "      <th>dataset</th>\n",
       "      <th>model</th>\n",
       "      <th></th>\n",
       "      <th></th>\n",
       "      <th></th>\n",
       "      <th></th>\n",
       "      <th></th>\n",
       "      <th></th>\n",
       "    </tr>\n",
       "  </thead>\n",
       "  <tbody>\n",
       "    <tr>\n",
       "      <th rowspan=\"2\" valign=\"top\">Hypernymy</th>\n",
       "      <th>GPT-2-L</th>\n",
       "      <td>0.315425</td>\n",
       "      <td>0.027730</td>\n",
       "      <td>0.017331</td>\n",
       "      <td>0.232236</td>\n",
       "      <td>0.667244</td>\n",
       "      <td>0.740035</td>\n",
       "    </tr>\n",
       "    <tr>\n",
       "      <th>Mistral-7B-I</th>\n",
       "      <td>0.173310</td>\n",
       "      <td>0.020797</td>\n",
       "      <td>0.145581</td>\n",
       "      <td>0.299827</td>\n",
       "      <td>0.681109</td>\n",
       "      <td>0.679376</td>\n",
       "    </tr>\n",
       "  </tbody>\n",
       "</table>\n",
       "</div>"
      ],
      "text/plain": [
       "                       to correct               to incorrect                \\\n",
       "run_attributes          + context + neg context    + context + neg context   \n",
       "dataset   model                                                              \n",
       "Hypernymy GPT-2-L        0.315425      0.027730     0.017331      0.232236   \n",
       "          Mistral-7B-I   0.173310      0.020797     0.145581      0.299827   \n",
       "\n",
       "                       no changes                \n",
       "run_attributes          + context + neg context  \n",
       "dataset   model                                  \n",
       "Hypernymy GPT-2-L        0.667244      0.740035  \n",
       "          Mistral-7B-I   0.681109      0.679376  "
      ]
     },
     "execution_count": 12,
     "metadata": {},
     "output_type": "execute_result"
    }
   ],
   "source": [
    "      \n",
    "change_df = pd.DataFrame(change_data, columns=['run_name', 'dataset', 'model', 'run_attributes', 'incorrect -> correct',  'correct -> incorrect', 'no change', 'total'])\n",
    "\n",
    "change_df[f'to correct'] = change_df['incorrect -> correct'] / change_df['total'] \n",
    "change_df[f'to incorrect'] = change_df['correct -> incorrect'] / change_df['total']\n",
    "change_df[f'no changes'] = change_df['no change'] / change_df['total']  # r,s,o+ combinations\n",
    "\n",
    "change_df = change_df.astype({'incorrect -> correct': 'int', 'correct -> incorrect': 'int', 'no change': 'int', 'total': 'int'})\n",
    "change_df.drop(columns=['incorrect -> correct', 'correct -> incorrect', 'no change', 'total', 'run_name'], inplace=True)\n",
    "df_latex = convert_for_pdf(change_df.copy())\n",
    "df_latex.rename(columns={'run_attribute': 'run attributes'}, inplace=True)\n",
    "\n",
    "df_latex = df_latex.pivot(index=['dataset', 'model'], columns='run_attributes', values=['to correct', 'to incorrect', 'no changes'])\n",
    "\n",
    "with open(BASE_PATH / 'RC_changes.tex', 'w') as f:\n",
    "    f.write(\n",
    "        df_latex.to_latex(\n",
    "            index=True, formatters={\"name\": str.upper}, \n",
    "            caption=\"Comparison 0-shot vs. the run attibute modification.\",\n",
    "            label=\"tab:RC_changes\",\n",
    "            float_format=\"{:.3f}\".format,\n",
    "            # column_format=\"|l|l|l|l|\",\n",
    "            escape=False,\n",
    "            bold_rows=False, # Make the header row bold\n",
    "            sparsify =True,\n",
    "            position='H',\n",
    "        ),\n",
    "    )\n",
    "\n",
    "print(BASE_PATH / f'RC_changes.tex')\n",
    "df_latex"
   ]
  }
 ],
 "metadata": {
  "kernelspec": {
   "display_name": "mai",
   "language": "python",
   "name": "python3"
  },
  "language_info": {
   "codemirror_mode": {
    "name": "ipython",
    "version": 3
   },
   "file_extension": ".py",
   "mimetype": "text/x-python",
   "name": "python",
   "nbconvert_exporter": "python",
   "pygments_lexer": "ipython3",
   "version": "3.11.5"
  }
 },
 "nbformat": 4,
 "nbformat_minor": 2
}
